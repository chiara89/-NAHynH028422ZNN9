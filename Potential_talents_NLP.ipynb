{
 "cells": [
  {
   "cell_type": "code",
   "execution_count": 172,
   "id": "4f586638-1327-4538-acb5-9a022b6ded72",
   "metadata": {},
   "outputs": [
    {
     "data": {
      "text/plain": [
       "<pandas._config.config.option_context at 0x1b4b76bfc10>"
      ]
     },
     "execution_count": 172,
     "metadata": {},
     "output_type": "execute_result"
    }
   ],
   "source": [
    "import pandas as pd\n",
    "import numpy as np\n",
    "import string\n",
    "import nltk\n",
    "from nltk.corpus import stopwords\n",
    "from collections import Counter\n",
    "from nltk.tokenize import word_tokenize, sent_tokenize\n",
    "from nltk.stem import WordNetLemmatizer\n",
    "from nltk.tokenize.treebank import TreebankWordDetokenizer\n",
    "from tensorflow.keras.preprocessing.text import Tokenizer\n",
    "from tensorflow.keras.preprocessing.sequence import pad_sequences\n",
    "import gensim\n",
    "from sklearn.metrics.pairwise import cosine_similarity\n",
    "import plotly.express as px\n",
    "import random\n",
    "import torch\n",
    "from transformers import BertTokenizer, BertModel\n",
    "from sentence_transformers import SentenceTransformer, models\n",
    "#import plotly.io as pio\n",
    "#pio.renderers.default='notebook'\n",
    "pd.option_context('display.max_rows', None)"
   ]
  },
  {
   "cell_type": "code",
   "execution_count": 173,
   "id": "82ca2b93-b2ba-4b50-a32f-811e664b5ad7",
   "metadata": {},
   "outputs": [
    {
     "name": "stderr",
     "output_type": "stream",
     "text": [
      "[nltk_data] Downloading package stopwords to\n",
      "[nltk_data]     C:\\Users\\freSi\\AppData\\Roaming\\nltk_data...\n",
      "[nltk_data]   Package stopwords is already up-to-date!\n"
     ]
    },
    {
     "data": {
      "text/plain": [
       "True"
      ]
     },
     "execution_count": 173,
     "metadata": {},
     "output_type": "execute_result"
    }
   ],
   "source": [
    "nltk.download('stopwords')"
   ]
  },
  {
   "cell_type": "code",
   "execution_count": 174,
   "id": "b31a1a2e-a183-4f82-ad72-57ae3f1311f5",
   "metadata": {},
   "outputs": [
    {
     "name": "stderr",
     "output_type": "stream",
     "text": [
      "[nltk_data] Downloading package punkt to\n",
      "[nltk_data]     C:\\Users\\freSi\\AppData\\Roaming\\nltk_data...\n",
      "[nltk_data]   Package punkt is already up-to-date!\n"
     ]
    },
    {
     "data": {
      "text/plain": [
       "True"
      ]
     },
     "execution_count": 174,
     "metadata": {},
     "output_type": "execute_result"
    }
   ],
   "source": [
    "nltk.download('punkt')"
   ]
  },
  {
   "cell_type": "code",
   "execution_count": 175,
   "id": "c3d5c88f-3fd6-46d5-a871-d4398f06bff6",
   "metadata": {},
   "outputs": [
    {
     "name": "stderr",
     "output_type": "stream",
     "text": [
      "[nltk_data] Downloading package wordnet to\n",
      "[nltk_data]     C:\\Users\\freSi\\AppData\\Roaming\\nltk_data...\n",
      "[nltk_data]   Package wordnet is already up-to-date!\n"
     ]
    },
    {
     "data": {
      "text/plain": [
       "True"
      ]
     },
     "execution_count": 175,
     "metadata": {},
     "output_type": "execute_result"
    }
   ],
   "source": [
    "nltk.download('wordnet')"
   ]
  },
  {
   "cell_type": "markdown",
   "id": "cf3eee09-c9e0-4997-80bd-a31c372b40e6",
   "metadata": {},
   "source": [
    "### Exploratory data analysis"
   ]
  },
  {
   "cell_type": "code",
   "execution_count": 176,
   "id": "ad4ae121-51c0-450a-ba51-a453a19b7248",
   "metadata": {},
   "outputs": [
    {
     "name": "stdout",
     "output_type": "stream",
     "text": [
      "                                             job_title  \\\n",
      "id                                                       \n",
      "1    2019 C.T. Bauer College of Business Graduate (...   \n",
      "2    Native English Teacher at EPIK (English Progra...   \n",
      "3                Aspiring Human Resources Professional   \n",
      "4               People Development Coordinator at Ryan   \n",
      "5      Advisory Board Member at Celal Bayar University   \n",
      "..                                                 ...   \n",
      "100  Aspiring Human Resources Manager | Graduating ...   \n",
      "101              Human Resources Generalist at Loparex   \n",
      "102   Business Intelligence and Analytics at Travelers   \n",
      "103                     Always set them up for Success   \n",
      "104   Director Of Administration at Excellence Logging   \n",
      "\n",
      "                                location connection  fit  \n",
      "id                                                        \n",
      "1                         Houston, Texas         85  NaN  \n",
      "2                                 Kanada      500+   NaN  \n",
      "3    Raleigh-Durham, North Carolina Area         44  NaN  \n",
      "4                          Denton, Texas      500+   NaN  \n",
      "5                         İzmir, Türkiye      500+   NaN  \n",
      "..                                   ...        ...  ...  \n",
      "100             Cape Girardeau, Missouri        103  NaN  \n",
      "101  Raleigh-Durham, North Carolina Area      500+   NaN  \n",
      "102           Greater New York City Area         49  NaN  \n",
      "103             Greater Los Angeles Area      500+   NaN  \n",
      "104                          Katy, Texas      500+   NaN  \n",
      "\n",
      "[104 rows x 4 columns]\n"
     ]
    }
   ],
   "source": [
    "df = pd.read_excel(\"potential-talents.xlsx\").set_index('id')\n",
    "print(df)"
   ]
  },
  {
   "cell_type": "code",
   "execution_count": 177,
   "id": "59168ea1-9164-46ed-a88c-7312aedfa452",
   "metadata": {},
   "outputs": [
    {
     "name": "stdout",
     "output_type": "stream",
     "text": [
      "<class 'pandas.core.frame.DataFrame'>\n",
      "Index: 104 entries, 1 to 104\n",
      "Data columns (total 4 columns):\n",
      " #   Column      Non-Null Count  Dtype  \n",
      "---  ------      --------------  -----  \n",
      " 0   job_title   104 non-null    object \n",
      " 1   location    104 non-null    object \n",
      " 2   connection  104 non-null    object \n",
      " 3   fit         0 non-null      float64\n",
      "dtypes: float64(1), object(3)\n",
      "memory usage: 4.1+ KB\n"
     ]
    }
   ],
   "source": [
    "df.info()"
   ]
  },
  {
   "cell_type": "code",
   "execution_count": 178,
   "id": "aaac1fca-efd4-487b-8bc1-74edc9527951",
   "metadata": {},
   "outputs": [],
   "source": [
    "df.replace('500+ ','500', inplace=True)"
   ]
  },
  {
   "cell_type": "code",
   "execution_count": 179,
   "id": "ca178593-e000-4008-9138-0e561ac0b1f1",
   "metadata": {},
   "outputs": [],
   "source": [
    "df['connection'] = pd.to_numeric(df['connection'])"
   ]
  },
  {
   "cell_type": "code",
   "execution_count": 180,
   "id": "eab6bba6-8b21-4dec-90bb-ce3285499ad0",
   "metadata": {
    "scrolled": true
   },
   "outputs": [
    {
     "name": "stdout",
     "output_type": "stream",
     "text": [
      "<class 'pandas.core.frame.DataFrame'>\n",
      "Index: 104 entries, 1 to 104\n",
      "Data columns (total 4 columns):\n",
      " #   Column      Non-Null Count  Dtype  \n",
      "---  ------      --------------  -----  \n",
      " 0   job_title   104 non-null    object \n",
      " 1   location    104 non-null    object \n",
      " 2   connection  104 non-null    int64  \n",
      " 3   fit         0 non-null      float64\n",
      "dtypes: float64(1), int64(1), object(2)\n",
      "memory usage: 4.1+ KB\n"
     ]
    }
   ],
   "source": [
    "df.info()"
   ]
  },
  {
   "cell_type": "code",
   "execution_count": 181,
   "id": "2cbd6f14-a948-49a4-9da3-4ddf3d9df247",
   "metadata": {},
   "outputs": [
    {
     "data": {
      "text/plain": [
       "job_title\n",
       "2019 C.T. Bauer College of Business Graduate (Magna Cum Laude) and aspiring Human Resources professional                 7\n",
       "Aspiring Human Resources Professional                                                                                    7\n",
       "Student at Humber College and Aspiring Human Resources Generalist                                                        7\n",
       "People Development Coordinator at Ryan                                                                                   6\n",
       "Native English Teacher at EPIK (English Program in Korea)                                                                5\n",
       "Aspiring Human Resources Specialist                                                                                      5\n",
       "HR Senior Specialist                                                                                                     5\n",
       "Student at Chapman University                                                                                            4\n",
       "SVP, CHRO, Marketing & Communications, CSR Officer | ENGIE | Houston | The Woodlands | Energy | GPHR | SPHR              4\n",
       "Human Resources Coordinator at InterContinental Buckhead Atlanta                                                         4\n",
       "Seeking Human Resources HRIS and Generalist Positions                                                                    4\n",
       "Advisory Board Member at Celal Bayar University                                                                          4\n",
       "Aspiring Human Resources Management student seeking an internship                                                        2\n",
       "Seeking Human Resources Opportunities                                                                                    2\n",
       "Seeking Human  Resources Opportunities. Open to travel and relocation.                                                   1\n",
       "Bachelor of Science in Biology from Victoria University of Wellington                                                    1\n",
       "Human Resources Management Major                                                                                         1\n",
       "Director Human Resources  at EY                                                                                          1\n",
       "Undergraduate Research Assistant at Styczynski Lab                                                                       1\n",
       "Lead Official at Western Illinois University                                                                             1\n",
       "Seeking employment opportunities within Customer Service or Patient Care                                                 1\n",
       "Admissions Representative at Community medical center long beach                                                         1\n",
       "Human Resources Generalist at Loparex                                                                                    1\n",
       "Student at Westfield State University                                                                                    1\n",
       "Student at Indiana University Kokomo - Business Management - \\nRetail Manager at Delphi Hardware and Paint               1\n",
       "Student                                                                                                                  1\n",
       "Seeking Human Resources Position                                                                                         1\n",
       "Aspiring Human Resources Manager | Graduating May 2020 | Seeking an Entry-Level Human Resources Position in St. Louis    1\n",
       "RRP Brand Portfolio Executive at JTI (Japan Tobacco International)                                                       1\n",
       "Business Intelligence and Analytics at Travelers                                                                         1\n",
       "Always set them up for Success                                                                                           1\n",
       "Information Systems Specialist and Programmer with a love for data and organization.                                     1\n",
       "Human Resources Generalist at Schwan's                                                                                   1\n",
       "Human Resources professional for the world leader in GIS software                                                        1\n",
       "Aspiring Human Resources Manager, seeking internship in Human Resources.                                                 1\n",
       "Experienced Retail Manager and aspiring Human Resources Professional                                                     1\n",
       "Human Resources, Staffing and Recruiting Professional                                                                    1\n",
       "Human Resources Specialist at Luxottica                                                                                  1\n",
       "Director of Human Resources North America, Groupe Beneteau                                                               1\n",
       "Retired Army National Guard Recruiter, office manager,  seeking a position in Human Resources.                           1\n",
       "Human Resources Generalist at ScottMadden, Inc.                                                                          1\n",
       "Business Management Major and Aspiring Human Resources Manager                                                           1\n",
       "Human Resources Professional                                                                                             1\n",
       "HR Manager at Endemol Shine North America                                                                                1\n",
       "Nortia Staffing is seeking Human Resources, Payroll & Administrative Professionals!!  (408) 709-2621                     1\n",
       "Aspiring Human Resources Professional | Passionate about helping to create an inclusive and engaging work environment    1\n",
       "Human Resources|\\nConflict Management|\\nPolicies & Procedures|Talent Management|Benefits & Compensation                  1\n",
       "Liberal Arts Major. Aspiring Human Resources Analyst.                                                                    1\n",
       "Junior MES Engineer| Information Systems                                                                                 1\n",
       "Senior Human Resources Business Partner at Heil Environmental                                                            1\n",
       "Aspiring Human Resources Professional | An energetic and Team-Focused Leader                                             1\n",
       "Director Of Administration at Excellence Logging                                                                         1\n",
       "Name: count, dtype: int64"
      ]
     },
     "execution_count": 181,
     "metadata": {},
     "output_type": "execute_result"
    }
   ],
   "source": [
    "df['job_title'].value_counts()"
   ]
  },
  {
   "cell_type": "markdown",
   "id": "6b4fb51b-031b-4759-a05c-2a037f65c69e",
   "metadata": {},
   "source": [
    "### Data preprocessing and cleaning"
   ]
  },
  {
   "cell_type": "markdown",
   "id": "97beec82-11ce-4a32-8bf3-8e867ece0db7",
   "metadata": {},
   "source": [
    "Cleaning data: tokenization, remove stop words, normalise with lower case, eliminate extra spaces, lemmatization and eliminate acronymises."
   ]
  },
  {
   "cell_type": "code",
   "execution_count": 182,
   "id": "f7753344-095a-4ecc-940d-f8b343504195",
   "metadata": {},
   "outputs": [],
   "source": [
    "stop_words = stopwords.words('english')\n",
    "stopwords_dict = Counter(stop_words)\n",
    "lemmatizer = WordNetLemmatizer()\n",
    "for ind, row in df.iterrows():\n",
    "    words = [lemmatizer.lemmatize(word) for word in word_tokenize(row['job_title'])]\n",
    "    words=[word.lower() for word in words if word.isalpha()]\n",
    "    filtered_words = [word for word in words if word.lower() not in stopwords.words('english')]\n",
    "    df.loc[ind,'job_title'] = ' '.join(TreebankWordDetokenizer().detokenize(filtered_words).lower().split())\n",
    "    df.loc[ind,'job_title'] = df.loc[ind,'job_title'].replace('bauer','').lstrip()\n",
    "    df.loc[ind,'job_title'] = df.loc[ind,'job_title'].replace('svp','senior vice president').lstrip()\n",
    "    df.loc[ind,'job_title'] = df.loc[ind,'job_title'].replace('csr','corporate social responsability').lstrip()\n",
    "    df.loc[ind,'job_title'] = df.loc[ind,'job_title'].replace('chro','chief human resources officer').lstrip()\n",
    "    df.loc[ind,'job_title'] = df.loc[ind,'job_title'].replace('gphr','global professional in human resources').lstrip()\n",
    "    df.loc[ind,'job_title'] = df.loc[ind,'job_title'].replace('sphr','senior professional in human resources').lstrip()\n",
    "    df.loc[ind,'job_title'] = df.loc[ind,'job_title'].replace('mes','manufacturing execution system').lstrip()\n",
    "    df.loc[ind,'job_title'] = df.loc[ind,'job_title'].replace('hris','human resources information system').lstrip()\n",
    "    df.loc[ind,'job_title'] = df.loc[ind,'job_title'].replace('hr','human resource').lstrip()"
   ]
  },
  {
   "cell_type": "code",
   "execution_count": 183,
   "id": "e8d4c49d-72fb-4a3f-b50f-bd4b3237c032",
   "metadata": {},
   "outputs": [
    {
     "name": "stdout",
     "output_type": "stream",
     "text": [
      "<class 'pandas.core.frame.DataFrame'>\n",
      "Index: 104 entries, 1 to 104\n",
      "Data columns (total 4 columns):\n",
      " #   Column      Non-Null Count  Dtype  \n",
      "---  ------      --------------  -----  \n",
      " 0   job_title   104 non-null    object \n",
      " 1   location    104 non-null    object \n",
      " 2   connection  104 non-null    int64  \n",
      " 3   fit         0 non-null      float64\n",
      "dtypes: float64(1), int64(1), object(2)\n",
      "memory usage: 8.1+ KB\n"
     ]
    }
   ],
   "source": [
    "df.info()"
   ]
  },
  {
   "cell_type": "code",
   "execution_count": 184,
   "id": "e0cb129f-daaf-4ba6-9e3f-57e84dfcd32c",
   "metadata": {},
   "outputs": [
    {
     "data": {
      "text/html": [
       "<div>\n",
       "<style scoped>\n",
       "    .dataframe tbody tr th:only-of-type {\n",
       "        vertical-align: middle;\n",
       "    }\n",
       "\n",
       "    .dataframe tbody tr th {\n",
       "        vertical-align: top;\n",
       "    }\n",
       "\n",
       "    .dataframe thead th {\n",
       "        text-align: right;\n",
       "    }\n",
       "</style>\n",
       "<table border=\"1\" class=\"dataframe\">\n",
       "  <thead>\n",
       "    <tr style=\"text-align: right;\">\n",
       "      <th></th>\n",
       "      <th>job_title</th>\n",
       "      <th>location</th>\n",
       "      <th>connection</th>\n",
       "      <th>fit</th>\n",
       "    </tr>\n",
       "    <tr>\n",
       "      <th>id</th>\n",
       "      <th></th>\n",
       "      <th></th>\n",
       "      <th></th>\n",
       "      <th></th>\n",
       "    </tr>\n",
       "  </thead>\n",
       "  <tbody>\n",
       "    <tr>\n",
       "      <th>1</th>\n",
       "      <td>college business graduate magna cum laude aspi...</td>\n",
       "      <td>Houston, Texas</td>\n",
       "      <td>85</td>\n",
       "      <td>NaN</td>\n",
       "    </tr>\n",
       "    <tr>\n",
       "      <th>2</th>\n",
       "      <td>native english teacher epik english program korea</td>\n",
       "      <td>Kanada</td>\n",
       "      <td>500</td>\n",
       "      <td>NaN</td>\n",
       "    </tr>\n",
       "    <tr>\n",
       "      <th>3</th>\n",
       "      <td>aspiring human resources professional</td>\n",
       "      <td>Raleigh-Durham, North Carolina Area</td>\n",
       "      <td>44</td>\n",
       "      <td>NaN</td>\n",
       "    </tr>\n",
       "    <tr>\n",
       "      <th>4</th>\n",
       "      <td>people development coordinator ryan</td>\n",
       "      <td>Denton, Texas</td>\n",
       "      <td>500</td>\n",
       "      <td>NaN</td>\n",
       "    </tr>\n",
       "    <tr>\n",
       "      <th>5</th>\n",
       "      <td>advisory board member celal bayar university</td>\n",
       "      <td>İzmir, Türkiye</td>\n",
       "      <td>500</td>\n",
       "      <td>NaN</td>\n",
       "    </tr>\n",
       "  </tbody>\n",
       "</table>\n",
       "</div>"
      ],
      "text/plain": [
       "                                            job_title  \\\n",
       "id                                                      \n",
       "1   college business graduate magna cum laude aspi...   \n",
       "2   native english teacher epik english program korea   \n",
       "3               aspiring human resources professional   \n",
       "4                 people development coordinator ryan   \n",
       "5        advisory board member celal bayar university   \n",
       "\n",
       "                               location  connection  fit  \n",
       "id                                                        \n",
       "1                        Houston, Texas          85  NaN  \n",
       "2                                Kanada         500  NaN  \n",
       "3   Raleigh-Durham, North Carolina Area          44  NaN  \n",
       "4                         Denton, Texas         500  NaN  \n",
       "5                        İzmir, Türkiye         500  NaN  "
      ]
     },
     "execution_count": 184,
     "metadata": {},
     "output_type": "execute_result"
    }
   ],
   "source": [
    "df.head()"
   ]
  },
  {
   "cell_type": "code",
   "execution_count": 185,
   "id": "e589a3d1-a02e-4bfa-80a9-846ee6bb7a37",
   "metadata": {
    "scrolled": true
   },
   "outputs": [
    {
     "data": {
      "text/plain": [
       "job_title\n",
       "college business graduate magna cum laude aspiring human resources professional                                                                                                                                                      7\n",
       "aspiring human resources professional                                                                                                                                                                                                7\n",
       "student humber college aspiring human resources generalist                                                                                                                                                                           7\n",
       "people development coordinator ryan                                                                                                                                                                                                  6\n",
       "native english teacher epik english program korea                                                                                                                                                                                    5\n",
       "aspiring human resources specialist                                                                                                                                                                                                  5\n",
       "human resource senior specialist                                                                                                                                                                                                     5\n",
       "student chapman university                                                                                                                                                                                                           4\n",
       "senior vice president chief human resources officer marketing communications corporate social responsability officer engie houston woodlands energy global professional in human resources senior professional in human resources    4\n",
       "human resources coordinator intercontinental buckhead atlanta                                                                                                                                                                        4\n",
       "seeking human resources human resources information system generalist positions                                                                                                                                                      4\n",
       "advisory board member celal bayar university                                                                                                                                                                                         4\n",
       "aspiring human resources management student seeking internship                                                                                                                                                                       2\n",
       "seeking human resources opportunities                                                                                                                                                                                                2\n",
       "seeking human resources opportunities open travel relocation                                                                                                                                                                         1\n",
       "bachelor science biology victoria university wellington                                                                                                                                                                              1\n",
       "human resources management major                                                                                                                                                                                                     1\n",
       "director human resources ey                                                                                                                                                                                                          1\n",
       "undergraduate research assistant styczynski lab                                                                                                                                                                                      1\n",
       "lead official western illinois university                                                                                                                                                                                            1\n",
       "seeking employment opportunity within customer service patient care                                                                                                                                                                  1\n",
       "admissions representative community medical center long beach                                                                                                                                                                        1\n",
       "human resources generalist loparex                                                                                                                                                                                                   1\n",
       "student westfield state university                                                                                                                                                                                                   1\n",
       "student indiana university kokomo business management retail manager delphi hardware paint                                                                                                                                           1\n",
       "student                                                                                                                                                                                                                              1\n",
       "seeking human resources position                                                                                                                                                                                                     1\n",
       "aspiring human resources manager graduating may seeking human resources position louis                                                                                                                                               1\n",
       "rrp brand portfolio executive jti japan tobacco international                                                                                                                                                                        1\n",
       "business intelligence analytics travelers                                                                                                                                                                                            1\n",
       "always set success                                                                                                                                                                                                                   1\n",
       "information systems specialist programmer love data organization                                                                                                                                                                     1\n",
       "human resources generalist schwan                                                                                                                                                                                                    1\n",
       "human resources professional world leader gis software                                                                                                                                                                               1\n",
       "aspiring human resources manager seeking internship human resources                                                                                                                                                                  1\n",
       "experienced retail manager aspiring human resources professional                                                                                                                                                                     1\n",
       "human resources staffing recruiting professional                                                                                                                                                                                     1\n",
       "human resources specialist luxottica                                                                                                                                                                                                 1\n",
       "director human resources north america groupe beneteau                                                                                                                                                                               1\n",
       "retired army national guard recruiter office manager seeking position human resources                                                                                                                                                1\n",
       "human resources generalist scottmadden inc                                                                                                                                                                                           1\n",
       "business management major aspiring human resources manager                                                                                                                                                                           1\n",
       "human resources professional                                                                                                                                                                                                         1\n",
       "human resource manager endemol shine north america                                                                                                                                                                                   1\n",
       "nortia staffing seeking human resources payroll administrative professionals                                                                                                                                                         1\n",
       "aspiring human resources professional passionate helping create inclusive engaging work environment                                                                                                                                  1\n",
       "human conflict policies compensation                                                                                                                                                                                                 1\n",
       "liberal arts major aspiring human resources analyst                                                                                                                                                                                  1\n",
       "junior manufacturing execution system information systems                                                                                                                                                                            1\n",
       "senior human resources business partner heil environmental                                                                                                                                                                           1\n",
       "aspiring human resources professional energetic leader                                                                                                                                                                               1\n",
       "director administration excellence logging                                                                                                                                                                                           1\n",
       "Name: count, dtype: int64"
      ]
     },
     "execution_count": 185,
     "metadata": {},
     "output_type": "execute_result"
    }
   ],
   "source": [
    "df['job_title'].value_counts()"
   ]
  },
  {
   "cell_type": "markdown",
   "id": "9b90fd0d-ba18-46d9-9603-0ae4049b1278",
   "metadata": {},
   "source": [
    "We will try different methods so for now we eliminate the generic column fit to get it back when we decide the method"
   ]
  },
  {
   "cell_type": "code",
   "execution_count": 186,
   "id": "a1726f9f-0c47-4d7c-b5d5-e255bb520019",
   "metadata": {},
   "outputs": [],
   "source": [
    "df = df.drop('fit', axis=1)"
   ]
  },
  {
   "cell_type": "markdown",
   "id": "1608bf99-6c52-4941-8c22-484af8f00464",
   "metadata": {},
   "source": [
    "### Word2vec calculating cosine similarities scores"
   ]
  },
  {
   "cell_type": "markdown",
   "id": "daab7aa9-b8e7-4409-af3e-4723287cbc7c",
   "metadata": {},
   "source": [
    "Tokenize the sentences and use the padding to make them the same size, then build the vocabulary"
   ]
  },
  {
   "cell_type": "code",
   "execution_count": 187,
   "id": "fdc0dc69-c433-4dc3-a0e8-2d7fa280f941",
   "metadata": {},
   "outputs": [],
   "source": [
    "tokenizer=Tokenizer()\n",
    "tokenizer.fit_on_texts(df.job_title)\n",
    "tokenized_documents=tokenizer.texts_to_sequences(df.job_title)\n",
    "tokenized_paded_documents=pad_sequences(tokenized_documents,maxlen=70,padding='post')\n",
    "vocab_size=len(tokenizer.word_index)+1"
   ]
  },
  {
   "cell_type": "code",
   "execution_count": 188,
   "id": "3881114a-ca48-4a52-a8b4-ba1fcab0ec24",
   "metadata": {},
   "outputs": [
    {
     "name": "stdout",
     "output_type": "stream",
     "text": [
      "[[  7  12  17 ...   0   0   0]\n",
      " [ 28  13  29 ...   0   0   0]\n",
      " [  3   1   2 ...   0   0   0]\n",
      " ...\n",
      " [ 12 167 168 ...   0   0   0]\n",
      " [170 171 172 ...   0   0   0]\n",
      " [ 60 173 174 ...   0   0   0]]\n"
     ]
    }
   ],
   "source": [
    "print(tokenized_paded_documents)"
   ]
  },
  {
   "cell_type": "code",
   "execution_count": 189,
   "id": "3ba1572b-8ee9-473a-a60a-9ce3de2a8270",
   "metadata": {},
   "outputs": [],
   "source": [
    "W2V_PATH= r'C:\\Users\\PicardiC\\-NAHynH028422ZNN9\\GoogleNews-vectors-negative300.bin.gz'"
   ]
  },
  {
   "cell_type": "code",
   "execution_count": 190,
   "id": "95f7a5f5-5556-4580-8e20-9d8c2c338d8e",
   "metadata": {},
   "outputs": [],
   "source": [
    "model_w2v = gensim.models.KeyedVectors.load_word2vec_format(W2V_PATH, binary=True)"
   ]
  },
  {
   "cell_type": "markdown",
   "id": "02648d01-f847-4607-92d4-f2eee284c51b",
   "metadata": {},
   "source": [
    "Calculating embedding matrix"
   ]
  },
  {
   "cell_type": "code",
   "execution_count": 191,
   "id": "db88f36c-eabb-4e88-b918-f5b0517140ff",
   "metadata": {},
   "outputs": [
    {
     "data": {
      "text/plain": [
       "(104, 70, 300)"
      ]
     },
     "execution_count": 191,
     "metadata": {},
     "output_type": "execute_result"
    }
   ],
   "source": [
    "embedding_matrix=np.zeros((vocab_size,300))\n",
    "for word,i in tokenizer.word_index.items():\n",
    "    if word in model_w2v:\n",
    "        embedding_matrix[i]=model_w2v[word]\n",
    "        \n",
    "document_word_embeddings=np.zeros((len(tokenized_paded_documents),70,300))\n",
    "for i in range(len(tokenized_paded_documents)):\n",
    "    for j in range(len(tokenized_paded_documents[0])):\n",
    "        document_word_embeddings[i][j]=embedding_matrix[tokenized_paded_documents[i][j]]\n",
    "document_word_embeddings.shape"
   ]
  },
  {
   "cell_type": "markdown",
   "id": "001e5d93-7a3f-4cd1-b695-de6009c6acc2",
   "metadata": {},
   "source": [
    "Pre-processing the query the same way data are preprocessed"
   ]
  },
  {
   "cell_type": "code",
   "execution_count": 192,
   "id": "1313e276-c5a9-4bba-8811-26397cfe1922",
   "metadata": {},
   "outputs": [],
   "source": [
    "def processing(query_l):\n",
    "    for query in query_l:\n",
    "        words = [lemmatizer.lemmatize(word) for word in word_tokenize(query)]\n",
    "        words=[word.lower() for word in words if word.isalpha()]\n",
    "        filtered_words = [word for word in words if word.lower() not in stopwords.words('english')]\n",
    "        query = ' '.join(TreebankWordDetokenizer().detokenize(filtered_words).lower().split())\n",
    "        query = query.replace('bauer','').lstrip()\n",
    "        query = query.replace('svp','senior vice president').lstrip()\n",
    "        query = query.replace('csr','corporate social responsability').lstrip()\n",
    "        query = query.replace('chro','chief human resources officer').lstrip()\n",
    "        query = query.replace('gphr','global professional in human resources').lstrip()\n",
    "        query = query.replace('sphr','senior professional in human resources').lstrip()\n",
    "        query = query.replace('mes','manufacturing execution system').lstrip()\n",
    "        query = query.replace('hris','human resources information system').lstrip()\n",
    "        query = query.replace('hr','human resource').lstrip()\n",
    "    \n",
    "    tokenizer.fit_on_texts(query_l)\n",
    "    tokenized_documents=tokenizer.texts_to_sequences(query_l)\n",
    "    tokenized_paded_documents=pad_sequences(tokenized_documents,maxlen=70,padding='post')\n",
    "    vocab_size=len(tokenizer.word_index)+1\n",
    "    embedding_matrix=np.zeros((vocab_size,300))\n",
    "    for word,i in tokenizer.word_index.items():\n",
    "        if word in model_w2v:\n",
    "            embedding_matrix[i]=model_w2v[word]\n",
    "\n",
    "    # creating document-word embeddings\n",
    "    query_document_word_embeddings=np.zeros((len(tokenized_paded_documents),70,300))\n",
    "    for i in range(len(tokenized_paded_documents)):\n",
    "        for j in range(len(tokenized_paded_documents[0])):\n",
    "            query_document_word_embeddings[i][j]=embedding_matrix[tokenized_paded_documents[i][j]]\n",
    "    return query_document_word_embeddings"
   ]
  },
  {
   "cell_type": "markdown",
   "id": "504331b1-35c9-4d0c-88f2-9ec0cb8b30ed",
   "metadata": {},
   "source": [
    "Method to calculate similarity scores"
   ]
  },
  {
   "cell_type": "code",
   "execution_count": 193,
   "id": "37bccb2c-c692-4c78-9ecf-41fd3e1b1bcb",
   "metadata": {},
   "outputs": [],
   "source": [
    "def get_w2v_query_similarity(document_word_embeddings, query):\n",
    "    \"\"\"\n",
    "    query_w2v: processing the query\n",
    "    model_w2v: word2vec embedding for all docs\n",
    "    query: query doc\n",
    "\n",
    "    return: cosine similarity between query and all docs\n",
    "\n",
    "    \"\"\"\n",
    "    query_w2v = processing(query)\n",
    "    \n",
    "    nsamples, nx, ny = query_w2v.shape\n",
    "    query_w2v_reshape = query_w2v.reshape((nsamples,nx*ny))\n",
    "    nsamples, nx, ny = document_word_embeddings.shape\n",
    "    document_word_embeddings_reshape = document_word_embeddings.reshape((nsamples,nx*ny))\n",
    "    cos_sim_w2v = cosine_similarity(query_w2v_reshape, document_word_embeddings_reshape).flatten()\n",
    "    return cos_sim_w2v"
   ]
  },
  {
   "cell_type": "code",
   "execution_count": 194,
   "id": "ebcd1850-b19b-401c-9acb-0c95c0a56785",
   "metadata": {},
   "outputs": [],
   "source": [
    "def top_candidates(n, by, ascending = False, min_con = 0, location = df.location):\n",
    "    \n",
    "    df2 = df.loc[(df.connection >= min_con) & (df.location == location)].sort_values(by = by, ascending = ascending).head(n).copy()\n",
    "    \n",
    "    return df2"
   ]
  },
  {
   "cell_type": "code",
   "execution_count": 195,
   "id": "cbc36fb3-d2f2-448e-9985-2a02d3d4aa53",
   "metadata": {},
   "outputs": [],
   "source": [
    "query = \"Aspiring human resources\"\n",
    "cos_sim_w2v = get_w2v_query_similarity(document_word_embeddings, [query])\n",
    "df['fit_word2vec'] = cos_sim_w2v\n"
   ]
  },
  {
   "cell_type": "code",
   "execution_count": 196,
   "id": "59d7640b-6afb-4e6a-abe6-3970a25dcd9d",
   "metadata": {},
   "outputs": [
    {
     "data": {
      "text/html": [
       "<div>\n",
       "<style scoped>\n",
       "    .dataframe tbody tr th:only-of-type {\n",
       "        vertical-align: middle;\n",
       "    }\n",
       "\n",
       "    .dataframe tbody tr th {\n",
       "        vertical-align: top;\n",
       "    }\n",
       "\n",
       "    .dataframe thead th {\n",
       "        text-align: right;\n",
       "    }\n",
       "</style>\n",
       "<table border=\"1\" class=\"dataframe\">\n",
       "  <thead>\n",
       "    <tr style=\"text-align: right;\">\n",
       "      <th></th>\n",
       "      <th>job_title</th>\n",
       "      <th>location</th>\n",
       "      <th>connection</th>\n",
       "      <th>fit_word2vec</th>\n",
       "    </tr>\n",
       "    <tr>\n",
       "      <th>id</th>\n",
       "      <th></th>\n",
       "      <th></th>\n",
       "      <th></th>\n",
       "      <th></th>\n",
       "    </tr>\n",
       "  </thead>\n",
       "  <tbody>\n",
       "    <tr>\n",
       "      <th>17</th>\n",
       "      <td>aspiring human resources professional</td>\n",
       "      <td>Raleigh-Durham, North Carolina Area</td>\n",
       "      <td>44</td>\n",
       "      <td>0.898174</td>\n",
       "    </tr>\n",
       "    <tr>\n",
       "      <th>58</th>\n",
       "      <td>aspiring human resources professional</td>\n",
       "      <td>Raleigh-Durham, North Carolina Area</td>\n",
       "      <td>44</td>\n",
       "      <td>0.898174</td>\n",
       "    </tr>\n",
       "    <tr>\n",
       "      <th>46</th>\n",
       "      <td>aspiring human resources professional</td>\n",
       "      <td>Raleigh-Durham, North Carolina Area</td>\n",
       "      <td>44</td>\n",
       "      <td>0.898174</td>\n",
       "    </tr>\n",
       "    <tr>\n",
       "      <th>33</th>\n",
       "      <td>aspiring human resources professional</td>\n",
       "      <td>Raleigh-Durham, North Carolina Area</td>\n",
       "      <td>44</td>\n",
       "      <td>0.898174</td>\n",
       "    </tr>\n",
       "    <tr>\n",
       "      <th>97</th>\n",
       "      <td>aspiring human resources professional</td>\n",
       "      <td>Kokomo, Indiana Area</td>\n",
       "      <td>71</td>\n",
       "      <td>0.898174</td>\n",
       "    </tr>\n",
       "    <tr>\n",
       "      <th>21</th>\n",
       "      <td>aspiring human resources professional</td>\n",
       "      <td>Raleigh-Durham, North Carolina Area</td>\n",
       "      <td>44</td>\n",
       "      <td>0.898174</td>\n",
       "    </tr>\n",
       "    <tr>\n",
       "      <th>3</th>\n",
       "      <td>aspiring human resources professional</td>\n",
       "      <td>Raleigh-Durham, North Carolina Area</td>\n",
       "      <td>44</td>\n",
       "      <td>0.898174</td>\n",
       "    </tr>\n",
       "    <tr>\n",
       "      <th>60</th>\n",
       "      <td>aspiring human resources specialist</td>\n",
       "      <td>Greater New York City Area</td>\n",
       "      <td>1</td>\n",
       "      <td>0.873679</td>\n",
       "    </tr>\n",
       "    <tr>\n",
       "      <th>6</th>\n",
       "      <td>aspiring human resources specialist</td>\n",
       "      <td>Greater New York City Area</td>\n",
       "      <td>1</td>\n",
       "      <td>0.873679</td>\n",
       "    </tr>\n",
       "    <tr>\n",
       "      <th>36</th>\n",
       "      <td>aspiring human resources specialist</td>\n",
       "      <td>Greater New York City Area</td>\n",
       "      <td>1</td>\n",
       "      <td>0.873679</td>\n",
       "    </tr>\n",
       "    <tr>\n",
       "      <th>49</th>\n",
       "      <td>aspiring human resources specialist</td>\n",
       "      <td>Greater New York City Area</td>\n",
       "      <td>1</td>\n",
       "      <td>0.873679</td>\n",
       "    </tr>\n",
       "    <tr>\n",
       "      <th>24</th>\n",
       "      <td>aspiring human resources specialist</td>\n",
       "      <td>Greater New York City Area</td>\n",
       "      <td>1</td>\n",
       "      <td>0.873679</td>\n",
       "    </tr>\n",
       "    <tr>\n",
       "      <th>82</th>\n",
       "      <td>aspiring human resources professional energeti...</td>\n",
       "      <td>Austin, Texas Area</td>\n",
       "      <td>174</td>\n",
       "      <td>0.731885</td>\n",
       "    </tr>\n",
       "    <tr>\n",
       "      <th>99</th>\n",
       "      <td>seeking human resources position</td>\n",
       "      <td>Las Vegas, Nevada Area</td>\n",
       "      <td>48</td>\n",
       "      <td>0.654387</td>\n",
       "    </tr>\n",
       "    <tr>\n",
       "      <th>27</th>\n",
       "      <td>aspiring human resources management student se...</td>\n",
       "      <td>Houston, Texas Area</td>\n",
       "      <td>500</td>\n",
       "      <td>0.628601</td>\n",
       "    </tr>\n",
       "    <tr>\n",
       "      <th>29</th>\n",
       "      <td>aspiring human resources management student se...</td>\n",
       "      <td>Houston, Texas Area</td>\n",
       "      <td>500</td>\n",
       "      <td>0.628601</td>\n",
       "    </tr>\n",
       "    <tr>\n",
       "      <th>28</th>\n",
       "      <td>seeking human resources opportunities</td>\n",
       "      <td>Chicago, Illinois</td>\n",
       "      <td>390</td>\n",
       "      <td>0.619797</td>\n",
       "    </tr>\n",
       "    <tr>\n",
       "      <th>30</th>\n",
       "      <td>seeking human resources opportunities</td>\n",
       "      <td>Chicago, Illinois</td>\n",
       "      <td>390</td>\n",
       "      <td>0.619797</td>\n",
       "    </tr>\n",
       "    <tr>\n",
       "      <th>73</th>\n",
       "      <td>aspiring human resources manager seeking inter...</td>\n",
       "      <td>Houston, Texas Area</td>\n",
       "      <td>7</td>\n",
       "      <td>0.584569</td>\n",
       "    </tr>\n",
       "    <tr>\n",
       "      <th>76</th>\n",
       "      <td>aspiring human resources professional passiona...</td>\n",
       "      <td>New York, New York</td>\n",
       "      <td>212</td>\n",
       "      <td>0.551164</td>\n",
       "    </tr>\n",
       "    <tr>\n",
       "      <th>100</th>\n",
       "      <td>aspiring human resources manager graduating ma...</td>\n",
       "      <td>Cape Girardeau, Missouri</td>\n",
       "      <td>103</td>\n",
       "      <td>0.519155</td>\n",
       "    </tr>\n",
       "    <tr>\n",
       "      <th>89</th>\n",
       "      <td>director human resources ey</td>\n",
       "      <td>Greater Atlanta Area</td>\n",
       "      <td>349</td>\n",
       "      <td>0.518322</td>\n",
       "    </tr>\n",
       "    <tr>\n",
       "      <th>81</th>\n",
       "      <td>senior human resources business partner heil e...</td>\n",
       "      <td>Chattanooga, Tennessee Area</td>\n",
       "      <td>455</td>\n",
       "      <td>0.477157</td>\n",
       "    </tr>\n",
       "    <tr>\n",
       "      <th>94</th>\n",
       "      <td>seeking human resources opportunities open tra...</td>\n",
       "      <td>Amerika Birleşik Devletleri</td>\n",
       "      <td>415</td>\n",
       "      <td>0.471909</td>\n",
       "    </tr>\n",
       "    <tr>\n",
       "      <th>69</th>\n",
       "      <td>director human resources north america groupe ...</td>\n",
       "      <td>Greater Grand Rapids, Michigan Area</td>\n",
       "      <td>500</td>\n",
       "      <td>0.416243</td>\n",
       "    </tr>\n",
       "    <tr>\n",
       "      <th>40</th>\n",
       "      <td>seeking human resources human resources inform...</td>\n",
       "      <td>Greater Philadelphia Area</td>\n",
       "      <td>500</td>\n",
       "      <td>0.408501</td>\n",
       "    </tr>\n",
       "    <tr>\n",
       "      <th>10</th>\n",
       "      <td>seeking human resources human resources inform...</td>\n",
       "      <td>Greater Philadelphia Area</td>\n",
       "      <td>500</td>\n",
       "      <td>0.408501</td>\n",
       "    </tr>\n",
       "    <tr>\n",
       "      <th>62</th>\n",
       "      <td>seeking human resources human resources inform...</td>\n",
       "      <td>Greater Philadelphia Area</td>\n",
       "      <td>500</td>\n",
       "      <td>0.408501</td>\n",
       "    </tr>\n",
       "    <tr>\n",
       "      <th>53</th>\n",
       "      <td>seeking human resources human resources inform...</td>\n",
       "      <td>Greater Philadelphia Area</td>\n",
       "      <td>500</td>\n",
       "      <td>0.408501</td>\n",
       "    </tr>\n",
       "    <tr>\n",
       "      <th>78</th>\n",
       "      <td>human resources generalist schwan</td>\n",
       "      <td>Amerika Birleşik Devletleri</td>\n",
       "      <td>500</td>\n",
       "      <td>0.202520</td>\n",
       "    </tr>\n",
       "    <tr>\n",
       "      <th>101</th>\n",
       "      <td>human resources generalist loparex</td>\n",
       "      <td>Raleigh-Durham, North Carolina Area</td>\n",
       "      <td>500</td>\n",
       "      <td>0.202520</td>\n",
       "    </tr>\n",
       "    <tr>\n",
       "      <th>67</th>\n",
       "      <td>human resources staffing recruiting professional</td>\n",
       "      <td>Jackson, Mississippi Area</td>\n",
       "      <td>500</td>\n",
       "      <td>0.177703</td>\n",
       "    </tr>\n",
       "    <tr>\n",
       "      <th>88</th>\n",
       "      <td>human resources management major</td>\n",
       "      <td>Milpitas, California</td>\n",
       "      <td>18</td>\n",
       "      <td>0.169981</td>\n",
       "    </tr>\n",
       "    <tr>\n",
       "      <th>71</th>\n",
       "      <td>human resources generalist scottmadden inc</td>\n",
       "      <td>Raleigh-Durham, North Carolina Area</td>\n",
       "      <td>500</td>\n",
       "      <td>0.163116</td>\n",
       "    </tr>\n",
       "    <tr>\n",
       "      <th>90</th>\n",
       "      <td>undergraduate research assistant styczynski lab</td>\n",
       "      <td>Greater Atlanta Area</td>\n",
       "      <td>155</td>\n",
       "      <td>0.162120</td>\n",
       "    </tr>\n",
       "    <tr>\n",
       "      <th>102</th>\n",
       "      <td>business intelligence analytics travelers</td>\n",
       "      <td>Greater New York City Area</td>\n",
       "      <td>49</td>\n",
       "      <td>0.156625</td>\n",
       "    </tr>\n",
       "    <tr>\n",
       "      <th>87</th>\n",
       "      <td>bachelor science biology victoria university w...</td>\n",
       "      <td>Baltimore, Maryland</td>\n",
       "      <td>40</td>\n",
       "      <td>0.155229</td>\n",
       "    </tr>\n",
       "    <tr>\n",
       "      <th>68</th>\n",
       "      <td>human resources specialist luxottica</td>\n",
       "      <td>Greater New York City Area</td>\n",
       "      <td>500</td>\n",
       "      <td>0.151158</td>\n",
       "    </tr>\n",
       "    <tr>\n",
       "      <th>95</th>\n",
       "      <td>student westfield state university</td>\n",
       "      <td>Bridgewater, Massachusetts</td>\n",
       "      <td>57</td>\n",
       "      <td>0.141891</td>\n",
       "    </tr>\n",
       "    <tr>\n",
       "      <th>41</th>\n",
       "      <td>student chapman university</td>\n",
       "      <td>Lake Forest, California</td>\n",
       "      <td>2</td>\n",
       "      <td>0.141653</td>\n",
       "    </tr>\n",
       "    <tr>\n",
       "      <th>63</th>\n",
       "      <td>student chapman university</td>\n",
       "      <td>Lake Forest, California</td>\n",
       "      <td>2</td>\n",
       "      <td>0.141653</td>\n",
       "    </tr>\n",
       "    <tr>\n",
       "      <th>11</th>\n",
       "      <td>student chapman university</td>\n",
       "      <td>Lake Forest, California</td>\n",
       "      <td>2</td>\n",
       "      <td>0.141653</td>\n",
       "    </tr>\n",
       "    <tr>\n",
       "      <th>54</th>\n",
       "      <td>student chapman university</td>\n",
       "      <td>Lake Forest, California</td>\n",
       "      <td>2</td>\n",
       "      <td>0.141653</td>\n",
       "    </tr>\n",
       "    <tr>\n",
       "      <th>77</th>\n",
       "      <td>human conflict policies compensation</td>\n",
       "      <td>Dallas/Fort Worth Area</td>\n",
       "      <td>409</td>\n",
       "      <td>0.141160</td>\n",
       "    </tr>\n",
       "    <tr>\n",
       "      <th>80</th>\n",
       "      <td>junior manufacturing execution system informat...</td>\n",
       "      <td>Myrtle Beach, South Carolina Area</td>\n",
       "      <td>52</td>\n",
       "      <td>0.135458</td>\n",
       "    </tr>\n",
       "    <tr>\n",
       "      <th>74</th>\n",
       "      <td>human resources professional</td>\n",
       "      <td>Greater Boston Area</td>\n",
       "      <td>16</td>\n",
       "      <td>0.134220</td>\n",
       "    </tr>\n",
       "    <tr>\n",
       "      <th>98</th>\n",
       "      <td>student</td>\n",
       "      <td>Houston, Texas Area</td>\n",
       "      <td>4</td>\n",
       "      <td>0.131044</td>\n",
       "    </tr>\n",
       "    <tr>\n",
       "      <th>65</th>\n",
       "      <td>human resources coordinator intercontinental b...</td>\n",
       "      <td>Atlanta, Georgia</td>\n",
       "      <td>500</td>\n",
       "      <td>0.128166</td>\n",
       "    </tr>\n",
       "    <tr>\n",
       "      <th>43</th>\n",
       "      <td>human resources coordinator intercontinental b...</td>\n",
       "      <td>Atlanta, Georgia</td>\n",
       "      <td>500</td>\n",
       "      <td>0.128166</td>\n",
       "    </tr>\n",
       "    <tr>\n",
       "      <th>56</th>\n",
       "      <td>human resources coordinator intercontinental b...</td>\n",
       "      <td>Atlanta, Georgia</td>\n",
       "      <td>500</td>\n",
       "      <td>0.128166</td>\n",
       "    </tr>\n",
       "  </tbody>\n",
       "</table>\n",
       "</div>"
      ],
      "text/plain": [
       "                                             job_title  \\\n",
       "id                                                       \n",
       "17               aspiring human resources professional   \n",
       "58               aspiring human resources professional   \n",
       "46               aspiring human resources professional   \n",
       "33               aspiring human resources professional   \n",
       "97               aspiring human resources professional   \n",
       "21               aspiring human resources professional   \n",
       "3                aspiring human resources professional   \n",
       "60                 aspiring human resources specialist   \n",
       "6                  aspiring human resources specialist   \n",
       "36                 aspiring human resources specialist   \n",
       "49                 aspiring human resources specialist   \n",
       "24                 aspiring human resources specialist   \n",
       "82   aspiring human resources professional energeti...   \n",
       "99                    seeking human resources position   \n",
       "27   aspiring human resources management student se...   \n",
       "29   aspiring human resources management student se...   \n",
       "28               seeking human resources opportunities   \n",
       "30               seeking human resources opportunities   \n",
       "73   aspiring human resources manager seeking inter...   \n",
       "76   aspiring human resources professional passiona...   \n",
       "100  aspiring human resources manager graduating ma...   \n",
       "89                         director human resources ey   \n",
       "81   senior human resources business partner heil e...   \n",
       "94   seeking human resources opportunities open tra...   \n",
       "69   director human resources north america groupe ...   \n",
       "40   seeking human resources human resources inform...   \n",
       "10   seeking human resources human resources inform...   \n",
       "62   seeking human resources human resources inform...   \n",
       "53   seeking human resources human resources inform...   \n",
       "78                   human resources generalist schwan   \n",
       "101                 human resources generalist loparex   \n",
       "67    human resources staffing recruiting professional   \n",
       "88                    human resources management major   \n",
       "71          human resources generalist scottmadden inc   \n",
       "90     undergraduate research assistant styczynski lab   \n",
       "102          business intelligence analytics travelers   \n",
       "87   bachelor science biology victoria university w...   \n",
       "68                human resources specialist luxottica   \n",
       "95                  student westfield state university   \n",
       "41                          student chapman university   \n",
       "63                          student chapman university   \n",
       "11                          student chapman university   \n",
       "54                          student chapman university   \n",
       "77                human conflict policies compensation   \n",
       "80   junior manufacturing execution system informat...   \n",
       "74                        human resources professional   \n",
       "98                                             student   \n",
       "65   human resources coordinator intercontinental b...   \n",
       "43   human resources coordinator intercontinental b...   \n",
       "56   human resources coordinator intercontinental b...   \n",
       "\n",
       "                                location  connection  fit_word2vec  \n",
       "id                                                                  \n",
       "17   Raleigh-Durham, North Carolina Area          44      0.898174  \n",
       "58   Raleigh-Durham, North Carolina Area          44      0.898174  \n",
       "46   Raleigh-Durham, North Carolina Area          44      0.898174  \n",
       "33   Raleigh-Durham, North Carolina Area          44      0.898174  \n",
       "97                  Kokomo, Indiana Area          71      0.898174  \n",
       "21   Raleigh-Durham, North Carolina Area          44      0.898174  \n",
       "3    Raleigh-Durham, North Carolina Area          44      0.898174  \n",
       "60            Greater New York City Area           1      0.873679  \n",
       "6             Greater New York City Area           1      0.873679  \n",
       "36            Greater New York City Area           1      0.873679  \n",
       "49            Greater New York City Area           1      0.873679  \n",
       "24            Greater New York City Area           1      0.873679  \n",
       "82                    Austin, Texas Area         174      0.731885  \n",
       "99                Las Vegas, Nevada Area          48      0.654387  \n",
       "27                   Houston, Texas Area         500      0.628601  \n",
       "29                   Houston, Texas Area         500      0.628601  \n",
       "28                     Chicago, Illinois         390      0.619797  \n",
       "30                     Chicago, Illinois         390      0.619797  \n",
       "73                   Houston, Texas Area           7      0.584569  \n",
       "76                    New York, New York         212      0.551164  \n",
       "100             Cape Girardeau, Missouri         103      0.519155  \n",
       "89                  Greater Atlanta Area         349      0.518322  \n",
       "81           Chattanooga, Tennessee Area         455      0.477157  \n",
       "94           Amerika Birleşik Devletleri         415      0.471909  \n",
       "69   Greater Grand Rapids, Michigan Area         500      0.416243  \n",
       "40             Greater Philadelphia Area         500      0.408501  \n",
       "10             Greater Philadelphia Area         500      0.408501  \n",
       "62             Greater Philadelphia Area         500      0.408501  \n",
       "53             Greater Philadelphia Area         500      0.408501  \n",
       "78           Amerika Birleşik Devletleri         500      0.202520  \n",
       "101  Raleigh-Durham, North Carolina Area         500      0.202520  \n",
       "67             Jackson, Mississippi Area         500      0.177703  \n",
       "88                  Milpitas, California          18      0.169981  \n",
       "71   Raleigh-Durham, North Carolina Area         500      0.163116  \n",
       "90                  Greater Atlanta Area         155      0.162120  \n",
       "102           Greater New York City Area          49      0.156625  \n",
       "87                   Baltimore, Maryland          40      0.155229  \n",
       "68            Greater New York City Area         500      0.151158  \n",
       "95            Bridgewater, Massachusetts          57      0.141891  \n",
       "41               Lake Forest, California           2      0.141653  \n",
       "63               Lake Forest, California           2      0.141653  \n",
       "11               Lake Forest, California           2      0.141653  \n",
       "54               Lake Forest, California           2      0.141653  \n",
       "77                Dallas/Fort Worth Area         409      0.141160  \n",
       "80     Myrtle Beach, South Carolina Area          52      0.135458  \n",
       "74                   Greater Boston Area          16      0.134220  \n",
       "98                   Houston, Texas Area           4      0.131044  \n",
       "65                      Atlanta, Georgia         500      0.128166  \n",
       "43                      Atlanta, Georgia         500      0.128166  \n",
       "56                      Atlanta, Georgia         500      0.128166  "
      ]
     },
     "execution_count": 196,
     "metadata": {},
     "output_type": "execute_result"
    }
   ],
   "source": [
    "top_candidates(n = 50, by = 'fit_word2vec', ascending = False, min_con = 0)"
   ]
  },
  {
   "cell_type": "code",
   "execution_count": 197,
   "id": "f76dedf7-185c-4a42-91b7-6a93c21701ca",
   "metadata": {},
   "outputs": [
    {
     "data": {
      "text/html": [
       "<div>\n",
       "<style scoped>\n",
       "    .dataframe tbody tr th:only-of-type {\n",
       "        vertical-align: middle;\n",
       "    }\n",
       "\n",
       "    .dataframe tbody tr th {\n",
       "        vertical-align: top;\n",
       "    }\n",
       "\n",
       "    .dataframe thead th {\n",
       "        text-align: right;\n",
       "    }\n",
       "</style>\n",
       "<table border=\"1\" class=\"dataframe\">\n",
       "  <thead>\n",
       "    <tr style=\"text-align: right;\">\n",
       "      <th></th>\n",
       "      <th>job_title</th>\n",
       "      <th>location</th>\n",
       "      <th>connection</th>\n",
       "      <th>fit_word2vec</th>\n",
       "    </tr>\n",
       "    <tr>\n",
       "      <th>id</th>\n",
       "      <th></th>\n",
       "      <th></th>\n",
       "      <th></th>\n",
       "      <th></th>\n",
       "    </tr>\n",
       "  </thead>\n",
       "  <tbody>\n",
       "    <tr>\n",
       "      <th>42</th>\n",
       "      <td>senior vice president chief human resources of...</td>\n",
       "      <td>Houston, Texas Area</td>\n",
       "      <td>500</td>\n",
       "      <td>0.041683</td>\n",
       "    </tr>\n",
       "    <tr>\n",
       "      <th>12</th>\n",
       "      <td>senior vice president chief human resources of...</td>\n",
       "      <td>Houston, Texas Area</td>\n",
       "      <td>500</td>\n",
       "      <td>0.041683</td>\n",
       "    </tr>\n",
       "    <tr>\n",
       "      <th>64</th>\n",
       "      <td>senior vice president chief human resources of...</td>\n",
       "      <td>Houston, Texas Area</td>\n",
       "      <td>500</td>\n",
       "      <td>0.041683</td>\n",
       "    </tr>\n",
       "    <tr>\n",
       "      <th>55</th>\n",
       "      <td>senior vice president chief human resources of...</td>\n",
       "      <td>Houston, Texas Area</td>\n",
       "      <td>500</td>\n",
       "      <td>0.041683</td>\n",
       "    </tr>\n",
       "    <tr>\n",
       "      <th>104</th>\n",
       "      <td>director administration excellence logging</td>\n",
       "      <td>Katy, Texas</td>\n",
       "      <td>500</td>\n",
       "      <td>0.044535</td>\n",
       "    </tr>\n",
       "    <tr>\n",
       "      <th>75</th>\n",
       "      <td>nortia staffing seeking human resources payrol...</td>\n",
       "      <td>San Jose, California</td>\n",
       "      <td>500</td>\n",
       "      <td>0.046136</td>\n",
       "    </tr>\n",
       "    <tr>\n",
       "      <th>85</th>\n",
       "      <td>rrp brand portfolio executive jti japan tobacc...</td>\n",
       "      <td>Greater Philadelphia Area</td>\n",
       "      <td>500</td>\n",
       "      <td>0.050200</td>\n",
       "    </tr>\n",
       "    <tr>\n",
       "      <th>35</th>\n",
       "      <td>advisory board member celal bayar university</td>\n",
       "      <td>İzmir, Türkiye</td>\n",
       "      <td>500</td>\n",
       "      <td>0.059064</td>\n",
       "    </tr>\n",
       "    <tr>\n",
       "      <th>48</th>\n",
       "      <td>advisory board member celal bayar university</td>\n",
       "      <td>İzmir, Türkiye</td>\n",
       "      <td>500</td>\n",
       "      <td>0.059064</td>\n",
       "    </tr>\n",
       "    <tr>\n",
       "      <th>23</th>\n",
       "      <td>advisory board member celal bayar university</td>\n",
       "      <td>İzmir, Türkiye</td>\n",
       "      <td>500</td>\n",
       "      <td>0.059064</td>\n",
       "    </tr>\n",
       "    <tr>\n",
       "      <th>5</th>\n",
       "      <td>advisory board member celal bayar university</td>\n",
       "      <td>İzmir, Türkiye</td>\n",
       "      <td>500</td>\n",
       "      <td>0.059064</td>\n",
       "    </tr>\n",
       "    <tr>\n",
       "      <th>86</th>\n",
       "      <td>information systems specialist programmer love...</td>\n",
       "      <td>Gaithersburg, Maryland</td>\n",
       "      <td>4</td>\n",
       "      <td>0.061953</td>\n",
       "    </tr>\n",
       "    <tr>\n",
       "      <th>79</th>\n",
       "      <td>liberal arts major aspiring human resources an...</td>\n",
       "      <td>Baton Rouge, Louisiana Area</td>\n",
       "      <td>7</td>\n",
       "      <td>0.062355</td>\n",
       "    </tr>\n",
       "    <tr>\n",
       "      <th>9</th>\n",
       "      <td>student humber college aspiring human resource...</td>\n",
       "      <td>Kanada</td>\n",
       "      <td>61</td>\n",
       "      <td>0.066574</td>\n",
       "    </tr>\n",
       "    <tr>\n",
       "      <th>25</th>\n",
       "      <td>student humber college aspiring human resource...</td>\n",
       "      <td>Kanada</td>\n",
       "      <td>61</td>\n",
       "      <td>0.066574</td>\n",
       "    </tr>\n",
       "    <tr>\n",
       "      <th>39</th>\n",
       "      <td>student humber college aspiring human resource...</td>\n",
       "      <td>Kanada</td>\n",
       "      <td>61</td>\n",
       "      <td>0.066574</td>\n",
       "    </tr>\n",
       "    <tr>\n",
       "      <th>37</th>\n",
       "      <td>student humber college aspiring human resource...</td>\n",
       "      <td>Kanada</td>\n",
       "      <td>61</td>\n",
       "      <td>0.066574</td>\n",
       "    </tr>\n",
       "    <tr>\n",
       "      <th>50</th>\n",
       "      <td>student humber college aspiring human resource...</td>\n",
       "      <td>Kanada</td>\n",
       "      <td>61</td>\n",
       "      <td>0.066574</td>\n",
       "    </tr>\n",
       "    <tr>\n",
       "      <th>52</th>\n",
       "      <td>student humber college aspiring human resource...</td>\n",
       "      <td>Kanada</td>\n",
       "      <td>61</td>\n",
       "      <td>0.066574</td>\n",
       "    </tr>\n",
       "    <tr>\n",
       "      <th>7</th>\n",
       "      <td>student humber college aspiring human resource...</td>\n",
       "      <td>Kanada</td>\n",
       "      <td>61</td>\n",
       "      <td>0.066574</td>\n",
       "    </tr>\n",
       "    <tr>\n",
       "      <th>70</th>\n",
       "      <td>retired army national guard recruiter office m...</td>\n",
       "      <td>Virginia Beach, Virginia</td>\n",
       "      <td>82</td>\n",
       "      <td>0.068938</td>\n",
       "    </tr>\n",
       "    <tr>\n",
       "      <th>93</th>\n",
       "      <td>admissions representative community medical ce...</td>\n",
       "      <td>Long Beach, California</td>\n",
       "      <td>9</td>\n",
       "      <td>0.071745</td>\n",
       "    </tr>\n",
       "    <tr>\n",
       "      <th>91</th>\n",
       "      <td>lead official western illinois university</td>\n",
       "      <td>Greater Chicago Area</td>\n",
       "      <td>39</td>\n",
       "      <td>0.072108</td>\n",
       "    </tr>\n",
       "    <tr>\n",
       "      <th>72</th>\n",
       "      <td>business management major aspiring human resou...</td>\n",
       "      <td>Monroe, Louisiana Area</td>\n",
       "      <td>5</td>\n",
       "      <td>0.074891</td>\n",
       "    </tr>\n",
       "    <tr>\n",
       "      <th>20</th>\n",
       "      <td>native english teacher epik english program korea</td>\n",
       "      <td>Kanada</td>\n",
       "      <td>500</td>\n",
       "      <td>0.076245</td>\n",
       "    </tr>\n",
       "    <tr>\n",
       "      <th>2</th>\n",
       "      <td>native english teacher epik english program korea</td>\n",
       "      <td>Kanada</td>\n",
       "      <td>500</td>\n",
       "      <td>0.076245</td>\n",
       "    </tr>\n",
       "    <tr>\n",
       "      <th>45</th>\n",
       "      <td>native english teacher epik english program korea</td>\n",
       "      <td>Kanada</td>\n",
       "      <td>500</td>\n",
       "      <td>0.076245</td>\n",
       "    </tr>\n",
       "    <tr>\n",
       "      <th>32</th>\n",
       "      <td>native english teacher epik english program korea</td>\n",
       "      <td>Kanada</td>\n",
       "      <td>500</td>\n",
       "      <td>0.076245</td>\n",
       "    </tr>\n",
       "    <tr>\n",
       "      <th>16</th>\n",
       "      <td>native english teacher epik english program korea</td>\n",
       "      <td>Kanada</td>\n",
       "      <td>500</td>\n",
       "      <td>0.076245</td>\n",
       "    </tr>\n",
       "    <tr>\n",
       "      <th>19</th>\n",
       "      <td>college business graduate magna cum laude aspi...</td>\n",
       "      <td>Houston, Texas</td>\n",
       "      <td>85</td>\n",
       "      <td>0.076275</td>\n",
       "    </tr>\n",
       "    <tr>\n",
       "      <th>57</th>\n",
       "      <td>college business graduate magna cum laude aspi...</td>\n",
       "      <td>Houston, Texas</td>\n",
       "      <td>85</td>\n",
       "      <td>0.076275</td>\n",
       "    </tr>\n",
       "    <tr>\n",
       "      <th>44</th>\n",
       "      <td>college business graduate magna cum laude aspi...</td>\n",
       "      <td>Houston, Texas</td>\n",
       "      <td>85</td>\n",
       "      <td>0.076275</td>\n",
       "    </tr>\n",
       "    <tr>\n",
       "      <th>14</th>\n",
       "      <td>college business graduate magna cum laude aspi...</td>\n",
       "      <td>Houston, Texas</td>\n",
       "      <td>85</td>\n",
       "      <td>0.076275</td>\n",
       "    </tr>\n",
       "    <tr>\n",
       "      <th>15</th>\n",
       "      <td>college business graduate magna cum laude aspi...</td>\n",
       "      <td>Houston, Texas</td>\n",
       "      <td>85</td>\n",
       "      <td>0.076275</td>\n",
       "    </tr>\n",
       "    <tr>\n",
       "      <th>1</th>\n",
       "      <td>college business graduate magna cum laude aspi...</td>\n",
       "      <td>Houston, Texas</td>\n",
       "      <td>85</td>\n",
       "      <td>0.076275</td>\n",
       "    </tr>\n",
       "    <tr>\n",
       "      <th>31</th>\n",
       "      <td>college business graduate magna cum laude aspi...</td>\n",
       "      <td>Houston, Texas</td>\n",
       "      <td>85</td>\n",
       "      <td>0.076275</td>\n",
       "    </tr>\n",
       "    <tr>\n",
       "      <th>96</th>\n",
       "      <td>student indiana university kokomo business man...</td>\n",
       "      <td>Lafayette, Indiana</td>\n",
       "      <td>19</td>\n",
       "      <td>0.077430</td>\n",
       "    </tr>\n",
       "    <tr>\n",
       "      <th>83</th>\n",
       "      <td>human resource manager endemol shine north ame...</td>\n",
       "      <td>Los Angeles, California</td>\n",
       "      <td>268</td>\n",
       "      <td>0.086958</td>\n",
       "    </tr>\n",
       "    <tr>\n",
       "      <th>84</th>\n",
       "      <td>human resources professional world leader gis ...</td>\n",
       "      <td>Highland, California</td>\n",
       "      <td>50</td>\n",
       "      <td>0.089963</td>\n",
       "    </tr>\n",
       "    <tr>\n",
       "      <th>26</th>\n",
       "      <td>human resource senior specialist</td>\n",
       "      <td>San Francisco Bay Area</td>\n",
       "      <td>500</td>\n",
       "      <td>0.099364</td>\n",
       "    </tr>\n",
       "    <tr>\n",
       "      <th>8</th>\n",
       "      <td>human resource senior specialist</td>\n",
       "      <td>San Francisco Bay Area</td>\n",
       "      <td>500</td>\n",
       "      <td>0.099364</td>\n",
       "    </tr>\n",
       "    <tr>\n",
       "      <th>38</th>\n",
       "      <td>human resource senior specialist</td>\n",
       "      <td>San Francisco Bay Area</td>\n",
       "      <td>500</td>\n",
       "      <td>0.099364</td>\n",
       "    </tr>\n",
       "    <tr>\n",
       "      <th>61</th>\n",
       "      <td>human resource senior specialist</td>\n",
       "      <td>San Francisco Bay Area</td>\n",
       "      <td>500</td>\n",
       "      <td>0.099364</td>\n",
       "    </tr>\n",
       "    <tr>\n",
       "      <th>51</th>\n",
       "      <td>human resource senior specialist</td>\n",
       "      <td>San Francisco Bay Area</td>\n",
       "      <td>500</td>\n",
       "      <td>0.099364</td>\n",
       "    </tr>\n",
       "    <tr>\n",
       "      <th>103</th>\n",
       "      <td>always set success</td>\n",
       "      <td>Greater Los Angeles Area</td>\n",
       "      <td>500</td>\n",
       "      <td>0.105052</td>\n",
       "    </tr>\n",
       "    <tr>\n",
       "      <th>66</th>\n",
       "      <td>experienced retail manager aspiring human reso...</td>\n",
       "      <td>Austin, Texas Area</td>\n",
       "      <td>57</td>\n",
       "      <td>0.106226</td>\n",
       "    </tr>\n",
       "    <tr>\n",
       "      <th>22</th>\n",
       "      <td>people development coordinator ryan</td>\n",
       "      <td>Denton, Texas</td>\n",
       "      <td>500</td>\n",
       "      <td>0.122405</td>\n",
       "    </tr>\n",
       "    <tr>\n",
       "      <th>47</th>\n",
       "      <td>people development coordinator ryan</td>\n",
       "      <td>Denton, Texas</td>\n",
       "      <td>500</td>\n",
       "      <td>0.122405</td>\n",
       "    </tr>\n",
       "    <tr>\n",
       "      <th>4</th>\n",
       "      <td>people development coordinator ryan</td>\n",
       "      <td>Denton, Texas</td>\n",
       "      <td>500</td>\n",
       "      <td>0.122405</td>\n",
       "    </tr>\n",
       "    <tr>\n",
       "      <th>59</th>\n",
       "      <td>people development coordinator ryan</td>\n",
       "      <td>Denton, Texas</td>\n",
       "      <td>500</td>\n",
       "      <td>0.122405</td>\n",
       "    </tr>\n",
       "    <tr>\n",
       "      <th>18</th>\n",
       "      <td>people development coordinator ryan</td>\n",
       "      <td>Denton, Texas</td>\n",
       "      <td>500</td>\n",
       "      <td>0.122405</td>\n",
       "    </tr>\n",
       "    <tr>\n",
       "      <th>34</th>\n",
       "      <td>people development coordinator ryan</td>\n",
       "      <td>Denton, Texas</td>\n",
       "      <td>500</td>\n",
       "      <td>0.122405</td>\n",
       "    </tr>\n",
       "    <tr>\n",
       "      <th>92</th>\n",
       "      <td>seeking employment opportunity within customer...</td>\n",
       "      <td>Torrance, California</td>\n",
       "      <td>64</td>\n",
       "      <td>0.125633</td>\n",
       "    </tr>\n",
       "    <tr>\n",
       "      <th>65</th>\n",
       "      <td>human resources coordinator intercontinental b...</td>\n",
       "      <td>Atlanta, Georgia</td>\n",
       "      <td>500</td>\n",
       "      <td>0.128166</td>\n",
       "    </tr>\n",
       "    <tr>\n",
       "      <th>56</th>\n",
       "      <td>human resources coordinator intercontinental b...</td>\n",
       "      <td>Atlanta, Georgia</td>\n",
       "      <td>500</td>\n",
       "      <td>0.128166</td>\n",
       "    </tr>\n",
       "    <tr>\n",
       "      <th>43</th>\n",
       "      <td>human resources coordinator intercontinental b...</td>\n",
       "      <td>Atlanta, Georgia</td>\n",
       "      <td>500</td>\n",
       "      <td>0.128166</td>\n",
       "    </tr>\n",
       "    <tr>\n",
       "      <th>13</th>\n",
       "      <td>human resources coordinator intercontinental b...</td>\n",
       "      <td>Atlanta, Georgia</td>\n",
       "      <td>500</td>\n",
       "      <td>0.128166</td>\n",
       "    </tr>\n",
       "    <tr>\n",
       "      <th>98</th>\n",
       "      <td>student</td>\n",
       "      <td>Houston, Texas Area</td>\n",
       "      <td>4</td>\n",
       "      <td>0.131044</td>\n",
       "    </tr>\n",
       "    <tr>\n",
       "      <th>74</th>\n",
       "      <td>human resources professional</td>\n",
       "      <td>Greater Boston Area</td>\n",
       "      <td>16</td>\n",
       "      <td>0.134220</td>\n",
       "    </tr>\n",
       "    <tr>\n",
       "      <th>80</th>\n",
       "      <td>junior manufacturing execution system informat...</td>\n",
       "      <td>Myrtle Beach, South Carolina Area</td>\n",
       "      <td>52</td>\n",
       "      <td>0.135458</td>\n",
       "    </tr>\n",
       "  </tbody>\n",
       "</table>\n",
       "</div>"
      ],
      "text/plain": [
       "                                             job_title  \\\n",
       "id                                                       \n",
       "42   senior vice president chief human resources of...   \n",
       "12   senior vice president chief human resources of...   \n",
       "64   senior vice president chief human resources of...   \n",
       "55   senior vice president chief human resources of...   \n",
       "104         director administration excellence logging   \n",
       "75   nortia staffing seeking human resources payrol...   \n",
       "85   rrp brand portfolio executive jti japan tobacc...   \n",
       "35        advisory board member celal bayar university   \n",
       "48        advisory board member celal bayar university   \n",
       "23        advisory board member celal bayar university   \n",
       "5         advisory board member celal bayar university   \n",
       "86   information systems specialist programmer love...   \n",
       "79   liberal arts major aspiring human resources an...   \n",
       "9    student humber college aspiring human resource...   \n",
       "25   student humber college aspiring human resource...   \n",
       "39   student humber college aspiring human resource...   \n",
       "37   student humber college aspiring human resource...   \n",
       "50   student humber college aspiring human resource...   \n",
       "52   student humber college aspiring human resource...   \n",
       "7    student humber college aspiring human resource...   \n",
       "70   retired army national guard recruiter office m...   \n",
       "93   admissions representative community medical ce...   \n",
       "91           lead official western illinois university   \n",
       "72   business management major aspiring human resou...   \n",
       "20   native english teacher epik english program korea   \n",
       "2    native english teacher epik english program korea   \n",
       "45   native english teacher epik english program korea   \n",
       "32   native english teacher epik english program korea   \n",
       "16   native english teacher epik english program korea   \n",
       "19   college business graduate magna cum laude aspi...   \n",
       "57   college business graduate magna cum laude aspi...   \n",
       "44   college business graduate magna cum laude aspi...   \n",
       "14   college business graduate magna cum laude aspi...   \n",
       "15   college business graduate magna cum laude aspi...   \n",
       "1    college business graduate magna cum laude aspi...   \n",
       "31   college business graduate magna cum laude aspi...   \n",
       "96   student indiana university kokomo business man...   \n",
       "83   human resource manager endemol shine north ame...   \n",
       "84   human resources professional world leader gis ...   \n",
       "26                    human resource senior specialist   \n",
       "8                     human resource senior specialist   \n",
       "38                    human resource senior specialist   \n",
       "61                    human resource senior specialist   \n",
       "51                    human resource senior specialist   \n",
       "103                                 always set success   \n",
       "66   experienced retail manager aspiring human reso...   \n",
       "22                 people development coordinator ryan   \n",
       "47                 people development coordinator ryan   \n",
       "4                  people development coordinator ryan   \n",
       "59                 people development coordinator ryan   \n",
       "18                 people development coordinator ryan   \n",
       "34                 people development coordinator ryan   \n",
       "92   seeking employment opportunity within customer...   \n",
       "65   human resources coordinator intercontinental b...   \n",
       "56   human resources coordinator intercontinental b...   \n",
       "43   human resources coordinator intercontinental b...   \n",
       "13   human resources coordinator intercontinental b...   \n",
       "98                                             student   \n",
       "74                        human resources professional   \n",
       "80   junior manufacturing execution system informat...   \n",
       "\n",
       "                              location  connection  fit_word2vec  \n",
       "id                                                                \n",
       "42                 Houston, Texas Area         500      0.041683  \n",
       "12                 Houston, Texas Area         500      0.041683  \n",
       "64                 Houston, Texas Area         500      0.041683  \n",
       "55                 Houston, Texas Area         500      0.041683  \n",
       "104                        Katy, Texas         500      0.044535  \n",
       "75                San Jose, California         500      0.046136  \n",
       "85           Greater Philadelphia Area         500      0.050200  \n",
       "35                      İzmir, Türkiye         500      0.059064  \n",
       "48                      İzmir, Türkiye         500      0.059064  \n",
       "23                      İzmir, Türkiye         500      0.059064  \n",
       "5                       İzmir, Türkiye         500      0.059064  \n",
       "86              Gaithersburg, Maryland           4      0.061953  \n",
       "79         Baton Rouge, Louisiana Area           7      0.062355  \n",
       "9                               Kanada          61      0.066574  \n",
       "25                              Kanada          61      0.066574  \n",
       "39                              Kanada          61      0.066574  \n",
       "37                              Kanada          61      0.066574  \n",
       "50                              Kanada          61      0.066574  \n",
       "52                              Kanada          61      0.066574  \n",
       "7                               Kanada          61      0.066574  \n",
       "70            Virginia Beach, Virginia          82      0.068938  \n",
       "93              Long Beach, California           9      0.071745  \n",
       "91                Greater Chicago Area          39      0.072108  \n",
       "72              Monroe, Louisiana Area           5      0.074891  \n",
       "20                              Kanada         500      0.076245  \n",
       "2                               Kanada         500      0.076245  \n",
       "45                              Kanada         500      0.076245  \n",
       "32                              Kanada         500      0.076245  \n",
       "16                              Kanada         500      0.076245  \n",
       "19                      Houston, Texas          85      0.076275  \n",
       "57                      Houston, Texas          85      0.076275  \n",
       "44                      Houston, Texas          85      0.076275  \n",
       "14                      Houston, Texas          85      0.076275  \n",
       "15                      Houston, Texas          85      0.076275  \n",
       "1                       Houston, Texas          85      0.076275  \n",
       "31                      Houston, Texas          85      0.076275  \n",
       "96                  Lafayette, Indiana          19      0.077430  \n",
       "83             Los Angeles, California         268      0.086958  \n",
       "84                Highland, California          50      0.089963  \n",
       "26              San Francisco Bay Area         500      0.099364  \n",
       "8               San Francisco Bay Area         500      0.099364  \n",
       "38              San Francisco Bay Area         500      0.099364  \n",
       "61              San Francisco Bay Area         500      0.099364  \n",
       "51              San Francisco Bay Area         500      0.099364  \n",
       "103           Greater Los Angeles Area         500      0.105052  \n",
       "66                  Austin, Texas Area          57      0.106226  \n",
       "22                       Denton, Texas         500      0.122405  \n",
       "47                       Denton, Texas         500      0.122405  \n",
       "4                        Denton, Texas         500      0.122405  \n",
       "59                       Denton, Texas         500      0.122405  \n",
       "18                       Denton, Texas         500      0.122405  \n",
       "34                       Denton, Texas         500      0.122405  \n",
       "92                Torrance, California          64      0.125633  \n",
       "65                    Atlanta, Georgia         500      0.128166  \n",
       "56                    Atlanta, Georgia         500      0.128166  \n",
       "43                    Atlanta, Georgia         500      0.128166  \n",
       "13                    Atlanta, Georgia         500      0.128166  \n",
       "98                 Houston, Texas Area           4      0.131044  \n",
       "74                 Greater Boston Area          16      0.134220  \n",
       "80   Myrtle Beach, South Carolina Area          52      0.135458  "
      ]
     },
     "execution_count": 197,
     "metadata": {},
     "output_type": "execute_result"
    }
   ],
   "source": [
    "top_candidates(n = 60, by = 'fit_word2vec', ascending = True, min_con = 0)"
   ]
  },
  {
   "cell_type": "code",
   "execution_count": 198,
   "id": "169cfe1c-4a1a-4e8e-bfdf-4c3c76ead0e6",
   "metadata": {},
   "outputs": [
    {
     "name": "stdout",
     "output_type": "stream",
     "text": [
      "experienced retail manager aspiring human resources professional\n"
     ]
    }
   ],
   "source": [
    "print(df.loc[66,'job_title'])"
   ]
  },
  {
   "cell_type": "markdown",
   "id": "90b33323-9785-4ab6-a485-c28441dba176",
   "metadata": {},
   "source": [
    "The model misses the similarity between the sentences containing the keywords but not starting with the keywords. Let's have a look at the histogram according the scores"
   ]
  },
  {
   "cell_type": "code",
   "execution_count": 199,
   "id": "8de49643-9484-4f0e-a6ca-46241ecec53f",
   "metadata": {},
   "outputs": [
    {
     "data": {
      "application/vnd.plotly.v1+json": {
       "config": {
        "plotlyServerURL": "https://plot.ly"
       },
       "data": [
        {
         "alignmentgroup": "True",
         "bingroup": "x",
         "hovertemplate": "fit_word2vec=%{x}<br>count=%{y}<extra></extra>",
         "legendgroup": "",
         "marker": {
          "color": "#636efa",
          "pattern": {
           "shape": ""
          }
         },
         "name": "",
         "offsetgroup": "",
         "orientation": "v",
         "showlegend": false,
         "type": "histogram",
         "x": [
          0.07627495424138381,
          0.07624545828361275,
          0.8981737993176899,
          0.12240544390747199,
          0.05906428929285821,
          0.8736786236092046,
          0.06657410423879392,
          0.09936392983772649,
          0.06657410423879391,
          0.40850126022837174,
          0.141653057406952,
          0.04168312120859739,
          0.1281658612669031,
          0.07627495424138381,
          0.07627495424138381,
          0.07624545828361275,
          0.8981737993176899,
          0.12240544390747199,
          0.07627495424138381,
          0.07624545828361275,
          0.8981737993176899,
          0.12240544390747199,
          0.05906428929285821,
          0.8736786236092046,
          0.06657410423879392,
          0.09936392983772649,
          0.6286008163542762,
          0.6197969625360996,
          0.6286008163542762,
          0.6197969625360996,
          0.07627495424138381,
          0.07624545828361275,
          0.8981737993176899,
          0.12240544390747199,
          0.05906428929285821,
          0.8736786236092046,
          0.06657410423879392,
          0.09936392983772649,
          0.06657410423879392,
          0.40850126022837174,
          0.141653057406952,
          0.04168312120859739,
          0.1281658612669031,
          0.07627495424138381,
          0.07624545828361275,
          0.8981737993176899,
          0.12240544390747199,
          0.05906428929285821,
          0.8736786236092046,
          0.06657410423879392,
          0.09936392983772649,
          0.06657410423879392,
          0.40850126022837174,
          0.141653057406952,
          0.04168312120859739,
          0.1281658612669031,
          0.07627495424138381,
          0.8981737993176899,
          0.12240544390747199,
          0.8736786236092046,
          0.09936392983772649,
          0.40850126022837174,
          0.141653057406952,
          0.04168312120859739,
          0.1281658612669031,
          0.1062264171561432,
          0.1777031395470644,
          0.1511582472162803,
          0.41624301490073057,
          0.06893809563976128,
          0.16311606444163568,
          0.07489114731066737,
          0.5845687523777039,
          0.13421987621580447,
          0.04613577753603348,
          0.5511644183657021,
          0.1411597723193372,
          0.2025197594499062,
          0.062355061417511876,
          0.1354579572368143,
          0.47715736936954817,
          0.7318852995682665,
          0.08695767808381442,
          0.08996344045194257,
          0.05020011014593701,
          0.06195272275312825,
          0.15522931100311144,
          0.16998067920426718,
          0.5183222700548717,
          0.16212024947299308,
          0.0721077664623494,
          0.12563340919851232,
          0.0717446949507233,
          0.4719089013400199,
          0.14189149671436774,
          0.07743036291455976,
          0.8981737993176899,
          0.1310439753135674,
          0.6543869799922895,
          0.519155429274381,
          0.2025197594499062,
          0.15662535198051664,
          0.10505160507234126,
          0.04453473108247609
         ],
         "xaxis": "x",
         "yaxis": "y"
        }
       ],
       "layout": {
        "autosize": true,
        "barmode": "relative",
        "legend": {
         "tracegroupgap": 0
        },
        "margin": {
         "t": 60
        },
        "template": {
         "data": {
          "bar": [
           {
            "error_x": {
             "color": "#2a3f5f"
            },
            "error_y": {
             "color": "#2a3f5f"
            },
            "marker": {
             "line": {
              "color": "#E5ECF6",
              "width": 0.5
             },
             "pattern": {
              "fillmode": "overlay",
              "size": 10,
              "solidity": 0.2
             }
            },
            "type": "bar"
           }
          ],
          "barpolar": [
           {
            "marker": {
             "line": {
              "color": "#E5ECF6",
              "width": 0.5
             },
             "pattern": {
              "fillmode": "overlay",
              "size": 10,
              "solidity": 0.2
             }
            },
            "type": "barpolar"
           }
          ],
          "carpet": [
           {
            "aaxis": {
             "endlinecolor": "#2a3f5f",
             "gridcolor": "white",
             "linecolor": "white",
             "minorgridcolor": "white",
             "startlinecolor": "#2a3f5f"
            },
            "baxis": {
             "endlinecolor": "#2a3f5f",
             "gridcolor": "white",
             "linecolor": "white",
             "minorgridcolor": "white",
             "startlinecolor": "#2a3f5f"
            },
            "type": "carpet"
           }
          ],
          "choropleth": [
           {
            "colorbar": {
             "outlinewidth": 0,
             "ticks": ""
            },
            "type": "choropleth"
           }
          ],
          "contour": [
           {
            "colorbar": {
             "outlinewidth": 0,
             "ticks": ""
            },
            "colorscale": [
             [
              0,
              "#0d0887"
             ],
             [
              0.1111111111111111,
              "#46039f"
             ],
             [
              0.2222222222222222,
              "#7201a8"
             ],
             [
              0.3333333333333333,
              "#9c179e"
             ],
             [
              0.4444444444444444,
              "#bd3786"
             ],
             [
              0.5555555555555556,
              "#d8576b"
             ],
             [
              0.6666666666666666,
              "#ed7953"
             ],
             [
              0.7777777777777778,
              "#fb9f3a"
             ],
             [
              0.8888888888888888,
              "#fdca26"
             ],
             [
              1,
              "#f0f921"
             ]
            ],
            "type": "contour"
           }
          ],
          "contourcarpet": [
           {
            "colorbar": {
             "outlinewidth": 0,
             "ticks": ""
            },
            "type": "contourcarpet"
           }
          ],
          "heatmap": [
           {
            "colorbar": {
             "outlinewidth": 0,
             "ticks": ""
            },
            "colorscale": [
             [
              0,
              "#0d0887"
             ],
             [
              0.1111111111111111,
              "#46039f"
             ],
             [
              0.2222222222222222,
              "#7201a8"
             ],
             [
              0.3333333333333333,
              "#9c179e"
             ],
             [
              0.4444444444444444,
              "#bd3786"
             ],
             [
              0.5555555555555556,
              "#d8576b"
             ],
             [
              0.6666666666666666,
              "#ed7953"
             ],
             [
              0.7777777777777778,
              "#fb9f3a"
             ],
             [
              0.8888888888888888,
              "#fdca26"
             ],
             [
              1,
              "#f0f921"
             ]
            ],
            "type": "heatmap"
           }
          ],
          "heatmapgl": [
           {
            "colorbar": {
             "outlinewidth": 0,
             "ticks": ""
            },
            "colorscale": [
             [
              0,
              "#0d0887"
             ],
             [
              0.1111111111111111,
              "#46039f"
             ],
             [
              0.2222222222222222,
              "#7201a8"
             ],
             [
              0.3333333333333333,
              "#9c179e"
             ],
             [
              0.4444444444444444,
              "#bd3786"
             ],
             [
              0.5555555555555556,
              "#d8576b"
             ],
             [
              0.6666666666666666,
              "#ed7953"
             ],
             [
              0.7777777777777778,
              "#fb9f3a"
             ],
             [
              0.8888888888888888,
              "#fdca26"
             ],
             [
              1,
              "#f0f921"
             ]
            ],
            "type": "heatmapgl"
           }
          ],
          "histogram": [
           {
            "marker": {
             "pattern": {
              "fillmode": "overlay",
              "size": 10,
              "solidity": 0.2
             }
            },
            "type": "histogram"
           }
          ],
          "histogram2d": [
           {
            "colorbar": {
             "outlinewidth": 0,
             "ticks": ""
            },
            "colorscale": [
             [
              0,
              "#0d0887"
             ],
             [
              0.1111111111111111,
              "#46039f"
             ],
             [
              0.2222222222222222,
              "#7201a8"
             ],
             [
              0.3333333333333333,
              "#9c179e"
             ],
             [
              0.4444444444444444,
              "#bd3786"
             ],
             [
              0.5555555555555556,
              "#d8576b"
             ],
             [
              0.6666666666666666,
              "#ed7953"
             ],
             [
              0.7777777777777778,
              "#fb9f3a"
             ],
             [
              0.8888888888888888,
              "#fdca26"
             ],
             [
              1,
              "#f0f921"
             ]
            ],
            "type": "histogram2d"
           }
          ],
          "histogram2dcontour": [
           {
            "colorbar": {
             "outlinewidth": 0,
             "ticks": ""
            },
            "colorscale": [
             [
              0,
              "#0d0887"
             ],
             [
              0.1111111111111111,
              "#46039f"
             ],
             [
              0.2222222222222222,
              "#7201a8"
             ],
             [
              0.3333333333333333,
              "#9c179e"
             ],
             [
              0.4444444444444444,
              "#bd3786"
             ],
             [
              0.5555555555555556,
              "#d8576b"
             ],
             [
              0.6666666666666666,
              "#ed7953"
             ],
             [
              0.7777777777777778,
              "#fb9f3a"
             ],
             [
              0.8888888888888888,
              "#fdca26"
             ],
             [
              1,
              "#f0f921"
             ]
            ],
            "type": "histogram2dcontour"
           }
          ],
          "mesh3d": [
           {
            "colorbar": {
             "outlinewidth": 0,
             "ticks": ""
            },
            "type": "mesh3d"
           }
          ],
          "parcoords": [
           {
            "line": {
             "colorbar": {
              "outlinewidth": 0,
              "ticks": ""
             }
            },
            "type": "parcoords"
           }
          ],
          "pie": [
           {
            "automargin": true,
            "type": "pie"
           }
          ],
          "scatter": [
           {
            "fillpattern": {
             "fillmode": "overlay",
             "size": 10,
             "solidity": 0.2
            },
            "type": "scatter"
           }
          ],
          "scatter3d": [
           {
            "line": {
             "colorbar": {
              "outlinewidth": 0,
              "ticks": ""
             }
            },
            "marker": {
             "colorbar": {
              "outlinewidth": 0,
              "ticks": ""
             }
            },
            "type": "scatter3d"
           }
          ],
          "scattercarpet": [
           {
            "marker": {
             "colorbar": {
              "outlinewidth": 0,
              "ticks": ""
             }
            },
            "type": "scattercarpet"
           }
          ],
          "scattergeo": [
           {
            "marker": {
             "colorbar": {
              "outlinewidth": 0,
              "ticks": ""
             }
            },
            "type": "scattergeo"
           }
          ],
          "scattergl": [
           {
            "marker": {
             "colorbar": {
              "outlinewidth": 0,
              "ticks": ""
             }
            },
            "type": "scattergl"
           }
          ],
          "scattermapbox": [
           {
            "marker": {
             "colorbar": {
              "outlinewidth": 0,
              "ticks": ""
             }
            },
            "type": "scattermapbox"
           }
          ],
          "scatterpolar": [
           {
            "marker": {
             "colorbar": {
              "outlinewidth": 0,
              "ticks": ""
             }
            },
            "type": "scatterpolar"
           }
          ],
          "scatterpolargl": [
           {
            "marker": {
             "colorbar": {
              "outlinewidth": 0,
              "ticks": ""
             }
            },
            "type": "scatterpolargl"
           }
          ],
          "scatterternary": [
           {
            "marker": {
             "colorbar": {
              "outlinewidth": 0,
              "ticks": ""
             }
            },
            "type": "scatterternary"
           }
          ],
          "surface": [
           {
            "colorbar": {
             "outlinewidth": 0,
             "ticks": ""
            },
            "colorscale": [
             [
              0,
              "#0d0887"
             ],
             [
              0.1111111111111111,
              "#46039f"
             ],
             [
              0.2222222222222222,
              "#7201a8"
             ],
             [
              0.3333333333333333,
              "#9c179e"
             ],
             [
              0.4444444444444444,
              "#bd3786"
             ],
             [
              0.5555555555555556,
              "#d8576b"
             ],
             [
              0.6666666666666666,
              "#ed7953"
             ],
             [
              0.7777777777777778,
              "#fb9f3a"
             ],
             [
              0.8888888888888888,
              "#fdca26"
             ],
             [
              1,
              "#f0f921"
             ]
            ],
            "type": "surface"
           }
          ],
          "table": [
           {
            "cells": {
             "fill": {
              "color": "#EBF0F8"
             },
             "line": {
              "color": "white"
             }
            },
            "header": {
             "fill": {
              "color": "#C8D4E3"
             },
             "line": {
              "color": "white"
             }
            },
            "type": "table"
           }
          ]
         },
         "layout": {
          "annotationdefaults": {
           "arrowcolor": "#2a3f5f",
           "arrowhead": 0,
           "arrowwidth": 1
          },
          "autotypenumbers": "strict",
          "coloraxis": {
           "colorbar": {
            "outlinewidth": 0,
            "ticks": ""
           }
          },
          "colorscale": {
           "diverging": [
            [
             0,
             "#8e0152"
            ],
            [
             0.1,
             "#c51b7d"
            ],
            [
             0.2,
             "#de77ae"
            ],
            [
             0.3,
             "#f1b6da"
            ],
            [
             0.4,
             "#fde0ef"
            ],
            [
             0.5,
             "#f7f7f7"
            ],
            [
             0.6,
             "#e6f5d0"
            ],
            [
             0.7,
             "#b8e186"
            ],
            [
             0.8,
             "#7fbc41"
            ],
            [
             0.9,
             "#4d9221"
            ],
            [
             1,
             "#276419"
            ]
           ],
           "sequential": [
            [
             0,
             "#0d0887"
            ],
            [
             0.1111111111111111,
             "#46039f"
            ],
            [
             0.2222222222222222,
             "#7201a8"
            ],
            [
             0.3333333333333333,
             "#9c179e"
            ],
            [
             0.4444444444444444,
             "#bd3786"
            ],
            [
             0.5555555555555556,
             "#d8576b"
            ],
            [
             0.6666666666666666,
             "#ed7953"
            ],
            [
             0.7777777777777778,
             "#fb9f3a"
            ],
            [
             0.8888888888888888,
             "#fdca26"
            ],
            [
             1,
             "#f0f921"
            ]
           ],
           "sequentialminus": [
            [
             0,
             "#0d0887"
            ],
            [
             0.1111111111111111,
             "#46039f"
            ],
            [
             0.2222222222222222,
             "#7201a8"
            ],
            [
             0.3333333333333333,
             "#9c179e"
            ],
            [
             0.4444444444444444,
             "#bd3786"
            ],
            [
             0.5555555555555556,
             "#d8576b"
            ],
            [
             0.6666666666666666,
             "#ed7953"
            ],
            [
             0.7777777777777778,
             "#fb9f3a"
            ],
            [
             0.8888888888888888,
             "#fdca26"
            ],
            [
             1,
             "#f0f921"
            ]
           ]
          },
          "colorway": [
           "#636efa",
           "#EF553B",
           "#00cc96",
           "#ab63fa",
           "#FFA15A",
           "#19d3f3",
           "#FF6692",
           "#B6E880",
           "#FF97FF",
           "#FECB52"
          ],
          "font": {
           "color": "#2a3f5f"
          },
          "geo": {
           "bgcolor": "white",
           "lakecolor": "white",
           "landcolor": "#E5ECF6",
           "showlakes": true,
           "showland": true,
           "subunitcolor": "white"
          },
          "hoverlabel": {
           "align": "left"
          },
          "hovermode": "closest",
          "mapbox": {
           "style": "light"
          },
          "paper_bgcolor": "white",
          "plot_bgcolor": "#E5ECF6",
          "polar": {
           "angularaxis": {
            "gridcolor": "white",
            "linecolor": "white",
            "ticks": ""
           },
           "bgcolor": "#E5ECF6",
           "radialaxis": {
            "gridcolor": "white",
            "linecolor": "white",
            "ticks": ""
           }
          },
          "scene": {
           "xaxis": {
            "backgroundcolor": "#E5ECF6",
            "gridcolor": "white",
            "gridwidth": 2,
            "linecolor": "white",
            "showbackground": true,
            "ticks": "",
            "zerolinecolor": "white"
           },
           "yaxis": {
            "backgroundcolor": "#E5ECF6",
            "gridcolor": "white",
            "gridwidth": 2,
            "linecolor": "white",
            "showbackground": true,
            "ticks": "",
            "zerolinecolor": "white"
           },
           "zaxis": {
            "backgroundcolor": "#E5ECF6",
            "gridcolor": "white",
            "gridwidth": 2,
            "linecolor": "white",
            "showbackground": true,
            "ticks": "",
            "zerolinecolor": "white"
           }
          },
          "shapedefaults": {
           "line": {
            "color": "#2a3f5f"
           }
          },
          "ternary": {
           "aaxis": {
            "gridcolor": "white",
            "linecolor": "white",
            "ticks": ""
           },
           "baxis": {
            "gridcolor": "white",
            "linecolor": "white",
            "ticks": ""
           },
           "bgcolor": "#E5ECF6",
           "caxis": {
            "gridcolor": "white",
            "linecolor": "white",
            "ticks": ""
           }
          },
          "title": {
           "x": 0.05
          },
          "xaxis": {
           "automargin": true,
           "gridcolor": "white",
           "linecolor": "white",
           "ticks": "",
           "title": {
            "standoff": 15
           },
           "zerolinecolor": "white",
           "zerolinewidth": 2
          },
          "yaxis": {
           "automargin": true,
           "gridcolor": "white",
           "linecolor": "white",
           "ticks": "",
           "title": {
            "standoff": 15
           },
           "zerolinecolor": "white",
           "zerolinewidth": 2
          }
         }
        },
        "xaxis": {
         "anchor": "y",
         "autorange": true,
         "domain": [
          0,
          1
         ],
         "range": [
          6.938893903907228e-17,
          0.9
         ],
         "title": {
          "text": "fit_word2vec"
         },
         "type": "linear"
        },
        "yaxis": {
         "anchor": "x",
         "autorange": true,
         "domain": [
          0,
          1
         ],
         "range": [
          0,
          46.31578947368421
         ],
         "title": {
          "text": "count"
         }
        }
       }
      },
      "image/png": "[encoded data removed]",
      "text/html": [
       "<div>                            <div id=\"f48b5db3-972a-4ac6-b6d2-a24a4a19ab8b\" class=\"plotly-graph-div\" style=\"height:525px; width:100%;\"></div>            <script type=\"text/javascript\">                require([\"plotly\"], function(Plotly) {                    window.PLOTLYENV=window.PLOTLYENV || {};                                    if (document.getElementById(\"f48b5db3-972a-4ac6-b6d2-a24a4a19ab8b\")) {                    Plotly.newPlot(                        \"f48b5db3-972a-4ac6-b6d2-a24a4a19ab8b\",                        [{\"alignmentgroup\":\"True\",\"bingroup\":\"x\",\"hovertemplate\":\"fit_word2vec=%{x}\\u003cbr\\u003ecount=%{y}\\u003cextra\\u003e\\u003c\\u002fextra\\u003e\",\"legendgroup\":\"\",\"marker\":{\"color\":\"#636efa\",\"pattern\":{\"shape\":\"\"}},\"name\":\"\",\"offsetgroup\":\"\",\"orientation\":\"v\",\"showlegend\":false,\"x\":[0.07627495424138381,0.07624545828361275,0.8981737993176899,0.12240544390747199,0.05906428929285821,0.8736786236092046,0.06657410423879392,0.09936392983772649,0.06657410423879391,0.40850126022837174,0.141653057406952,0.04168312120859739,0.1281658612669031,0.07627495424138381,0.07627495424138381,0.07624545828361275,0.8981737993176899,0.12240544390747199,0.07627495424138381,0.07624545828361275,0.8981737993176899,0.12240544390747199,0.05906428929285821,0.8736786236092046,0.06657410423879392,0.09936392983772649,0.6286008163542762,0.6197969625360996,0.6286008163542762,0.6197969625360996,0.07627495424138381,0.07624545828361275,0.8981737993176899,0.12240544390747199,0.05906428929285821,0.8736786236092046,0.06657410423879392,0.09936392983772649,0.06657410423879392,0.40850126022837174,0.141653057406952,0.04168312120859739,0.1281658612669031,0.07627495424138381,0.07624545828361275,0.8981737993176899,0.12240544390747199,0.05906428929285821,0.8736786236092046,0.06657410423879392,0.09936392983772649,0.06657410423879392,0.40850126022837174,0.141653057406952,0.04168312120859739,0.1281658612669031,0.07627495424138381,0.8981737993176899,0.12240544390747199,0.8736786236092046,0.09936392983772649,0.40850126022837174,0.141653057406952,0.04168312120859739,0.1281658612669031,0.1062264171561432,0.1777031395470644,0.1511582472162803,0.41624301490073057,0.06893809563976128,0.16311606444163568,0.07489114731066737,0.5845687523777039,0.13421987621580447,0.04613577753603348,0.5511644183657021,0.1411597723193372,0.2025197594499062,0.062355061417511876,0.1354579572368143,0.47715736936954817,0.7318852995682665,0.08695767808381442,0.08996344045194257,0.05020011014593701,0.06195272275312825,0.15522931100311144,0.16998067920426718,0.5183222700548717,0.16212024947299308,0.0721077664623494,0.12563340919851232,0.0717446949507233,0.4719089013400199,0.14189149671436774,0.07743036291455976,0.8981737993176899,0.1310439753135674,0.6543869799922895,0.519155429274381,0.2025197594499062,0.15662535198051664,0.10505160507234126,0.04453473108247609],\"xaxis\":\"x\",\"yaxis\":\"y\",\"type\":\"histogram\"}],                        {\"template\":{\"data\":{\"histogram2dcontour\":[{\"type\":\"histogram2dcontour\",\"colorbar\":{\"outlinewidth\":0,\"ticks\":\"\"},\"colorscale\":[[0.0,\"#0d0887\"],[0.1111111111111111,\"#46039f\"],[0.2222222222222222,\"#7201a8\"],[0.3333333333333333,\"#9c179e\"],[0.4444444444444444,\"#bd3786\"],[0.5555555555555556,\"#d8576b\"],[0.6666666666666666,\"#ed7953\"],[0.7777777777777778,\"#fb9f3a\"],[0.8888888888888888,\"#fdca26\"],[1.0,\"#f0f921\"]]}],\"choropleth\":[{\"type\":\"choropleth\",\"colorbar\":{\"outlinewidth\":0,\"ticks\":\"\"}}],\"histogram2d\":[{\"type\":\"histogram2d\",\"colorbar\":{\"outlinewidth\":0,\"ticks\":\"\"},\"colorscale\":[[0.0,\"#0d0887\"],[0.1111111111111111,\"#46039f\"],[0.2222222222222222,\"#7201a8\"],[0.3333333333333333,\"#9c179e\"],[0.4444444444444444,\"#bd3786\"],[0.5555555555555556,\"#d8576b\"],[0.6666666666666666,\"#ed7953\"],[0.7777777777777778,\"#fb9f3a\"],[0.8888888888888888,\"#fdca26\"],[1.0,\"#f0f921\"]]}],\"heatmap\":[{\"type\":\"heatmap\",\"colorbar\":{\"outlinewidth\":0,\"ticks\":\"\"},\"colorscale\":[[0.0,\"#0d0887\"],[0.1111111111111111,\"#46039f\"],[0.2222222222222222,\"#7201a8\"],[0.3333333333333333,\"#9c179e\"],[0.4444444444444444,\"#bd3786\"],[0.5555555555555556,\"#d8576b\"],[0.6666666666666666,\"#ed7953\"],[0.7777777777777778,\"#fb9f3a\"],[0.8888888888888888,\"#fdca26\"],[1.0,\"#f0f921\"]]}],\"heatmapgl\":[{\"type\":\"heatmapgl\",\"colorbar\":{\"outlinewidth\":0,\"ticks\":\"\"},\"colorscale\":[[0.0,\"#0d0887\"],[0.1111111111111111,\"#46039f\"],[0.2222222222222222,\"#7201a8\"],[0.3333333333333333,\"#9c179e\"],[0.4444444444444444,\"#bd3786\"],[0.5555555555555556,\"#d8576b\"],[0.6666666666666666,\"#ed7953\"],[0.7777777777777778,\"#fb9f3a\"],[0.8888888888888888,\"#fdca26\"],[1.0,\"#f0f921\"]]}],\"contourcarpet\":[{\"type\":\"contourcarpet\",\"colorbar\":{\"outlinewidth\":0,\"ticks\":\"\"}}],\"contour\":[{\"type\":\"contour\",\"colorbar\":{\"outlinewidth\":0,\"ticks\":\"\"},\"colorscale\":[[0.0,\"#0d0887\"],[0.1111111111111111,\"#46039f\"],[0.2222222222222222,\"#7201a8\"],[0.3333333333333333,\"#9c179e\"],[0.4444444444444444,\"#bd3786\"],[0.5555555555555556,\"#d8576b\"],[0.6666666666666666,\"#ed7953\"],[0.7777777777777778,\"#fb9f3a\"],[0.8888888888888888,\"#fdca26\"],[1.0,\"#f0f921\"]]}],\"surface\":[{\"type\":\"surface\",\"colorbar\":{\"outlinewidth\":0,\"ticks\":\"\"},\"colorscale\":[[0.0,\"#0d0887\"],[0.1111111111111111,\"#46039f\"],[0.2222222222222222,\"#7201a8\"],[0.3333333333333333,\"#9c179e\"],[0.4444444444444444,\"#bd3786\"],[0.5555555555555556,\"#d8576b\"],[0.6666666666666666,\"#ed7953\"],[0.7777777777777778,\"#fb9f3a\"],[0.8888888888888888,\"#fdca26\"],[1.0,\"#f0f921\"]]}],\"mesh3d\":[{\"type\":\"mesh3d\",\"colorbar\":{\"outlinewidth\":0,\"ticks\":\"\"}}],\"scatter\":[{\"fillpattern\":{\"fillmode\":\"overlay\",\"size\":10,\"solidity\":0.2},\"type\":\"scatter\"}],\"parcoords\":[{\"type\":\"parcoords\",\"line\":{\"colorbar\":{\"outlinewidth\":0,\"ticks\":\"\"}}}],\"scatterpolargl\":[{\"type\":\"scatterpolargl\",\"marker\":{\"colorbar\":{\"outlinewidth\":0,\"ticks\":\"\"}}}],\"bar\":[{\"error_x\":{\"color\":\"#2a3f5f\"},\"error_y\":{\"color\":\"#2a3f5f\"},\"marker\":{\"line\":{\"color\":\"#E5ECF6\",\"width\":0.5},\"pattern\":{\"fillmode\":\"overlay\",\"size\":10,\"solidity\":0.2}},\"type\":\"bar\"}],\"scattergeo\":[{\"type\":\"scattergeo\",\"marker\":{\"colorbar\":{\"outlinewidth\":0,\"ticks\":\"\"}}}],\"scatterpolar\":[{\"type\":\"scatterpolar\",\"marker\":{\"colorbar\":{\"outlinewidth\":0,\"ticks\":\"\"}}}],\"histogram\":[{\"marker\":{\"pattern\":{\"fillmode\":\"overlay\",\"size\":10,\"solidity\":0.2}},\"type\":\"histogram\"}],\"scattergl\":[{\"type\":\"scattergl\",\"marker\":{\"colorbar\":{\"outlinewidth\":0,\"ticks\":\"\"}}}],\"scatter3d\":[{\"type\":\"scatter3d\",\"line\":{\"colorbar\":{\"outlinewidth\":0,\"ticks\":\"\"}},\"marker\":{\"colorbar\":{\"outlinewidth\":0,\"ticks\":\"\"}}}],\"scattermapbox\":[{\"type\":\"scattermapbox\",\"marker\":{\"colorbar\":{\"outlinewidth\":0,\"ticks\":\"\"}}}],\"scatterternary\":[{\"type\":\"scatterternary\",\"marker\":{\"colorbar\":{\"outlinewidth\":0,\"ticks\":\"\"}}}],\"scattercarpet\":[{\"type\":\"scattercarpet\",\"marker\":{\"colorbar\":{\"outlinewidth\":0,\"ticks\":\"\"}}}],\"carpet\":[{\"aaxis\":{\"endlinecolor\":\"#2a3f5f\",\"gridcolor\":\"white\",\"linecolor\":\"white\",\"minorgridcolor\":\"white\",\"startlinecolor\":\"#2a3f5f\"},\"baxis\":{\"endlinecolor\":\"#2a3f5f\",\"gridcolor\":\"white\",\"linecolor\":\"white\",\"minorgridcolor\":\"white\",\"startlinecolor\":\"#2a3f5f\"},\"type\":\"carpet\"}],\"table\":[{\"cells\":{\"fill\":{\"color\":\"#EBF0F8\"},\"line\":{\"color\":\"white\"}},\"header\":{\"fill\":{\"color\":\"#C8D4E3\"},\"line\":{\"color\":\"white\"}},\"type\":\"table\"}],\"barpolar\":[{\"marker\":{\"line\":{\"color\":\"#E5ECF6\",\"width\":0.5},\"pattern\":{\"fillmode\":\"overlay\",\"size\":10,\"solidity\":0.2}},\"type\":\"barpolar\"}],\"pie\":[{\"automargin\":true,\"type\":\"pie\"}]},\"layout\":{\"autotypenumbers\":\"strict\",\"colorway\":[\"#636efa\",\"#EF553B\",\"#00cc96\",\"#ab63fa\",\"#FFA15A\",\"#19d3f3\",\"#FF6692\",\"#B6E880\",\"#FF97FF\",\"#FECB52\"],\"font\":{\"color\":\"#2a3f5f\"},\"hovermode\":\"closest\",\"hoverlabel\":{\"align\":\"left\"},\"paper_bgcolor\":\"white\",\"plot_bgcolor\":\"#E5ECF6\",\"polar\":{\"bgcolor\":\"#E5ECF6\",\"angularaxis\":{\"gridcolor\":\"white\",\"linecolor\":\"white\",\"ticks\":\"\"},\"radialaxis\":{\"gridcolor\":\"white\",\"linecolor\":\"white\",\"ticks\":\"\"}},\"ternary\":{\"bgcolor\":\"#E5ECF6\",\"aaxis\":{\"gridcolor\":\"white\",\"linecolor\":\"white\",\"ticks\":\"\"},\"baxis\":{\"gridcolor\":\"white\",\"linecolor\":\"white\",\"ticks\":\"\"},\"caxis\":{\"gridcolor\":\"white\",\"linecolor\":\"white\",\"ticks\":\"\"}},\"coloraxis\":{\"colorbar\":{\"outlinewidth\":0,\"ticks\":\"\"}},\"colorscale\":{\"sequential\":[[0.0,\"#0d0887\"],[0.1111111111111111,\"#46039f\"],[0.2222222222222222,\"#7201a8\"],[0.3333333333333333,\"#9c179e\"],[0.4444444444444444,\"#bd3786\"],[0.5555555555555556,\"#d8576b\"],[0.6666666666666666,\"#ed7953\"],[0.7777777777777778,\"#fb9f3a\"],[0.8888888888888888,\"#fdca26\"],[1.0,\"#f0f921\"]],\"sequentialminus\":[[0.0,\"#0d0887\"],[0.1111111111111111,\"#46039f\"],[0.2222222222222222,\"#7201a8\"],[0.3333333333333333,\"#9c179e\"],[0.4444444444444444,\"#bd3786\"],[0.5555555555555556,\"#d8576b\"],[0.6666666666666666,\"#ed7953\"],[0.7777777777777778,\"#fb9f3a\"],[0.8888888888888888,\"#fdca26\"],[1.0,\"#f0f921\"]],\"diverging\":[[0,\"#8e0152\"],[0.1,\"#c51b7d\"],[0.2,\"#de77ae\"],[0.3,\"#f1b6da\"],[0.4,\"#fde0ef\"],[0.5,\"#f7f7f7\"],[0.6,\"#e6f5d0\"],[0.7,\"#b8e186\"],[0.8,\"#7fbc41\"],[0.9,\"#4d9221\"],[1,\"#276419\"]]},\"xaxis\":{\"gridcolor\":\"white\",\"linecolor\":\"white\",\"ticks\":\"\",\"title\":{\"standoff\":15},\"zerolinecolor\":\"white\",\"automargin\":true,\"zerolinewidth\":2},\"yaxis\":{\"gridcolor\":\"white\",\"linecolor\":\"white\",\"ticks\":\"\",\"title\":{\"standoff\":15},\"zerolinecolor\":\"white\",\"automargin\":true,\"zerolinewidth\":2},\"scene\":{\"xaxis\":{\"backgroundcolor\":\"#E5ECF6\",\"gridcolor\":\"white\",\"linecolor\":\"white\",\"showbackground\":true,\"ticks\":\"\",\"zerolinecolor\":\"white\",\"gridwidth\":2},\"yaxis\":{\"backgroundcolor\":\"#E5ECF6\",\"gridcolor\":\"white\",\"linecolor\":\"white\",\"showbackground\":true,\"ticks\":\"\",\"zerolinecolor\":\"white\",\"gridwidth\":2},\"zaxis\":{\"backgroundcolor\":\"#E5ECF6\",\"gridcolor\":\"white\",\"linecolor\":\"white\",\"showbackground\":true,\"ticks\":\"\",\"zerolinecolor\":\"white\",\"gridwidth\":2}},\"shapedefaults\":{\"line\":{\"color\":\"#2a3f5f\"}},\"annotationdefaults\":{\"arrowcolor\":\"#2a3f5f\",\"arrowhead\":0,\"arrowwidth\":1},\"geo\":{\"bgcolor\":\"white\",\"landcolor\":\"#E5ECF6\",\"subunitcolor\":\"white\",\"showland\":true,\"showlakes\":true,\"lakecolor\":\"white\"},\"title\":{\"x\":0.05},\"mapbox\":{\"style\":\"light\"}}},\"xaxis\":{\"anchor\":\"y\",\"domain\":[0.0,1.0],\"title\":{\"text\":\"fit_word2vec\"}},\"yaxis\":{\"anchor\":\"x\",\"domain\":[0.0,1.0],\"title\":{\"text\":\"count\"}},\"legend\":{\"tracegroupgap\":0},\"margin\":{\"t\":60},\"barmode\":\"relative\"},                        {\"responsive\": true}                    ).then(function(){\n",
       "                            \n",
       "var gd = document.getElementById('f48b5db3-972a-4ac6-b6d2-a24a4a19ab8b');\n",
       "var x = new MutationObserver(function (mutations, observer) {{\n",
       "        var display = window.getComputedStyle(gd).display;\n",
       "        if (!display || display === 'none') {{\n",
       "            console.log([gd, 'removed!']);\n",
       "            Plotly.purge(gd);\n",
       "            observer.disconnect();\n",
       "        }}\n",
       "}});\n",
       "\n",
       "// Listen for the removal of the full notebook cells\n",
       "var notebookContainer = gd.closest('#notebook-container');\n",
       "if (notebookContainer) {{\n",
       "    x.observe(notebookContainer, {childList: true});\n",
       "}}\n",
       "\n",
       "// Listen for the clearing of the current output cell\n",
       "var outputEl = gd.closest('.output');\n",
       "if (outputEl) {{\n",
       "    x.observe(outputEl, {childList: true});\n",
       "}}\n",
       "\n",
       "                        })                };                });            </script>        </div>"
      ]
     },
     "metadata": {},
     "output_type": "display_data"
    }
   ],
   "source": [
    "fig = px.histogram(df['fit_word2vec'], x=\"fit_word2vec\")\n",
    "fig"
   ]
  },
  {
   "cell_type": "code",
   "execution_count": 200,
   "id": "4f92fe1e-ae2f-4ff3-a758-5179a725d019",
   "metadata": {},
   "outputs": [],
   "source": [
    "query = \"seeking human resources\"\n",
    "cos_sim_w2v = get_w2v_query_similarity(document_word_embeddings, [query])\n",
    "df['fit_word2vec'] = cos_sim_w2v\n"
   ]
  },
  {
   "cell_type": "code",
   "execution_count": 201,
   "id": "b9aa0852-cdb0-4028-8f52-91fa304570b1",
   "metadata": {},
   "outputs": [
    {
     "data": {
      "text/html": [
       "<div>\n",
       "<style scoped>\n",
       "    .dataframe tbody tr th:only-of-type {\n",
       "        vertical-align: middle;\n",
       "    }\n",
       "\n",
       "    .dataframe tbody tr th {\n",
       "        vertical-align: top;\n",
       "    }\n",
       "\n",
       "    .dataframe thead th {\n",
       "        text-align: right;\n",
       "    }\n",
       "</style>\n",
       "<table border=\"1\" class=\"dataframe\">\n",
       "  <thead>\n",
       "    <tr style=\"text-align: right;\">\n",
       "      <th></th>\n",
       "      <th>job_title</th>\n",
       "      <th>location</th>\n",
       "      <th>connection</th>\n",
       "      <th>fit_word2vec</th>\n",
       "    </tr>\n",
       "    <tr>\n",
       "      <th>id</th>\n",
       "      <th></th>\n",
       "      <th></th>\n",
       "      <th></th>\n",
       "      <th></th>\n",
       "    </tr>\n",
       "  </thead>\n",
       "  <tbody>\n",
       "    <tr>\n",
       "      <th>99</th>\n",
       "      <td>seeking human resources position</td>\n",
       "      <td>Las Vegas, Nevada Area</td>\n",
       "      <td>48</td>\n",
       "      <td>0.886226</td>\n",
       "    </tr>\n",
       "    <tr>\n",
       "      <th>30</th>\n",
       "      <td>seeking human resources opportunities</td>\n",
       "      <td>Chicago, Illinois</td>\n",
       "      <td>390</td>\n",
       "      <td>0.839381</td>\n",
       "    </tr>\n",
       "    <tr>\n",
       "      <th>28</th>\n",
       "      <td>seeking human resources opportunities</td>\n",
       "      <td>Chicago, Illinois</td>\n",
       "      <td>390</td>\n",
       "      <td>0.839381</td>\n",
       "    </tr>\n",
       "    <tr>\n",
       "      <th>3</th>\n",
       "      <td>aspiring human resources professional</td>\n",
       "      <td>Raleigh-Durham, North Carolina Area</td>\n",
       "      <td>44</td>\n",
       "      <td>0.663209</td>\n",
       "    </tr>\n",
       "    <tr>\n",
       "      <th>58</th>\n",
       "      <td>aspiring human resources professional</td>\n",
       "      <td>Raleigh-Durham, North Carolina Area</td>\n",
       "      <td>44</td>\n",
       "      <td>0.663209</td>\n",
       "    </tr>\n",
       "    <tr>\n",
       "      <th>17</th>\n",
       "      <td>aspiring human resources professional</td>\n",
       "      <td>Raleigh-Durham, North Carolina Area</td>\n",
       "      <td>44</td>\n",
       "      <td>0.663209</td>\n",
       "    </tr>\n",
       "    <tr>\n",
       "      <th>33</th>\n",
       "      <td>aspiring human resources professional</td>\n",
       "      <td>Raleigh-Durham, North Carolina Area</td>\n",
       "      <td>44</td>\n",
       "      <td>0.663209</td>\n",
       "    </tr>\n",
       "    <tr>\n",
       "      <th>46</th>\n",
       "      <td>aspiring human resources professional</td>\n",
       "      <td>Raleigh-Durham, North Carolina Area</td>\n",
       "      <td>44</td>\n",
       "      <td>0.663209</td>\n",
       "    </tr>\n",
       "    <tr>\n",
       "      <th>97</th>\n",
       "      <td>aspiring human resources professional</td>\n",
       "      <td>Kokomo, Indiana Area</td>\n",
       "      <td>71</td>\n",
       "      <td>0.663209</td>\n",
       "    </tr>\n",
       "    <tr>\n",
       "      <th>21</th>\n",
       "      <td>aspiring human resources professional</td>\n",
       "      <td>Raleigh-Durham, North Carolina Area</td>\n",
       "      <td>44</td>\n",
       "      <td>0.663209</td>\n",
       "    </tr>\n",
       "    <tr>\n",
       "      <th>36</th>\n",
       "      <td>aspiring human resources specialist</td>\n",
       "      <td>Greater New York City Area</td>\n",
       "      <td>1</td>\n",
       "      <td>0.645122</td>\n",
       "    </tr>\n",
       "    <tr>\n",
       "      <th>49</th>\n",
       "      <td>aspiring human resources specialist</td>\n",
       "      <td>Greater New York City Area</td>\n",
       "      <td>1</td>\n",
       "      <td>0.645122</td>\n",
       "    </tr>\n",
       "    <tr>\n",
       "      <th>60</th>\n",
       "      <td>aspiring human resources specialist</td>\n",
       "      <td>Greater New York City Area</td>\n",
       "      <td>1</td>\n",
       "      <td>0.645122</td>\n",
       "    </tr>\n",
       "    <tr>\n",
       "      <th>6</th>\n",
       "      <td>aspiring human resources specialist</td>\n",
       "      <td>Greater New York City Area</td>\n",
       "      <td>1</td>\n",
       "      <td>0.645122</td>\n",
       "    </tr>\n",
       "    <tr>\n",
       "      <th>24</th>\n",
       "      <td>aspiring human resources specialist</td>\n",
       "      <td>Greater New York City Area</td>\n",
       "      <td>1</td>\n",
       "      <td>0.645122</td>\n",
       "    </tr>\n",
       "    <tr>\n",
       "      <th>94</th>\n",
       "      <td>seeking human resources opportunities open tra...</td>\n",
       "      <td>Amerika Birleşik Devletleri</td>\n",
       "      <td>415</td>\n",
       "      <td>0.639099</td>\n",
       "    </tr>\n",
       "    <tr>\n",
       "      <th>89</th>\n",
       "      <td>director human resources ey</td>\n",
       "      <td>Greater Atlanta Area</td>\n",
       "      <td>349</td>\n",
       "      <td>0.571728</td>\n",
       "    </tr>\n",
       "    <tr>\n",
       "      <th>40</th>\n",
       "      <td>seeking human resources human resources inform...</td>\n",
       "      <td>Greater Philadelphia Area</td>\n",
       "      <td>500</td>\n",
       "      <td>0.553227</td>\n",
       "    </tr>\n",
       "    <tr>\n",
       "      <th>62</th>\n",
       "      <td>seeking human resources human resources inform...</td>\n",
       "      <td>Greater Philadelphia Area</td>\n",
       "      <td>500</td>\n",
       "      <td>0.553227</td>\n",
       "    </tr>\n",
       "    <tr>\n",
       "      <th>53</th>\n",
       "      <td>seeking human resources human resources inform...</td>\n",
       "      <td>Greater Philadelphia Area</td>\n",
       "      <td>500</td>\n",
       "      <td>0.553227</td>\n",
       "    </tr>\n",
       "    <tr>\n",
       "      <th>10</th>\n",
       "      <td>seeking human resources human resources inform...</td>\n",
       "      <td>Greater Philadelphia Area</td>\n",
       "      <td>500</td>\n",
       "      <td>0.553227</td>\n",
       "    </tr>\n",
       "    <tr>\n",
       "      <th>82</th>\n",
       "      <td>aspiring human resources professional energeti...</td>\n",
       "      <td>Austin, Texas Area</td>\n",
       "      <td>174</td>\n",
       "      <td>0.540422</td>\n",
       "    </tr>\n",
       "    <tr>\n",
       "      <th>81</th>\n",
       "      <td>senior human resources business partner heil e...</td>\n",
       "      <td>Chattanooga, Tennessee Area</td>\n",
       "      <td>455</td>\n",
       "      <td>0.470671</td>\n",
       "    </tr>\n",
       "    <tr>\n",
       "      <th>27</th>\n",
       "      <td>aspiring human resources management student se...</td>\n",
       "      <td>Houston, Texas Area</td>\n",
       "      <td>500</td>\n",
       "      <td>0.464157</td>\n",
       "    </tr>\n",
       "    <tr>\n",
       "      <th>29</th>\n",
       "      <td>aspiring human resources management student se...</td>\n",
       "      <td>Houston, Texas Area</td>\n",
       "      <td>500</td>\n",
       "      <td>0.464157</td>\n",
       "    </tr>\n",
       "    <tr>\n",
       "      <th>69</th>\n",
       "      <td>director human resources north america groupe ...</td>\n",
       "      <td>Greater Grand Rapids, Michigan Area</td>\n",
       "      <td>500</td>\n",
       "      <td>0.459131</td>\n",
       "    </tr>\n",
       "    <tr>\n",
       "      <th>73</th>\n",
       "      <td>aspiring human resources manager seeking inter...</td>\n",
       "      <td>Houston, Texas Area</td>\n",
       "      <td>7</td>\n",
       "      <td>0.431644</td>\n",
       "    </tr>\n",
       "    <tr>\n",
       "      <th>76</th>\n",
       "      <td>aspiring human resources professional passiona...</td>\n",
       "      <td>New York, New York</td>\n",
       "      <td>212</td>\n",
       "      <td>0.406978</td>\n",
       "    </tr>\n",
       "    <tr>\n",
       "      <th>100</th>\n",
       "      <td>aspiring human resources manager graduating ma...</td>\n",
       "      <td>Cape Girardeau, Missouri</td>\n",
       "      <td>103</td>\n",
       "      <td>0.383343</td>\n",
       "    </tr>\n",
       "    <tr>\n",
       "      <th>92</th>\n",
       "      <td>seeking employment opportunity within customer...</td>\n",
       "      <td>Torrance, California</td>\n",
       "      <td>64</td>\n",
       "      <td>0.274850</td>\n",
       "    </tr>\n",
       "    <tr>\n",
       "      <th>101</th>\n",
       "      <td>human resources generalist loparex</td>\n",
       "      <td>Raleigh-Durham, North Carolina Area</td>\n",
       "      <td>500</td>\n",
       "      <td>0.204287</td>\n",
       "    </tr>\n",
       "    <tr>\n",
       "      <th>78</th>\n",
       "      <td>human resources generalist schwan</td>\n",
       "      <td>Amerika Birleşik Devletleri</td>\n",
       "      <td>500</td>\n",
       "      <td>0.204287</td>\n",
       "    </tr>\n",
       "    <tr>\n",
       "      <th>67</th>\n",
       "      <td>human resources staffing recruiting professional</td>\n",
       "      <td>Jackson, Mississippi Area</td>\n",
       "      <td>500</td>\n",
       "      <td>0.179637</td>\n",
       "    </tr>\n",
       "    <tr>\n",
       "      <th>88</th>\n",
       "      <td>human resources management major</td>\n",
       "      <td>Milpitas, California</td>\n",
       "      <td>18</td>\n",
       "      <td>0.170611</td>\n",
       "    </tr>\n",
       "    <tr>\n",
       "      <th>71</th>\n",
       "      <td>human resources generalist scottmadden inc</td>\n",
       "      <td>Raleigh-Durham, North Carolina Area</td>\n",
       "      <td>500</td>\n",
       "      <td>0.164539</td>\n",
       "    </tr>\n",
       "    <tr>\n",
       "      <th>102</th>\n",
       "      <td>business intelligence analytics travelers</td>\n",
       "      <td>Greater New York City Area</td>\n",
       "      <td>49</td>\n",
       "      <td>0.156992</td>\n",
       "    </tr>\n",
       "    <tr>\n",
       "      <th>68</th>\n",
       "      <td>human resources specialist luxottica</td>\n",
       "      <td>Greater New York City Area</td>\n",
       "      <td>500</td>\n",
       "      <td>0.150797</td>\n",
       "    </tr>\n",
       "    <tr>\n",
       "      <th>77</th>\n",
       "      <td>human conflict policies compensation</td>\n",
       "      <td>Dallas/Fort Worth Area</td>\n",
       "      <td>409</td>\n",
       "      <td>0.141573</td>\n",
       "    </tr>\n",
       "    <tr>\n",
       "      <th>74</th>\n",
       "      <td>human resources professional</td>\n",
       "      <td>Greater Boston Area</td>\n",
       "      <td>16</td>\n",
       "      <td>0.133104</td>\n",
       "    </tr>\n",
       "    <tr>\n",
       "      <th>13</th>\n",
       "      <td>human resources coordinator intercontinental b...</td>\n",
       "      <td>Atlanta, Georgia</td>\n",
       "      <td>500</td>\n",
       "      <td>0.128777</td>\n",
       "    </tr>\n",
       "    <tr>\n",
       "      <th>56</th>\n",
       "      <td>human resources coordinator intercontinental b...</td>\n",
       "      <td>Atlanta, Georgia</td>\n",
       "      <td>500</td>\n",
       "      <td>0.128777</td>\n",
       "    </tr>\n",
       "    <tr>\n",
       "      <th>65</th>\n",
       "      <td>human resources coordinator intercontinental b...</td>\n",
       "      <td>Atlanta, Georgia</td>\n",
       "      <td>500</td>\n",
       "      <td>0.128777</td>\n",
       "    </tr>\n",
       "    <tr>\n",
       "      <th>43</th>\n",
       "      <td>human resources coordinator intercontinental b...</td>\n",
       "      <td>Atlanta, Georgia</td>\n",
       "      <td>500</td>\n",
       "      <td>0.128777</td>\n",
       "    </tr>\n",
       "    <tr>\n",
       "      <th>34</th>\n",
       "      <td>people development coordinator ryan</td>\n",
       "      <td>Denton, Texas</td>\n",
       "      <td>500</td>\n",
       "      <td>0.125992</td>\n",
       "    </tr>\n",
       "    <tr>\n",
       "      <th>4</th>\n",
       "      <td>people development coordinator ryan</td>\n",
       "      <td>Denton, Texas</td>\n",
       "      <td>500</td>\n",
       "      <td>0.125992</td>\n",
       "    </tr>\n",
       "    <tr>\n",
       "      <th>18</th>\n",
       "      <td>people development coordinator ryan</td>\n",
       "      <td>Denton, Texas</td>\n",
       "      <td>500</td>\n",
       "      <td>0.125992</td>\n",
       "    </tr>\n",
       "    <tr>\n",
       "      <th>47</th>\n",
       "      <td>people development coordinator ryan</td>\n",
       "      <td>Denton, Texas</td>\n",
       "      <td>500</td>\n",
       "      <td>0.125992</td>\n",
       "    </tr>\n",
       "    <tr>\n",
       "      <th>22</th>\n",
       "      <td>people development coordinator ryan</td>\n",
       "      <td>Denton, Texas</td>\n",
       "      <td>500</td>\n",
       "      <td>0.125992</td>\n",
       "    </tr>\n",
       "    <tr>\n",
       "      <th>59</th>\n",
       "      <td>people development coordinator ryan</td>\n",
       "      <td>Denton, Texas</td>\n",
       "      <td>500</td>\n",
       "      <td>0.125992</td>\n",
       "    </tr>\n",
       "    <tr>\n",
       "      <th>87</th>\n",
       "      <td>bachelor science biology victoria university w...</td>\n",
       "      <td>Baltimore, Maryland</td>\n",
       "      <td>40</td>\n",
       "      <td>0.115211</td>\n",
       "    </tr>\n",
       "  </tbody>\n",
       "</table>\n",
       "</div>"
      ],
      "text/plain": [
       "                                             job_title  \\\n",
       "id                                                       \n",
       "99                    seeking human resources position   \n",
       "30               seeking human resources opportunities   \n",
       "28               seeking human resources opportunities   \n",
       "3                aspiring human resources professional   \n",
       "58               aspiring human resources professional   \n",
       "17               aspiring human resources professional   \n",
       "33               aspiring human resources professional   \n",
       "46               aspiring human resources professional   \n",
       "97               aspiring human resources professional   \n",
       "21               aspiring human resources professional   \n",
       "36                 aspiring human resources specialist   \n",
       "49                 aspiring human resources specialist   \n",
       "60                 aspiring human resources specialist   \n",
       "6                  aspiring human resources specialist   \n",
       "24                 aspiring human resources specialist   \n",
       "94   seeking human resources opportunities open tra...   \n",
       "89                         director human resources ey   \n",
       "40   seeking human resources human resources inform...   \n",
       "62   seeking human resources human resources inform...   \n",
       "53   seeking human resources human resources inform...   \n",
       "10   seeking human resources human resources inform...   \n",
       "82   aspiring human resources professional energeti...   \n",
       "81   senior human resources business partner heil e...   \n",
       "27   aspiring human resources management student se...   \n",
       "29   aspiring human resources management student se...   \n",
       "69   director human resources north america groupe ...   \n",
       "73   aspiring human resources manager seeking inter...   \n",
       "76   aspiring human resources professional passiona...   \n",
       "100  aspiring human resources manager graduating ma...   \n",
       "92   seeking employment opportunity within customer...   \n",
       "101                 human resources generalist loparex   \n",
       "78                   human resources generalist schwan   \n",
       "67    human resources staffing recruiting professional   \n",
       "88                    human resources management major   \n",
       "71          human resources generalist scottmadden inc   \n",
       "102          business intelligence analytics travelers   \n",
       "68                human resources specialist luxottica   \n",
       "77                human conflict policies compensation   \n",
       "74                        human resources professional   \n",
       "13   human resources coordinator intercontinental b...   \n",
       "56   human resources coordinator intercontinental b...   \n",
       "65   human resources coordinator intercontinental b...   \n",
       "43   human resources coordinator intercontinental b...   \n",
       "34                 people development coordinator ryan   \n",
       "4                  people development coordinator ryan   \n",
       "18                 people development coordinator ryan   \n",
       "47                 people development coordinator ryan   \n",
       "22                 people development coordinator ryan   \n",
       "59                 people development coordinator ryan   \n",
       "87   bachelor science biology victoria university w...   \n",
       "\n",
       "                                location  connection  fit_word2vec  \n",
       "id                                                                  \n",
       "99                Las Vegas, Nevada Area          48      0.886226  \n",
       "30                     Chicago, Illinois         390      0.839381  \n",
       "28                     Chicago, Illinois         390      0.839381  \n",
       "3    Raleigh-Durham, North Carolina Area          44      0.663209  \n",
       "58   Raleigh-Durham, North Carolina Area          44      0.663209  \n",
       "17   Raleigh-Durham, North Carolina Area          44      0.663209  \n",
       "33   Raleigh-Durham, North Carolina Area          44      0.663209  \n",
       "46   Raleigh-Durham, North Carolina Area          44      0.663209  \n",
       "97                  Kokomo, Indiana Area          71      0.663209  \n",
       "21   Raleigh-Durham, North Carolina Area          44      0.663209  \n",
       "36            Greater New York City Area           1      0.645122  \n",
       "49            Greater New York City Area           1      0.645122  \n",
       "60            Greater New York City Area           1      0.645122  \n",
       "6             Greater New York City Area           1      0.645122  \n",
       "24            Greater New York City Area           1      0.645122  \n",
       "94           Amerika Birleşik Devletleri         415      0.639099  \n",
       "89                  Greater Atlanta Area         349      0.571728  \n",
       "40             Greater Philadelphia Area         500      0.553227  \n",
       "62             Greater Philadelphia Area         500      0.553227  \n",
       "53             Greater Philadelphia Area         500      0.553227  \n",
       "10             Greater Philadelphia Area         500      0.553227  \n",
       "82                    Austin, Texas Area         174      0.540422  \n",
       "81           Chattanooga, Tennessee Area         455      0.470671  \n",
       "27                   Houston, Texas Area         500      0.464157  \n",
       "29                   Houston, Texas Area         500      0.464157  \n",
       "69   Greater Grand Rapids, Michigan Area         500      0.459131  \n",
       "73                   Houston, Texas Area           7      0.431644  \n",
       "76                    New York, New York         212      0.406978  \n",
       "100             Cape Girardeau, Missouri         103      0.383343  \n",
       "92                  Torrance, California          64      0.274850  \n",
       "101  Raleigh-Durham, North Carolina Area         500      0.204287  \n",
       "78           Amerika Birleşik Devletleri         500      0.204287  \n",
       "67             Jackson, Mississippi Area         500      0.179637  \n",
       "88                  Milpitas, California          18      0.170611  \n",
       "71   Raleigh-Durham, North Carolina Area         500      0.164539  \n",
       "102           Greater New York City Area          49      0.156992  \n",
       "68            Greater New York City Area         500      0.150797  \n",
       "77                Dallas/Fort Worth Area         409      0.141573  \n",
       "74                   Greater Boston Area          16      0.133104  \n",
       "13                      Atlanta, Georgia         500      0.128777  \n",
       "56                      Atlanta, Georgia         500      0.128777  \n",
       "65                      Atlanta, Georgia         500      0.128777  \n",
       "43                      Atlanta, Georgia         500      0.128777  \n",
       "34                         Denton, Texas         500      0.125992  \n",
       "4                          Denton, Texas         500      0.125992  \n",
       "18                         Denton, Texas         500      0.125992  \n",
       "47                         Denton, Texas         500      0.125992  \n",
       "22                         Denton, Texas         500      0.125992  \n",
       "59                         Denton, Texas         500      0.125992  \n",
       "87                   Baltimore, Maryland          40      0.115211  "
      ]
     },
     "execution_count": 201,
     "metadata": {},
     "output_type": "execute_result"
    }
   ],
   "source": [
    "top_candidates(n = 50, by = 'fit_word2vec', ascending = False, min_con = 0)"
   ]
  },
  {
   "cell_type": "code",
   "execution_count": 202,
   "id": "74247b8d-8ceb-4003-8605-5d83bed08ab2",
   "metadata": {},
   "outputs": [
    {
     "data": {
      "application/vnd.plotly.v1+json": {
       "config": {
        "plotlyServerURL": "https://plot.ly"
       },
       "data": [
        {
         "alignmentgroup": "True",
         "bingroup": "x",
         "hovertemplate": "fit_word2vec=%{x}<br>count=%{y}<extra></extra>",
         "legendgroup": "",
         "marker": {
          "color": "#636efa",
          "pattern": {
           "shape": ""
          }
         },
         "name": "",
         "offsetgroup": "",
         "orientation": "v",
         "showlegend": false,
         "type": "histogram",
         "x": [
          0.027578154566668386,
          0.05005326770951392,
          0.6632093846737732,
          0.12599213060069525,
          0.07578608629662187,
          0.6451222055315607,
          0.02239507915312239,
          0.09795688231159412,
          0.022395079153122388,
          0.5532266843688567,
          0.07010891089493917,
          0.03223548706705445,
          0.12877664276851442,
          0.027578154566668386,
          0.027578154566668386,
          0.05005326770951392,
          0.6632093846737732,
          0.12599213060069525,
          0.027578154566668386,
          0.05005326770951392,
          0.6632093846737732,
          0.12599213060069525,
          0.07578608629662187,
          0.6451222055315607,
          0.02239507915312239,
          0.09795688231159412,
          0.4641573389654099,
          0.839381054477149,
          0.4641573389654099,
          0.839381054477149,
          0.027578154566668386,
          0.05005326770951392,
          0.6632093846737732,
          0.12599213060069525,
          0.07578608629662187,
          0.6451222055315609,
          0.02239507915312239,
          0.09795688231159412,
          0.02239507915312239,
          0.5532266843688567,
          0.07010891089493917,
          0.03223548706705445,
          0.12877664276851442,
          0.027578154566668386,
          0.05005326770951391,
          0.6632093846737732,
          0.12599213060069525,
          0.07578608629662187,
          0.6451222055315607,
          0.02239507915312239,
          0.09795688231159412,
          0.02239507915312239,
          0.5532266843688567,
          0.07010891089493917,
          0.03223548706705445,
          0.12877664276851442,
          0.027578154566668386,
          0.6632093846737732,
          0.12599213060069525,
          0.6451222055315607,
          0.09795688231159412,
          0.5532266843688567,
          0.07010891089493917,
          0.03223548706705445,
          0.12877664276851442,
          0.073291681624901,
          0.1796365701430031,
          0.15079723788454114,
          0.45913129202563213,
          0.05226037160272302,
          0.16453918573589787,
          0.07279418747779795,
          0.4316441682650366,
          0.13310416599808067,
          0.04762616708603798,
          0.4069784879452962,
          0.14157269033563316,
          0.20428666195070272,
          0.05182793239734265,
          0.08123927341144746,
          0.47067122176541054,
          0.5404223542784099,
          0.0864078171931511,
          0.08921561432839256,
          0.04038427902443843,
          0.0592789121678932,
          0.11521128221782401,
          0.17061111115589672,
          0.5717284495277524,
          0.10195037957202127,
          0.04838089748604713,
          0.2748501559450295,
          0.07860148230384686,
          0.6390986325636718,
          0.07232193186956853,
          0.04080688303921497,
          0.6632093846737732,
          0.020714494257586133,
          0.886225758600829,
          0.38334312697683837,
          0.20428666195070272,
          0.15699244972185775,
          0.0721436247429589,
          0.08057677118832822
         ],
         "xaxis": "x",
         "yaxis": "y"
        }
       ],
       "layout": {
        "autosize": true,
        "barmode": "relative",
        "legend": {
         "tracegroupgap": 0
        },
        "margin": {
         "t": 60
        },
        "template": {
         "data": {
          "bar": [
           {
            "error_x": {
             "color": "#2a3f5f"
            },
            "error_y": {
             "color": "#2a3f5f"
            },
            "marker": {
             "line": {
              "color": "#E5ECF6",
              "width": 0.5
             },
             "pattern": {
              "fillmode": "overlay",
              "size": 10,
              "solidity": 0.2
             }
            },
            "type": "bar"
           }
          ],
          "barpolar": [
           {
            "marker": {
             "line": {
              "color": "#E5ECF6",
              "width": 0.5
             },
             "pattern": {
              "fillmode": "overlay",
              "size": 10,
              "solidity": 0.2
             }
            },
            "type": "barpolar"
           }
          ],
          "carpet": [
           {
            "aaxis": {
             "endlinecolor": "#2a3f5f",
             "gridcolor": "white",
             "linecolor": "white",
             "minorgridcolor": "white",
             "startlinecolor": "#2a3f5f"
            },
            "baxis": {
             "endlinecolor": "#2a3f5f",
             "gridcolor": "white",
             "linecolor": "white",
             "minorgridcolor": "white",
             "startlinecolor": "#2a3f5f"
            },
            "type": "carpet"
           }
          ],
          "choropleth": [
           {
            "colorbar": {
             "outlinewidth": 0,
             "ticks": ""
            },
            "type": "choropleth"
           }
          ],
          "contour": [
           {
            "colorbar": {
             "outlinewidth": 0,
             "ticks": ""
            },
            "colorscale": [
             [
              0,
              "#0d0887"
             ],
             [
              0.1111111111111111,
              "#46039f"
             ],
             [
              0.2222222222222222,
              "#7201a8"
             ],
             [
              0.3333333333333333,
              "#9c179e"
             ],
             [
              0.4444444444444444,
              "#bd3786"
             ],
             [
              0.5555555555555556,
              "#d8576b"
             ],
             [
              0.6666666666666666,
              "#ed7953"
             ],
             [
              0.7777777777777778,
              "#fb9f3a"
             ],
             [
              0.8888888888888888,
              "#fdca26"
             ],
             [
              1,
              "#f0f921"
             ]
            ],
            "type": "contour"
           }
          ],
          "contourcarpet": [
           {
            "colorbar": {
             "outlinewidth": 0,
             "ticks": ""
            },
            "type": "contourcarpet"
           }
          ],
          "heatmap": [
           {
            "colorbar": {
             "outlinewidth": 0,
             "ticks": ""
            },
            "colorscale": [
             [
              0,
              "#0d0887"
             ],
             [
              0.1111111111111111,
              "#46039f"
             ],
             [
              0.2222222222222222,
              "#7201a8"
             ],
             [
              0.3333333333333333,
              "#9c179e"
             ],
             [
              0.4444444444444444,
              "#bd3786"
             ],
             [
              0.5555555555555556,
              "#d8576b"
             ],
             [
              0.6666666666666666,
              "#ed7953"
             ],
             [
              0.7777777777777778,
              "#fb9f3a"
             ],
             [
              0.8888888888888888,
              "#fdca26"
             ],
             [
              1,
              "#f0f921"
             ]
            ],
            "type": "heatmap"
           }
          ],
          "heatmapgl": [
           {
            "colorbar": {
             "outlinewidth": 0,
             "ticks": ""
            },
            "colorscale": [
             [
              0,
              "#0d0887"
             ],
             [
              0.1111111111111111,
              "#46039f"
             ],
             [
              0.2222222222222222,
              "#7201a8"
             ],
             [
              0.3333333333333333,
              "#9c179e"
             ],
             [
              0.4444444444444444,
              "#bd3786"
             ],
             [
              0.5555555555555556,
              "#d8576b"
             ],
             [
              0.6666666666666666,
              "#ed7953"
             ],
             [
              0.7777777777777778,
              "#fb9f3a"
             ],
             [
              0.8888888888888888,
              "#fdca26"
             ],
             [
              1,
              "#f0f921"
             ]
            ],
            "type": "heatmapgl"
           }
          ],
          "histogram": [
           {
            "marker": {
             "pattern": {
              "fillmode": "overlay",
              "size": 10,
              "solidity": 0.2
             }
            },
            "type": "histogram"
           }
          ],
          "histogram2d": [
           {
            "colorbar": {
             "outlinewidth": 0,
             "ticks": ""
            },
            "colorscale": [
             [
              0,
              "#0d0887"
             ],
             [
              0.1111111111111111,
              "#46039f"
             ],
             [
              0.2222222222222222,
              "#7201a8"
             ],
             [
              0.3333333333333333,
              "#9c179e"
             ],
             [
              0.4444444444444444,
              "#bd3786"
             ],
             [
              0.5555555555555556,
              "#d8576b"
             ],
             [
              0.6666666666666666,
              "#ed7953"
             ],
             [
              0.7777777777777778,
              "#fb9f3a"
             ],
             [
              0.8888888888888888,
              "#fdca26"
             ],
             [
              1,
              "#f0f921"
             ]
            ],
            "type": "histogram2d"
           }
          ],
          "histogram2dcontour": [
           {
            "colorbar": {
             "outlinewidth": 0,
             "ticks": ""
            },
            "colorscale": [
             [
              0,
              "#0d0887"
             ],
             [
              0.1111111111111111,
              "#46039f"
             ],
             [
              0.2222222222222222,
              "#7201a8"
             ],
             [
              0.3333333333333333,
              "#9c179e"
             ],
             [
              0.4444444444444444,
              "#bd3786"
             ],
             [
              0.5555555555555556,
              "#d8576b"
             ],
             [
              0.6666666666666666,
              "#ed7953"
             ],
             [
              0.7777777777777778,
              "#fb9f3a"
             ],
             [
              0.8888888888888888,
              "#fdca26"
             ],
             [
              1,
              "#f0f921"
             ]
            ],
            "type": "histogram2dcontour"
           }
          ],
          "mesh3d": [
           {
            "colorbar": {
             "outlinewidth": 0,
             "ticks": ""
            },
            "type": "mesh3d"
           }
          ],
          "parcoords": [
           {
            "line": {
             "colorbar": {
              "outlinewidth": 0,
              "ticks": ""
             }
            },
            "type": "parcoords"
           }
          ],
          "pie": [
           {
            "automargin": true,
            "type": "pie"
           }
          ],
          "scatter": [
           {
            "fillpattern": {
             "fillmode": "overlay",
             "size": 10,
             "solidity": 0.2
            },
            "type": "scatter"
           }
          ],
          "scatter3d": [
           {
            "line": {
             "colorbar": {
              "outlinewidth": 0,
              "ticks": ""
             }
            },
            "marker": {
             "colorbar": {
              "outlinewidth": 0,
              "ticks": ""
             }
            },
            "type": "scatter3d"
           }
          ],
          "scattercarpet": [
           {
            "marker": {
             "colorbar": {
              "outlinewidth": 0,
              "ticks": ""
             }
            },
            "type": "scattercarpet"
           }
          ],
          "scattergeo": [
           {
            "marker": {
             "colorbar": {
              "outlinewidth": 0,
              "ticks": ""
             }
            },
            "type": "scattergeo"
           }
          ],
          "scattergl": [
           {
            "marker": {
             "colorbar": {
              "outlinewidth": 0,
              "ticks": ""
             }
            },
            "type": "scattergl"
           }
          ],
          "scattermapbox": [
           {
            "marker": {
             "colorbar": {
              "outlinewidth": 0,
              "ticks": ""
             }
            },
            "type": "scattermapbox"
           }
          ],
          "scatterpolar": [
           {
            "marker": {
             "colorbar": {
              "outlinewidth": 0,
              "ticks": ""
             }
            },
            "type": "scatterpolar"
           }
          ],
          "scatterpolargl": [
           {
            "marker": {
             "colorbar": {
              "outlinewidth": 0,
              "ticks": ""
             }
            },
            "type": "scatterpolargl"
           }
          ],
          "scatterternary": [
           {
            "marker": {
             "colorbar": {
              "outlinewidth": 0,
              "ticks": ""
             }
            },
            "type": "scatterternary"
           }
          ],
          "surface": [
           {
            "colorbar": {
             "outlinewidth": 0,
             "ticks": ""
            },
            "colorscale": [
             [
              0,
              "#0d0887"
             ],
             [
              0.1111111111111111,
              "#46039f"
             ],
             [
              0.2222222222222222,
              "#7201a8"
             ],
             [
              0.3333333333333333,
              "#9c179e"
             ],
             [
              0.4444444444444444,
              "#bd3786"
             ],
             [
              0.5555555555555556,
              "#d8576b"
             ],
             [
              0.6666666666666666,
              "#ed7953"
             ],
             [
              0.7777777777777778,
              "#fb9f3a"
             ],
             [
              0.8888888888888888,
              "#fdca26"
             ],
             [
              1,
              "#f0f921"
             ]
            ],
            "type": "surface"
           }
          ],
          "table": [
           {
            "cells": {
             "fill": {
              "color": "#EBF0F8"
             },
             "line": {
              "color": "white"
             }
            },
            "header": {
             "fill": {
              "color": "#C8D4E3"
             },
             "line": {
              "color": "white"
             }
            },
            "type": "table"
           }
          ]
         },
         "layout": {
          "annotationdefaults": {
           "arrowcolor": "#2a3f5f",
           "arrowhead": 0,
           "arrowwidth": 1
          },
          "autotypenumbers": "strict",
          "coloraxis": {
           "colorbar": {
            "outlinewidth": 0,
            "ticks": ""
           }
          },
          "colorscale": {
           "diverging": [
            [
             0,
             "#8e0152"
            ],
            [
             0.1,
             "#c51b7d"
            ],
            [
             0.2,
             "#de77ae"
            ],
            [
             0.3,
             "#f1b6da"
            ],
            [
             0.4,
             "#fde0ef"
            ],
            [
             0.5,
             "#f7f7f7"
            ],
            [
             0.6,
             "#e6f5d0"
            ],
            [
             0.7,
             "#b8e186"
            ],
            [
             0.8,
             "#7fbc41"
            ],
            [
             0.9,
             "#4d9221"
            ],
            [
             1,
             "#276419"
            ]
           ],
           "sequential": [
            [
             0,
             "#0d0887"
            ],
            [
             0.1111111111111111,
             "#46039f"
            ],
            [
             0.2222222222222222,
             "#7201a8"
            ],
            [
             0.3333333333333333,
             "#9c179e"
            ],
            [
             0.4444444444444444,
             "#bd3786"
            ],
            [
             0.5555555555555556,
             "#d8576b"
            ],
            [
             0.6666666666666666,
             "#ed7953"
            ],
            [
             0.7777777777777778,
             "#fb9f3a"
            ],
            [
             0.8888888888888888,
             "#fdca26"
            ],
            [
             1,
             "#f0f921"
            ]
           ],
           "sequentialminus": [
            [
             0,
             "#0d0887"
            ],
            [
             0.1111111111111111,
             "#46039f"
            ],
            [
             0.2222222222222222,
             "#7201a8"
            ],
            [
             0.3333333333333333,
             "#9c179e"
            ],
            [
             0.4444444444444444,
             "#bd3786"
            ],
            [
             0.5555555555555556,
             "#d8576b"
            ],
            [
             0.6666666666666666,
             "#ed7953"
            ],
            [
             0.7777777777777778,
             "#fb9f3a"
            ],
            [
             0.8888888888888888,
             "#fdca26"
            ],
            [
             1,
             "#f0f921"
            ]
           ]
          },
          "colorway": [
           "#636efa",
           "#EF553B",
           "#00cc96",
           "#ab63fa",
           "#FFA15A",
           "#19d3f3",
           "#FF6692",
           "#B6E880",
           "#FF97FF",
           "#FECB52"
          ],
          "font": {
           "color": "#2a3f5f"
          },
          "geo": {
           "bgcolor": "white",
           "lakecolor": "white",
           "landcolor": "#E5ECF6",
           "showlakes": true,
           "showland": true,
           "subunitcolor": "white"
          },
          "hoverlabel": {
           "align": "left"
          },
          "hovermode": "closest",
          "mapbox": {
           "style": "light"
          },
          "paper_bgcolor": "white",
          "plot_bgcolor": "#E5ECF6",
          "polar": {
           "angularaxis": {
            "gridcolor": "white",
            "linecolor": "white",
            "ticks": ""
           },
           "bgcolor": "#E5ECF6",
           "radialaxis": {
            "gridcolor": "white",
            "linecolor": "white",
            "ticks": ""
           }
          },
          "scene": {
           "xaxis": {
            "backgroundcolor": "#E5ECF6",
            "gridcolor": "white",
            "gridwidth": 2,
            "linecolor": "white",
            "showbackground": true,
            "ticks": "",
            "zerolinecolor": "white"
           },
           "yaxis": {
            "backgroundcolor": "#E5ECF6",
            "gridcolor": "white",
            "gridwidth": 2,
            "linecolor": "white",
            "showbackground": true,
            "ticks": "",
            "zerolinecolor": "white"
           },
           "zaxis": {
            "backgroundcolor": "#E5ECF6",
            "gridcolor": "white",
            "gridwidth": 2,
            "linecolor": "white",
            "showbackground": true,
            "ticks": "",
            "zerolinecolor": "white"
           }
          },
          "shapedefaults": {
           "line": {
            "color": "#2a3f5f"
           }
          },
          "ternary": {
           "aaxis": {
            "gridcolor": "white",
            "linecolor": "white",
            "ticks": ""
           },
           "baxis": {
            "gridcolor": "white",
            "linecolor": "white",
            "ticks": ""
           },
           "bgcolor": "#E5ECF6",
           "caxis": {
            "gridcolor": "white",
            "linecolor": "white",
            "ticks": ""
           }
          },
          "title": {
           "x": 0.05
          },
          "xaxis": {
           "automargin": true,
           "gridcolor": "white",
           "linecolor": "white",
           "ticks": "",
           "title": {
            "standoff": 15
           },
           "zerolinecolor": "white",
           "zerolinewidth": 2
          },
          "yaxis": {
           "automargin": true,
           "gridcolor": "white",
           "linecolor": "white",
           "ticks": "",
           "title": {
            "standoff": 15
           },
           "zerolinecolor": "white",
           "zerolinewidth": 2
          }
         }
        },
        "xaxis": {
         "anchor": "y",
         "autorange": true,
         "domain": [
          0,
          1
         ],
         "range": [
          6.938893903907228e-17,
          0.9
         ],
         "title": {
          "text": "fit_word2vec"
         },
         "type": "linear"
        },
        "yaxis": {
         "anchor": "x",
         "autorange": true,
         "domain": [
          0,
          1
         ],
         "range": [
          0,
          55.78947368421053
         ],
         "title": {
          "text": "count"
         }
        }
       }
      },
      "image/png": "[encoded data removed]",
      "text/html": [
       "<div>                            <div id=\"2d44dffb-a7c5-4348-b242-84c083daaae6\" class=\"plotly-graph-div\" style=\"height:525px; width:100%;\"></div>            <script type=\"text/javascript\">                require([\"plotly\"], function(Plotly) {                    window.PLOTLYENV=window.PLOTLYENV || {};                                    if (document.getElementById(\"2d44dffb-a7c5-4348-b242-84c083daaae6\")) {                    Plotly.newPlot(                        \"2d44dffb-a7c5-4348-b242-84c083daaae6\",                        [{\"alignmentgroup\":\"True\",\"bingroup\":\"x\",\"hovertemplate\":\"fit_word2vec=%{x}\\u003cbr\\u003ecount=%{y}\\u003cextra\\u003e\\u003c\\u002fextra\\u003e\",\"legendgroup\":\"\",\"marker\":{\"color\":\"#636efa\",\"pattern\":{\"shape\":\"\"}},\"name\":\"\",\"offsetgroup\":\"\",\"orientation\":\"v\",\"showlegend\":false,\"x\":[0.027578154566668386,0.05005326770951392,0.6632093846737732,0.12599213060069525,0.07578608629662187,0.6451222055315607,0.02239507915312239,0.09795688231159412,0.022395079153122388,0.5532266843688567,0.07010891089493917,0.03223548706705445,0.12877664276851442,0.027578154566668386,0.027578154566668386,0.05005326770951392,0.6632093846737732,0.12599213060069525,0.027578154566668386,0.05005326770951392,0.6632093846737732,0.12599213060069525,0.07578608629662187,0.6451222055315607,0.02239507915312239,0.09795688231159412,0.4641573389654099,0.839381054477149,0.4641573389654099,0.839381054477149,0.027578154566668386,0.05005326770951392,0.6632093846737732,0.12599213060069525,0.07578608629662187,0.6451222055315609,0.02239507915312239,0.09795688231159412,0.02239507915312239,0.5532266843688567,0.07010891089493917,0.03223548706705445,0.12877664276851442,0.027578154566668386,0.05005326770951391,0.6632093846737732,0.12599213060069525,0.07578608629662187,0.6451222055315607,0.02239507915312239,0.09795688231159412,0.02239507915312239,0.5532266843688567,0.07010891089493917,0.03223548706705445,0.12877664276851442,0.027578154566668386,0.6632093846737732,0.12599213060069525,0.6451222055315607,0.09795688231159412,0.5532266843688567,0.07010891089493917,0.03223548706705445,0.12877664276851442,0.073291681624901,0.1796365701430031,0.15079723788454114,0.45913129202563213,0.05226037160272302,0.16453918573589787,0.07279418747779795,0.4316441682650366,0.13310416599808067,0.04762616708603798,0.4069784879452962,0.14157269033563316,0.20428666195070272,0.05182793239734265,0.08123927341144746,0.47067122176541054,0.5404223542784099,0.0864078171931511,0.08921561432839256,0.04038427902443843,0.0592789121678932,0.11521128221782401,0.17061111115589672,0.5717284495277524,0.10195037957202127,0.04838089748604713,0.2748501559450295,0.07860148230384686,0.6390986325636718,0.07232193186956853,0.04080688303921497,0.6632093846737732,0.020714494257586133,0.886225758600829,0.38334312697683837,0.20428666195070272,0.15699244972185775,0.0721436247429589,0.08057677118832822],\"xaxis\":\"x\",\"yaxis\":\"y\",\"type\":\"histogram\"}],                        {\"template\":{\"data\":{\"histogram2dcontour\":[{\"type\":\"histogram2dcontour\",\"colorbar\":{\"outlinewidth\":0,\"ticks\":\"\"},\"colorscale\":[[0.0,\"#0d0887\"],[0.1111111111111111,\"#46039f\"],[0.2222222222222222,\"#7201a8\"],[0.3333333333333333,\"#9c179e\"],[0.4444444444444444,\"#bd3786\"],[0.5555555555555556,\"#d8576b\"],[0.6666666666666666,\"#ed7953\"],[0.7777777777777778,\"#fb9f3a\"],[0.8888888888888888,\"#fdca26\"],[1.0,\"#f0f921\"]]}],\"choropleth\":[{\"type\":\"choropleth\",\"colorbar\":{\"outlinewidth\":0,\"ticks\":\"\"}}],\"histogram2d\":[{\"type\":\"histogram2d\",\"colorbar\":{\"outlinewidth\":0,\"ticks\":\"\"},\"colorscale\":[[0.0,\"#0d0887\"],[0.1111111111111111,\"#46039f\"],[0.2222222222222222,\"#7201a8\"],[0.3333333333333333,\"#9c179e\"],[0.4444444444444444,\"#bd3786\"],[0.5555555555555556,\"#d8576b\"],[0.6666666666666666,\"#ed7953\"],[0.7777777777777778,\"#fb9f3a\"],[0.8888888888888888,\"#fdca26\"],[1.0,\"#f0f921\"]]}],\"heatmap\":[{\"type\":\"heatmap\",\"colorbar\":{\"outlinewidth\":0,\"ticks\":\"\"},\"colorscale\":[[0.0,\"#0d0887\"],[0.1111111111111111,\"#46039f\"],[0.2222222222222222,\"#7201a8\"],[0.3333333333333333,\"#9c179e\"],[0.4444444444444444,\"#bd3786\"],[0.5555555555555556,\"#d8576b\"],[0.6666666666666666,\"#ed7953\"],[0.7777777777777778,\"#fb9f3a\"],[0.8888888888888888,\"#fdca26\"],[1.0,\"#f0f921\"]]}],\"heatmapgl\":[{\"type\":\"heatmapgl\",\"colorbar\":{\"outlinewidth\":0,\"ticks\":\"\"},\"colorscale\":[[0.0,\"#0d0887\"],[0.1111111111111111,\"#46039f\"],[0.2222222222222222,\"#7201a8\"],[0.3333333333333333,\"#9c179e\"],[0.4444444444444444,\"#bd3786\"],[0.5555555555555556,\"#d8576b\"],[0.6666666666666666,\"#ed7953\"],[0.7777777777777778,\"#fb9f3a\"],[0.8888888888888888,\"#fdca26\"],[1.0,\"#f0f921\"]]}],\"contourcarpet\":[{\"type\":\"contourcarpet\",\"colorbar\":{\"outlinewidth\":0,\"ticks\":\"\"}}],\"contour\":[{\"type\":\"contour\",\"colorbar\":{\"outlinewidth\":0,\"ticks\":\"\"},\"colorscale\":[[0.0,\"#0d0887\"],[0.1111111111111111,\"#46039f\"],[0.2222222222222222,\"#7201a8\"],[0.3333333333333333,\"#9c179e\"],[0.4444444444444444,\"#bd3786\"],[0.5555555555555556,\"#d8576b\"],[0.6666666666666666,\"#ed7953\"],[0.7777777777777778,\"#fb9f3a\"],[0.8888888888888888,\"#fdca26\"],[1.0,\"#f0f921\"]]}],\"surface\":[{\"type\":\"surface\",\"colorbar\":{\"outlinewidth\":0,\"ticks\":\"\"},\"colorscale\":[[0.0,\"#0d0887\"],[0.1111111111111111,\"#46039f\"],[0.2222222222222222,\"#7201a8\"],[0.3333333333333333,\"#9c179e\"],[0.4444444444444444,\"#bd3786\"],[0.5555555555555556,\"#d8576b\"],[0.6666666666666666,\"#ed7953\"],[0.7777777777777778,\"#fb9f3a\"],[0.8888888888888888,\"#fdca26\"],[1.0,\"#f0f921\"]]}],\"mesh3d\":[{\"type\":\"mesh3d\",\"colorbar\":{\"outlinewidth\":0,\"ticks\":\"\"}}],\"scatter\":[{\"fillpattern\":{\"fillmode\":\"overlay\",\"size\":10,\"solidity\":0.2},\"type\":\"scatter\"}],\"parcoords\":[{\"type\":\"parcoords\",\"line\":{\"colorbar\":{\"outlinewidth\":0,\"ticks\":\"\"}}}],\"scatterpolargl\":[{\"type\":\"scatterpolargl\",\"marker\":{\"colorbar\":{\"outlinewidth\":0,\"ticks\":\"\"}}}],\"bar\":[{\"error_x\":{\"color\":\"#2a3f5f\"},\"error_y\":{\"color\":\"#2a3f5f\"},\"marker\":{\"line\":{\"color\":\"#E5ECF6\",\"width\":0.5},\"pattern\":{\"fillmode\":\"overlay\",\"size\":10,\"solidity\":0.2}},\"type\":\"bar\"}],\"scattergeo\":[{\"type\":\"scattergeo\",\"marker\":{\"colorbar\":{\"outlinewidth\":0,\"ticks\":\"\"}}}],\"scatterpolar\":[{\"type\":\"scatterpolar\",\"marker\":{\"colorbar\":{\"outlinewidth\":0,\"ticks\":\"\"}}}],\"histogram\":[{\"marker\":{\"pattern\":{\"fillmode\":\"overlay\",\"size\":10,\"solidity\":0.2}},\"type\":\"histogram\"}],\"scattergl\":[{\"type\":\"scattergl\",\"marker\":{\"colorbar\":{\"outlinewidth\":0,\"ticks\":\"\"}}}],\"scatter3d\":[{\"type\":\"scatter3d\",\"line\":{\"colorbar\":{\"outlinewidth\":0,\"ticks\":\"\"}},\"marker\":{\"colorbar\":{\"outlinewidth\":0,\"ticks\":\"\"}}}],\"scattermapbox\":[{\"type\":\"scattermapbox\",\"marker\":{\"colorbar\":{\"outlinewidth\":0,\"ticks\":\"\"}}}],\"scatterternary\":[{\"type\":\"scatterternary\",\"marker\":{\"colorbar\":{\"outlinewidth\":0,\"ticks\":\"\"}}}],\"scattercarpet\":[{\"type\":\"scattercarpet\",\"marker\":{\"colorbar\":{\"outlinewidth\":0,\"ticks\":\"\"}}}],\"carpet\":[{\"aaxis\":{\"endlinecolor\":\"#2a3f5f\",\"gridcolor\":\"white\",\"linecolor\":\"white\",\"minorgridcolor\":\"white\",\"startlinecolor\":\"#2a3f5f\"},\"baxis\":{\"endlinecolor\":\"#2a3f5f\",\"gridcolor\":\"white\",\"linecolor\":\"white\",\"minorgridcolor\":\"white\",\"startlinecolor\":\"#2a3f5f\"},\"type\":\"carpet\"}],\"table\":[{\"cells\":{\"fill\":{\"color\":\"#EBF0F8\"},\"line\":{\"color\":\"white\"}},\"header\":{\"fill\":{\"color\":\"#C8D4E3\"},\"line\":{\"color\":\"white\"}},\"type\":\"table\"}],\"barpolar\":[{\"marker\":{\"line\":{\"color\":\"#E5ECF6\",\"width\":0.5},\"pattern\":{\"fillmode\":\"overlay\",\"size\":10,\"solidity\":0.2}},\"type\":\"barpolar\"}],\"pie\":[{\"automargin\":true,\"type\":\"pie\"}]},\"layout\":{\"autotypenumbers\":\"strict\",\"colorway\":[\"#636efa\",\"#EF553B\",\"#00cc96\",\"#ab63fa\",\"#FFA15A\",\"#19d3f3\",\"#FF6692\",\"#B6E880\",\"#FF97FF\",\"#FECB52\"],\"font\":{\"color\":\"#2a3f5f\"},\"hovermode\":\"closest\",\"hoverlabel\":{\"align\":\"left\"},\"paper_bgcolor\":\"white\",\"plot_bgcolor\":\"#E5ECF6\",\"polar\":{\"bgcolor\":\"#E5ECF6\",\"angularaxis\":{\"gridcolor\":\"white\",\"linecolor\":\"white\",\"ticks\":\"\"},\"radialaxis\":{\"gridcolor\":\"white\",\"linecolor\":\"white\",\"ticks\":\"\"}},\"ternary\":{\"bgcolor\":\"#E5ECF6\",\"aaxis\":{\"gridcolor\":\"white\",\"linecolor\":\"white\",\"ticks\":\"\"},\"baxis\":{\"gridcolor\":\"white\",\"linecolor\":\"white\",\"ticks\":\"\"},\"caxis\":{\"gridcolor\":\"white\",\"linecolor\":\"white\",\"ticks\":\"\"}},\"coloraxis\":{\"colorbar\":{\"outlinewidth\":0,\"ticks\":\"\"}},\"colorscale\":{\"sequential\":[[0.0,\"#0d0887\"],[0.1111111111111111,\"#46039f\"],[0.2222222222222222,\"#7201a8\"],[0.3333333333333333,\"#9c179e\"],[0.4444444444444444,\"#bd3786\"],[0.5555555555555556,\"#d8576b\"],[0.6666666666666666,\"#ed7953\"],[0.7777777777777778,\"#fb9f3a\"],[0.8888888888888888,\"#fdca26\"],[1.0,\"#f0f921\"]],\"sequentialminus\":[[0.0,\"#0d0887\"],[0.1111111111111111,\"#46039f\"],[0.2222222222222222,\"#7201a8\"],[0.3333333333333333,\"#9c179e\"],[0.4444444444444444,\"#bd3786\"],[0.5555555555555556,\"#d8576b\"],[0.6666666666666666,\"#ed7953\"],[0.7777777777777778,\"#fb9f3a\"],[0.8888888888888888,\"#fdca26\"],[1.0,\"#f0f921\"]],\"diverging\":[[0,\"#8e0152\"],[0.1,\"#c51b7d\"],[0.2,\"#de77ae\"],[0.3,\"#f1b6da\"],[0.4,\"#fde0ef\"],[0.5,\"#f7f7f7\"],[0.6,\"#e6f5d0\"],[0.7,\"#b8e186\"],[0.8,\"#7fbc41\"],[0.9,\"#4d9221\"],[1,\"#276419\"]]},\"xaxis\":{\"gridcolor\":\"white\",\"linecolor\":\"white\",\"ticks\":\"\",\"title\":{\"standoff\":15},\"zerolinecolor\":\"white\",\"automargin\":true,\"zerolinewidth\":2},\"yaxis\":{\"gridcolor\":\"white\",\"linecolor\":\"white\",\"ticks\":\"\",\"title\":{\"standoff\":15},\"zerolinecolor\":\"white\",\"automargin\":true,\"zerolinewidth\":2},\"scene\":{\"xaxis\":{\"backgroundcolor\":\"#E5ECF6\",\"gridcolor\":\"white\",\"linecolor\":\"white\",\"showbackground\":true,\"ticks\":\"\",\"zerolinecolor\":\"white\",\"gridwidth\":2},\"yaxis\":{\"backgroundcolor\":\"#E5ECF6\",\"gridcolor\":\"white\",\"linecolor\":\"white\",\"showbackground\":true,\"ticks\":\"\",\"zerolinecolor\":\"white\",\"gridwidth\":2},\"zaxis\":{\"backgroundcolor\":\"#E5ECF6\",\"gridcolor\":\"white\",\"linecolor\":\"white\",\"showbackground\":true,\"ticks\":\"\",\"zerolinecolor\":\"white\",\"gridwidth\":2}},\"shapedefaults\":{\"line\":{\"color\":\"#2a3f5f\"}},\"annotationdefaults\":{\"arrowcolor\":\"#2a3f5f\",\"arrowhead\":0,\"arrowwidth\":1},\"geo\":{\"bgcolor\":\"white\",\"landcolor\":\"#E5ECF6\",\"subunitcolor\":\"white\",\"showland\":true,\"showlakes\":true,\"lakecolor\":\"white\"},\"title\":{\"x\":0.05},\"mapbox\":{\"style\":\"light\"}}},\"xaxis\":{\"anchor\":\"y\",\"domain\":[0.0,1.0],\"title\":{\"text\":\"fit_word2vec\"}},\"yaxis\":{\"anchor\":\"x\",\"domain\":[0.0,1.0],\"title\":{\"text\":\"count\"}},\"legend\":{\"tracegroupgap\":0},\"margin\":{\"t\":60},\"barmode\":\"relative\"},                        {\"responsive\": true}                    ).then(function(){\n",
       "                            \n",
       "var gd = document.getElementById('2d44dffb-a7c5-4348-b242-84c083daaae6');\n",
       "var x = new MutationObserver(function (mutations, observer) {{\n",
       "        var display = window.getComputedStyle(gd).display;\n",
       "        if (!display || display === 'none') {{\n",
       "            console.log([gd, 'removed!']);\n",
       "            Plotly.purge(gd);\n",
       "            observer.disconnect();\n",
       "        }}\n",
       "}});\n",
       "\n",
       "// Listen for the removal of the full notebook cells\n",
       "var notebookContainer = gd.closest('#notebook-container');\n",
       "if (notebookContainer) {{\n",
       "    x.observe(notebookContainer, {childList: true});\n",
       "}}\n",
       "\n",
       "// Listen for the clearing of the current output cell\n",
       "var outputEl = gd.closest('.output');\n",
       "if (outputEl) {{\n",
       "    x.observe(outputEl, {childList: true});\n",
       "}}\n",
       "\n",
       "                        })                };                });            </script>        </div>"
      ]
     },
     "metadata": {},
     "output_type": "display_data"
    }
   ],
   "source": [
    "fig = px.histogram(df['fit_word2vec'], x=\"fit_word2vec\")\n",
    "fig"
   ]
  },
  {
   "cell_type": "markdown",
   "id": "30aca0f9-4e3b-43c7-aaf6-44b3d2e05eb9",
   "metadata": {},
   "source": [
    "Also in this case the results are not great, let's try with another model."
   ]
  },
  {
   "cell_type": "markdown",
   "id": "cd0d71a0-bcd9-4283-b879-3ebb154f5381",
   "metadata": {},
   "source": [
    "### BERT"
   ]
  },
  {
   "cell_type": "markdown",
   "id": "4945f09e-5a25-4dcf-8c70-72e115dcfc4f",
   "metadata": {},
   "source": [
    "Good practice for reproducibility"
   ]
  },
  {
   "cell_type": "code",
   "execution_count": 203,
   "id": "0e67e6bd-1860-41cd-857b-22076aab36d5",
   "metadata": {},
   "outputs": [],
   "source": [
    "# Set a random seed\n",
    "random_seed = 42\n",
    "random.seed(random_seed)\n",
    " \n",
    "# Set a random seed for PyTorch (for GPU as well)\n",
    "torch.manual_seed(random_seed)\n",
    "if torch.cuda.is_available():\n",
    "    torch.cuda.manual_seed_all(random_seed)"
   ]
  },
  {
   "cell_type": "markdown",
   "id": "f9a838b3-9d12-4101-ba2d-04e8bda475e7",
   "metadata": {},
   "source": [
    "Load pretrained model"
   ]
  },
  {
   "cell_type": "code",
   "execution_count": 204,
   "id": "a9315f03-4d9b-4cdb-b083-a06b045deb72",
   "metadata": {},
   "outputs": [],
   "source": [
    "# Load BERT tokenizer and model\n",
    "tokenizer = BertTokenizer.from_pretrained('bert-base-uncased')\n",
    "model = BertModel.from_pretrained('bert-base-uncased')"
   ]
  },
  {
   "cell_type": "markdown",
   "id": "7a216dde-1c30-42c2-9c82-22e5481e199c",
   "metadata": {},
   "source": [
    "Defining query pre processing as done in data"
   ]
  },
  {
   "cell_type": "code",
   "execution_count": 205,
   "id": "21d607d6-f5f4-44ef-889a-06099d5dada8",
   "metadata": {},
   "outputs": [],
   "source": [
    "def pre_processing(query):\n",
    "        words = [lemmatizer.lemmatize(word) for word in word_tokenize(query)]\n",
    "        words=[word.lower() for word in words if word.isalpha()]\n",
    "        filtered_words = [word for word in words if word.lower() not in stopwords.words('english')]\n",
    "        query = ' '.join(TreebankWordDetokenizer().detokenize(filtered_words).lower().split())\n",
    "        query = query.replace('bauer','').lstrip()\n",
    "        query = query.replace('svp','senior vice president').lstrip()\n",
    "        query = query.replace('csr','corporate social responsability').lstrip()\n",
    "        query = query.replace('chro','chief human resources officer').lstrip()\n",
    "        query = query.replace('gphr','global professional in human resources').lstrip()\n",
    "        query = query.replace('sphr','senior professional in human resources').lstrip()\n",
    "        query = query.replace('mes','manufacturing execution system').lstrip()\n",
    "        query = query.replace('hris','human resources information system').lstrip()\n",
    "        query = query.replace('hr','human resource').lstrip()\n",
    "        return query"
   ]
  },
  {
   "cell_type": "markdown",
   "id": "0de1e3f2-1a4f-4ba8-a08a-84cdb62f330c",
   "metadata": {},
   "source": [
    "Method to compute similarity scores"
   ]
  },
  {
   "cell_type": "code",
   "execution_count": 206,
   "id": "4ad1899c-d277-40a4-88f9-8b18a4e4a592",
   "metadata": {},
   "outputs": [],
   "source": [
    "def compute_similarity_score(sentence, query_sentence):\n",
    "    \n",
    "    # Tokenize and encode sentence using batch_encode_plus\n",
    "    # The function returns a dictionary containing the token IDs and attention masks\n",
    "    encoding = tokenizer.encode_plus(\n",
    "        sentence,                    # List of input texts\n",
    "        return_tensors='pt',      # Return PyTorch tensors\n",
    "        return_attention_mask=True,\n",
    "        add_special_tokens=True    # Add special tokens CLS and SEP\n",
    "    )\n",
    " \n",
    "    input_ids = encoding['input_ids']  # Token IDs\n",
    "    attention_mask = encoding['attention_mask']  # Attention mask\n",
    "    # Generate embeddings using BERT model\n",
    "    with torch.no_grad():\n",
    "        outputs = model(input_ids, attention_mask=attention_mask)\n",
    "        word_embeddings = outputs.last_hidden_state  # This contains the embeddings\n",
    "    # Compute the average of word embeddings to get the sentence embedding\n",
    "    sentence_embedding = word_embeddings.mean(dim=1)  # Average pooling along the sequence length dimension\n",
    "    # Tokenize and encode the query sentence\n",
    "    query_encoding = tokenizer.encode_plus(\n",
    "        query_sentence,\n",
    "        return_tensors='pt',\n",
    "        return_attention_mask=True,\n",
    "        add_special_tokens=True\n",
    "    )\n",
    "    query_input_ids = query_encoding['input_ids']\n",
    "    query_attention_mask = query_encoding['attention_mask']\n",
    " \n",
    "    # Generate embeddings for the query sentence\n",
    "    with torch.no_grad():\n",
    "        query_outputs = model(query_input_ids, attention_mask=query_attention_mask)\n",
    "        query_sentence_embedding = query_outputs.last_hidden_state.mean(dim=1)\n",
    " \n",
    "    # Compute cosine similarity between the original sentence embedding and the query sentence embedding\n",
    "    similarity_score = cosine_similarity(sentence_embedding, query_sentence_embedding)\n",
    " \n",
    "    # Return similarity score\n",
    "    return similarity_score[0][0]"
   ]
  },
  {
   "cell_type": "code",
   "execution_count": 207,
   "id": "fee961db-720e-4edf-8026-638db8193adf",
   "metadata": {},
   "outputs": [],
   "source": [
    "def compute_fit(query):\n",
    "    for ind, row in df.iterrows():\n",
    "        df.loc[ind,'fit_bert'] = round(predict_similarity([row['job_title'],query]),2)"
   ]
  },
  {
   "cell_type": "markdown",
   "id": "5a3e79ab-3e01-4191-91f1-b761b19448b5",
   "metadata": {},
   "source": [
    "Compute scores for each job_title and save result"
   ]
  },
  {
   "cell_type": "code",
   "execution_count": 208,
   "id": "f9e3e7cd-b611-4cb2-a07c-f7c66859e33c",
   "metadata": {},
   "outputs": [],
   "source": [
    "query = \"Aspiring human resources\"\n",
    "for ind, row in df.iterrows():\n",
    "    df.loc[ind,'fit_bert'] = compute_similarity_score(row['job_title'],query)"
   ]
  },
  {
   "cell_type": "code",
   "execution_count": 209,
   "id": "6da999e5-7a51-494f-97b3-106da21cddd3",
   "metadata": {},
   "outputs": [
    {
     "data": {
      "text/html": [
       "<div>\n",
       "<style scoped>\n",
       "    .dataframe tbody tr th:only-of-type {\n",
       "        vertical-align: middle;\n",
       "    }\n",
       "\n",
       "    .dataframe tbody tr th {\n",
       "        vertical-align: top;\n",
       "    }\n",
       "\n",
       "    .dataframe thead th {\n",
       "        text-align: right;\n",
       "    }\n",
       "</style>\n",
       "<table border=\"1\" class=\"dataframe\">\n",
       "  <thead>\n",
       "    <tr style=\"text-align: right;\">\n",
       "      <th></th>\n",
       "      <th>job_title</th>\n",
       "      <th>location</th>\n",
       "      <th>connection</th>\n",
       "      <th>fit_word2vec</th>\n",
       "      <th>fit_bert</th>\n",
       "    </tr>\n",
       "    <tr>\n",
       "      <th>id</th>\n",
       "      <th></th>\n",
       "      <th></th>\n",
       "      <th></th>\n",
       "      <th></th>\n",
       "      <th></th>\n",
       "    </tr>\n",
       "  </thead>\n",
       "  <tbody>\n",
       "    <tr>\n",
       "      <th>24</th>\n",
       "      <td>aspiring human resources specialist</td>\n",
       "      <td>Greater New York City Area</td>\n",
       "      <td>1</td>\n",
       "      <td>0.645122</td>\n",
       "      <td>0.905480</td>\n",
       "    </tr>\n",
       "    <tr>\n",
       "      <th>60</th>\n",
       "      <td>aspiring human resources specialist</td>\n",
       "      <td>Greater New York City Area</td>\n",
       "      <td>1</td>\n",
       "      <td>0.645122</td>\n",
       "      <td>0.905480</td>\n",
       "    </tr>\n",
       "    <tr>\n",
       "      <th>6</th>\n",
       "      <td>aspiring human resources specialist</td>\n",
       "      <td>Greater New York City Area</td>\n",
       "      <td>1</td>\n",
       "      <td>0.645122</td>\n",
       "      <td>0.905480</td>\n",
       "    </tr>\n",
       "    <tr>\n",
       "      <th>36</th>\n",
       "      <td>aspiring human resources specialist</td>\n",
       "      <td>Greater New York City Area</td>\n",
       "      <td>1</td>\n",
       "      <td>0.645122</td>\n",
       "      <td>0.905480</td>\n",
       "    </tr>\n",
       "    <tr>\n",
       "      <th>49</th>\n",
       "      <td>aspiring human resources specialist</td>\n",
       "      <td>Greater New York City Area</td>\n",
       "      <td>1</td>\n",
       "      <td>0.645122</td>\n",
       "      <td>0.905480</td>\n",
       "    </tr>\n",
       "    <tr>\n",
       "      <th>97</th>\n",
       "      <td>aspiring human resources professional</td>\n",
       "      <td>Kokomo, Indiana Area</td>\n",
       "      <td>71</td>\n",
       "      <td>0.663209</td>\n",
       "      <td>0.902632</td>\n",
       "    </tr>\n",
       "    <tr>\n",
       "      <th>17</th>\n",
       "      <td>aspiring human resources professional</td>\n",
       "      <td>Raleigh-Durham, North Carolina Area</td>\n",
       "      <td>44</td>\n",
       "      <td>0.663209</td>\n",
       "      <td>0.902632</td>\n",
       "    </tr>\n",
       "    <tr>\n",
       "      <th>21</th>\n",
       "      <td>aspiring human resources professional</td>\n",
       "      <td>Raleigh-Durham, North Carolina Area</td>\n",
       "      <td>44</td>\n",
       "      <td>0.663209</td>\n",
       "      <td>0.902632</td>\n",
       "    </tr>\n",
       "    <tr>\n",
       "      <th>46</th>\n",
       "      <td>aspiring human resources professional</td>\n",
       "      <td>Raleigh-Durham, North Carolina Area</td>\n",
       "      <td>44</td>\n",
       "      <td>0.663209</td>\n",
       "      <td>0.902632</td>\n",
       "    </tr>\n",
       "    <tr>\n",
       "      <th>58</th>\n",
       "      <td>aspiring human resources professional</td>\n",
       "      <td>Raleigh-Durham, North Carolina Area</td>\n",
       "      <td>44</td>\n",
       "      <td>0.663209</td>\n",
       "      <td>0.902632</td>\n",
       "    </tr>\n",
       "    <tr>\n",
       "      <th>33</th>\n",
       "      <td>aspiring human resources professional</td>\n",
       "      <td>Raleigh-Durham, North Carolina Area</td>\n",
       "      <td>44</td>\n",
       "      <td>0.663209</td>\n",
       "      <td>0.902632</td>\n",
       "    </tr>\n",
       "    <tr>\n",
       "      <th>3</th>\n",
       "      <td>aspiring human resources professional</td>\n",
       "      <td>Raleigh-Durham, North Carolina Area</td>\n",
       "      <td>44</td>\n",
       "      <td>0.663209</td>\n",
       "      <td>0.902632</td>\n",
       "    </tr>\n",
       "    <tr>\n",
       "      <th>82</th>\n",
       "      <td>aspiring human resources professional energeti...</td>\n",
       "      <td>Austin, Texas Area</td>\n",
       "      <td>174</td>\n",
       "      <td>0.540422</td>\n",
       "      <td>0.886775</td>\n",
       "    </tr>\n",
       "    <tr>\n",
       "      <th>73</th>\n",
       "      <td>aspiring human resources manager seeking inter...</td>\n",
       "      <td>Houston, Texas Area</td>\n",
       "      <td>7</td>\n",
       "      <td>0.431644</td>\n",
       "      <td>0.828926</td>\n",
       "    </tr>\n",
       "    <tr>\n",
       "      <th>30</th>\n",
       "      <td>seeking human resources opportunities</td>\n",
       "      <td>Chicago, Illinois</td>\n",
       "      <td>390</td>\n",
       "      <td>0.839381</td>\n",
       "      <td>0.823453</td>\n",
       "    </tr>\n",
       "    <tr>\n",
       "      <th>28</th>\n",
       "      <td>seeking human resources opportunities</td>\n",
       "      <td>Chicago, Illinois</td>\n",
       "      <td>390</td>\n",
       "      <td>0.839381</td>\n",
       "      <td>0.823453</td>\n",
       "    </tr>\n",
       "    <tr>\n",
       "      <th>99</th>\n",
       "      <td>seeking human resources position</td>\n",
       "      <td>Las Vegas, Nevada Area</td>\n",
       "      <td>48</td>\n",
       "      <td>0.886226</td>\n",
       "      <td>0.815409</td>\n",
       "    </tr>\n",
       "    <tr>\n",
       "      <th>74</th>\n",
       "      <td>human resources professional</td>\n",
       "      <td>Greater Boston Area</td>\n",
       "      <td>16</td>\n",
       "      <td>0.133104</td>\n",
       "      <td>0.814312</td>\n",
       "    </tr>\n",
       "    <tr>\n",
       "      <th>27</th>\n",
       "      <td>aspiring human resources management student se...</td>\n",
       "      <td>Houston, Texas Area</td>\n",
       "      <td>500</td>\n",
       "      <td>0.464157</td>\n",
       "      <td>0.807029</td>\n",
       "    </tr>\n",
       "    <tr>\n",
       "      <th>29</th>\n",
       "      <td>aspiring human resources management student se...</td>\n",
       "      <td>Houston, Texas Area</td>\n",
       "      <td>500</td>\n",
       "      <td>0.464157</td>\n",
       "      <td>0.807029</td>\n",
       "    </tr>\n",
       "    <tr>\n",
       "      <th>66</th>\n",
       "      <td>experienced retail manager aspiring human reso...</td>\n",
       "      <td>Austin, Texas Area</td>\n",
       "      <td>57</td>\n",
       "      <td>0.073292</td>\n",
       "      <td>0.792776</td>\n",
       "    </tr>\n",
       "    <tr>\n",
       "      <th>38</th>\n",
       "      <td>human resource senior specialist</td>\n",
       "      <td>San Francisco Bay Area</td>\n",
       "      <td>500</td>\n",
       "      <td>0.097957</td>\n",
       "      <td>0.791210</td>\n",
       "    </tr>\n",
       "    <tr>\n",
       "      <th>8</th>\n",
       "      <td>human resource senior specialist</td>\n",
       "      <td>San Francisco Bay Area</td>\n",
       "      <td>500</td>\n",
       "      <td>0.097957</td>\n",
       "      <td>0.791210</td>\n",
       "    </tr>\n",
       "    <tr>\n",
       "      <th>26</th>\n",
       "      <td>human resource senior specialist</td>\n",
       "      <td>San Francisco Bay Area</td>\n",
       "      <td>500</td>\n",
       "      <td>0.097957</td>\n",
       "      <td>0.791210</td>\n",
       "    </tr>\n",
       "    <tr>\n",
       "      <th>51</th>\n",
       "      <td>human resource senior specialist</td>\n",
       "      <td>San Francisco Bay Area</td>\n",
       "      <td>500</td>\n",
       "      <td>0.097957</td>\n",
       "      <td>0.791210</td>\n",
       "    </tr>\n",
       "    <tr>\n",
       "      <th>61</th>\n",
       "      <td>human resource senior specialist</td>\n",
       "      <td>San Francisco Bay Area</td>\n",
       "      <td>500</td>\n",
       "      <td>0.097957</td>\n",
       "      <td>0.791210</td>\n",
       "    </tr>\n",
       "    <tr>\n",
       "      <th>89</th>\n",
       "      <td>director human resources ey</td>\n",
       "      <td>Greater Atlanta Area</td>\n",
       "      <td>349</td>\n",
       "      <td>0.571728</td>\n",
       "      <td>0.778679</td>\n",
       "    </tr>\n",
       "    <tr>\n",
       "      <th>68</th>\n",
       "      <td>human resources specialist luxottica</td>\n",
       "      <td>Greater New York City Area</td>\n",
       "      <td>500</td>\n",
       "      <td>0.150797</td>\n",
       "      <td>0.778427</td>\n",
       "    </tr>\n",
       "    <tr>\n",
       "      <th>94</th>\n",
       "      <td>seeking human resources opportunities open tra...</td>\n",
       "      <td>Amerika Birleşik Devletleri</td>\n",
       "      <td>415</td>\n",
       "      <td>0.639099</td>\n",
       "      <td>0.776476</td>\n",
       "    </tr>\n",
       "    <tr>\n",
       "      <th>104</th>\n",
       "      <td>director administration excellence logging</td>\n",
       "      <td>Katy, Texas</td>\n",
       "      <td>500</td>\n",
       "      <td>0.080577</td>\n",
       "      <td>0.767461</td>\n",
       "    </tr>\n",
       "    <tr>\n",
       "      <th>72</th>\n",
       "      <td>business management major aspiring human resou...</td>\n",
       "      <td>Monroe, Louisiana Area</td>\n",
       "      <td>5</td>\n",
       "      <td>0.072794</td>\n",
       "      <td>0.764904</td>\n",
       "    </tr>\n",
       "    <tr>\n",
       "      <th>79</th>\n",
       "      <td>liberal arts major aspiring human resources an...</td>\n",
       "      <td>Baton Rouge, Louisiana Area</td>\n",
       "      <td>7</td>\n",
       "      <td>0.051828</td>\n",
       "      <td>0.764006</td>\n",
       "    </tr>\n",
       "    <tr>\n",
       "      <th>22</th>\n",
       "      <td>people development coordinator ryan</td>\n",
       "      <td>Denton, Texas</td>\n",
       "      <td>500</td>\n",
       "      <td>0.125992</td>\n",
       "      <td>0.757261</td>\n",
       "    </tr>\n",
       "    <tr>\n",
       "      <th>4</th>\n",
       "      <td>people development coordinator ryan</td>\n",
       "      <td>Denton, Texas</td>\n",
       "      <td>500</td>\n",
       "      <td>0.125992</td>\n",
       "      <td>0.757261</td>\n",
       "    </tr>\n",
       "    <tr>\n",
       "      <th>47</th>\n",
       "      <td>people development coordinator ryan</td>\n",
       "      <td>Denton, Texas</td>\n",
       "      <td>500</td>\n",
       "      <td>0.125992</td>\n",
       "      <td>0.757261</td>\n",
       "    </tr>\n",
       "    <tr>\n",
       "      <th>18</th>\n",
       "      <td>people development coordinator ryan</td>\n",
       "      <td>Denton, Texas</td>\n",
       "      <td>500</td>\n",
       "      <td>0.125992</td>\n",
       "      <td>0.757261</td>\n",
       "    </tr>\n",
       "    <tr>\n",
       "      <th>59</th>\n",
       "      <td>people development coordinator ryan</td>\n",
       "      <td>Denton, Texas</td>\n",
       "      <td>500</td>\n",
       "      <td>0.125992</td>\n",
       "      <td>0.757261</td>\n",
       "    </tr>\n",
       "    <tr>\n",
       "      <th>34</th>\n",
       "      <td>people development coordinator ryan</td>\n",
       "      <td>Denton, Texas</td>\n",
       "      <td>500</td>\n",
       "      <td>0.125992</td>\n",
       "      <td>0.757261</td>\n",
       "    </tr>\n",
       "    <tr>\n",
       "      <th>67</th>\n",
       "      <td>human resources staffing recruiting professional</td>\n",
       "      <td>Jackson, Mississippi Area</td>\n",
       "      <td>500</td>\n",
       "      <td>0.179637</td>\n",
       "      <td>0.756723</td>\n",
       "    </tr>\n",
       "    <tr>\n",
       "      <th>76</th>\n",
       "      <td>aspiring human resources professional passiona...</td>\n",
       "      <td>New York, New York</td>\n",
       "      <td>212</td>\n",
       "      <td>0.406978</td>\n",
       "      <td>0.747666</td>\n",
       "    </tr>\n",
       "    <tr>\n",
       "      <th>100</th>\n",
       "      <td>aspiring human resources manager graduating ma...</td>\n",
       "      <td>Cape Girardeau, Missouri</td>\n",
       "      <td>103</td>\n",
       "      <td>0.383343</td>\n",
       "      <td>0.746192</td>\n",
       "    </tr>\n",
       "    <tr>\n",
       "      <th>25</th>\n",
       "      <td>student humber college aspiring human resource...</td>\n",
       "      <td>Kanada</td>\n",
       "      <td>61</td>\n",
       "      <td>0.022395</td>\n",
       "      <td>0.745890</td>\n",
       "    </tr>\n",
       "    <tr>\n",
       "      <th>52</th>\n",
       "      <td>student humber college aspiring human resource...</td>\n",
       "      <td>Kanada</td>\n",
       "      <td>61</td>\n",
       "      <td>0.022395</td>\n",
       "      <td>0.745890</td>\n",
       "    </tr>\n",
       "    <tr>\n",
       "      <th>7</th>\n",
       "      <td>student humber college aspiring human resource...</td>\n",
       "      <td>Kanada</td>\n",
       "      <td>61</td>\n",
       "      <td>0.022395</td>\n",
       "      <td>0.745890</td>\n",
       "    </tr>\n",
       "    <tr>\n",
       "      <th>50</th>\n",
       "      <td>student humber college aspiring human resource...</td>\n",
       "      <td>Kanada</td>\n",
       "      <td>61</td>\n",
       "      <td>0.022395</td>\n",
       "      <td>0.745890</td>\n",
       "    </tr>\n",
       "    <tr>\n",
       "      <th>9</th>\n",
       "      <td>student humber college aspiring human resource...</td>\n",
       "      <td>Kanada</td>\n",
       "      <td>61</td>\n",
       "      <td>0.022395</td>\n",
       "      <td>0.745890</td>\n",
       "    </tr>\n",
       "    <tr>\n",
       "      <th>37</th>\n",
       "      <td>student humber college aspiring human resource...</td>\n",
       "      <td>Kanada</td>\n",
       "      <td>61</td>\n",
       "      <td>0.022395</td>\n",
       "      <td>0.745890</td>\n",
       "    </tr>\n",
       "    <tr>\n",
       "      <th>39</th>\n",
       "      <td>student humber college aspiring human resource...</td>\n",
       "      <td>Kanada</td>\n",
       "      <td>61</td>\n",
       "      <td>0.022395</td>\n",
       "      <td>0.745890</td>\n",
       "    </tr>\n",
       "    <tr>\n",
       "      <th>84</th>\n",
       "      <td>human resources professional world leader gis ...</td>\n",
       "      <td>Highland, California</td>\n",
       "      <td>50</td>\n",
       "      <td>0.089216</td>\n",
       "      <td>0.740502</td>\n",
       "    </tr>\n",
       "    <tr>\n",
       "      <th>88</th>\n",
       "      <td>human resources management major</td>\n",
       "      <td>Milpitas, California</td>\n",
       "      <td>18</td>\n",
       "      <td>0.170611</td>\n",
       "      <td>0.729110</td>\n",
       "    </tr>\n",
       "  </tbody>\n",
       "</table>\n",
       "</div>"
      ],
      "text/plain": [
       "                                             job_title  \\\n",
       "id                                                       \n",
       "24                 aspiring human resources specialist   \n",
       "60                 aspiring human resources specialist   \n",
       "6                  aspiring human resources specialist   \n",
       "36                 aspiring human resources specialist   \n",
       "49                 aspiring human resources specialist   \n",
       "97               aspiring human resources professional   \n",
       "17               aspiring human resources professional   \n",
       "21               aspiring human resources professional   \n",
       "46               aspiring human resources professional   \n",
       "58               aspiring human resources professional   \n",
       "33               aspiring human resources professional   \n",
       "3                aspiring human resources professional   \n",
       "82   aspiring human resources professional energeti...   \n",
       "73   aspiring human resources manager seeking inter...   \n",
       "30               seeking human resources opportunities   \n",
       "28               seeking human resources opportunities   \n",
       "99                    seeking human resources position   \n",
       "74                        human resources professional   \n",
       "27   aspiring human resources management student se...   \n",
       "29   aspiring human resources management student se...   \n",
       "66   experienced retail manager aspiring human reso...   \n",
       "38                    human resource senior specialist   \n",
       "8                     human resource senior specialist   \n",
       "26                    human resource senior specialist   \n",
       "51                    human resource senior specialist   \n",
       "61                    human resource senior specialist   \n",
       "89                         director human resources ey   \n",
       "68                human resources specialist luxottica   \n",
       "94   seeking human resources opportunities open tra...   \n",
       "104         director administration excellence logging   \n",
       "72   business management major aspiring human resou...   \n",
       "79   liberal arts major aspiring human resources an...   \n",
       "22                 people development coordinator ryan   \n",
       "4                  people development coordinator ryan   \n",
       "47                 people development coordinator ryan   \n",
       "18                 people development coordinator ryan   \n",
       "59                 people development coordinator ryan   \n",
       "34                 people development coordinator ryan   \n",
       "67    human resources staffing recruiting professional   \n",
       "76   aspiring human resources professional passiona...   \n",
       "100  aspiring human resources manager graduating ma...   \n",
       "25   student humber college aspiring human resource...   \n",
       "52   student humber college aspiring human resource...   \n",
       "7    student humber college aspiring human resource...   \n",
       "50   student humber college aspiring human resource...   \n",
       "9    student humber college aspiring human resource...   \n",
       "37   student humber college aspiring human resource...   \n",
       "39   student humber college aspiring human resource...   \n",
       "84   human resources professional world leader gis ...   \n",
       "88                    human resources management major   \n",
       "\n",
       "                                location  connection  fit_word2vec  fit_bert  \n",
       "id                                                                            \n",
       "24            Greater New York City Area           1      0.645122  0.905480  \n",
       "60            Greater New York City Area           1      0.645122  0.905480  \n",
       "6             Greater New York City Area           1      0.645122  0.905480  \n",
       "36            Greater New York City Area           1      0.645122  0.905480  \n",
       "49            Greater New York City Area           1      0.645122  0.905480  \n",
       "97                  Kokomo, Indiana Area          71      0.663209  0.902632  \n",
       "17   Raleigh-Durham, North Carolina Area          44      0.663209  0.902632  \n",
       "21   Raleigh-Durham, North Carolina Area          44      0.663209  0.902632  \n",
       "46   Raleigh-Durham, North Carolina Area          44      0.663209  0.902632  \n",
       "58   Raleigh-Durham, North Carolina Area          44      0.663209  0.902632  \n",
       "33   Raleigh-Durham, North Carolina Area          44      0.663209  0.902632  \n",
       "3    Raleigh-Durham, North Carolina Area          44      0.663209  0.902632  \n",
       "82                    Austin, Texas Area         174      0.540422  0.886775  \n",
       "73                   Houston, Texas Area           7      0.431644  0.828926  \n",
       "30                     Chicago, Illinois         390      0.839381  0.823453  \n",
       "28                     Chicago, Illinois         390      0.839381  0.823453  \n",
       "99                Las Vegas, Nevada Area          48      0.886226  0.815409  \n",
       "74                   Greater Boston Area          16      0.133104  0.814312  \n",
       "27                   Houston, Texas Area         500      0.464157  0.807029  \n",
       "29                   Houston, Texas Area         500      0.464157  0.807029  \n",
       "66                    Austin, Texas Area          57      0.073292  0.792776  \n",
       "38                San Francisco Bay Area         500      0.097957  0.791210  \n",
       "8                 San Francisco Bay Area         500      0.097957  0.791210  \n",
       "26                San Francisco Bay Area         500      0.097957  0.791210  \n",
       "51                San Francisco Bay Area         500      0.097957  0.791210  \n",
       "61                San Francisco Bay Area         500      0.097957  0.791210  \n",
       "89                  Greater Atlanta Area         349      0.571728  0.778679  \n",
       "68            Greater New York City Area         500      0.150797  0.778427  \n",
       "94           Amerika Birleşik Devletleri         415      0.639099  0.776476  \n",
       "104                          Katy, Texas         500      0.080577  0.767461  \n",
       "72                Monroe, Louisiana Area           5      0.072794  0.764904  \n",
       "79           Baton Rouge, Louisiana Area           7      0.051828  0.764006  \n",
       "22                         Denton, Texas         500      0.125992  0.757261  \n",
       "4                          Denton, Texas         500      0.125992  0.757261  \n",
       "47                         Denton, Texas         500      0.125992  0.757261  \n",
       "18                         Denton, Texas         500      0.125992  0.757261  \n",
       "59                         Denton, Texas         500      0.125992  0.757261  \n",
       "34                         Denton, Texas         500      0.125992  0.757261  \n",
       "67             Jackson, Mississippi Area         500      0.179637  0.756723  \n",
       "76                    New York, New York         212      0.406978  0.747666  \n",
       "100             Cape Girardeau, Missouri         103      0.383343  0.746192  \n",
       "25                                Kanada          61      0.022395  0.745890  \n",
       "52                                Kanada          61      0.022395  0.745890  \n",
       "7                                 Kanada          61      0.022395  0.745890  \n",
       "50                                Kanada          61      0.022395  0.745890  \n",
       "9                                 Kanada          61      0.022395  0.745890  \n",
       "37                                Kanada          61      0.022395  0.745890  \n",
       "39                                Kanada          61      0.022395  0.745890  \n",
       "84                  Highland, California          50      0.089216  0.740502  \n",
       "88                  Milpitas, California          18      0.170611  0.729110  "
      ]
     },
     "execution_count": 209,
     "metadata": {},
     "output_type": "execute_result"
    }
   ],
   "source": [
    "top_candidates(n = 50, by = 'fit_bert', ascending = False, min_con = 0)"
   ]
  },
  {
   "cell_type": "code",
   "execution_count": 210,
   "id": "32acdc92-937d-44bd-ab0d-3d8e939a8f73",
   "metadata": {},
   "outputs": [
    {
     "data": {
      "text/html": [
       "<div>\n",
       "<style scoped>\n",
       "    .dataframe tbody tr th:only-of-type {\n",
       "        vertical-align: middle;\n",
       "    }\n",
       "\n",
       "    .dataframe tbody tr th {\n",
       "        vertical-align: top;\n",
       "    }\n",
       "\n",
       "    .dataframe thead th {\n",
       "        text-align: right;\n",
       "    }\n",
       "</style>\n",
       "<table border=\"1\" class=\"dataframe\">\n",
       "  <thead>\n",
       "    <tr style=\"text-align: right;\">\n",
       "      <th></th>\n",
       "      <th>job_title</th>\n",
       "      <th>location</th>\n",
       "      <th>connection</th>\n",
       "      <th>fit_word2vec</th>\n",
       "      <th>fit_bert</th>\n",
       "    </tr>\n",
       "    <tr>\n",
       "      <th>id</th>\n",
       "      <th></th>\n",
       "      <th></th>\n",
       "      <th></th>\n",
       "      <th></th>\n",
       "      <th></th>\n",
       "    </tr>\n",
       "  </thead>\n",
       "  <tbody>\n",
       "    <tr>\n",
       "      <th>35</th>\n",
       "      <td>advisory board member celal bayar university</td>\n",
       "      <td>İzmir, Türkiye</td>\n",
       "      <td>500</td>\n",
       "      <td>0.075786</td>\n",
       "      <td>0.442163</td>\n",
       "    </tr>\n",
       "    <tr>\n",
       "      <th>23</th>\n",
       "      <td>advisory board member celal bayar university</td>\n",
       "      <td>İzmir, Türkiye</td>\n",
       "      <td>500</td>\n",
       "      <td>0.075786</td>\n",
       "      <td>0.442163</td>\n",
       "    </tr>\n",
       "    <tr>\n",
       "      <th>5</th>\n",
       "      <td>advisory board member celal bayar university</td>\n",
       "      <td>İzmir, Türkiye</td>\n",
       "      <td>500</td>\n",
       "      <td>0.075786</td>\n",
       "      <td>0.442163</td>\n",
       "    </tr>\n",
       "    <tr>\n",
       "      <th>48</th>\n",
       "      <td>advisory board member celal bayar university</td>\n",
       "      <td>İzmir, Türkiye</td>\n",
       "      <td>500</td>\n",
       "      <td>0.075786</td>\n",
       "      <td>0.442163</td>\n",
       "    </tr>\n",
       "    <tr>\n",
       "      <th>95</th>\n",
       "      <td>student westfield state university</td>\n",
       "      <td>Bridgewater, Massachusetts</td>\n",
       "      <td>57</td>\n",
       "      <td>0.072322</td>\n",
       "      <td>0.511733</td>\n",
       "    </tr>\n",
       "    <tr>\n",
       "      <th>90</th>\n",
       "      <td>undergraduate research assistant styczynski lab</td>\n",
       "      <td>Greater Atlanta Area</td>\n",
       "      <td>155</td>\n",
       "      <td>0.101950</td>\n",
       "      <td>0.512272</td>\n",
       "    </tr>\n",
       "    <tr>\n",
       "      <th>91</th>\n",
       "      <td>lead official western illinois university</td>\n",
       "      <td>Greater Chicago Area</td>\n",
       "      <td>39</td>\n",
       "      <td>0.048381</td>\n",
       "      <td>0.528180</td>\n",
       "    </tr>\n",
       "    <tr>\n",
       "      <th>93</th>\n",
       "      <td>admissions representative community medical ce...</td>\n",
       "      <td>Long Beach, California</td>\n",
       "      <td>9</td>\n",
       "      <td>0.078601</td>\n",
       "      <td>0.536840</td>\n",
       "    </tr>\n",
       "    <tr>\n",
       "      <th>11</th>\n",
       "      <td>student chapman university</td>\n",
       "      <td>Lake Forest, California</td>\n",
       "      <td>2</td>\n",
       "      <td>0.070109</td>\n",
       "      <td>0.568805</td>\n",
       "    </tr>\n",
       "    <tr>\n",
       "      <th>41</th>\n",
       "      <td>student chapman university</td>\n",
       "      <td>Lake Forest, California</td>\n",
       "      <td>2</td>\n",
       "      <td>0.070109</td>\n",
       "      <td>0.568805</td>\n",
       "    </tr>\n",
       "    <tr>\n",
       "      <th>63</th>\n",
       "      <td>student chapman university</td>\n",
       "      <td>Lake Forest, California</td>\n",
       "      <td>2</td>\n",
       "      <td>0.070109</td>\n",
       "      <td>0.568805</td>\n",
       "    </tr>\n",
       "    <tr>\n",
       "      <th>54</th>\n",
       "      <td>student chapman university</td>\n",
       "      <td>Lake Forest, California</td>\n",
       "      <td>2</td>\n",
       "      <td>0.070109</td>\n",
       "      <td>0.568805</td>\n",
       "    </tr>\n",
       "    <tr>\n",
       "      <th>87</th>\n",
       "      <td>bachelor science biology victoria university w...</td>\n",
       "      <td>Baltimore, Maryland</td>\n",
       "      <td>40</td>\n",
       "      <td>0.115211</td>\n",
       "      <td>0.569897</td>\n",
       "    </tr>\n",
       "    <tr>\n",
       "      <th>96</th>\n",
       "      <td>student indiana university kokomo business man...</td>\n",
       "      <td>Lafayette, Indiana</td>\n",
       "      <td>19</td>\n",
       "      <td>0.040807</td>\n",
       "      <td>0.572477</td>\n",
       "    </tr>\n",
       "    <tr>\n",
       "      <th>85</th>\n",
       "      <td>rrp brand portfolio executive jti japan tobacc...</td>\n",
       "      <td>Greater Philadelphia Area</td>\n",
       "      <td>500</td>\n",
       "      <td>0.040384</td>\n",
       "      <td>0.595830</td>\n",
       "    </tr>\n",
       "    <tr>\n",
       "      <th>83</th>\n",
       "      <td>human resource manager endemol shine north ame...</td>\n",
       "      <td>Los Angeles, California</td>\n",
       "      <td>268</td>\n",
       "      <td>0.086408</td>\n",
       "      <td>0.606563</td>\n",
       "    </tr>\n",
       "    <tr>\n",
       "      <th>69</th>\n",
       "      <td>director human resources north america groupe ...</td>\n",
       "      <td>Greater Grand Rapids, Michigan Area</td>\n",
       "      <td>500</td>\n",
       "      <td>0.459131</td>\n",
       "      <td>0.610790</td>\n",
       "    </tr>\n",
       "    <tr>\n",
       "      <th>12</th>\n",
       "      <td>senior vice president chief human resources of...</td>\n",
       "      <td>Houston, Texas Area</td>\n",
       "      <td>500</td>\n",
       "      <td>0.032235</td>\n",
       "      <td>0.616377</td>\n",
       "    </tr>\n",
       "    <tr>\n",
       "      <th>64</th>\n",
       "      <td>senior vice president chief human resources of...</td>\n",
       "      <td>Houston, Texas Area</td>\n",
       "      <td>500</td>\n",
       "      <td>0.032235</td>\n",
       "      <td>0.616377</td>\n",
       "    </tr>\n",
       "    <tr>\n",
       "      <th>55</th>\n",
       "      <td>senior vice president chief human resources of...</td>\n",
       "      <td>Houston, Texas Area</td>\n",
       "      <td>500</td>\n",
       "      <td>0.032235</td>\n",
       "      <td>0.616377</td>\n",
       "    </tr>\n",
       "    <tr>\n",
       "      <th>42</th>\n",
       "      <td>senior vice president chief human resources of...</td>\n",
       "      <td>Houston, Texas Area</td>\n",
       "      <td>500</td>\n",
       "      <td>0.032235</td>\n",
       "      <td>0.616377</td>\n",
       "    </tr>\n",
       "    <tr>\n",
       "      <th>103</th>\n",
       "      <td>always set success</td>\n",
       "      <td>Greater Los Angeles Area</td>\n",
       "      <td>500</td>\n",
       "      <td>0.072144</td>\n",
       "      <td>0.618900</td>\n",
       "    </tr>\n",
       "    <tr>\n",
       "      <th>16</th>\n",
       "      <td>native english teacher epik english program korea</td>\n",
       "      <td>Kanada</td>\n",
       "      <td>500</td>\n",
       "      <td>0.050053</td>\n",
       "      <td>0.629153</td>\n",
       "    </tr>\n",
       "    <tr>\n",
       "      <th>45</th>\n",
       "      <td>native english teacher epik english program korea</td>\n",
       "      <td>Kanada</td>\n",
       "      <td>500</td>\n",
       "      <td>0.050053</td>\n",
       "      <td>0.629153</td>\n",
       "    </tr>\n",
       "    <tr>\n",
       "      <th>2</th>\n",
       "      <td>native english teacher epik english program korea</td>\n",
       "      <td>Kanada</td>\n",
       "      <td>500</td>\n",
       "      <td>0.050053</td>\n",
       "      <td>0.629153</td>\n",
       "    </tr>\n",
       "    <tr>\n",
       "      <th>20</th>\n",
       "      <td>native english teacher epik english program korea</td>\n",
       "      <td>Kanada</td>\n",
       "      <td>500</td>\n",
       "      <td>0.050053</td>\n",
       "      <td>0.629153</td>\n",
       "    </tr>\n",
       "    <tr>\n",
       "      <th>32</th>\n",
       "      <td>native english teacher epik english program korea</td>\n",
       "      <td>Kanada</td>\n",
       "      <td>500</td>\n",
       "      <td>0.050053</td>\n",
       "      <td>0.629153</td>\n",
       "    </tr>\n",
       "    <tr>\n",
       "      <th>70</th>\n",
       "      <td>retired army national guard recruiter office m...</td>\n",
       "      <td>Virginia Beach, Virginia</td>\n",
       "      <td>82</td>\n",
       "      <td>0.052260</td>\n",
       "      <td>0.635272</td>\n",
       "    </tr>\n",
       "    <tr>\n",
       "      <th>80</th>\n",
       "      <td>junior manufacturing execution system informat...</td>\n",
       "      <td>Myrtle Beach, South Carolina Area</td>\n",
       "      <td>52</td>\n",
       "      <td>0.081239</td>\n",
       "      <td>0.645088</td>\n",
       "    </tr>\n",
       "    <tr>\n",
       "      <th>78</th>\n",
       "      <td>human resources generalist schwan</td>\n",
       "      <td>Amerika Birleşik Devletleri</td>\n",
       "      <td>500</td>\n",
       "      <td>0.204287</td>\n",
       "      <td>0.677868</td>\n",
       "    </tr>\n",
       "    <tr>\n",
       "      <th>43</th>\n",
       "      <td>human resources coordinator intercontinental b...</td>\n",
       "      <td>Atlanta, Georgia</td>\n",
       "      <td>500</td>\n",
       "      <td>0.128777</td>\n",
       "      <td>0.678868</td>\n",
       "    </tr>\n",
       "    <tr>\n",
       "      <th>65</th>\n",
       "      <td>human resources coordinator intercontinental b...</td>\n",
       "      <td>Atlanta, Georgia</td>\n",
       "      <td>500</td>\n",
       "      <td>0.128777</td>\n",
       "      <td>0.678868</td>\n",
       "    </tr>\n",
       "    <tr>\n",
       "      <th>56</th>\n",
       "      <td>human resources coordinator intercontinental b...</td>\n",
       "      <td>Atlanta, Georgia</td>\n",
       "      <td>500</td>\n",
       "      <td>0.128777</td>\n",
       "      <td>0.678868</td>\n",
       "    </tr>\n",
       "    <tr>\n",
       "      <th>13</th>\n",
       "      <td>human resources coordinator intercontinental b...</td>\n",
       "      <td>Atlanta, Georgia</td>\n",
       "      <td>500</td>\n",
       "      <td>0.128777</td>\n",
       "      <td>0.678868</td>\n",
       "    </tr>\n",
       "    <tr>\n",
       "      <th>15</th>\n",
       "      <td>college business graduate magna cum laude aspi...</td>\n",
       "      <td>Houston, Texas</td>\n",
       "      <td>85</td>\n",
       "      <td>0.027578</td>\n",
       "      <td>0.683615</td>\n",
       "    </tr>\n",
       "    <tr>\n",
       "      <th>57</th>\n",
       "      <td>college business graduate magna cum laude aspi...</td>\n",
       "      <td>Houston, Texas</td>\n",
       "      <td>85</td>\n",
       "      <td>0.027578</td>\n",
       "      <td>0.683615</td>\n",
       "    </tr>\n",
       "    <tr>\n",
       "      <th>14</th>\n",
       "      <td>college business graduate magna cum laude aspi...</td>\n",
       "      <td>Houston, Texas</td>\n",
       "      <td>85</td>\n",
       "      <td>0.027578</td>\n",
       "      <td>0.683615</td>\n",
       "    </tr>\n",
       "    <tr>\n",
       "      <th>31</th>\n",
       "      <td>college business graduate magna cum laude aspi...</td>\n",
       "      <td>Houston, Texas</td>\n",
       "      <td>85</td>\n",
       "      <td>0.027578</td>\n",
       "      <td>0.683615</td>\n",
       "    </tr>\n",
       "    <tr>\n",
       "      <th>44</th>\n",
       "      <td>college business graduate magna cum laude aspi...</td>\n",
       "      <td>Houston, Texas</td>\n",
       "      <td>85</td>\n",
       "      <td>0.027578</td>\n",
       "      <td>0.683615</td>\n",
       "    </tr>\n",
       "    <tr>\n",
       "      <th>19</th>\n",
       "      <td>college business graduate magna cum laude aspi...</td>\n",
       "      <td>Houston, Texas</td>\n",
       "      <td>85</td>\n",
       "      <td>0.027578</td>\n",
       "      <td>0.683615</td>\n",
       "    </tr>\n",
       "    <tr>\n",
       "      <th>1</th>\n",
       "      <td>college business graduate magna cum laude aspi...</td>\n",
       "      <td>Houston, Texas</td>\n",
       "      <td>85</td>\n",
       "      <td>0.027578</td>\n",
       "      <td>0.683615</td>\n",
       "    </tr>\n",
       "    <tr>\n",
       "      <th>98</th>\n",
       "      <td>student</td>\n",
       "      <td>Houston, Texas Area</td>\n",
       "      <td>4</td>\n",
       "      <td>0.020714</td>\n",
       "      <td>0.686118</td>\n",
       "    </tr>\n",
       "    <tr>\n",
       "      <th>102</th>\n",
       "      <td>business intelligence analytics travelers</td>\n",
       "      <td>Greater New York City Area</td>\n",
       "      <td>49</td>\n",
       "      <td>0.156992</td>\n",
       "      <td>0.691551</td>\n",
       "    </tr>\n",
       "    <tr>\n",
       "      <th>86</th>\n",
       "      <td>information systems specialist programmer love...</td>\n",
       "      <td>Gaithersburg, Maryland</td>\n",
       "      <td>4</td>\n",
       "      <td>0.059279</td>\n",
       "      <td>0.697139</td>\n",
       "    </tr>\n",
       "    <tr>\n",
       "      <th>71</th>\n",
       "      <td>human resources generalist scottmadden inc</td>\n",
       "      <td>Raleigh-Durham, North Carolina Area</td>\n",
       "      <td>500</td>\n",
       "      <td>0.164539</td>\n",
       "      <td>0.700150</td>\n",
       "    </tr>\n",
       "    <tr>\n",
       "      <th>40</th>\n",
       "      <td>seeking human resources human resources inform...</td>\n",
       "      <td>Greater Philadelphia Area</td>\n",
       "      <td>500</td>\n",
       "      <td>0.553227</td>\n",
       "      <td>0.701735</td>\n",
       "    </tr>\n",
       "    <tr>\n",
       "      <th>10</th>\n",
       "      <td>seeking human resources human resources inform...</td>\n",
       "      <td>Greater Philadelphia Area</td>\n",
       "      <td>500</td>\n",
       "      <td>0.553227</td>\n",
       "      <td>0.701735</td>\n",
       "    </tr>\n",
       "    <tr>\n",
       "      <th>62</th>\n",
       "      <td>seeking human resources human resources inform...</td>\n",
       "      <td>Greater Philadelphia Area</td>\n",
       "      <td>500</td>\n",
       "      <td>0.553227</td>\n",
       "      <td>0.701735</td>\n",
       "    </tr>\n",
       "    <tr>\n",
       "      <th>53</th>\n",
       "      <td>seeking human resources human resources inform...</td>\n",
       "      <td>Greater Philadelphia Area</td>\n",
       "      <td>500</td>\n",
       "      <td>0.553227</td>\n",
       "      <td>0.701735</td>\n",
       "    </tr>\n",
       "    <tr>\n",
       "      <th>101</th>\n",
       "      <td>human resources generalist loparex</td>\n",
       "      <td>Raleigh-Durham, North Carolina Area</td>\n",
       "      <td>500</td>\n",
       "      <td>0.204287</td>\n",
       "      <td>0.702107</td>\n",
       "    </tr>\n",
       "    <tr>\n",
       "      <th>81</th>\n",
       "      <td>senior human resources business partner heil e...</td>\n",
       "      <td>Chattanooga, Tennessee Area</td>\n",
       "      <td>455</td>\n",
       "      <td>0.470671</td>\n",
       "      <td>0.703044</td>\n",
       "    </tr>\n",
       "    <tr>\n",
       "      <th>92</th>\n",
       "      <td>seeking employment opportunity within customer...</td>\n",
       "      <td>Torrance, California</td>\n",
       "      <td>64</td>\n",
       "      <td>0.274850</td>\n",
       "      <td>0.707472</td>\n",
       "    </tr>\n",
       "    <tr>\n",
       "      <th>77</th>\n",
       "      <td>human conflict policies compensation</td>\n",
       "      <td>Dallas/Fort Worth Area</td>\n",
       "      <td>409</td>\n",
       "      <td>0.141573</td>\n",
       "      <td>0.713973</td>\n",
       "    </tr>\n",
       "    <tr>\n",
       "      <th>75</th>\n",
       "      <td>nortia staffing seeking human resources payrol...</td>\n",
       "      <td>San Jose, California</td>\n",
       "      <td>500</td>\n",
       "      <td>0.047626</td>\n",
       "      <td>0.721189</td>\n",
       "    </tr>\n",
       "    <tr>\n",
       "      <th>88</th>\n",
       "      <td>human resources management major</td>\n",
       "      <td>Milpitas, California</td>\n",
       "      <td>18</td>\n",
       "      <td>0.170611</td>\n",
       "      <td>0.729110</td>\n",
       "    </tr>\n",
       "    <tr>\n",
       "      <th>84</th>\n",
       "      <td>human resources professional world leader gis ...</td>\n",
       "      <td>Highland, California</td>\n",
       "      <td>50</td>\n",
       "      <td>0.089216</td>\n",
       "      <td>0.740502</td>\n",
       "    </tr>\n",
       "    <tr>\n",
       "      <th>52</th>\n",
       "      <td>student humber college aspiring human resource...</td>\n",
       "      <td>Kanada</td>\n",
       "      <td>61</td>\n",
       "      <td>0.022395</td>\n",
       "      <td>0.745890</td>\n",
       "    </tr>\n",
       "    <tr>\n",
       "      <th>37</th>\n",
       "      <td>student humber college aspiring human resource...</td>\n",
       "      <td>Kanada</td>\n",
       "      <td>61</td>\n",
       "      <td>0.022395</td>\n",
       "      <td>0.745890</td>\n",
       "    </tr>\n",
       "    <tr>\n",
       "      <th>25</th>\n",
       "      <td>student humber college aspiring human resource...</td>\n",
       "      <td>Kanada</td>\n",
       "      <td>61</td>\n",
       "      <td>0.022395</td>\n",
       "      <td>0.745890</td>\n",
       "    </tr>\n",
       "    <tr>\n",
       "      <th>39</th>\n",
       "      <td>student humber college aspiring human resource...</td>\n",
       "      <td>Kanada</td>\n",
       "      <td>61</td>\n",
       "      <td>0.022395</td>\n",
       "      <td>0.745890</td>\n",
       "    </tr>\n",
       "  </tbody>\n",
       "</table>\n",
       "</div>"
      ],
      "text/plain": [
       "                                             job_title  \\\n",
       "id                                                       \n",
       "35        advisory board member celal bayar university   \n",
       "23        advisory board member celal bayar university   \n",
       "5         advisory board member celal bayar university   \n",
       "48        advisory board member celal bayar university   \n",
       "95                  student westfield state university   \n",
       "90     undergraduate research assistant styczynski lab   \n",
       "91           lead official western illinois university   \n",
       "93   admissions representative community medical ce...   \n",
       "11                          student chapman university   \n",
       "41                          student chapman university   \n",
       "63                          student chapman university   \n",
       "54                          student chapman university   \n",
       "87   bachelor science biology victoria university w...   \n",
       "96   student indiana university kokomo business man...   \n",
       "85   rrp brand portfolio executive jti japan tobacc...   \n",
       "83   human resource manager endemol shine north ame...   \n",
       "69   director human resources north america groupe ...   \n",
       "12   senior vice president chief human resources of...   \n",
       "64   senior vice president chief human resources of...   \n",
       "55   senior vice president chief human resources of...   \n",
       "42   senior vice president chief human resources of...   \n",
       "103                                 always set success   \n",
       "16   native english teacher epik english program korea   \n",
       "45   native english teacher epik english program korea   \n",
       "2    native english teacher epik english program korea   \n",
       "20   native english teacher epik english program korea   \n",
       "32   native english teacher epik english program korea   \n",
       "70   retired army national guard recruiter office m...   \n",
       "80   junior manufacturing execution system informat...   \n",
       "78                   human resources generalist schwan   \n",
       "43   human resources coordinator intercontinental b...   \n",
       "65   human resources coordinator intercontinental b...   \n",
       "56   human resources coordinator intercontinental b...   \n",
       "13   human resources coordinator intercontinental b...   \n",
       "15   college business graduate magna cum laude aspi...   \n",
       "57   college business graduate magna cum laude aspi...   \n",
       "14   college business graduate magna cum laude aspi...   \n",
       "31   college business graduate magna cum laude aspi...   \n",
       "44   college business graduate magna cum laude aspi...   \n",
       "19   college business graduate magna cum laude aspi...   \n",
       "1    college business graduate magna cum laude aspi...   \n",
       "98                                             student   \n",
       "102          business intelligence analytics travelers   \n",
       "86   information systems specialist programmer love...   \n",
       "71          human resources generalist scottmadden inc   \n",
       "40   seeking human resources human resources inform...   \n",
       "10   seeking human resources human resources inform...   \n",
       "62   seeking human resources human resources inform...   \n",
       "53   seeking human resources human resources inform...   \n",
       "101                 human resources generalist loparex   \n",
       "81   senior human resources business partner heil e...   \n",
       "92   seeking employment opportunity within customer...   \n",
       "77                human conflict policies compensation   \n",
       "75   nortia staffing seeking human resources payrol...   \n",
       "88                    human resources management major   \n",
       "84   human resources professional world leader gis ...   \n",
       "52   student humber college aspiring human resource...   \n",
       "37   student humber college aspiring human resource...   \n",
       "25   student humber college aspiring human resource...   \n",
       "39   student humber college aspiring human resource...   \n",
       "\n",
       "                                location  connection  fit_word2vec  fit_bert  \n",
       "id                                                                            \n",
       "35                        İzmir, Türkiye         500      0.075786  0.442163  \n",
       "23                        İzmir, Türkiye         500      0.075786  0.442163  \n",
       "5                         İzmir, Türkiye         500      0.075786  0.442163  \n",
       "48                        İzmir, Türkiye         500      0.075786  0.442163  \n",
       "95            Bridgewater, Massachusetts          57      0.072322  0.511733  \n",
       "90                  Greater Atlanta Area         155      0.101950  0.512272  \n",
       "91                  Greater Chicago Area          39      0.048381  0.528180  \n",
       "93                Long Beach, California           9      0.078601  0.536840  \n",
       "11               Lake Forest, California           2      0.070109  0.568805  \n",
       "41               Lake Forest, California           2      0.070109  0.568805  \n",
       "63               Lake Forest, California           2      0.070109  0.568805  \n",
       "54               Lake Forest, California           2      0.070109  0.568805  \n",
       "87                   Baltimore, Maryland          40      0.115211  0.569897  \n",
       "96                    Lafayette, Indiana          19      0.040807  0.572477  \n",
       "85             Greater Philadelphia Area         500      0.040384  0.595830  \n",
       "83               Los Angeles, California         268      0.086408  0.606563  \n",
       "69   Greater Grand Rapids, Michigan Area         500      0.459131  0.610790  \n",
       "12                   Houston, Texas Area         500      0.032235  0.616377  \n",
       "64                   Houston, Texas Area         500      0.032235  0.616377  \n",
       "55                   Houston, Texas Area         500      0.032235  0.616377  \n",
       "42                   Houston, Texas Area         500      0.032235  0.616377  \n",
       "103             Greater Los Angeles Area         500      0.072144  0.618900  \n",
       "16                                Kanada         500      0.050053  0.629153  \n",
       "45                                Kanada         500      0.050053  0.629153  \n",
       "2                                 Kanada         500      0.050053  0.629153  \n",
       "20                                Kanada         500      0.050053  0.629153  \n",
       "32                                Kanada         500      0.050053  0.629153  \n",
       "70              Virginia Beach, Virginia          82      0.052260  0.635272  \n",
       "80     Myrtle Beach, South Carolina Area          52      0.081239  0.645088  \n",
       "78           Amerika Birleşik Devletleri         500      0.204287  0.677868  \n",
       "43                      Atlanta, Georgia         500      0.128777  0.678868  \n",
       "65                      Atlanta, Georgia         500      0.128777  0.678868  \n",
       "56                      Atlanta, Georgia         500      0.128777  0.678868  \n",
       "13                      Atlanta, Georgia         500      0.128777  0.678868  \n",
       "15                        Houston, Texas          85      0.027578  0.683615  \n",
       "57                        Houston, Texas          85      0.027578  0.683615  \n",
       "14                        Houston, Texas          85      0.027578  0.683615  \n",
       "31                        Houston, Texas          85      0.027578  0.683615  \n",
       "44                        Houston, Texas          85      0.027578  0.683615  \n",
       "19                        Houston, Texas          85      0.027578  0.683615  \n",
       "1                         Houston, Texas          85      0.027578  0.683615  \n",
       "98                   Houston, Texas Area           4      0.020714  0.686118  \n",
       "102           Greater New York City Area          49      0.156992  0.691551  \n",
       "86                Gaithersburg, Maryland           4      0.059279  0.697139  \n",
       "71   Raleigh-Durham, North Carolina Area         500      0.164539  0.700150  \n",
       "40             Greater Philadelphia Area         500      0.553227  0.701735  \n",
       "10             Greater Philadelphia Area         500      0.553227  0.701735  \n",
       "62             Greater Philadelphia Area         500      0.553227  0.701735  \n",
       "53             Greater Philadelphia Area         500      0.553227  0.701735  \n",
       "101  Raleigh-Durham, North Carolina Area         500      0.204287  0.702107  \n",
       "81           Chattanooga, Tennessee Area         455      0.470671  0.703044  \n",
       "92                  Torrance, California          64      0.274850  0.707472  \n",
       "77                Dallas/Fort Worth Area         409      0.141573  0.713973  \n",
       "75                  San Jose, California         500      0.047626  0.721189  \n",
       "88                  Milpitas, California          18      0.170611  0.729110  \n",
       "84                  Highland, California          50      0.089216  0.740502  \n",
       "52                                Kanada          61      0.022395  0.745890  \n",
       "37                                Kanada          61      0.022395  0.745890  \n",
       "25                                Kanada          61      0.022395  0.745890  \n",
       "39                                Kanada          61      0.022395  0.745890  "
      ]
     },
     "execution_count": 210,
     "metadata": {},
     "output_type": "execute_result"
    }
   ],
   "source": [
    "top_candidates(n = 60, by = 'fit_bert', ascending = True, min_con = 0)"
   ]
  },
  {
   "cell_type": "code",
   "execution_count": 211,
   "id": "d033076b-fcac-4e6f-a21e-66e89edb9d6f",
   "metadata": {},
   "outputs": [
    {
     "data": {
      "application/vnd.plotly.v1+json": {
       "config": {
        "plotlyServerURL": "https://plot.ly"
       },
       "data": [
        {
         "alignmentgroup": "True",
         "bingroup": "x",
         "hovertemplate": "fit_bert=%{x}<br>count=%{y}<extra></extra>",
         "legendgroup": "",
         "marker": {
          "color": "#636efa",
          "pattern": {
           "shape": ""
          }
         },
         "name": "",
         "offsetgroup": "",
         "orientation": "v",
         "showlegend": false,
         "type": "histogram",
         "x": [
          0.6836150288581848,
          0.629152774810791,
          0.9026320576667786,
          0.7572605609893799,
          0.4421631693840027,
          0.9054798483848572,
          0.7458895444869995,
          0.7912101745605469,
          0.7458895444869995,
          0.7017353773117065,
          0.568804919719696,
          0.6163767576217651,
          0.6788680553436279,
          0.6836150288581848,
          0.6836150288581848,
          0.629152774810791,
          0.9026320576667786,
          0.7572605609893799,
          0.6836150288581848,
          0.629152774810791,
          0.9026320576667786,
          0.7572605609893799,
          0.4421631693840027,
          0.9054798483848572,
          0.7458895444869995,
          0.7912101745605469,
          0.8070290088653564,
          0.8234529495239258,
          0.8070290088653564,
          0.8234529495239258,
          0.6836150288581848,
          0.629152774810791,
          0.9026320576667786,
          0.7572605609893799,
          0.4421631693840027,
          0.9054798483848572,
          0.7458895444869995,
          0.7912101745605469,
          0.7458895444869995,
          0.7017353773117065,
          0.568804919719696,
          0.6163767576217651,
          0.6788680553436279,
          0.6836150288581848,
          0.629152774810791,
          0.9026320576667786,
          0.7572605609893799,
          0.4421631693840027,
          0.9054798483848572,
          0.7458895444869995,
          0.7912101745605469,
          0.7458895444869995,
          0.7017353773117065,
          0.568804919719696,
          0.6163767576217651,
          0.6788680553436279,
          0.6836150288581848,
          0.9026320576667786,
          0.7572605609893799,
          0.9054798483848572,
          0.7912101745605469,
          0.7017353773117065,
          0.568804919719696,
          0.6163767576217651,
          0.6788680553436279,
          0.7927755117416382,
          0.7567234635353088,
          0.7784268260002136,
          0.6107895970344543,
          0.6352717876434326,
          0.7001500129699707,
          0.764904260635376,
          0.828925609588623,
          0.8143116235733032,
          0.7211889028549194,
          0.747665524482727,
          0.7139725089073181,
          0.6778683662414551,
          0.7640057802200317,
          0.645087718963623,
          0.703044056892395,
          0.8867754340171814,
          0.6065629720687866,
          0.7405023574829102,
          0.5958296060562134,
          0.6971387267112732,
          0.5698968172073364,
          0.7291103601455688,
          0.7786791324615479,
          0.5122716426849365,
          0.5281795263290405,
          0.7074719667434692,
          0.5368397235870361,
          0.7764761447906494,
          0.5117329955101013,
          0.5724765658378601,
          0.9026320576667786,
          0.6861177682876587,
          0.8154094219207764,
          0.7461920976638794,
          0.7021068334579468,
          0.6915508508682251,
          0.6189001798629761,
          0.767460823059082
         ],
         "xaxis": "x",
         "yaxis": "y"
        }
       ],
       "layout": {
        "autosize": true,
        "barmode": "relative",
        "legend": {
         "tracegroupgap": 0
        },
        "margin": {
         "t": 60
        },
        "template": {
         "data": {
          "bar": [
           {
            "error_x": {
             "color": "#2a3f5f"
            },
            "error_y": {
             "color": "#2a3f5f"
            },
            "marker": {
             "line": {
              "color": "#E5ECF6",
              "width": 0.5
             },
             "pattern": {
              "fillmode": "overlay",
              "size": 10,
              "solidity": 0.2
             }
            },
            "type": "bar"
           }
          ],
          "barpolar": [
           {
            "marker": {
             "line": {
              "color": "#E5ECF6",
              "width": 0.5
             },
             "pattern": {
              "fillmode": "overlay",
              "size": 10,
              "solidity": 0.2
             }
            },
            "type": "barpolar"
           }
          ],
          "carpet": [
           {
            "aaxis": {
             "endlinecolor": "#2a3f5f",
             "gridcolor": "white",
             "linecolor": "white",
             "minorgridcolor": "white",
             "startlinecolor": "#2a3f5f"
            },
            "baxis": {
             "endlinecolor": "#2a3f5f",
             "gridcolor": "white",
             "linecolor": "white",
             "minorgridcolor": "white",
             "startlinecolor": "#2a3f5f"
            },
            "type": "carpet"
           }
          ],
          "choropleth": [
           {
            "colorbar": {
             "outlinewidth": 0,
             "ticks": ""
            },
            "type": "choropleth"
           }
          ],
          "contour": [
           {
            "colorbar": {
             "outlinewidth": 0,
             "ticks": ""
            },
            "colorscale": [
             [
              0,
              "#0d0887"
             ],
             [
              0.1111111111111111,
              "#46039f"
             ],
             [
              0.2222222222222222,
              "#7201a8"
             ],
             [
              0.3333333333333333,
              "#9c179e"
             ],
             [
              0.4444444444444444,
              "#bd3786"
             ],
             [
              0.5555555555555556,
              "#d8576b"
             ],
             [
              0.6666666666666666,
              "#ed7953"
             ],
             [
              0.7777777777777778,
              "#fb9f3a"
             ],
             [
              0.8888888888888888,
              "#fdca26"
             ],
             [
              1,
              "#f0f921"
             ]
            ],
            "type": "contour"
           }
          ],
          "contourcarpet": [
           {
            "colorbar": {
             "outlinewidth": 0,
             "ticks": ""
            },
            "type": "contourcarpet"
           }
          ],
          "heatmap": [
           {
            "colorbar": {
             "outlinewidth": 0,
             "ticks": ""
            },
            "colorscale": [
             [
              0,
              "#0d0887"
             ],
             [
              0.1111111111111111,
              "#46039f"
             ],
             [
              0.2222222222222222,
              "#7201a8"
             ],
             [
              0.3333333333333333,
              "#9c179e"
             ],
             [
              0.4444444444444444,
              "#bd3786"
             ],
             [
              0.5555555555555556,
              "#d8576b"
             ],
             [
              0.6666666666666666,
              "#ed7953"
             ],
             [
              0.7777777777777778,
              "#fb9f3a"
             ],
             [
              0.8888888888888888,
              "#fdca26"
             ],
             [
              1,
              "#f0f921"
             ]
            ],
            "type": "heatmap"
           }
          ],
          "heatmapgl": [
           {
            "colorbar": {
             "outlinewidth": 0,
             "ticks": ""
            },
            "colorscale": [
             [
              0,
              "#0d0887"
             ],
             [
              0.1111111111111111,
              "#46039f"
             ],
             [
              0.2222222222222222,
              "#7201a8"
             ],
             [
              0.3333333333333333,
              "#9c179e"
             ],
             [
              0.4444444444444444,
              "#bd3786"
             ],
             [
              0.5555555555555556,
              "#d8576b"
             ],
             [
              0.6666666666666666,
              "#ed7953"
             ],
             [
              0.7777777777777778,
              "#fb9f3a"
             ],
             [
              0.8888888888888888,
              "#fdca26"
             ],
             [
              1,
              "#f0f921"
             ]
            ],
            "type": "heatmapgl"
           }
          ],
          "histogram": [
           {
            "marker": {
             "pattern": {
              "fillmode": "overlay",
              "size": 10,
              "solidity": 0.2
             }
            },
            "type": "histogram"
           }
          ],
          "histogram2d": [
           {
            "colorbar": {
             "outlinewidth": 0,
             "ticks": ""
            },
            "colorscale": [
             [
              0,
              "#0d0887"
             ],
             [
              0.1111111111111111,
              "#46039f"
             ],
             [
              0.2222222222222222,
              "#7201a8"
             ],
             [
              0.3333333333333333,
              "#9c179e"
             ],
             [
              0.4444444444444444,
              "#bd3786"
             ],
             [
              0.5555555555555556,
              "#d8576b"
             ],
             [
              0.6666666666666666,
              "#ed7953"
             ],
             [
              0.7777777777777778,
              "#fb9f3a"
             ],
             [
              0.8888888888888888,
              "#fdca26"
             ],
             [
              1,
              "#f0f921"
             ]
            ],
            "type": "histogram2d"
           }
          ],
          "histogram2dcontour": [
           {
            "colorbar": {
             "outlinewidth": 0,
             "ticks": ""
            },
            "colorscale": [
             [
              0,
              "#0d0887"
             ],
             [
              0.1111111111111111,
              "#46039f"
             ],
             [
              0.2222222222222222,
              "#7201a8"
             ],
             [
              0.3333333333333333,
              "#9c179e"
             ],
             [
              0.4444444444444444,
              "#bd3786"
             ],
             [
              0.5555555555555556,
              "#d8576b"
             ],
             [
              0.6666666666666666,
              "#ed7953"
             ],
             [
              0.7777777777777778,
              "#fb9f3a"
             ],
             [
              0.8888888888888888,
              "#fdca26"
             ],
             [
              1,
              "#f0f921"
             ]
            ],
            "type": "histogram2dcontour"
           }
          ],
          "mesh3d": [
           {
            "colorbar": {
             "outlinewidth": 0,
             "ticks": ""
            },
            "type": "mesh3d"
           }
          ],
          "parcoords": [
           {
            "line": {
             "colorbar": {
              "outlinewidth": 0,
              "ticks": ""
             }
            },
            "type": "parcoords"
           }
          ],
          "pie": [
           {
            "automargin": true,
            "type": "pie"
           }
          ],
          "scatter": [
           {
            "fillpattern": {
             "fillmode": "overlay",
             "size": 10,
             "solidity": 0.2
            },
            "type": "scatter"
           }
          ],
          "scatter3d": [
           {
            "line": {
             "colorbar": {
              "outlinewidth": 0,
              "ticks": ""
             }
            },
            "marker": {
             "colorbar": {
              "outlinewidth": 0,
              "ticks": ""
             }
            },
            "type": "scatter3d"
           }
          ],
          "scattercarpet": [
           {
            "marker": {
             "colorbar": {
              "outlinewidth": 0,
              "ticks": ""
             }
            },
            "type": "scattercarpet"
           }
          ],
          "scattergeo": [
           {
            "marker": {
             "colorbar": {
              "outlinewidth": 0,
              "ticks": ""
             }
            },
            "type": "scattergeo"
           }
          ],
          "scattergl": [
           {
            "marker": {
             "colorbar": {
              "outlinewidth": 0,
              "ticks": ""
             }
            },
            "type": "scattergl"
           }
          ],
          "scattermapbox": [
           {
            "marker": {
             "colorbar": {
              "outlinewidth": 0,
              "ticks": ""
             }
            },
            "type": "scattermapbox"
           }
          ],
          "scatterpolar": [
           {
            "marker": {
             "colorbar": {
              "outlinewidth": 0,
              "ticks": ""
             }
            },
            "type": "scatterpolar"
           }
          ],
          "scatterpolargl": [
           {
            "marker": {
             "colorbar": {
              "outlinewidth": 0,
              "ticks": ""
             }
            },
            "type": "scatterpolargl"
           }
          ],
          "scatterternary": [
           {
            "marker": {
             "colorbar": {
              "outlinewidth": 0,
              "ticks": ""
             }
            },
            "type": "scatterternary"
           }
          ],
          "surface": [
           {
            "colorbar": {
             "outlinewidth": 0,
             "ticks": ""
            },
            "colorscale": [
             [
              0,
              "#0d0887"
             ],
             [
              0.1111111111111111,
              "#46039f"
             ],
             [
              0.2222222222222222,
              "#7201a8"
             ],
             [
              0.3333333333333333,
              "#9c179e"
             ],
             [
              0.4444444444444444,
              "#bd3786"
             ],
             [
              0.5555555555555556,
              "#d8576b"
             ],
             [
              0.6666666666666666,
              "#ed7953"
             ],
             [
              0.7777777777777778,
              "#fb9f3a"
             ],
             [
              0.8888888888888888,
              "#fdca26"
             ],
             [
              1,
              "#f0f921"
             ]
            ],
            "type": "surface"
           }
          ],
          "table": [
           {
            "cells": {
             "fill": {
              "color": "#EBF0F8"
             },
             "line": {
              "color": "white"
             }
            },
            "header": {
             "fill": {
              "color": "#C8D4E3"
             },
             "line": {
              "color": "white"
             }
            },
            "type": "table"
           }
          ]
         },
         "layout": {
          "annotationdefaults": {
           "arrowcolor": "#2a3f5f",
           "arrowhead": 0,
           "arrowwidth": 1
          },
          "autotypenumbers": "strict",
          "coloraxis": {
           "colorbar": {
            "outlinewidth": 0,
            "ticks": ""
           }
          },
          "colorscale": {
           "diverging": [
            [
             0,
             "#8e0152"
            ],
            [
             0.1,
             "#c51b7d"
            ],
            [
             0.2,
             "#de77ae"
            ],
            [
             0.3,
             "#f1b6da"
            ],
            [
             0.4,
             "#fde0ef"
            ],
            [
             0.5,
             "#f7f7f7"
            ],
            [
             0.6,
             "#e6f5d0"
            ],
            [
             0.7,
             "#b8e186"
            ],
            [
             0.8,
             "#7fbc41"
            ],
            [
             0.9,
             "#4d9221"
            ],
            [
             1,
             "#276419"
            ]
           ],
           "sequential": [
            [
             0,
             "#0d0887"
            ],
            [
             0.1111111111111111,
             "#46039f"
            ],
            [
             0.2222222222222222,
             "#7201a8"
            ],
            [
             0.3333333333333333,
             "#9c179e"
            ],
            [
             0.4444444444444444,
             "#bd3786"
            ],
            [
             0.5555555555555556,
             "#d8576b"
            ],
            [
             0.6666666666666666,
             "#ed7953"
            ],
            [
             0.7777777777777778,
             "#fb9f3a"
            ],
            [
             0.8888888888888888,
             "#fdca26"
            ],
            [
             1,
             "#f0f921"
            ]
           ],
           "sequentialminus": [
            [
             0,
             "#0d0887"
            ],
            [
             0.1111111111111111,
             "#46039f"
            ],
            [
             0.2222222222222222,
             "#7201a8"
            ],
            [
             0.3333333333333333,
             "#9c179e"
            ],
            [
             0.4444444444444444,
             "#bd3786"
            ],
            [
             0.5555555555555556,
             "#d8576b"
            ],
            [
             0.6666666666666666,
             "#ed7953"
            ],
            [
             0.7777777777777778,
             "#fb9f3a"
            ],
            [
             0.8888888888888888,
             "#fdca26"
            ],
            [
             1,
             "#f0f921"
            ]
           ]
          },
          "colorway": [
           "#636efa",
           "#EF553B",
           "#00cc96",
           "#ab63fa",
           "#FFA15A",
           "#19d3f3",
           "#FF6692",
           "#B6E880",
           "#FF97FF",
           "#FECB52"
          ],
          "font": {
           "color": "#2a3f5f"
          },
          "geo": {
           "bgcolor": "white",
           "lakecolor": "white",
           "landcolor": "#E5ECF6",
           "showlakes": true,
           "showland": true,
           "subunitcolor": "white"
          },
          "hoverlabel": {
           "align": "left"
          },
          "hovermode": "closest",
          "mapbox": {
           "style": "light"
          },
          "paper_bgcolor": "white",
          "plot_bgcolor": "#E5ECF6",
          "polar": {
           "angularaxis": {
            "gridcolor": "white",
            "linecolor": "white",
            "ticks": ""
           },
           "bgcolor": "#E5ECF6",
           "radialaxis": {
            "gridcolor": "white",
            "linecolor": "white",
            "ticks": ""
           }
          },
          "scene": {
           "xaxis": {
            "backgroundcolor": "#E5ECF6",
            "gridcolor": "white",
            "gridwidth": 2,
            "linecolor": "white",
            "showbackground": true,
            "ticks": "",
            "zerolinecolor": "white"
           },
           "yaxis": {
            "backgroundcolor": "#E5ECF6",
            "gridcolor": "white",
            "gridwidth": 2,
            "linecolor": "white",
            "showbackground": true,
            "ticks": "",
            "zerolinecolor": "white"
           },
           "zaxis": {
            "backgroundcolor": "#E5ECF6",
            "gridcolor": "white",
            "gridwidth": 2,
            "linecolor": "white",
            "showbackground": true,
            "ticks": "",
            "zerolinecolor": "white"
           }
          },
          "shapedefaults": {
           "line": {
            "color": "#2a3f5f"
           }
          },
          "ternary": {
           "aaxis": {
            "gridcolor": "white",
            "linecolor": "white",
            "ticks": ""
           },
           "baxis": {
            "gridcolor": "white",
            "linecolor": "white",
            "ticks": ""
           },
           "bgcolor": "#E5ECF6",
           "caxis": {
            "gridcolor": "white",
            "linecolor": "white",
            "ticks": ""
           }
          },
          "title": {
           "x": 0.05
          },
          "xaxis": {
           "automargin": true,
           "gridcolor": "white",
           "linecolor": "white",
           "ticks": "",
           "title": {
            "standoff": 15
           },
           "zerolinecolor": "white",
           "zerolinewidth": 2
          },
          "yaxis": {
           "automargin": true,
           "gridcolor": "white",
           "linecolor": "white",
           "ticks": "",
           "title": {
            "standoff": 15
           },
           "zerolinecolor": "white",
           "zerolinewidth": 2
          }
         }
        },
        "xaxis": {
         "anchor": "y",
         "autorange": true,
         "domain": [
          0,
          1
         ],
         "range": [
          0.4000000000000001,
          0.95
         ],
         "title": {
          "text": "fit_bert"
         },
         "type": "linear"
        },
        "yaxis": {
         "anchor": "x",
         "autorange": true,
         "domain": [
          0,
          1
         ],
         "range": [
          0,
          22.105263157894736
         ],
         "title": {
          "text": "count"
         }
        }
       }
      },
      "image/png": "[encoded data removed]",
      "text/html": [
       "<div>                            <div id=\"7842ea63-0010-4369-8234-3630bfa1728c\" class=\"plotly-graph-div\" style=\"height:525px; width:100%;\"></div>            <script type=\"text/javascript\">                require([\"plotly\"], function(Plotly) {                    window.PLOTLYENV=window.PLOTLYENV || {};                                    if (document.getElementById(\"7842ea63-0010-4369-8234-3630bfa1728c\")) {                    Plotly.newPlot(                        \"7842ea63-0010-4369-8234-3630bfa1728c\",                        [{\"alignmentgroup\":\"True\",\"bingroup\":\"x\",\"hovertemplate\":\"fit_bert=%{x}\\u003cbr\\u003ecount=%{y}\\u003cextra\\u003e\\u003c\\u002fextra\\u003e\",\"legendgroup\":\"\",\"marker\":{\"color\":\"#636efa\",\"pattern\":{\"shape\":\"\"}},\"name\":\"\",\"offsetgroup\":\"\",\"orientation\":\"v\",\"showlegend\":false,\"x\":[0.6836150288581848,0.629152774810791,0.9026320576667786,0.7572605609893799,0.4421631693840027,0.9054798483848572,0.7458895444869995,0.7912101745605469,0.7458895444869995,0.7017353773117065,0.568804919719696,0.6163767576217651,0.6788680553436279,0.6836150288581848,0.6836150288581848,0.629152774810791,0.9026320576667786,0.7572605609893799,0.6836150288581848,0.629152774810791,0.9026320576667786,0.7572605609893799,0.4421631693840027,0.9054798483848572,0.7458895444869995,0.7912101745605469,0.8070290088653564,0.8234529495239258,0.8070290088653564,0.8234529495239258,0.6836150288581848,0.629152774810791,0.9026320576667786,0.7572605609893799,0.4421631693840027,0.9054798483848572,0.7458895444869995,0.7912101745605469,0.7458895444869995,0.7017353773117065,0.568804919719696,0.6163767576217651,0.6788680553436279,0.6836150288581848,0.629152774810791,0.9026320576667786,0.7572605609893799,0.4421631693840027,0.9054798483848572,0.7458895444869995,0.7912101745605469,0.7458895444869995,0.7017353773117065,0.568804919719696,0.6163767576217651,0.6788680553436279,0.6836150288581848,0.9026320576667786,0.7572605609893799,0.9054798483848572,0.7912101745605469,0.7017353773117065,0.568804919719696,0.6163767576217651,0.6788680553436279,0.7927755117416382,0.7567234635353088,0.7784268260002136,0.6107895970344543,0.6352717876434326,0.7001500129699707,0.764904260635376,0.828925609588623,0.8143116235733032,0.7211889028549194,0.747665524482727,0.7139725089073181,0.6778683662414551,0.7640057802200317,0.645087718963623,0.703044056892395,0.8867754340171814,0.6065629720687866,0.7405023574829102,0.5958296060562134,0.6971387267112732,0.5698968172073364,0.7291103601455688,0.7786791324615479,0.5122716426849365,0.5281795263290405,0.7074719667434692,0.5368397235870361,0.7764761447906494,0.5117329955101013,0.5724765658378601,0.9026320576667786,0.6861177682876587,0.8154094219207764,0.7461920976638794,0.7021068334579468,0.6915508508682251,0.6189001798629761,0.767460823059082],\"xaxis\":\"x\",\"yaxis\":\"y\",\"type\":\"histogram\"}],                        {\"template\":{\"data\":{\"histogram2dcontour\":[{\"type\":\"histogram2dcontour\",\"colorbar\":{\"outlinewidth\":0,\"ticks\":\"\"},\"colorscale\":[[0.0,\"#0d0887\"],[0.1111111111111111,\"#46039f\"],[0.2222222222222222,\"#7201a8\"],[0.3333333333333333,\"#9c179e\"],[0.4444444444444444,\"#bd3786\"],[0.5555555555555556,\"#d8576b\"],[0.6666666666666666,\"#ed7953\"],[0.7777777777777778,\"#fb9f3a\"],[0.8888888888888888,\"#fdca26\"],[1.0,\"#f0f921\"]]}],\"choropleth\":[{\"type\":\"choropleth\",\"colorbar\":{\"outlinewidth\":0,\"ticks\":\"\"}}],\"histogram2d\":[{\"type\":\"histogram2d\",\"colorbar\":{\"outlinewidth\":0,\"ticks\":\"\"},\"colorscale\":[[0.0,\"#0d0887\"],[0.1111111111111111,\"#46039f\"],[0.2222222222222222,\"#7201a8\"],[0.3333333333333333,\"#9c179e\"],[0.4444444444444444,\"#bd3786\"],[0.5555555555555556,\"#d8576b\"],[0.6666666666666666,\"#ed7953\"],[0.7777777777777778,\"#fb9f3a\"],[0.8888888888888888,\"#fdca26\"],[1.0,\"#f0f921\"]]}],\"heatmap\":[{\"type\":\"heatmap\",\"colorbar\":{\"outlinewidth\":0,\"ticks\":\"\"},\"colorscale\":[[0.0,\"#0d0887\"],[0.1111111111111111,\"#46039f\"],[0.2222222222222222,\"#7201a8\"],[0.3333333333333333,\"#9c179e\"],[0.4444444444444444,\"#bd3786\"],[0.5555555555555556,\"#d8576b\"],[0.6666666666666666,\"#ed7953\"],[0.7777777777777778,\"#fb9f3a\"],[0.8888888888888888,\"#fdca26\"],[1.0,\"#f0f921\"]]}],\"heatmapgl\":[{\"type\":\"heatmapgl\",\"colorbar\":{\"outlinewidth\":0,\"ticks\":\"\"},\"colorscale\":[[0.0,\"#0d0887\"],[0.1111111111111111,\"#46039f\"],[0.2222222222222222,\"#7201a8\"],[0.3333333333333333,\"#9c179e\"],[0.4444444444444444,\"#bd3786\"],[0.5555555555555556,\"#d8576b\"],[0.6666666666666666,\"#ed7953\"],[0.7777777777777778,\"#fb9f3a\"],[0.8888888888888888,\"#fdca26\"],[1.0,\"#f0f921\"]]}],\"contourcarpet\":[{\"type\":\"contourcarpet\",\"colorbar\":{\"outlinewidth\":0,\"ticks\":\"\"}}],\"contour\":[{\"type\":\"contour\",\"colorbar\":{\"outlinewidth\":0,\"ticks\":\"\"},\"colorscale\":[[0.0,\"#0d0887\"],[0.1111111111111111,\"#46039f\"],[0.2222222222222222,\"#7201a8\"],[0.3333333333333333,\"#9c179e\"],[0.4444444444444444,\"#bd3786\"],[0.5555555555555556,\"#d8576b\"],[0.6666666666666666,\"#ed7953\"],[0.7777777777777778,\"#fb9f3a\"],[0.8888888888888888,\"#fdca26\"],[1.0,\"#f0f921\"]]}],\"surface\":[{\"type\":\"surface\",\"colorbar\":{\"outlinewidth\":0,\"ticks\":\"\"},\"colorscale\":[[0.0,\"#0d0887\"],[0.1111111111111111,\"#46039f\"],[0.2222222222222222,\"#7201a8\"],[0.3333333333333333,\"#9c179e\"],[0.4444444444444444,\"#bd3786\"],[0.5555555555555556,\"#d8576b\"],[0.6666666666666666,\"#ed7953\"],[0.7777777777777778,\"#fb9f3a\"],[0.8888888888888888,\"#fdca26\"],[1.0,\"#f0f921\"]]}],\"mesh3d\":[{\"type\":\"mesh3d\",\"colorbar\":{\"outlinewidth\":0,\"ticks\":\"\"}}],\"scatter\":[{\"fillpattern\":{\"fillmode\":\"overlay\",\"size\":10,\"solidity\":0.2},\"type\":\"scatter\"}],\"parcoords\":[{\"type\":\"parcoords\",\"line\":{\"colorbar\":{\"outlinewidth\":0,\"ticks\":\"\"}}}],\"scatterpolargl\":[{\"type\":\"scatterpolargl\",\"marker\":{\"colorbar\":{\"outlinewidth\":0,\"ticks\":\"\"}}}],\"bar\":[{\"error_x\":{\"color\":\"#2a3f5f\"},\"error_y\":{\"color\":\"#2a3f5f\"},\"marker\":{\"line\":{\"color\":\"#E5ECF6\",\"width\":0.5},\"pattern\":{\"fillmode\":\"overlay\",\"size\":10,\"solidity\":0.2}},\"type\":\"bar\"}],\"scattergeo\":[{\"type\":\"scattergeo\",\"marker\":{\"colorbar\":{\"outlinewidth\":0,\"ticks\":\"\"}}}],\"scatterpolar\":[{\"type\":\"scatterpolar\",\"marker\":{\"colorbar\":{\"outlinewidth\":0,\"ticks\":\"\"}}}],\"histogram\":[{\"marker\":{\"pattern\":{\"fillmode\":\"overlay\",\"size\":10,\"solidity\":0.2}},\"type\":\"histogram\"}],\"scattergl\":[{\"type\":\"scattergl\",\"marker\":{\"colorbar\":{\"outlinewidth\":0,\"ticks\":\"\"}}}],\"scatter3d\":[{\"type\":\"scatter3d\",\"line\":{\"colorbar\":{\"outlinewidth\":0,\"ticks\":\"\"}},\"marker\":{\"colorbar\":{\"outlinewidth\":0,\"ticks\":\"\"}}}],\"scattermapbox\":[{\"type\":\"scattermapbox\",\"marker\":{\"colorbar\":{\"outlinewidth\":0,\"ticks\":\"\"}}}],\"scatterternary\":[{\"type\":\"scatterternary\",\"marker\":{\"colorbar\":{\"outlinewidth\":0,\"ticks\":\"\"}}}],\"scattercarpet\":[{\"type\":\"scattercarpet\",\"marker\":{\"colorbar\":{\"outlinewidth\":0,\"ticks\":\"\"}}}],\"carpet\":[{\"aaxis\":{\"endlinecolor\":\"#2a3f5f\",\"gridcolor\":\"white\",\"linecolor\":\"white\",\"minorgridcolor\":\"white\",\"startlinecolor\":\"#2a3f5f\"},\"baxis\":{\"endlinecolor\":\"#2a3f5f\",\"gridcolor\":\"white\",\"linecolor\":\"white\",\"minorgridcolor\":\"white\",\"startlinecolor\":\"#2a3f5f\"},\"type\":\"carpet\"}],\"table\":[{\"cells\":{\"fill\":{\"color\":\"#EBF0F8\"},\"line\":{\"color\":\"white\"}},\"header\":{\"fill\":{\"color\":\"#C8D4E3\"},\"line\":{\"color\":\"white\"}},\"type\":\"table\"}],\"barpolar\":[{\"marker\":{\"line\":{\"color\":\"#E5ECF6\",\"width\":0.5},\"pattern\":{\"fillmode\":\"overlay\",\"size\":10,\"solidity\":0.2}},\"type\":\"barpolar\"}],\"pie\":[{\"automargin\":true,\"type\":\"pie\"}]},\"layout\":{\"autotypenumbers\":\"strict\",\"colorway\":[\"#636efa\",\"#EF553B\",\"#00cc96\",\"#ab63fa\",\"#FFA15A\",\"#19d3f3\",\"#FF6692\",\"#B6E880\",\"#FF97FF\",\"#FECB52\"],\"font\":{\"color\":\"#2a3f5f\"},\"hovermode\":\"closest\",\"hoverlabel\":{\"align\":\"left\"},\"paper_bgcolor\":\"white\",\"plot_bgcolor\":\"#E5ECF6\",\"polar\":{\"bgcolor\":\"#E5ECF6\",\"angularaxis\":{\"gridcolor\":\"white\",\"linecolor\":\"white\",\"ticks\":\"\"},\"radialaxis\":{\"gridcolor\":\"white\",\"linecolor\":\"white\",\"ticks\":\"\"}},\"ternary\":{\"bgcolor\":\"#E5ECF6\",\"aaxis\":{\"gridcolor\":\"white\",\"linecolor\":\"white\",\"ticks\":\"\"},\"baxis\":{\"gridcolor\":\"white\",\"linecolor\":\"white\",\"ticks\":\"\"},\"caxis\":{\"gridcolor\":\"white\",\"linecolor\":\"white\",\"ticks\":\"\"}},\"coloraxis\":{\"colorbar\":{\"outlinewidth\":0,\"ticks\":\"\"}},\"colorscale\":{\"sequential\":[[0.0,\"#0d0887\"],[0.1111111111111111,\"#46039f\"],[0.2222222222222222,\"#7201a8\"],[0.3333333333333333,\"#9c179e\"],[0.4444444444444444,\"#bd3786\"],[0.5555555555555556,\"#d8576b\"],[0.6666666666666666,\"#ed7953\"],[0.7777777777777778,\"#fb9f3a\"],[0.8888888888888888,\"#fdca26\"],[1.0,\"#f0f921\"]],\"sequentialminus\":[[0.0,\"#0d0887\"],[0.1111111111111111,\"#46039f\"],[0.2222222222222222,\"#7201a8\"],[0.3333333333333333,\"#9c179e\"],[0.4444444444444444,\"#bd3786\"],[0.5555555555555556,\"#d8576b\"],[0.6666666666666666,\"#ed7953\"],[0.7777777777777778,\"#fb9f3a\"],[0.8888888888888888,\"#fdca26\"],[1.0,\"#f0f921\"]],\"diverging\":[[0,\"#8e0152\"],[0.1,\"#c51b7d\"],[0.2,\"#de77ae\"],[0.3,\"#f1b6da\"],[0.4,\"#fde0ef\"],[0.5,\"#f7f7f7\"],[0.6,\"#e6f5d0\"],[0.7,\"#b8e186\"],[0.8,\"#7fbc41\"],[0.9,\"#4d9221\"],[1,\"#276419\"]]},\"xaxis\":{\"gridcolor\":\"white\",\"linecolor\":\"white\",\"ticks\":\"\",\"title\":{\"standoff\":15},\"zerolinecolor\":\"white\",\"automargin\":true,\"zerolinewidth\":2},\"yaxis\":{\"gridcolor\":\"white\",\"linecolor\":\"white\",\"ticks\":\"\",\"title\":{\"standoff\":15},\"zerolinecolor\":\"white\",\"automargin\":true,\"zerolinewidth\":2},\"scene\":{\"xaxis\":{\"backgroundcolor\":\"#E5ECF6\",\"gridcolor\":\"white\",\"linecolor\":\"white\",\"showbackground\":true,\"ticks\":\"\",\"zerolinecolor\":\"white\",\"gridwidth\":2},\"yaxis\":{\"backgroundcolor\":\"#E5ECF6\",\"gridcolor\":\"white\",\"linecolor\":\"white\",\"showbackground\":true,\"ticks\":\"\",\"zerolinecolor\":\"white\",\"gridwidth\":2},\"zaxis\":{\"backgroundcolor\":\"#E5ECF6\",\"gridcolor\":\"white\",\"linecolor\":\"white\",\"showbackground\":true,\"ticks\":\"\",\"zerolinecolor\":\"white\",\"gridwidth\":2}},\"shapedefaults\":{\"line\":{\"color\":\"#2a3f5f\"}},\"annotationdefaults\":{\"arrowcolor\":\"#2a3f5f\",\"arrowhead\":0,\"arrowwidth\":1},\"geo\":{\"bgcolor\":\"white\",\"landcolor\":\"#E5ECF6\",\"subunitcolor\":\"white\",\"showland\":true,\"showlakes\":true,\"lakecolor\":\"white\"},\"title\":{\"x\":0.05},\"mapbox\":{\"style\":\"light\"}}},\"xaxis\":{\"anchor\":\"y\",\"domain\":[0.0,1.0],\"title\":{\"text\":\"fit_bert\"}},\"yaxis\":{\"anchor\":\"x\",\"domain\":[0.0,1.0],\"title\":{\"text\":\"count\"}},\"legend\":{\"tracegroupgap\":0},\"margin\":{\"t\":60},\"barmode\":\"relative\"},                        {\"responsive\": true}                    ).then(function(){\n",
       "                            \n",
       "var gd = document.getElementById('7842ea63-0010-4369-8234-3630bfa1728c');\n",
       "var x = new MutationObserver(function (mutations, observer) {{\n",
       "        var display = window.getComputedStyle(gd).display;\n",
       "        if (!display || display === 'none') {{\n",
       "            console.log([gd, 'removed!']);\n",
       "            Plotly.purge(gd);\n",
       "            observer.disconnect();\n",
       "        }}\n",
       "}});\n",
       "\n",
       "// Listen for the removal of the full notebook cells\n",
       "var notebookContainer = gd.closest('#notebook-container');\n",
       "if (notebookContainer) {{\n",
       "    x.observe(notebookContainer, {childList: true});\n",
       "}}\n",
       "\n",
       "// Listen for the clearing of the current output cell\n",
       "var outputEl = gd.closest('.output');\n",
       "if (outputEl) {{\n",
       "    x.observe(outputEl, {childList: true});\n",
       "}}\n",
       "\n",
       "                        })                };                });            </script>        </div>"
      ]
     },
     "metadata": {},
     "output_type": "display_data"
    }
   ],
   "source": [
    "fig = px.histogram(df['fit_bert'], x=\"fit_bert\")\n",
    "fig"
   ]
  },
  {
   "cell_type": "markdown",
   "id": "e8d4df4a-6636-4828-a72a-8cb971ab56da",
   "metadata": {},
   "source": [
    "BERT pre-trained doesn't work with short sentences so in an a google colab notebook I pre-trained BERT for better cosine similiraties on sentences."
   ]
  },
  {
   "cell_type": "code",
   "execution_count": 212,
   "id": "14b3213d-5ea6-4224-9fa8-52a77eba25e8",
   "metadata": {},
   "outputs": [
    {
     "name": "stdout",
     "output_type": "stream",
     "text": [
      "No GPU available, using the CPU instead.\n"
     ]
    }
   ],
   "source": [
    "if torch.cuda.is_available():    \n",
    "    device = torch.device(\"cuda\")\n",
    "    print(f'There are {torch.cuda.device_count()} GPU(s) available.')\n",
    "    print('We will use the GPU:', torch.cuda.get_device_name(0))\n",
    "else:\n",
    "    print('No GPU available, using the CPU instead.')\n",
    "    device = torch.device(\"cpu\")"
   ]
  },
  {
   "cell_type": "code",
   "execution_count": 213,
   "id": "5c24696c-5e35-4870-a105-c767dd58bc92",
   "metadata": {},
   "outputs": [],
   "source": [
    "class BertForSTS(torch.nn.Module):\n",
    "\n",
    "    def __init__(self):\n",
    "        super(BertForSTS, self).__init__()\n",
    "        self.bert = models.Transformer('bert-base-uncased', max_seq_length=128)\n",
    "        self.pooling_layer = models.Pooling(self.bert.get_word_embedding_dimension())\n",
    "        self.sts_bert = SentenceTransformer(modules=[self.bert, self.pooling_layer])\n",
    "\n",
    "    def forward(self, input_data):\n",
    "        output = self.sts_bert(input_data)['sentence_embedding']\n",
    "        return output"
   ]
  },
  {
   "cell_type": "code",
   "execution_count": 214,
   "id": "1cfc2cbd-69fd-46a4-949c-9913e7ab0bdf",
   "metadata": {},
   "outputs": [
    {
     "data": {
      "text/plain": [
       "BertForSTS(\n",
       "  (bert): Transformer({'max_seq_length': 128, 'do_lower_case': False}) with Transformer model: BertModel \n",
       "  (pooling_layer): Pooling({'word_embedding_dimension': 768, 'pooling_mode_cls_token': False, 'pooling_mode_mean_tokens': True, 'pooling_mode_max_tokens': False, 'pooling_mode_mean_sqrt_len_tokens': False, 'pooling_mode_weightedmean_tokens': False, 'pooling_mode_lasttoken': False, 'include_prompt': True})\n",
       "  (sts_bert): SentenceTransformer(\n",
       "    (0): Transformer({'max_seq_length': 128, 'do_lower_case': False}) with Transformer model: BertModel \n",
       "    (1): Pooling({'word_embedding_dimension': 768, 'pooling_mode_cls_token': False, 'pooling_mode_mean_tokens': True, 'pooling_mode_max_tokens': False, 'pooling_mode_mean_sqrt_len_tokens': False, 'pooling_mode_weightedmean_tokens': False, 'pooling_mode_lasttoken': False, 'include_prompt': True})\n",
       "  )\n",
       ")"
      ]
     },
     "execution_count": 214,
     "metadata": {},
     "output_type": "execute_result"
    }
   ],
   "source": [
    "PATH = 'bert-sts.pt'\n",
    "model = BertForSTS()\n",
    "model.load_state_dict(torch.load(PATH,map_location=torch.device('cpu')))\n",
    "model.eval()"
   ]
  },
  {
   "cell_type": "code",
   "execution_count": 215,
   "id": "5286b35c-f506-49b9-96ea-442002489af4",
   "metadata": {},
   "outputs": [],
   "source": [
    "def predict_similarity(sentence_pair):\n",
    "  test_input = tokenizer(sentence_pair, padding='max_length', max_length = 128, truncation=True, return_tensors=\"pt\").to(device)\n",
    "  test_input['input_ids'] = test_input['input_ids']\n",
    "  test_input['attention_mask'] = test_input['attention_mask']\n",
    "  del test_input['token_type_ids']\n",
    "  output = model(test_input)\n",
    "  sim = torch.nn.functional.cosine_similarity(output[0], output[1], dim=0).item()\n",
    "  return sim"
   ]
  },
  {
   "cell_type": "code",
   "execution_count": 216,
   "id": "f94080b0-66de-496d-a9d9-2123aff9bf39",
   "metadata": {},
   "outputs": [],
   "source": [
    "query = \"Aspiring human resources\"\n",
    "for ind, row in df.iterrows():\n",
    "    df.loc[ind,'fit_bert'] = round(predict_similarity([row['job_title'],query]),2)"
   ]
  },
  {
   "cell_type": "code",
   "execution_count": 217,
   "id": "af99eb3f-e54c-4bd3-8816-f727ad2a24fa",
   "metadata": {},
   "outputs": [
    {
     "data": {
      "text/html": [
       "<div>\n",
       "<style scoped>\n",
       "    .dataframe tbody tr th:only-of-type {\n",
       "        vertical-align: middle;\n",
       "    }\n",
       "\n",
       "    .dataframe tbody tr th {\n",
       "        vertical-align: top;\n",
       "    }\n",
       "\n",
       "    .dataframe thead th {\n",
       "        text-align: right;\n",
       "    }\n",
       "</style>\n",
       "<table border=\"1\" class=\"dataframe\">\n",
       "  <thead>\n",
       "    <tr style=\"text-align: right;\">\n",
       "      <th></th>\n",
       "      <th>job_title</th>\n",
       "      <th>location</th>\n",
       "      <th>connection</th>\n",
       "      <th>fit_word2vec</th>\n",
       "      <th>fit_bert</th>\n",
       "    </tr>\n",
       "    <tr>\n",
       "      <th>id</th>\n",
       "      <th></th>\n",
       "      <th></th>\n",
       "      <th></th>\n",
       "      <th></th>\n",
       "      <th></th>\n",
       "    </tr>\n",
       "  </thead>\n",
       "  <tbody>\n",
       "    <tr>\n",
       "      <th>36</th>\n",
       "      <td>aspiring human resources specialist</td>\n",
       "      <td>Greater New York City Area</td>\n",
       "      <td>1</td>\n",
       "      <td>0.645122</td>\n",
       "      <td>0.84</td>\n",
       "    </tr>\n",
       "    <tr>\n",
       "      <th>24</th>\n",
       "      <td>aspiring human resources specialist</td>\n",
       "      <td>Greater New York City Area</td>\n",
       "      <td>1</td>\n",
       "      <td>0.645122</td>\n",
       "      <td>0.84</td>\n",
       "    </tr>\n",
       "    <tr>\n",
       "      <th>6</th>\n",
       "      <td>aspiring human resources specialist</td>\n",
       "      <td>Greater New York City Area</td>\n",
       "      <td>1</td>\n",
       "      <td>0.645122</td>\n",
       "      <td>0.84</td>\n",
       "    </tr>\n",
       "    <tr>\n",
       "      <th>60</th>\n",
       "      <td>aspiring human resources specialist</td>\n",
       "      <td>Greater New York City Area</td>\n",
       "      <td>1</td>\n",
       "      <td>0.645122</td>\n",
       "      <td>0.84</td>\n",
       "    </tr>\n",
       "    <tr>\n",
       "      <th>49</th>\n",
       "      <td>aspiring human resources specialist</td>\n",
       "      <td>Greater New York City Area</td>\n",
       "      <td>1</td>\n",
       "      <td>0.645122</td>\n",
       "      <td>0.84</td>\n",
       "    </tr>\n",
       "    <tr>\n",
       "      <th>58</th>\n",
       "      <td>aspiring human resources professional</td>\n",
       "      <td>Raleigh-Durham, North Carolina Area</td>\n",
       "      <td>44</td>\n",
       "      <td>0.663209</td>\n",
       "      <td>0.80</td>\n",
       "    </tr>\n",
       "    <tr>\n",
       "      <th>17</th>\n",
       "      <td>aspiring human resources professional</td>\n",
       "      <td>Raleigh-Durham, North Carolina Area</td>\n",
       "      <td>44</td>\n",
       "      <td>0.663209</td>\n",
       "      <td>0.80</td>\n",
       "    </tr>\n",
       "    <tr>\n",
       "      <th>33</th>\n",
       "      <td>aspiring human resources professional</td>\n",
       "      <td>Raleigh-Durham, North Carolina Area</td>\n",
       "      <td>44</td>\n",
       "      <td>0.663209</td>\n",
       "      <td>0.80</td>\n",
       "    </tr>\n",
       "    <tr>\n",
       "      <th>97</th>\n",
       "      <td>aspiring human resources professional</td>\n",
       "      <td>Kokomo, Indiana Area</td>\n",
       "      <td>71</td>\n",
       "      <td>0.663209</td>\n",
       "      <td>0.80</td>\n",
       "    </tr>\n",
       "    <tr>\n",
       "      <th>46</th>\n",
       "      <td>aspiring human resources professional</td>\n",
       "      <td>Raleigh-Durham, North Carolina Area</td>\n",
       "      <td>44</td>\n",
       "      <td>0.663209</td>\n",
       "      <td>0.80</td>\n",
       "    </tr>\n",
       "    <tr>\n",
       "      <th>3</th>\n",
       "      <td>aspiring human resources professional</td>\n",
       "      <td>Raleigh-Durham, North Carolina Area</td>\n",
       "      <td>44</td>\n",
       "      <td>0.663209</td>\n",
       "      <td>0.80</td>\n",
       "    </tr>\n",
       "    <tr>\n",
       "      <th>21</th>\n",
       "      <td>aspiring human resources professional</td>\n",
       "      <td>Raleigh-Durham, North Carolina Area</td>\n",
       "      <td>44</td>\n",
       "      <td>0.663209</td>\n",
       "      <td>0.80</td>\n",
       "    </tr>\n",
       "    <tr>\n",
       "      <th>82</th>\n",
       "      <td>aspiring human resources professional energeti...</td>\n",
       "      <td>Austin, Texas Area</td>\n",
       "      <td>174</td>\n",
       "      <td>0.540422</td>\n",
       "      <td>0.79</td>\n",
       "    </tr>\n",
       "    <tr>\n",
       "      <th>73</th>\n",
       "      <td>aspiring human resources manager seeking inter...</td>\n",
       "      <td>Houston, Texas Area</td>\n",
       "      <td>7</td>\n",
       "      <td>0.431644</td>\n",
       "      <td>0.71</td>\n",
       "    </tr>\n",
       "    <tr>\n",
       "      <th>100</th>\n",
       "      <td>aspiring human resources manager graduating ma...</td>\n",
       "      <td>Cape Girardeau, Missouri</td>\n",
       "      <td>103</td>\n",
       "      <td>0.383343</td>\n",
       "      <td>0.70</td>\n",
       "    </tr>\n",
       "    <tr>\n",
       "      <th>72</th>\n",
       "      <td>business management major aspiring human resou...</td>\n",
       "      <td>Monroe, Louisiana Area</td>\n",
       "      <td>5</td>\n",
       "      <td>0.072794</td>\n",
       "      <td>0.68</td>\n",
       "    </tr>\n",
       "    <tr>\n",
       "      <th>99</th>\n",
       "      <td>seeking human resources position</td>\n",
       "      <td>Las Vegas, Nevada Area</td>\n",
       "      <td>48</td>\n",
       "      <td>0.886226</td>\n",
       "      <td>0.68</td>\n",
       "    </tr>\n",
       "    <tr>\n",
       "      <th>76</th>\n",
       "      <td>aspiring human resources professional passiona...</td>\n",
       "      <td>New York, New York</td>\n",
       "      <td>212</td>\n",
       "      <td>0.406978</td>\n",
       "      <td>0.66</td>\n",
       "    </tr>\n",
       "    <tr>\n",
       "      <th>27</th>\n",
       "      <td>aspiring human resources management student se...</td>\n",
       "      <td>Houston, Texas Area</td>\n",
       "      <td>500</td>\n",
       "      <td>0.464157</td>\n",
       "      <td>0.65</td>\n",
       "    </tr>\n",
       "    <tr>\n",
       "      <th>29</th>\n",
       "      <td>aspiring human resources management student se...</td>\n",
       "      <td>Houston, Texas Area</td>\n",
       "      <td>500</td>\n",
       "      <td>0.464157</td>\n",
       "      <td>0.65</td>\n",
       "    </tr>\n",
       "    <tr>\n",
       "      <th>30</th>\n",
       "      <td>seeking human resources opportunities</td>\n",
       "      <td>Chicago, Illinois</td>\n",
       "      <td>390</td>\n",
       "      <td>0.839381</td>\n",
       "      <td>0.64</td>\n",
       "    </tr>\n",
       "    <tr>\n",
       "      <th>28</th>\n",
       "      <td>seeking human resources opportunities</td>\n",
       "      <td>Chicago, Illinois</td>\n",
       "      <td>390</td>\n",
       "      <td>0.839381</td>\n",
       "      <td>0.64</td>\n",
       "    </tr>\n",
       "    <tr>\n",
       "      <th>61</th>\n",
       "      <td>human resource senior specialist</td>\n",
       "      <td>San Francisco Bay Area</td>\n",
       "      <td>500</td>\n",
       "      <td>0.097957</td>\n",
       "      <td>0.63</td>\n",
       "    </tr>\n",
       "    <tr>\n",
       "      <th>8</th>\n",
       "      <td>human resource senior specialist</td>\n",
       "      <td>San Francisco Bay Area</td>\n",
       "      <td>500</td>\n",
       "      <td>0.097957</td>\n",
       "      <td>0.63</td>\n",
       "    </tr>\n",
       "    <tr>\n",
       "      <th>51</th>\n",
       "      <td>human resource senior specialist</td>\n",
       "      <td>San Francisco Bay Area</td>\n",
       "      <td>500</td>\n",
       "      <td>0.097957</td>\n",
       "      <td>0.63</td>\n",
       "    </tr>\n",
       "    <tr>\n",
       "      <th>38</th>\n",
       "      <td>human resource senior specialist</td>\n",
       "      <td>San Francisco Bay Area</td>\n",
       "      <td>500</td>\n",
       "      <td>0.097957</td>\n",
       "      <td>0.63</td>\n",
       "    </tr>\n",
       "    <tr>\n",
       "      <th>26</th>\n",
       "      <td>human resource senior specialist</td>\n",
       "      <td>San Francisco Bay Area</td>\n",
       "      <td>500</td>\n",
       "      <td>0.097957</td>\n",
       "      <td>0.63</td>\n",
       "    </tr>\n",
       "    <tr>\n",
       "      <th>66</th>\n",
       "      <td>experienced retail manager aspiring human reso...</td>\n",
       "      <td>Austin, Texas Area</td>\n",
       "      <td>57</td>\n",
       "      <td>0.073292</td>\n",
       "      <td>0.62</td>\n",
       "    </tr>\n",
       "    <tr>\n",
       "      <th>25</th>\n",
       "      <td>student humber college aspiring human resource...</td>\n",
       "      <td>Kanada</td>\n",
       "      <td>61</td>\n",
       "      <td>0.022395</td>\n",
       "      <td>0.61</td>\n",
       "    </tr>\n",
       "    <tr>\n",
       "      <th>52</th>\n",
       "      <td>student humber college aspiring human resource...</td>\n",
       "      <td>Kanada</td>\n",
       "      <td>61</td>\n",
       "      <td>0.022395</td>\n",
       "      <td>0.61</td>\n",
       "    </tr>\n",
       "    <tr>\n",
       "      <th>7</th>\n",
       "      <td>student humber college aspiring human resource...</td>\n",
       "      <td>Kanada</td>\n",
       "      <td>61</td>\n",
       "      <td>0.022395</td>\n",
       "      <td>0.61</td>\n",
       "    </tr>\n",
       "    <tr>\n",
       "      <th>50</th>\n",
       "      <td>student humber college aspiring human resource...</td>\n",
       "      <td>Kanada</td>\n",
       "      <td>61</td>\n",
       "      <td>0.022395</td>\n",
       "      <td>0.61</td>\n",
       "    </tr>\n",
       "    <tr>\n",
       "      <th>79</th>\n",
       "      <td>liberal arts major aspiring human resources an...</td>\n",
       "      <td>Baton Rouge, Louisiana Area</td>\n",
       "      <td>7</td>\n",
       "      <td>0.051828</td>\n",
       "      <td>0.61</td>\n",
       "    </tr>\n",
       "    <tr>\n",
       "      <th>9</th>\n",
       "      <td>student humber college aspiring human resource...</td>\n",
       "      <td>Kanada</td>\n",
       "      <td>61</td>\n",
       "      <td>0.022395</td>\n",
       "      <td>0.61</td>\n",
       "    </tr>\n",
       "    <tr>\n",
       "      <th>37</th>\n",
       "      <td>student humber college aspiring human resource...</td>\n",
       "      <td>Kanada</td>\n",
       "      <td>61</td>\n",
       "      <td>0.022395</td>\n",
       "      <td>0.61</td>\n",
       "    </tr>\n",
       "    <tr>\n",
       "      <th>39</th>\n",
       "      <td>student humber college aspiring human resource...</td>\n",
       "      <td>Kanada</td>\n",
       "      <td>61</td>\n",
       "      <td>0.022395</td>\n",
       "      <td>0.61</td>\n",
       "    </tr>\n",
       "    <tr>\n",
       "      <th>68</th>\n",
       "      <td>human resources specialist luxottica</td>\n",
       "      <td>Greater New York City Area</td>\n",
       "      <td>500</td>\n",
       "      <td>0.150797</td>\n",
       "      <td>0.60</td>\n",
       "    </tr>\n",
       "    <tr>\n",
       "      <th>44</th>\n",
       "      <td>college business graduate magna cum laude aspi...</td>\n",
       "      <td>Houston, Texas</td>\n",
       "      <td>85</td>\n",
       "      <td>0.027578</td>\n",
       "      <td>0.58</td>\n",
       "    </tr>\n",
       "    <tr>\n",
       "      <th>19</th>\n",
       "      <td>college business graduate magna cum laude aspi...</td>\n",
       "      <td>Houston, Texas</td>\n",
       "      <td>85</td>\n",
       "      <td>0.027578</td>\n",
       "      <td>0.58</td>\n",
       "    </tr>\n",
       "    <tr>\n",
       "      <th>1</th>\n",
       "      <td>college business graduate magna cum laude aspi...</td>\n",
       "      <td>Houston, Texas</td>\n",
       "      <td>85</td>\n",
       "      <td>0.027578</td>\n",
       "      <td>0.58</td>\n",
       "    </tr>\n",
       "    <tr>\n",
       "      <th>88</th>\n",
       "      <td>human resources management major</td>\n",
       "      <td>Milpitas, California</td>\n",
       "      <td>18</td>\n",
       "      <td>0.170611</td>\n",
       "      <td>0.58</td>\n",
       "    </tr>\n",
       "    <tr>\n",
       "      <th>84</th>\n",
       "      <td>human resources professional world leader gis ...</td>\n",
       "      <td>Highland, California</td>\n",
       "      <td>50</td>\n",
       "      <td>0.089216</td>\n",
       "      <td>0.58</td>\n",
       "    </tr>\n",
       "    <tr>\n",
       "      <th>14</th>\n",
       "      <td>college business graduate magna cum laude aspi...</td>\n",
       "      <td>Houston, Texas</td>\n",
       "      <td>85</td>\n",
       "      <td>0.027578</td>\n",
       "      <td>0.58</td>\n",
       "    </tr>\n",
       "    <tr>\n",
       "      <th>15</th>\n",
       "      <td>college business graduate magna cum laude aspi...</td>\n",
       "      <td>Houston, Texas</td>\n",
       "      <td>85</td>\n",
       "      <td>0.027578</td>\n",
       "      <td>0.58</td>\n",
       "    </tr>\n",
       "    <tr>\n",
       "      <th>31</th>\n",
       "      <td>college business graduate magna cum laude aspi...</td>\n",
       "      <td>Houston, Texas</td>\n",
       "      <td>85</td>\n",
       "      <td>0.027578</td>\n",
       "      <td>0.58</td>\n",
       "    </tr>\n",
       "    <tr>\n",
       "      <th>57</th>\n",
       "      <td>college business graduate magna cum laude aspi...</td>\n",
       "      <td>Houston, Texas</td>\n",
       "      <td>85</td>\n",
       "      <td>0.027578</td>\n",
       "      <td>0.58</td>\n",
       "    </tr>\n",
       "    <tr>\n",
       "      <th>42</th>\n",
       "      <td>senior vice president chief human resources of...</td>\n",
       "      <td>Houston, Texas Area</td>\n",
       "      <td>500</td>\n",
       "      <td>0.032235</td>\n",
       "      <td>0.57</td>\n",
       "    </tr>\n",
       "    <tr>\n",
       "      <th>67</th>\n",
       "      <td>human resources staffing recruiting professional</td>\n",
       "      <td>Jackson, Mississippi Area</td>\n",
       "      <td>500</td>\n",
       "      <td>0.179637</td>\n",
       "      <td>0.57</td>\n",
       "    </tr>\n",
       "    <tr>\n",
       "      <th>12</th>\n",
       "      <td>senior vice president chief human resources of...</td>\n",
       "      <td>Houston, Texas Area</td>\n",
       "      <td>500</td>\n",
       "      <td>0.032235</td>\n",
       "      <td>0.57</td>\n",
       "    </tr>\n",
       "    <tr>\n",
       "      <th>55</th>\n",
       "      <td>senior vice president chief human resources of...</td>\n",
       "      <td>Houston, Texas Area</td>\n",
       "      <td>500</td>\n",
       "      <td>0.032235</td>\n",
       "      <td>0.57</td>\n",
       "    </tr>\n",
       "  </tbody>\n",
       "</table>\n",
       "</div>"
      ],
      "text/plain": [
       "                                             job_title  \\\n",
       "id                                                       \n",
       "36                 aspiring human resources specialist   \n",
       "24                 aspiring human resources specialist   \n",
       "6                  aspiring human resources specialist   \n",
       "60                 aspiring human resources specialist   \n",
       "49                 aspiring human resources specialist   \n",
       "58               aspiring human resources professional   \n",
       "17               aspiring human resources professional   \n",
       "33               aspiring human resources professional   \n",
       "97               aspiring human resources professional   \n",
       "46               aspiring human resources professional   \n",
       "3                aspiring human resources professional   \n",
       "21               aspiring human resources professional   \n",
       "82   aspiring human resources professional energeti...   \n",
       "73   aspiring human resources manager seeking inter...   \n",
       "100  aspiring human resources manager graduating ma...   \n",
       "72   business management major aspiring human resou...   \n",
       "99                    seeking human resources position   \n",
       "76   aspiring human resources professional passiona...   \n",
       "27   aspiring human resources management student se...   \n",
       "29   aspiring human resources management student se...   \n",
       "30               seeking human resources opportunities   \n",
       "28               seeking human resources opportunities   \n",
       "61                    human resource senior specialist   \n",
       "8                     human resource senior specialist   \n",
       "51                    human resource senior specialist   \n",
       "38                    human resource senior specialist   \n",
       "26                    human resource senior specialist   \n",
       "66   experienced retail manager aspiring human reso...   \n",
       "25   student humber college aspiring human resource...   \n",
       "52   student humber college aspiring human resource...   \n",
       "7    student humber college aspiring human resource...   \n",
       "50   student humber college aspiring human resource...   \n",
       "79   liberal arts major aspiring human resources an...   \n",
       "9    student humber college aspiring human resource...   \n",
       "37   student humber college aspiring human resource...   \n",
       "39   student humber college aspiring human resource...   \n",
       "68                human resources specialist luxottica   \n",
       "44   college business graduate magna cum laude aspi...   \n",
       "19   college business graduate magna cum laude aspi...   \n",
       "1    college business graduate magna cum laude aspi...   \n",
       "88                    human resources management major   \n",
       "84   human resources professional world leader gis ...   \n",
       "14   college business graduate magna cum laude aspi...   \n",
       "15   college business graduate magna cum laude aspi...   \n",
       "31   college business graduate magna cum laude aspi...   \n",
       "57   college business graduate magna cum laude aspi...   \n",
       "42   senior vice president chief human resources of...   \n",
       "67    human resources staffing recruiting professional   \n",
       "12   senior vice president chief human resources of...   \n",
       "55   senior vice president chief human resources of...   \n",
       "\n",
       "                                location  connection  fit_word2vec  fit_bert  \n",
       "id                                                                            \n",
       "36            Greater New York City Area           1      0.645122      0.84  \n",
       "24            Greater New York City Area           1      0.645122      0.84  \n",
       "6             Greater New York City Area           1      0.645122      0.84  \n",
       "60            Greater New York City Area           1      0.645122      0.84  \n",
       "49            Greater New York City Area           1      0.645122      0.84  \n",
       "58   Raleigh-Durham, North Carolina Area          44      0.663209      0.80  \n",
       "17   Raleigh-Durham, North Carolina Area          44      0.663209      0.80  \n",
       "33   Raleigh-Durham, North Carolina Area          44      0.663209      0.80  \n",
       "97                  Kokomo, Indiana Area          71      0.663209      0.80  \n",
       "46   Raleigh-Durham, North Carolina Area          44      0.663209      0.80  \n",
       "3    Raleigh-Durham, North Carolina Area          44      0.663209      0.80  \n",
       "21   Raleigh-Durham, North Carolina Area          44      0.663209      0.80  \n",
       "82                    Austin, Texas Area         174      0.540422      0.79  \n",
       "73                   Houston, Texas Area           7      0.431644      0.71  \n",
       "100             Cape Girardeau, Missouri         103      0.383343      0.70  \n",
       "72                Monroe, Louisiana Area           5      0.072794      0.68  \n",
       "99                Las Vegas, Nevada Area          48      0.886226      0.68  \n",
       "76                    New York, New York         212      0.406978      0.66  \n",
       "27                   Houston, Texas Area         500      0.464157      0.65  \n",
       "29                   Houston, Texas Area         500      0.464157      0.65  \n",
       "30                     Chicago, Illinois         390      0.839381      0.64  \n",
       "28                     Chicago, Illinois         390      0.839381      0.64  \n",
       "61                San Francisco Bay Area         500      0.097957      0.63  \n",
       "8                 San Francisco Bay Area         500      0.097957      0.63  \n",
       "51                San Francisco Bay Area         500      0.097957      0.63  \n",
       "38                San Francisco Bay Area         500      0.097957      0.63  \n",
       "26                San Francisco Bay Area         500      0.097957      0.63  \n",
       "66                    Austin, Texas Area          57      0.073292      0.62  \n",
       "25                                Kanada          61      0.022395      0.61  \n",
       "52                                Kanada          61      0.022395      0.61  \n",
       "7                                 Kanada          61      0.022395      0.61  \n",
       "50                                Kanada          61      0.022395      0.61  \n",
       "79           Baton Rouge, Louisiana Area           7      0.051828      0.61  \n",
       "9                                 Kanada          61      0.022395      0.61  \n",
       "37                                Kanada          61      0.022395      0.61  \n",
       "39                                Kanada          61      0.022395      0.61  \n",
       "68            Greater New York City Area         500      0.150797      0.60  \n",
       "44                        Houston, Texas          85      0.027578      0.58  \n",
       "19                        Houston, Texas          85      0.027578      0.58  \n",
       "1                         Houston, Texas          85      0.027578      0.58  \n",
       "88                  Milpitas, California          18      0.170611      0.58  \n",
       "84                  Highland, California          50      0.089216      0.58  \n",
       "14                        Houston, Texas          85      0.027578      0.58  \n",
       "15                        Houston, Texas          85      0.027578      0.58  \n",
       "31                        Houston, Texas          85      0.027578      0.58  \n",
       "57                        Houston, Texas          85      0.027578      0.58  \n",
       "42                   Houston, Texas Area         500      0.032235      0.57  \n",
       "67             Jackson, Mississippi Area         500      0.179637      0.57  \n",
       "12                   Houston, Texas Area         500      0.032235      0.57  \n",
       "55                   Houston, Texas Area         500      0.032235      0.57  "
      ]
     },
     "execution_count": 217,
     "metadata": {},
     "output_type": "execute_result"
    }
   ],
   "source": [
    "top_candidates(n = 50, by = 'fit_bert', ascending = False, min_con = 0)"
   ]
  },
  {
   "cell_type": "code",
   "execution_count": 218,
   "id": "9a130702-5ac9-408d-8872-b3b0da628207",
   "metadata": {},
   "outputs": [
    {
     "data": {
      "text/html": [
       "<div>\n",
       "<style scoped>\n",
       "    .dataframe tbody tr th:only-of-type {\n",
       "        vertical-align: middle;\n",
       "    }\n",
       "\n",
       "    .dataframe tbody tr th {\n",
       "        vertical-align: top;\n",
       "    }\n",
       "\n",
       "    .dataframe thead th {\n",
       "        text-align: right;\n",
       "    }\n",
       "</style>\n",
       "<table border=\"1\" class=\"dataframe\">\n",
       "  <thead>\n",
       "    <tr style=\"text-align: right;\">\n",
       "      <th></th>\n",
       "      <th>job_title</th>\n",
       "      <th>location</th>\n",
       "      <th>connection</th>\n",
       "      <th>fit_word2vec</th>\n",
       "      <th>fit_bert</th>\n",
       "    </tr>\n",
       "    <tr>\n",
       "      <th>id</th>\n",
       "      <th></th>\n",
       "      <th></th>\n",
       "      <th></th>\n",
       "      <th></th>\n",
       "      <th></th>\n",
       "    </tr>\n",
       "  </thead>\n",
       "  <tbody>\n",
       "    <tr>\n",
       "      <th>87</th>\n",
       "      <td>bachelor science biology victoria university w...</td>\n",
       "      <td>Baltimore, Maryland</td>\n",
       "      <td>40</td>\n",
       "      <td>0.115211</td>\n",
       "      <td>0.09</td>\n",
       "    </tr>\n",
       "    <tr>\n",
       "      <th>95</th>\n",
       "      <td>student westfield state university</td>\n",
       "      <td>Bridgewater, Massachusetts</td>\n",
       "      <td>57</td>\n",
       "      <td>0.072322</td>\n",
       "      <td>0.13</td>\n",
       "    </tr>\n",
       "    <tr>\n",
       "      <th>91</th>\n",
       "      <td>lead official western illinois university</td>\n",
       "      <td>Greater Chicago Area</td>\n",
       "      <td>39</td>\n",
       "      <td>0.048381</td>\n",
       "      <td>0.15</td>\n",
       "    </tr>\n",
       "    <tr>\n",
       "      <th>90</th>\n",
       "      <td>undergraduate research assistant styczynski lab</td>\n",
       "      <td>Greater Atlanta Area</td>\n",
       "      <td>155</td>\n",
       "      <td>0.101950</td>\n",
       "      <td>0.16</td>\n",
       "    </tr>\n",
       "    <tr>\n",
       "      <th>93</th>\n",
       "      <td>admissions representative community medical ce...</td>\n",
       "      <td>Long Beach, California</td>\n",
       "      <td>9</td>\n",
       "      <td>0.078601</td>\n",
       "      <td>0.16</td>\n",
       "    </tr>\n",
       "    <tr>\n",
       "      <th>41</th>\n",
       "      <td>student chapman university</td>\n",
       "      <td>Lake Forest, California</td>\n",
       "      <td>2</td>\n",
       "      <td>0.070109</td>\n",
       "      <td>0.18</td>\n",
       "    </tr>\n",
       "    <tr>\n",
       "      <th>63</th>\n",
       "      <td>student chapman university</td>\n",
       "      <td>Lake Forest, California</td>\n",
       "      <td>2</td>\n",
       "      <td>0.070109</td>\n",
       "      <td>0.18</td>\n",
       "    </tr>\n",
       "    <tr>\n",
       "      <th>85</th>\n",
       "      <td>rrp brand portfolio executive jti japan tobacc...</td>\n",
       "      <td>Greater Philadelphia Area</td>\n",
       "      <td>500</td>\n",
       "      <td>0.040384</td>\n",
       "      <td>0.18</td>\n",
       "    </tr>\n",
       "    <tr>\n",
       "      <th>54</th>\n",
       "      <td>student chapman university</td>\n",
       "      <td>Lake Forest, California</td>\n",
       "      <td>2</td>\n",
       "      <td>0.070109</td>\n",
       "      <td>0.18</td>\n",
       "    </tr>\n",
       "    <tr>\n",
       "      <th>11</th>\n",
       "      <td>student chapman university</td>\n",
       "      <td>Lake Forest, California</td>\n",
       "      <td>2</td>\n",
       "      <td>0.070109</td>\n",
       "      <td>0.18</td>\n",
       "    </tr>\n",
       "    <tr>\n",
       "      <th>35</th>\n",
       "      <td>advisory board member celal bayar university</td>\n",
       "      <td>İzmir, Türkiye</td>\n",
       "      <td>500</td>\n",
       "      <td>0.075786</td>\n",
       "      <td>0.21</td>\n",
       "    </tr>\n",
       "    <tr>\n",
       "      <th>5</th>\n",
       "      <td>advisory board member celal bayar university</td>\n",
       "      <td>İzmir, Türkiye</td>\n",
       "      <td>500</td>\n",
       "      <td>0.075786</td>\n",
       "      <td>0.21</td>\n",
       "    </tr>\n",
       "    <tr>\n",
       "      <th>48</th>\n",
       "      <td>advisory board member celal bayar university</td>\n",
       "      <td>İzmir, Türkiye</td>\n",
       "      <td>500</td>\n",
       "      <td>0.075786</td>\n",
       "      <td>0.21</td>\n",
       "    </tr>\n",
       "    <tr>\n",
       "      <th>23</th>\n",
       "      <td>advisory board member celal bayar university</td>\n",
       "      <td>İzmir, Türkiye</td>\n",
       "      <td>500</td>\n",
       "      <td>0.075786</td>\n",
       "      <td>0.21</td>\n",
       "    </tr>\n",
       "    <tr>\n",
       "      <th>32</th>\n",
       "      <td>native english teacher epik english program korea</td>\n",
       "      <td>Kanada</td>\n",
       "      <td>500</td>\n",
       "      <td>0.050053</td>\n",
       "      <td>0.25</td>\n",
       "    </tr>\n",
       "    <tr>\n",
       "      <th>45</th>\n",
       "      <td>native english teacher epik english program korea</td>\n",
       "      <td>Kanada</td>\n",
       "      <td>500</td>\n",
       "      <td>0.050053</td>\n",
       "      <td>0.25</td>\n",
       "    </tr>\n",
       "    <tr>\n",
       "      <th>20</th>\n",
       "      <td>native english teacher epik english program korea</td>\n",
       "      <td>Kanada</td>\n",
       "      <td>500</td>\n",
       "      <td>0.050053</td>\n",
       "      <td>0.25</td>\n",
       "    </tr>\n",
       "    <tr>\n",
       "      <th>16</th>\n",
       "      <td>native english teacher epik english program korea</td>\n",
       "      <td>Kanada</td>\n",
       "      <td>500</td>\n",
       "      <td>0.050053</td>\n",
       "      <td>0.25</td>\n",
       "    </tr>\n",
       "    <tr>\n",
       "      <th>2</th>\n",
       "      <td>native english teacher epik english program korea</td>\n",
       "      <td>Kanada</td>\n",
       "      <td>500</td>\n",
       "      <td>0.050053</td>\n",
       "      <td>0.25</td>\n",
       "    </tr>\n",
       "    <tr>\n",
       "      <th>96</th>\n",
       "      <td>student indiana university kokomo business man...</td>\n",
       "      <td>Lafayette, Indiana</td>\n",
       "      <td>19</td>\n",
       "      <td>0.040807</td>\n",
       "      <td>0.29</td>\n",
       "    </tr>\n",
       "    <tr>\n",
       "      <th>103</th>\n",
       "      <td>always set success</td>\n",
       "      <td>Greater Los Angeles Area</td>\n",
       "      <td>500</td>\n",
       "      <td>0.072144</td>\n",
       "      <td>0.30</td>\n",
       "    </tr>\n",
       "    <tr>\n",
       "      <th>83</th>\n",
       "      <td>human resource manager endemol shine north ame...</td>\n",
       "      <td>Los Angeles, California</td>\n",
       "      <td>268</td>\n",
       "      <td>0.086408</td>\n",
       "      <td>0.31</td>\n",
       "    </tr>\n",
       "    <tr>\n",
       "      <th>98</th>\n",
       "      <td>student</td>\n",
       "      <td>Houston, Texas Area</td>\n",
       "      <td>4</td>\n",
       "      <td>0.020714</td>\n",
       "      <td>0.36</td>\n",
       "    </tr>\n",
       "    <tr>\n",
       "      <th>78</th>\n",
       "      <td>human resources generalist schwan</td>\n",
       "      <td>Amerika Birleşik Devletleri</td>\n",
       "      <td>500</td>\n",
       "      <td>0.204287</td>\n",
       "      <td>0.37</td>\n",
       "    </tr>\n",
       "    <tr>\n",
       "      <th>43</th>\n",
       "      <td>human resources coordinator intercontinental b...</td>\n",
       "      <td>Atlanta, Georgia</td>\n",
       "      <td>500</td>\n",
       "      <td>0.128777</td>\n",
       "      <td>0.38</td>\n",
       "    </tr>\n",
       "    <tr>\n",
       "      <th>65</th>\n",
       "      <td>human resources coordinator intercontinental b...</td>\n",
       "      <td>Atlanta, Georgia</td>\n",
       "      <td>500</td>\n",
       "      <td>0.128777</td>\n",
       "      <td>0.38</td>\n",
       "    </tr>\n",
       "    <tr>\n",
       "      <th>13</th>\n",
       "      <td>human resources coordinator intercontinental b...</td>\n",
       "      <td>Atlanta, Georgia</td>\n",
       "      <td>500</td>\n",
       "      <td>0.128777</td>\n",
       "      <td>0.38</td>\n",
       "    </tr>\n",
       "    <tr>\n",
       "      <th>56</th>\n",
       "      <td>human resources coordinator intercontinental b...</td>\n",
       "      <td>Atlanta, Georgia</td>\n",
       "      <td>500</td>\n",
       "      <td>0.128777</td>\n",
       "      <td>0.38</td>\n",
       "    </tr>\n",
       "    <tr>\n",
       "      <th>70</th>\n",
       "      <td>retired army national guard recruiter office m...</td>\n",
       "      <td>Virginia Beach, Virginia</td>\n",
       "      <td>82</td>\n",
       "      <td>0.052260</td>\n",
       "      <td>0.41</td>\n",
       "    </tr>\n",
       "    <tr>\n",
       "      <th>69</th>\n",
       "      <td>director human resources north america groupe ...</td>\n",
       "      <td>Greater Grand Rapids, Michigan Area</td>\n",
       "      <td>500</td>\n",
       "      <td>0.459131</td>\n",
       "      <td>0.41</td>\n",
       "    </tr>\n",
       "    <tr>\n",
       "      <th>59</th>\n",
       "      <td>people development coordinator ryan</td>\n",
       "      <td>Denton, Texas</td>\n",
       "      <td>500</td>\n",
       "      <td>0.125992</td>\n",
       "      <td>0.42</td>\n",
       "    </tr>\n",
       "    <tr>\n",
       "      <th>4</th>\n",
       "      <td>people development coordinator ryan</td>\n",
       "      <td>Denton, Texas</td>\n",
       "      <td>500</td>\n",
       "      <td>0.125992</td>\n",
       "      <td>0.42</td>\n",
       "    </tr>\n",
       "    <tr>\n",
       "      <th>80</th>\n",
       "      <td>junior manufacturing execution system informat...</td>\n",
       "      <td>Myrtle Beach, South Carolina Area</td>\n",
       "      <td>52</td>\n",
       "      <td>0.081239</td>\n",
       "      <td>0.42</td>\n",
       "    </tr>\n",
       "    <tr>\n",
       "      <th>34</th>\n",
       "      <td>people development coordinator ryan</td>\n",
       "      <td>Denton, Texas</td>\n",
       "      <td>500</td>\n",
       "      <td>0.125992</td>\n",
       "      <td>0.42</td>\n",
       "    </tr>\n",
       "    <tr>\n",
       "      <th>47</th>\n",
       "      <td>people development coordinator ryan</td>\n",
       "      <td>Denton, Texas</td>\n",
       "      <td>500</td>\n",
       "      <td>0.125992</td>\n",
       "      <td>0.42</td>\n",
       "    </tr>\n",
       "    <tr>\n",
       "      <th>22</th>\n",
       "      <td>people development coordinator ryan</td>\n",
       "      <td>Denton, Texas</td>\n",
       "      <td>500</td>\n",
       "      <td>0.125992</td>\n",
       "      <td>0.42</td>\n",
       "    </tr>\n",
       "    <tr>\n",
       "      <th>18</th>\n",
       "      <td>people development coordinator ryan</td>\n",
       "      <td>Denton, Texas</td>\n",
       "      <td>500</td>\n",
       "      <td>0.125992</td>\n",
       "      <td>0.42</td>\n",
       "    </tr>\n",
       "    <tr>\n",
       "      <th>77</th>\n",
       "      <td>human conflict policies compensation</td>\n",
       "      <td>Dallas/Fort Worth Area</td>\n",
       "      <td>409</td>\n",
       "      <td>0.141573</td>\n",
       "      <td>0.43</td>\n",
       "    </tr>\n",
       "    <tr>\n",
       "      <th>86</th>\n",
       "      <td>information systems specialist programmer love...</td>\n",
       "      <td>Gaithersburg, Maryland</td>\n",
       "      <td>4</td>\n",
       "      <td>0.059279</td>\n",
       "      <td>0.44</td>\n",
       "    </tr>\n",
       "    <tr>\n",
       "      <th>71</th>\n",
       "      <td>human resources generalist scottmadden inc</td>\n",
       "      <td>Raleigh-Durham, North Carolina Area</td>\n",
       "      <td>500</td>\n",
       "      <td>0.164539</td>\n",
       "      <td>0.44</td>\n",
       "    </tr>\n",
       "    <tr>\n",
       "      <th>104</th>\n",
       "      <td>director administration excellence logging</td>\n",
       "      <td>Katy, Texas</td>\n",
       "      <td>500</td>\n",
       "      <td>0.080577</td>\n",
       "      <td>0.47</td>\n",
       "    </tr>\n",
       "    <tr>\n",
       "      <th>102</th>\n",
       "      <td>business intelligence analytics travelers</td>\n",
       "      <td>Greater New York City Area</td>\n",
       "      <td>49</td>\n",
       "      <td>0.156992</td>\n",
       "      <td>0.47</td>\n",
       "    </tr>\n",
       "    <tr>\n",
       "      <th>101</th>\n",
       "      <td>human resources generalist loparex</td>\n",
       "      <td>Raleigh-Durham, North Carolina Area</td>\n",
       "      <td>500</td>\n",
       "      <td>0.204287</td>\n",
       "      <td>0.47</td>\n",
       "    </tr>\n",
       "    <tr>\n",
       "      <th>74</th>\n",
       "      <td>human resources professional</td>\n",
       "      <td>Greater Boston Area</td>\n",
       "      <td>16</td>\n",
       "      <td>0.133104</td>\n",
       "      <td>0.50</td>\n",
       "    </tr>\n",
       "    <tr>\n",
       "      <th>92</th>\n",
       "      <td>seeking employment opportunity within customer...</td>\n",
       "      <td>Torrance, California</td>\n",
       "      <td>64</td>\n",
       "      <td>0.274850</td>\n",
       "      <td>0.50</td>\n",
       "    </tr>\n",
       "    <tr>\n",
       "      <th>62</th>\n",
       "      <td>seeking human resources human resources inform...</td>\n",
       "      <td>Greater Philadelphia Area</td>\n",
       "      <td>500</td>\n",
       "      <td>0.553227</td>\n",
       "      <td>0.53</td>\n",
       "    </tr>\n",
       "    <tr>\n",
       "      <th>81</th>\n",
       "      <td>senior human resources business partner heil e...</td>\n",
       "      <td>Chattanooga, Tennessee Area</td>\n",
       "      <td>455</td>\n",
       "      <td>0.470671</td>\n",
       "      <td>0.53</td>\n",
       "    </tr>\n",
       "    <tr>\n",
       "      <th>10</th>\n",
       "      <td>seeking human resources human resources inform...</td>\n",
       "      <td>Greater Philadelphia Area</td>\n",
       "      <td>500</td>\n",
       "      <td>0.553227</td>\n",
       "      <td>0.53</td>\n",
       "    </tr>\n",
       "    <tr>\n",
       "      <th>53</th>\n",
       "      <td>seeking human resources human resources inform...</td>\n",
       "      <td>Greater Philadelphia Area</td>\n",
       "      <td>500</td>\n",
       "      <td>0.553227</td>\n",
       "      <td>0.53</td>\n",
       "    </tr>\n",
       "    <tr>\n",
       "      <th>40</th>\n",
       "      <td>seeking human resources human resources inform...</td>\n",
       "      <td>Greater Philadelphia Area</td>\n",
       "      <td>500</td>\n",
       "      <td>0.553227</td>\n",
       "      <td>0.53</td>\n",
       "    </tr>\n",
       "    <tr>\n",
       "      <th>94</th>\n",
       "      <td>seeking human resources opportunities open tra...</td>\n",
       "      <td>Amerika Birleşik Devletleri</td>\n",
       "      <td>415</td>\n",
       "      <td>0.639099</td>\n",
       "      <td>0.55</td>\n",
       "    </tr>\n",
       "    <tr>\n",
       "      <th>75</th>\n",
       "      <td>nortia staffing seeking human resources payrol...</td>\n",
       "      <td>San Jose, California</td>\n",
       "      <td>500</td>\n",
       "      <td>0.047626</td>\n",
       "      <td>0.55</td>\n",
       "    </tr>\n",
       "    <tr>\n",
       "      <th>89</th>\n",
       "      <td>director human resources ey</td>\n",
       "      <td>Greater Atlanta Area</td>\n",
       "      <td>349</td>\n",
       "      <td>0.571728</td>\n",
       "      <td>0.56</td>\n",
       "    </tr>\n",
       "    <tr>\n",
       "      <th>12</th>\n",
       "      <td>senior vice president chief human resources of...</td>\n",
       "      <td>Houston, Texas Area</td>\n",
       "      <td>500</td>\n",
       "      <td>0.032235</td>\n",
       "      <td>0.57</td>\n",
       "    </tr>\n",
       "    <tr>\n",
       "      <th>55</th>\n",
       "      <td>senior vice president chief human resources of...</td>\n",
       "      <td>Houston, Texas Area</td>\n",
       "      <td>500</td>\n",
       "      <td>0.032235</td>\n",
       "      <td>0.57</td>\n",
       "    </tr>\n",
       "    <tr>\n",
       "      <th>64</th>\n",
       "      <td>senior vice president chief human resources of...</td>\n",
       "      <td>Houston, Texas Area</td>\n",
       "      <td>500</td>\n",
       "      <td>0.032235</td>\n",
       "      <td>0.57</td>\n",
       "    </tr>\n",
       "    <tr>\n",
       "      <th>67</th>\n",
       "      <td>human resources staffing recruiting professional</td>\n",
       "      <td>Jackson, Mississippi Area</td>\n",
       "      <td>500</td>\n",
       "      <td>0.179637</td>\n",
       "      <td>0.57</td>\n",
       "    </tr>\n",
       "    <tr>\n",
       "      <th>42</th>\n",
       "      <td>senior vice president chief human resources of...</td>\n",
       "      <td>Houston, Texas Area</td>\n",
       "      <td>500</td>\n",
       "      <td>0.032235</td>\n",
       "      <td>0.57</td>\n",
       "    </tr>\n",
       "    <tr>\n",
       "      <th>88</th>\n",
       "      <td>human resources management major</td>\n",
       "      <td>Milpitas, California</td>\n",
       "      <td>18</td>\n",
       "      <td>0.170611</td>\n",
       "      <td>0.58</td>\n",
       "    </tr>\n",
       "    <tr>\n",
       "      <th>84</th>\n",
       "      <td>human resources professional world leader gis ...</td>\n",
       "      <td>Highland, California</td>\n",
       "      <td>50</td>\n",
       "      <td>0.089216</td>\n",
       "      <td>0.58</td>\n",
       "    </tr>\n",
       "  </tbody>\n",
       "</table>\n",
       "</div>"
      ],
      "text/plain": [
       "                                             job_title  \\\n",
       "id                                                       \n",
       "87   bachelor science biology victoria university w...   \n",
       "95                  student westfield state university   \n",
       "91           lead official western illinois university   \n",
       "90     undergraduate research assistant styczynski lab   \n",
       "93   admissions representative community medical ce...   \n",
       "41                          student chapman university   \n",
       "63                          student chapman university   \n",
       "85   rrp brand portfolio executive jti japan tobacc...   \n",
       "54                          student chapman university   \n",
       "11                          student chapman university   \n",
       "35        advisory board member celal bayar university   \n",
       "5         advisory board member celal bayar university   \n",
       "48        advisory board member celal bayar university   \n",
       "23        advisory board member celal bayar university   \n",
       "32   native english teacher epik english program korea   \n",
       "45   native english teacher epik english program korea   \n",
       "20   native english teacher epik english program korea   \n",
       "16   native english teacher epik english program korea   \n",
       "2    native english teacher epik english program korea   \n",
       "96   student indiana university kokomo business man...   \n",
       "103                                 always set success   \n",
       "83   human resource manager endemol shine north ame...   \n",
       "98                                             student   \n",
       "78                   human resources generalist schwan   \n",
       "43   human resources coordinator intercontinental b...   \n",
       "65   human resources coordinator intercontinental b...   \n",
       "13   human resources coordinator intercontinental b...   \n",
       "56   human resources coordinator intercontinental b...   \n",
       "70   retired army national guard recruiter office m...   \n",
       "69   director human resources north america groupe ...   \n",
       "59                 people development coordinator ryan   \n",
       "4                  people development coordinator ryan   \n",
       "80   junior manufacturing execution system informat...   \n",
       "34                 people development coordinator ryan   \n",
       "47                 people development coordinator ryan   \n",
       "22                 people development coordinator ryan   \n",
       "18                 people development coordinator ryan   \n",
       "77                human conflict policies compensation   \n",
       "86   information systems specialist programmer love...   \n",
       "71          human resources generalist scottmadden inc   \n",
       "104         director administration excellence logging   \n",
       "102          business intelligence analytics travelers   \n",
       "101                 human resources generalist loparex   \n",
       "74                        human resources professional   \n",
       "92   seeking employment opportunity within customer...   \n",
       "62   seeking human resources human resources inform...   \n",
       "81   senior human resources business partner heil e...   \n",
       "10   seeking human resources human resources inform...   \n",
       "53   seeking human resources human resources inform...   \n",
       "40   seeking human resources human resources inform...   \n",
       "94   seeking human resources opportunities open tra...   \n",
       "75   nortia staffing seeking human resources payrol...   \n",
       "89                         director human resources ey   \n",
       "12   senior vice president chief human resources of...   \n",
       "55   senior vice president chief human resources of...   \n",
       "64   senior vice president chief human resources of...   \n",
       "67    human resources staffing recruiting professional   \n",
       "42   senior vice president chief human resources of...   \n",
       "88                    human resources management major   \n",
       "84   human resources professional world leader gis ...   \n",
       "\n",
       "                                location  connection  fit_word2vec  fit_bert  \n",
       "id                                                                            \n",
       "87                   Baltimore, Maryland          40      0.115211      0.09  \n",
       "95            Bridgewater, Massachusetts          57      0.072322      0.13  \n",
       "91                  Greater Chicago Area          39      0.048381      0.15  \n",
       "90                  Greater Atlanta Area         155      0.101950      0.16  \n",
       "93                Long Beach, California           9      0.078601      0.16  \n",
       "41               Lake Forest, California           2      0.070109      0.18  \n",
       "63               Lake Forest, California           2      0.070109      0.18  \n",
       "85             Greater Philadelphia Area         500      0.040384      0.18  \n",
       "54               Lake Forest, California           2      0.070109      0.18  \n",
       "11               Lake Forest, California           2      0.070109      0.18  \n",
       "35                        İzmir, Türkiye         500      0.075786      0.21  \n",
       "5                         İzmir, Türkiye         500      0.075786      0.21  \n",
       "48                        İzmir, Türkiye         500      0.075786      0.21  \n",
       "23                        İzmir, Türkiye         500      0.075786      0.21  \n",
       "32                                Kanada         500      0.050053      0.25  \n",
       "45                                Kanada         500      0.050053      0.25  \n",
       "20                                Kanada         500      0.050053      0.25  \n",
       "16                                Kanada         500      0.050053      0.25  \n",
       "2                                 Kanada         500      0.050053      0.25  \n",
       "96                    Lafayette, Indiana          19      0.040807      0.29  \n",
       "103             Greater Los Angeles Area         500      0.072144      0.30  \n",
       "83               Los Angeles, California         268      0.086408      0.31  \n",
       "98                   Houston, Texas Area           4      0.020714      0.36  \n",
       "78           Amerika Birleşik Devletleri         500      0.204287      0.37  \n",
       "43                      Atlanta, Georgia         500      0.128777      0.38  \n",
       "65                      Atlanta, Georgia         500      0.128777      0.38  \n",
       "13                      Atlanta, Georgia         500      0.128777      0.38  \n",
       "56                      Atlanta, Georgia         500      0.128777      0.38  \n",
       "70              Virginia Beach, Virginia          82      0.052260      0.41  \n",
       "69   Greater Grand Rapids, Michigan Area         500      0.459131      0.41  \n",
       "59                         Denton, Texas         500      0.125992      0.42  \n",
       "4                          Denton, Texas         500      0.125992      0.42  \n",
       "80     Myrtle Beach, South Carolina Area          52      0.081239      0.42  \n",
       "34                         Denton, Texas         500      0.125992      0.42  \n",
       "47                         Denton, Texas         500      0.125992      0.42  \n",
       "22                         Denton, Texas         500      0.125992      0.42  \n",
       "18                         Denton, Texas         500      0.125992      0.42  \n",
       "77                Dallas/Fort Worth Area         409      0.141573      0.43  \n",
       "86                Gaithersburg, Maryland           4      0.059279      0.44  \n",
       "71   Raleigh-Durham, North Carolina Area         500      0.164539      0.44  \n",
       "104                          Katy, Texas         500      0.080577      0.47  \n",
       "102           Greater New York City Area          49      0.156992      0.47  \n",
       "101  Raleigh-Durham, North Carolina Area         500      0.204287      0.47  \n",
       "74                   Greater Boston Area          16      0.133104      0.50  \n",
       "92                  Torrance, California          64      0.274850      0.50  \n",
       "62             Greater Philadelphia Area         500      0.553227      0.53  \n",
       "81           Chattanooga, Tennessee Area         455      0.470671      0.53  \n",
       "10             Greater Philadelphia Area         500      0.553227      0.53  \n",
       "53             Greater Philadelphia Area         500      0.553227      0.53  \n",
       "40             Greater Philadelphia Area         500      0.553227      0.53  \n",
       "94           Amerika Birleşik Devletleri         415      0.639099      0.55  \n",
       "75                  San Jose, California         500      0.047626      0.55  \n",
       "89                  Greater Atlanta Area         349      0.571728      0.56  \n",
       "12                   Houston, Texas Area         500      0.032235      0.57  \n",
       "55                   Houston, Texas Area         500      0.032235      0.57  \n",
       "64                   Houston, Texas Area         500      0.032235      0.57  \n",
       "67             Jackson, Mississippi Area         500      0.179637      0.57  \n",
       "42                   Houston, Texas Area         500      0.032235      0.57  \n",
       "88                  Milpitas, California          18      0.170611      0.58  \n",
       "84                  Highland, California          50      0.089216      0.58  "
      ]
     },
     "execution_count": 218,
     "metadata": {},
     "output_type": "execute_result"
    }
   ],
   "source": [
    "top_candidates(n = 60, by = 'fit_bert', ascending = True, min_con = 0)"
   ]
  },
  {
   "cell_type": "code",
   "execution_count": 219,
   "id": "61eab659-f180-48ee-84ae-01f450edf397",
   "metadata": {},
   "outputs": [
    {
     "data": {
      "application/vnd.plotly.v1+json": {
       "config": {
        "plotlyServerURL": "https://plot.ly"
       },
       "data": [
        {
         "alignmentgroup": "True",
         "bingroup": "x",
         "hovertemplate": "fit_bert=%{x}<br>count=%{y}<extra></extra>",
         "legendgroup": "",
         "marker": {
          "color": "#636efa",
          "pattern": {
           "shape": ""
          }
         },
         "name": "",
         "offsetgroup": "",
         "orientation": "v",
         "showlegend": false,
         "type": "histogram",
         "x": [
          0.58,
          0.25,
          0.8,
          0.42,
          0.21,
          0.84,
          0.61,
          0.63,
          0.61,
          0.53,
          0.18,
          0.57,
          0.38,
          0.58,
          0.58,
          0.25,
          0.8,
          0.42,
          0.58,
          0.25,
          0.8,
          0.42,
          0.21,
          0.84,
          0.61,
          0.63,
          0.65,
          0.64,
          0.65,
          0.64,
          0.58,
          0.25,
          0.8,
          0.42,
          0.21,
          0.84,
          0.61,
          0.63,
          0.61,
          0.53,
          0.18,
          0.57,
          0.38,
          0.58,
          0.25,
          0.8,
          0.42,
          0.21,
          0.84,
          0.61,
          0.63,
          0.61,
          0.53,
          0.18,
          0.57,
          0.38,
          0.58,
          0.8,
          0.42,
          0.84,
          0.63,
          0.53,
          0.18,
          0.57,
          0.38,
          0.62,
          0.57,
          0.6,
          0.41,
          0.41,
          0.44,
          0.68,
          0.71,
          0.5,
          0.55,
          0.66,
          0.43,
          0.37,
          0.61,
          0.42,
          0.53,
          0.79,
          0.31,
          0.58,
          0.18,
          0.44,
          0.09,
          0.58,
          0.56,
          0.16,
          0.15,
          0.5,
          0.16,
          0.55,
          0.13,
          0.29,
          0.8,
          0.36,
          0.68,
          0.7,
          0.47,
          0.47,
          0.3,
          0.47
         ],
         "xaxis": "x",
         "yaxis": "y"
        }
       ],
       "layout": {
        "autosize": true,
        "barmode": "relative",
        "legend": {
         "tracegroupgap": 0
        },
        "margin": {
         "t": 60
        },
        "template": {
         "data": {
          "bar": [
           {
            "error_x": {
             "color": "#2a3f5f"
            },
            "error_y": {
             "color": "#2a3f5f"
            },
            "marker": {
             "line": {
              "color": "#E5ECF6",
              "width": 0.5
             },
             "pattern": {
              "fillmode": "overlay",
              "size": 10,
              "solidity": 0.2
             }
            },
            "type": "bar"
           }
          ],
          "barpolar": [
           {
            "marker": {
             "line": {
              "color": "#E5ECF6",
              "width": 0.5
             },
             "pattern": {
              "fillmode": "overlay",
              "size": 10,
              "solidity": 0.2
             }
            },
            "type": "barpolar"
           }
          ],
          "carpet": [
           {
            "aaxis": {
             "endlinecolor": "#2a3f5f",
             "gridcolor": "white",
             "linecolor": "white",
             "minorgridcolor": "white",
             "startlinecolor": "#2a3f5f"
            },
            "baxis": {
             "endlinecolor": "#2a3f5f",
             "gridcolor": "white",
             "linecolor": "white",
             "minorgridcolor": "white",
             "startlinecolor": "#2a3f5f"
            },
            "type": "carpet"
           }
          ],
          "choropleth": [
           {
            "colorbar": {
             "outlinewidth": 0,
             "ticks": ""
            },
            "type": "choropleth"
           }
          ],
          "contour": [
           {
            "colorbar": {
             "outlinewidth": 0,
             "ticks": ""
            },
            "colorscale": [
             [
              0,
              "#0d0887"
             ],
             [
              0.1111111111111111,
              "#46039f"
             ],
             [
              0.2222222222222222,
              "#7201a8"
             ],
             [
              0.3333333333333333,
              "#9c179e"
             ],
             [
              0.4444444444444444,
              "#bd3786"
             ],
             [
              0.5555555555555556,
              "#d8576b"
             ],
             [
              0.6666666666666666,
              "#ed7953"
             ],
             [
              0.7777777777777778,
              "#fb9f3a"
             ],
             [
              0.8888888888888888,
              "#fdca26"
             ],
             [
              1,
              "#f0f921"
             ]
            ],
            "type": "contour"
           }
          ],
          "contourcarpet": [
           {
            "colorbar": {
             "outlinewidth": 0,
             "ticks": ""
            },
            "type": "contourcarpet"
           }
          ],
          "heatmap": [
           {
            "colorbar": {
             "outlinewidth": 0,
             "ticks": ""
            },
            "colorscale": [
             [
              0,
              "#0d0887"
             ],
             [
              0.1111111111111111,
              "#46039f"
             ],
             [
              0.2222222222222222,
              "#7201a8"
             ],
             [
              0.3333333333333333,
              "#9c179e"
             ],
             [
              0.4444444444444444,
              "#bd3786"
             ],
             [
              0.5555555555555556,
              "#d8576b"
             ],
             [
              0.6666666666666666,
              "#ed7953"
             ],
             [
              0.7777777777777778,
              "#fb9f3a"
             ],
             [
              0.8888888888888888,
              "#fdca26"
             ],
             [
              1,
              "#f0f921"
             ]
            ],
            "type": "heatmap"
           }
          ],
          "heatmapgl": [
           {
            "colorbar": {
             "outlinewidth": 0,
             "ticks": ""
            },
            "colorscale": [
             [
              0,
              "#0d0887"
             ],
             [
              0.1111111111111111,
              "#46039f"
             ],
             [
              0.2222222222222222,
              "#7201a8"
             ],
             [
              0.3333333333333333,
              "#9c179e"
             ],
             [
              0.4444444444444444,
              "#bd3786"
             ],
             [
              0.5555555555555556,
              "#d8576b"
             ],
             [
              0.6666666666666666,
              "#ed7953"
             ],
             [
              0.7777777777777778,
              "#fb9f3a"
             ],
             [
              0.8888888888888888,
              "#fdca26"
             ],
             [
              1,
              "#f0f921"
             ]
            ],
            "type": "heatmapgl"
           }
          ],
          "histogram": [
           {
            "marker": {
             "pattern": {
              "fillmode": "overlay",
              "size": 10,
              "solidity": 0.2
             }
            },
            "type": "histogram"
           }
          ],
          "histogram2d": [
           {
            "colorbar": {
             "outlinewidth": 0,
             "ticks": ""
            },
            "colorscale": [
             [
              0,
              "#0d0887"
             ],
             [
              0.1111111111111111,
              "#46039f"
             ],
             [
              0.2222222222222222,
              "#7201a8"
             ],
             [
              0.3333333333333333,
              "#9c179e"
             ],
             [
              0.4444444444444444,
              "#bd3786"
             ],
             [
              0.5555555555555556,
              "#d8576b"
             ],
             [
              0.6666666666666666,
              "#ed7953"
             ],
             [
              0.7777777777777778,
              "#fb9f3a"
             ],
             [
              0.8888888888888888,
              "#fdca26"
             ],
             [
              1,
              "#f0f921"
             ]
            ],
            "type": "histogram2d"
           }
          ],
          "histogram2dcontour": [
           {
            "colorbar": {
             "outlinewidth": 0,
             "ticks": ""
            },
            "colorscale": [
             [
              0,
              "#0d0887"
             ],
             [
              0.1111111111111111,
              "#46039f"
             ],
             [
              0.2222222222222222,
              "#7201a8"
             ],
             [
              0.3333333333333333,
              "#9c179e"
             ],
             [
              0.4444444444444444,
              "#bd3786"
             ],
             [
              0.5555555555555556,
              "#d8576b"
             ],
             [
              0.6666666666666666,
              "#ed7953"
             ],
             [
              0.7777777777777778,
              "#fb9f3a"
             ],
             [
              0.8888888888888888,
              "#fdca26"
             ],
             [
              1,
              "#f0f921"
             ]
            ],
            "type": "histogram2dcontour"
           }
          ],
          "mesh3d": [
           {
            "colorbar": {
             "outlinewidth": 0,
             "ticks": ""
            },
            "type": "mesh3d"
           }
          ],
          "parcoords": [
           {
            "line": {
             "colorbar": {
              "outlinewidth": 0,
              "ticks": ""
             }
            },
            "type": "parcoords"
           }
          ],
          "pie": [
           {
            "automargin": true,
            "type": "pie"
           }
          ],
          "scatter": [
           {
            "fillpattern": {
             "fillmode": "overlay",
             "size": 10,
             "solidity": 0.2
            },
            "type": "scatter"
           }
          ],
          "scatter3d": [
           {
            "line": {
             "colorbar": {
              "outlinewidth": 0,
              "ticks": ""
             }
            },
            "marker": {
             "colorbar": {
              "outlinewidth": 0,
              "ticks": ""
             }
            },
            "type": "scatter3d"
           }
          ],
          "scattercarpet": [
           {
            "marker": {
             "colorbar": {
              "outlinewidth": 0,
              "ticks": ""
             }
            },
            "type": "scattercarpet"
           }
          ],
          "scattergeo": [
           {
            "marker": {
             "colorbar": {
              "outlinewidth": 0,
              "ticks": ""
             }
            },
            "type": "scattergeo"
           }
          ],
          "scattergl": [
           {
            "marker": {
             "colorbar": {
              "outlinewidth": 0,
              "ticks": ""
             }
            },
            "type": "scattergl"
           }
          ],
          "scattermapbox": [
           {
            "marker": {
             "colorbar": {
              "outlinewidth": 0,
              "ticks": ""
             }
            },
            "type": "scattermapbox"
           }
          ],
          "scatterpolar": [
           {
            "marker": {
             "colorbar": {
              "outlinewidth": 0,
              "ticks": ""
             }
            },
            "type": "scatterpolar"
           }
          ],
          "scatterpolargl": [
           {
            "marker": {
             "colorbar": {
              "outlinewidth": 0,
              "ticks": ""
             }
            },
            "type": "scatterpolargl"
           }
          ],
          "scatterternary": [
           {
            "marker": {
             "colorbar": {
              "outlinewidth": 0,
              "ticks": ""
             }
            },
            "type": "scatterternary"
           }
          ],
          "surface": [
           {
            "colorbar": {
             "outlinewidth": 0,
             "ticks": ""
            },
            "colorscale": [
             [
              0,
              "#0d0887"
             ],
             [
              0.1111111111111111,
              "#46039f"
             ],
             [
              0.2222222222222222,
              "#7201a8"
             ],
             [
              0.3333333333333333,
              "#9c179e"
             ],
             [
              0.4444444444444444,
              "#bd3786"
             ],
             [
              0.5555555555555556,
              "#d8576b"
             ],
             [
              0.6666666666666666,
              "#ed7953"
             ],
             [
              0.7777777777777778,
              "#fb9f3a"
             ],
             [
              0.8888888888888888,
              "#fdca26"
             ],
             [
              1,
              "#f0f921"
             ]
            ],
            "type": "surface"
           }
          ],
          "table": [
           {
            "cells": {
             "fill": {
              "color": "#EBF0F8"
             },
             "line": {
              "color": "white"
             }
            },
            "header": {
             "fill": {
              "color": "#C8D4E3"
             },
             "line": {
              "color": "white"
             }
            },
            "type": "table"
           }
          ]
         },
         "layout": {
          "annotationdefaults": {
           "arrowcolor": "#2a3f5f",
           "arrowhead": 0,
           "arrowwidth": 1
          },
          "autotypenumbers": "strict",
          "coloraxis": {
           "colorbar": {
            "outlinewidth": 0,
            "ticks": ""
           }
          },
          "colorscale": {
           "diverging": [
            [
             0,
             "#8e0152"
            ],
            [
             0.1,
             "#c51b7d"
            ],
            [
             0.2,
             "#de77ae"
            ],
            [
             0.3,
             "#f1b6da"
            ],
            [
             0.4,
             "#fde0ef"
            ],
            [
             0.5,
             "#f7f7f7"
            ],
            [
             0.6,
             "#e6f5d0"
            ],
            [
             0.7,
             "#b8e186"
            ],
            [
             0.8,
             "#7fbc41"
            ],
            [
             0.9,
             "#4d9221"
            ],
            [
             1,
             "#276419"
            ]
           ],
           "sequential": [
            [
             0,
             "#0d0887"
            ],
            [
             0.1111111111111111,
             "#46039f"
            ],
            [
             0.2222222222222222,
             "#7201a8"
            ],
            [
             0.3333333333333333,
             "#9c179e"
            ],
            [
             0.4444444444444444,
             "#bd3786"
            ],
            [
             0.5555555555555556,
             "#d8576b"
            ],
            [
             0.6666666666666666,
             "#ed7953"
            ],
            [
             0.7777777777777778,
             "#fb9f3a"
            ],
            [
             0.8888888888888888,
             "#fdca26"
            ],
            [
             1,
             "#f0f921"
            ]
           ],
           "sequentialminus": [
            [
             0,
             "#0d0887"
            ],
            [
             0.1111111111111111,
             "#46039f"
            ],
            [
             0.2222222222222222,
             "#7201a8"
            ],
            [
             0.3333333333333333,
             "#9c179e"
            ],
            [
             0.4444444444444444,
             "#bd3786"
            ],
            [
             0.5555555555555556,
             "#d8576b"
            ],
            [
             0.6666666666666666,
             "#ed7953"
            ],
            [
             0.7777777777777778,
             "#fb9f3a"
            ],
            [
             0.8888888888888888,
             "#fdca26"
            ],
            [
             1,
             "#f0f921"
            ]
           ]
          },
          "colorway": [
           "#636efa",
           "#EF553B",
           "#00cc96",
           "#ab63fa",
           "#FFA15A",
           "#19d3f3",
           "#FF6692",
           "#B6E880",
           "#FF97FF",
           "#FECB52"
          ],
          "font": {
           "color": "#2a3f5f"
          },
          "geo": {
           "bgcolor": "white",
           "lakecolor": "white",
           "landcolor": "#E5ECF6",
           "showlakes": true,
           "showland": true,
           "subunitcolor": "white"
          },
          "hoverlabel": {
           "align": "left"
          },
          "hovermode": "closest",
          "mapbox": {
           "style": "light"
          },
          "paper_bgcolor": "white",
          "plot_bgcolor": "#E5ECF6",
          "polar": {
           "angularaxis": {
            "gridcolor": "white",
            "linecolor": "white",
            "ticks": ""
           },
           "bgcolor": "#E5ECF6",
           "radialaxis": {
            "gridcolor": "white",
            "linecolor": "white",
            "ticks": ""
           }
          },
          "scene": {
           "xaxis": {
            "backgroundcolor": "#E5ECF6",
            "gridcolor": "white",
            "gridwidth": 2,
            "linecolor": "white",
            "showbackground": true,
            "ticks": "",
            "zerolinecolor": "white"
           },
           "yaxis": {
            "backgroundcolor": "#E5ECF6",
            "gridcolor": "white",
            "gridwidth": 2,
            "linecolor": "white",
            "showbackground": true,
            "ticks": "",
            "zerolinecolor": "white"
           },
           "zaxis": {
            "backgroundcolor": "#E5ECF6",
            "gridcolor": "white",
            "gridwidth": 2,
            "linecolor": "white",
            "showbackground": true,
            "ticks": "",
            "zerolinecolor": "white"
           }
          },
          "shapedefaults": {
           "line": {
            "color": "#2a3f5f"
           }
          },
          "ternary": {
           "aaxis": {
            "gridcolor": "white",
            "linecolor": "white",
            "ticks": ""
           },
           "baxis": {
            "gridcolor": "white",
            "linecolor": "white",
            "ticks": ""
           },
           "bgcolor": "#E5ECF6",
           "caxis": {
            "gridcolor": "white",
            "linecolor": "white",
            "ticks": ""
           }
          },
          "title": {
           "x": 0.05
          },
          "xaxis": {
           "automargin": true,
           "gridcolor": "white",
           "linecolor": "white",
           "ticks": "",
           "title": {
            "standoff": 15
           },
           "zerolinecolor": "white",
           "zerolinewidth": 2
          },
          "yaxis": {
           "automargin": true,
           "gridcolor": "white",
           "linecolor": "white",
           "ticks": "",
           "title": {
            "standoff": 15
           },
           "zerolinecolor": "white",
           "zerolinewidth": 2
          }
         }
        },
        "xaxis": {
         "anchor": "y",
         "autorange": true,
         "domain": [
          0,
          1
         ],
         "range": [
          6.938893903907228e-17,
          0.9
         ],
         "title": {
          "text": "fit_bert"
         },
         "type": "linear"
        },
        "yaxis": {
         "anchor": "x",
         "autorange": true,
         "domain": [
          0,
          1
         ],
         "range": [
          0,
          25.263157894736842
         ],
         "title": {
          "text": "count"
         }
        }
       }
      },
      "image/png": "[encoded data removed]",
      "text/html": [
       "<div>                            <div id=\"d6808ee2-184d-4007-88a6-9e3d798f9fe2\" class=\"plotly-graph-div\" style=\"height:525px; width:100%;\"></div>            <script type=\"text/javascript\">                require([\"plotly\"], function(Plotly) {                    window.PLOTLYENV=window.PLOTLYENV || {};                                    if (document.getElementById(\"d6808ee2-184d-4007-88a6-9e3d798f9fe2\")) {                    Plotly.newPlot(                        \"d6808ee2-184d-4007-88a6-9e3d798f9fe2\",                        [{\"alignmentgroup\":\"True\",\"bingroup\":\"x\",\"hovertemplate\":\"fit_bert=%{x}\\u003cbr\\u003ecount=%{y}\\u003cextra\\u003e\\u003c\\u002fextra\\u003e\",\"legendgroup\":\"\",\"marker\":{\"color\":\"#636efa\",\"pattern\":{\"shape\":\"\"}},\"name\":\"\",\"offsetgroup\":\"\",\"orientation\":\"v\",\"showlegend\":false,\"x\":[0.58,0.25,0.8,0.42,0.21,0.84,0.61,0.63,0.61,0.53,0.18,0.57,0.38,0.58,0.58,0.25,0.8,0.42,0.58,0.25,0.8,0.42,0.21,0.84,0.61,0.63,0.65,0.64,0.65,0.64,0.58,0.25,0.8,0.42,0.21,0.84,0.61,0.63,0.61,0.53,0.18,0.57,0.38,0.58,0.25,0.8,0.42,0.21,0.84,0.61,0.63,0.61,0.53,0.18,0.57,0.38,0.58,0.8,0.42,0.84,0.63,0.53,0.18,0.57,0.38,0.62,0.57,0.6,0.41,0.41,0.44,0.68,0.71,0.5,0.55,0.66,0.43,0.37,0.61,0.42,0.53,0.79,0.31,0.58,0.18,0.44,0.09,0.58,0.56,0.16,0.15,0.5,0.16,0.55,0.13,0.29,0.8,0.36,0.68,0.7,0.47,0.47,0.3,0.47],\"xaxis\":\"x\",\"yaxis\":\"y\",\"type\":\"histogram\"}],                        {\"template\":{\"data\":{\"histogram2dcontour\":[{\"type\":\"histogram2dcontour\",\"colorbar\":{\"outlinewidth\":0,\"ticks\":\"\"},\"colorscale\":[[0.0,\"#0d0887\"],[0.1111111111111111,\"#46039f\"],[0.2222222222222222,\"#7201a8\"],[0.3333333333333333,\"#9c179e\"],[0.4444444444444444,\"#bd3786\"],[0.5555555555555556,\"#d8576b\"],[0.6666666666666666,\"#ed7953\"],[0.7777777777777778,\"#fb9f3a\"],[0.8888888888888888,\"#fdca26\"],[1.0,\"#f0f921\"]]}],\"choropleth\":[{\"type\":\"choropleth\",\"colorbar\":{\"outlinewidth\":0,\"ticks\":\"\"}}],\"histogram2d\":[{\"type\":\"histogram2d\",\"colorbar\":{\"outlinewidth\":0,\"ticks\":\"\"},\"colorscale\":[[0.0,\"#0d0887\"],[0.1111111111111111,\"#46039f\"],[0.2222222222222222,\"#7201a8\"],[0.3333333333333333,\"#9c179e\"],[0.4444444444444444,\"#bd3786\"],[0.5555555555555556,\"#d8576b\"],[0.6666666666666666,\"#ed7953\"],[0.7777777777777778,\"#fb9f3a\"],[0.8888888888888888,\"#fdca26\"],[1.0,\"#f0f921\"]]}],\"heatmap\":[{\"type\":\"heatmap\",\"colorbar\":{\"outlinewidth\":0,\"ticks\":\"\"},\"colorscale\":[[0.0,\"#0d0887\"],[0.1111111111111111,\"#46039f\"],[0.2222222222222222,\"#7201a8\"],[0.3333333333333333,\"#9c179e\"],[0.4444444444444444,\"#bd3786\"],[0.5555555555555556,\"#d8576b\"],[0.6666666666666666,\"#ed7953\"],[0.7777777777777778,\"#fb9f3a\"],[0.8888888888888888,\"#fdca26\"],[1.0,\"#f0f921\"]]}],\"heatmapgl\":[{\"type\":\"heatmapgl\",\"colorbar\":{\"outlinewidth\":0,\"ticks\":\"\"},\"colorscale\":[[0.0,\"#0d0887\"],[0.1111111111111111,\"#46039f\"],[0.2222222222222222,\"#7201a8\"],[0.3333333333333333,\"#9c179e\"],[0.4444444444444444,\"#bd3786\"],[0.5555555555555556,\"#d8576b\"],[0.6666666666666666,\"#ed7953\"],[0.7777777777777778,\"#fb9f3a\"],[0.8888888888888888,\"#fdca26\"],[1.0,\"#f0f921\"]]}],\"contourcarpet\":[{\"type\":\"contourcarpet\",\"colorbar\":{\"outlinewidth\":0,\"ticks\":\"\"}}],\"contour\":[{\"type\":\"contour\",\"colorbar\":{\"outlinewidth\":0,\"ticks\":\"\"},\"colorscale\":[[0.0,\"#0d0887\"],[0.1111111111111111,\"#46039f\"],[0.2222222222222222,\"#7201a8\"],[0.3333333333333333,\"#9c179e\"],[0.4444444444444444,\"#bd3786\"],[0.5555555555555556,\"#d8576b\"],[0.6666666666666666,\"#ed7953\"],[0.7777777777777778,\"#fb9f3a\"],[0.8888888888888888,\"#fdca26\"],[1.0,\"#f0f921\"]]}],\"surface\":[{\"type\":\"surface\",\"colorbar\":{\"outlinewidth\":0,\"ticks\":\"\"},\"colorscale\":[[0.0,\"#0d0887\"],[0.1111111111111111,\"#46039f\"],[0.2222222222222222,\"#7201a8\"],[0.3333333333333333,\"#9c179e\"],[0.4444444444444444,\"#bd3786\"],[0.5555555555555556,\"#d8576b\"],[0.6666666666666666,\"#ed7953\"],[0.7777777777777778,\"#fb9f3a\"],[0.8888888888888888,\"#fdca26\"],[1.0,\"#f0f921\"]]}],\"mesh3d\":[{\"type\":\"mesh3d\",\"colorbar\":{\"outlinewidth\":0,\"ticks\":\"\"}}],\"scatter\":[{\"fillpattern\":{\"fillmode\":\"overlay\",\"size\":10,\"solidity\":0.2},\"type\":\"scatter\"}],\"parcoords\":[{\"type\":\"parcoords\",\"line\":{\"colorbar\":{\"outlinewidth\":0,\"ticks\":\"\"}}}],\"scatterpolargl\":[{\"type\":\"scatterpolargl\",\"marker\":{\"colorbar\":{\"outlinewidth\":0,\"ticks\":\"\"}}}],\"bar\":[{\"error_x\":{\"color\":\"#2a3f5f\"},\"error_y\":{\"color\":\"#2a3f5f\"},\"marker\":{\"line\":{\"color\":\"#E5ECF6\",\"width\":0.5},\"pattern\":{\"fillmode\":\"overlay\",\"size\":10,\"solidity\":0.2}},\"type\":\"bar\"}],\"scattergeo\":[{\"type\":\"scattergeo\",\"marker\":{\"colorbar\":{\"outlinewidth\":0,\"ticks\":\"\"}}}],\"scatterpolar\":[{\"type\":\"scatterpolar\",\"marker\":{\"colorbar\":{\"outlinewidth\":0,\"ticks\":\"\"}}}],\"histogram\":[{\"marker\":{\"pattern\":{\"fillmode\":\"overlay\",\"size\":10,\"solidity\":0.2}},\"type\":\"histogram\"}],\"scattergl\":[{\"type\":\"scattergl\",\"marker\":{\"colorbar\":{\"outlinewidth\":0,\"ticks\":\"\"}}}],\"scatter3d\":[{\"type\":\"scatter3d\",\"line\":{\"colorbar\":{\"outlinewidth\":0,\"ticks\":\"\"}},\"marker\":{\"colorbar\":{\"outlinewidth\":0,\"ticks\":\"\"}}}],\"scattermapbox\":[{\"type\":\"scattermapbox\",\"marker\":{\"colorbar\":{\"outlinewidth\":0,\"ticks\":\"\"}}}],\"scatterternary\":[{\"type\":\"scatterternary\",\"marker\":{\"colorbar\":{\"outlinewidth\":0,\"ticks\":\"\"}}}],\"scattercarpet\":[{\"type\":\"scattercarpet\",\"marker\":{\"colorbar\":{\"outlinewidth\":0,\"ticks\":\"\"}}}],\"carpet\":[{\"aaxis\":{\"endlinecolor\":\"#2a3f5f\",\"gridcolor\":\"white\",\"linecolor\":\"white\",\"minorgridcolor\":\"white\",\"startlinecolor\":\"#2a3f5f\"},\"baxis\":{\"endlinecolor\":\"#2a3f5f\",\"gridcolor\":\"white\",\"linecolor\":\"white\",\"minorgridcolor\":\"white\",\"startlinecolor\":\"#2a3f5f\"},\"type\":\"carpet\"}],\"table\":[{\"cells\":{\"fill\":{\"color\":\"#EBF0F8\"},\"line\":{\"color\":\"white\"}},\"header\":{\"fill\":{\"color\":\"#C8D4E3\"},\"line\":{\"color\":\"white\"}},\"type\":\"table\"}],\"barpolar\":[{\"marker\":{\"line\":{\"color\":\"#E5ECF6\",\"width\":0.5},\"pattern\":{\"fillmode\":\"overlay\",\"size\":10,\"solidity\":0.2}},\"type\":\"barpolar\"}],\"pie\":[{\"automargin\":true,\"type\":\"pie\"}]},\"layout\":{\"autotypenumbers\":\"strict\",\"colorway\":[\"#636efa\",\"#EF553B\",\"#00cc96\",\"#ab63fa\",\"#FFA15A\",\"#19d3f3\",\"#FF6692\",\"#B6E880\",\"#FF97FF\",\"#FECB52\"],\"font\":{\"color\":\"#2a3f5f\"},\"hovermode\":\"closest\",\"hoverlabel\":{\"align\":\"left\"},\"paper_bgcolor\":\"white\",\"plot_bgcolor\":\"#E5ECF6\",\"polar\":{\"bgcolor\":\"#E5ECF6\",\"angularaxis\":{\"gridcolor\":\"white\",\"linecolor\":\"white\",\"ticks\":\"\"},\"radialaxis\":{\"gridcolor\":\"white\",\"linecolor\":\"white\",\"ticks\":\"\"}},\"ternary\":{\"bgcolor\":\"#E5ECF6\",\"aaxis\":{\"gridcolor\":\"white\",\"linecolor\":\"white\",\"ticks\":\"\"},\"baxis\":{\"gridcolor\":\"white\",\"linecolor\":\"white\",\"ticks\":\"\"},\"caxis\":{\"gridcolor\":\"white\",\"linecolor\":\"white\",\"ticks\":\"\"}},\"coloraxis\":{\"colorbar\":{\"outlinewidth\":0,\"ticks\":\"\"}},\"colorscale\":{\"sequential\":[[0.0,\"#0d0887\"],[0.1111111111111111,\"#46039f\"],[0.2222222222222222,\"#7201a8\"],[0.3333333333333333,\"#9c179e\"],[0.4444444444444444,\"#bd3786\"],[0.5555555555555556,\"#d8576b\"],[0.6666666666666666,\"#ed7953\"],[0.7777777777777778,\"#fb9f3a\"],[0.8888888888888888,\"#fdca26\"],[1.0,\"#f0f921\"]],\"sequentialminus\":[[0.0,\"#0d0887\"],[0.1111111111111111,\"#46039f\"],[0.2222222222222222,\"#7201a8\"],[0.3333333333333333,\"#9c179e\"],[0.4444444444444444,\"#bd3786\"],[0.5555555555555556,\"#d8576b\"],[0.6666666666666666,\"#ed7953\"],[0.7777777777777778,\"#fb9f3a\"],[0.8888888888888888,\"#fdca26\"],[1.0,\"#f0f921\"]],\"diverging\":[[0,\"#8e0152\"],[0.1,\"#c51b7d\"],[0.2,\"#de77ae\"],[0.3,\"#f1b6da\"],[0.4,\"#fde0ef\"],[0.5,\"#f7f7f7\"],[0.6,\"#e6f5d0\"],[0.7,\"#b8e186\"],[0.8,\"#7fbc41\"],[0.9,\"#4d9221\"],[1,\"#276419\"]]},\"xaxis\":{\"gridcolor\":\"white\",\"linecolor\":\"white\",\"ticks\":\"\",\"title\":{\"standoff\":15},\"zerolinecolor\":\"white\",\"automargin\":true,\"zerolinewidth\":2},\"yaxis\":{\"gridcolor\":\"white\",\"linecolor\":\"white\",\"ticks\":\"\",\"title\":{\"standoff\":15},\"zerolinecolor\":\"white\",\"automargin\":true,\"zerolinewidth\":2},\"scene\":{\"xaxis\":{\"backgroundcolor\":\"#E5ECF6\",\"gridcolor\":\"white\",\"linecolor\":\"white\",\"showbackground\":true,\"ticks\":\"\",\"zerolinecolor\":\"white\",\"gridwidth\":2},\"yaxis\":{\"backgroundcolor\":\"#E5ECF6\",\"gridcolor\":\"white\",\"linecolor\":\"white\",\"showbackground\":true,\"ticks\":\"\",\"zerolinecolor\":\"white\",\"gridwidth\":2},\"zaxis\":{\"backgroundcolor\":\"#E5ECF6\",\"gridcolor\":\"white\",\"linecolor\":\"white\",\"showbackground\":true,\"ticks\":\"\",\"zerolinecolor\":\"white\",\"gridwidth\":2}},\"shapedefaults\":{\"line\":{\"color\":\"#2a3f5f\"}},\"annotationdefaults\":{\"arrowcolor\":\"#2a3f5f\",\"arrowhead\":0,\"arrowwidth\":1},\"geo\":{\"bgcolor\":\"white\",\"landcolor\":\"#E5ECF6\",\"subunitcolor\":\"white\",\"showland\":true,\"showlakes\":true,\"lakecolor\":\"white\"},\"title\":{\"x\":0.05},\"mapbox\":{\"style\":\"light\"}}},\"xaxis\":{\"anchor\":\"y\",\"domain\":[0.0,1.0],\"title\":{\"text\":\"fit_bert\"}},\"yaxis\":{\"anchor\":\"x\",\"domain\":[0.0,1.0],\"title\":{\"text\":\"count\"}},\"legend\":{\"tracegroupgap\":0},\"margin\":{\"t\":60},\"barmode\":\"relative\"},                        {\"responsive\": true}                    ).then(function(){\n",
       "                            \n",
       "var gd = document.getElementById('d6808ee2-184d-4007-88a6-9e3d798f9fe2');\n",
       "var x = new MutationObserver(function (mutations, observer) {{\n",
       "        var display = window.getComputedStyle(gd).display;\n",
       "        if (!display || display === 'none') {{\n",
       "            console.log([gd, 'removed!']);\n",
       "            Plotly.purge(gd);\n",
       "            observer.disconnect();\n",
       "        }}\n",
       "}});\n",
       "\n",
       "// Listen for the removal of the full notebook cells\n",
       "var notebookContainer = gd.closest('#notebook-container');\n",
       "if (notebookContainer) {{\n",
       "    x.observe(notebookContainer, {childList: true});\n",
       "}}\n",
       "\n",
       "// Listen for the clearing of the current output cell\n",
       "var outputEl = gd.closest('.output');\n",
       "if (outputEl) {{\n",
       "    x.observe(outputEl, {childList: true});\n",
       "}}\n",
       "\n",
       "                        })                };                });            </script>        </div>"
      ]
     },
     "metadata": {},
     "output_type": "display_data"
    }
   ],
   "source": [
    "fig = px.histogram(df['fit_bert'], x=\"fit_bert\")\n",
    "fig"
   ]
  },
  {
   "cell_type": "code",
   "execution_count": 220,
   "id": "76eb7c22-bab0-42be-b86c-2bcd20225257",
   "metadata": {},
   "outputs": [],
   "source": [
    "query = \"seeking human resources\"\n",
    "for ind, row in df.iterrows():\n",
    "    df.loc[ind,'fit_bert'] = round(predict_similarity([row['job_title'],query]),2)"
   ]
  },
  {
   "cell_type": "code",
   "execution_count": 221,
   "id": "cc1e199a-4fb0-48b8-9fbc-6ea63be1df3a",
   "metadata": {},
   "outputs": [
    {
     "data": {
      "text/html": [
       "<div>\n",
       "<style scoped>\n",
       "    .dataframe tbody tr th:only-of-type {\n",
       "        vertical-align: middle;\n",
       "    }\n",
       "\n",
       "    .dataframe tbody tr th {\n",
       "        vertical-align: top;\n",
       "    }\n",
       "\n",
       "    .dataframe thead th {\n",
       "        text-align: right;\n",
       "    }\n",
       "</style>\n",
       "<table border=\"1\" class=\"dataframe\">\n",
       "  <thead>\n",
       "    <tr style=\"text-align: right;\">\n",
       "      <th></th>\n",
       "      <th>job_title</th>\n",
       "      <th>location</th>\n",
       "      <th>connection</th>\n",
       "      <th>fit_word2vec</th>\n",
       "      <th>fit_bert</th>\n",
       "    </tr>\n",
       "    <tr>\n",
       "      <th>id</th>\n",
       "      <th></th>\n",
       "      <th></th>\n",
       "      <th></th>\n",
       "      <th></th>\n",
       "      <th></th>\n",
       "    </tr>\n",
       "  </thead>\n",
       "  <tbody>\n",
       "    <tr>\n",
       "      <th>30</th>\n",
       "      <td>seeking human resources opportunities</td>\n",
       "      <td>Chicago, Illinois</td>\n",
       "      <td>390</td>\n",
       "      <td>0.839381</td>\n",
       "      <td>0.86</td>\n",
       "    </tr>\n",
       "    <tr>\n",
       "      <th>28</th>\n",
       "      <td>seeking human resources opportunities</td>\n",
       "      <td>Chicago, Illinois</td>\n",
       "      <td>390</td>\n",
       "      <td>0.839381</td>\n",
       "      <td>0.86</td>\n",
       "    </tr>\n",
       "    <tr>\n",
       "      <th>99</th>\n",
       "      <td>seeking human resources position</td>\n",
       "      <td>Las Vegas, Nevada Area</td>\n",
       "      <td>48</td>\n",
       "      <td>0.886226</td>\n",
       "      <td>0.82</td>\n",
       "    </tr>\n",
       "    <tr>\n",
       "      <th>53</th>\n",
       "      <td>seeking human resources human resources inform...</td>\n",
       "      <td>Greater Philadelphia Area</td>\n",
       "      <td>500</td>\n",
       "      <td>0.553227</td>\n",
       "      <td>0.69</td>\n",
       "    </tr>\n",
       "    <tr>\n",
       "      <th>40</th>\n",
       "      <td>seeking human resources human resources inform...</td>\n",
       "      <td>Greater Philadelphia Area</td>\n",
       "      <td>500</td>\n",
       "      <td>0.553227</td>\n",
       "      <td>0.69</td>\n",
       "    </tr>\n",
       "    <tr>\n",
       "      <th>62</th>\n",
       "      <td>seeking human resources human resources inform...</td>\n",
       "      <td>Greater Philadelphia Area</td>\n",
       "      <td>500</td>\n",
       "      <td>0.553227</td>\n",
       "      <td>0.69</td>\n",
       "    </tr>\n",
       "    <tr>\n",
       "      <th>10</th>\n",
       "      <td>seeking human resources human resources inform...</td>\n",
       "      <td>Greater Philadelphia Area</td>\n",
       "      <td>500</td>\n",
       "      <td>0.553227</td>\n",
       "      <td>0.69</td>\n",
       "    </tr>\n",
       "    <tr>\n",
       "      <th>74</th>\n",
       "      <td>human resources professional</td>\n",
       "      <td>Greater Boston Area</td>\n",
       "      <td>16</td>\n",
       "      <td>0.133104</td>\n",
       "      <td>0.65</td>\n",
       "    </tr>\n",
       "    <tr>\n",
       "      <th>94</th>\n",
       "      <td>seeking human resources opportunities open tra...</td>\n",
       "      <td>Amerika Birleşik Devletleri</td>\n",
       "      <td>415</td>\n",
       "      <td>0.639099</td>\n",
       "      <td>0.62</td>\n",
       "    </tr>\n",
       "    <tr>\n",
       "      <th>17</th>\n",
       "      <td>aspiring human resources professional</td>\n",
       "      <td>Raleigh-Durham, North Carolina Area</td>\n",
       "      <td>44</td>\n",
       "      <td>0.663209</td>\n",
       "      <td>0.60</td>\n",
       "    </tr>\n",
       "    <tr>\n",
       "      <th>58</th>\n",
       "      <td>aspiring human resources professional</td>\n",
       "      <td>Raleigh-Durham, North Carolina Area</td>\n",
       "      <td>44</td>\n",
       "      <td>0.663209</td>\n",
       "      <td>0.60</td>\n",
       "    </tr>\n",
       "    <tr>\n",
       "      <th>33</th>\n",
       "      <td>aspiring human resources professional</td>\n",
       "      <td>Raleigh-Durham, North Carolina Area</td>\n",
       "      <td>44</td>\n",
       "      <td>0.663209</td>\n",
       "      <td>0.60</td>\n",
       "    </tr>\n",
       "    <tr>\n",
       "      <th>21</th>\n",
       "      <td>aspiring human resources professional</td>\n",
       "      <td>Raleigh-Durham, North Carolina Area</td>\n",
       "      <td>44</td>\n",
       "      <td>0.663209</td>\n",
       "      <td>0.60</td>\n",
       "    </tr>\n",
       "    <tr>\n",
       "      <th>46</th>\n",
       "      <td>aspiring human resources professional</td>\n",
       "      <td>Raleigh-Durham, North Carolina Area</td>\n",
       "      <td>44</td>\n",
       "      <td>0.663209</td>\n",
       "      <td>0.60</td>\n",
       "    </tr>\n",
       "    <tr>\n",
       "      <th>3</th>\n",
       "      <td>aspiring human resources professional</td>\n",
       "      <td>Raleigh-Durham, North Carolina Area</td>\n",
       "      <td>44</td>\n",
       "      <td>0.663209</td>\n",
       "      <td>0.60</td>\n",
       "    </tr>\n",
       "    <tr>\n",
       "      <th>97</th>\n",
       "      <td>aspiring human resources professional</td>\n",
       "      <td>Kokomo, Indiana Area</td>\n",
       "      <td>71</td>\n",
       "      <td>0.663209</td>\n",
       "      <td>0.60</td>\n",
       "    </tr>\n",
       "    <tr>\n",
       "      <th>82</th>\n",
       "      <td>aspiring human resources professional energeti...</td>\n",
       "      <td>Austin, Texas Area</td>\n",
       "      <td>174</td>\n",
       "      <td>0.540422</td>\n",
       "      <td>0.58</td>\n",
       "    </tr>\n",
       "    <tr>\n",
       "      <th>73</th>\n",
       "      <td>aspiring human resources manager seeking inter...</td>\n",
       "      <td>Houston, Texas Area</td>\n",
       "      <td>7</td>\n",
       "      <td>0.431644</td>\n",
       "      <td>0.57</td>\n",
       "    </tr>\n",
       "    <tr>\n",
       "      <th>77</th>\n",
       "      <td>human conflict policies compensation</td>\n",
       "      <td>Dallas/Fort Worth Area</td>\n",
       "      <td>409</td>\n",
       "      <td>0.141573</td>\n",
       "      <td>0.57</td>\n",
       "    </tr>\n",
       "    <tr>\n",
       "      <th>101</th>\n",
       "      <td>human resources generalist loparex</td>\n",
       "      <td>Raleigh-Durham, North Carolina Area</td>\n",
       "      <td>500</td>\n",
       "      <td>0.204287</td>\n",
       "      <td>0.57</td>\n",
       "    </tr>\n",
       "    <tr>\n",
       "      <th>88</th>\n",
       "      <td>human resources management major</td>\n",
       "      <td>Milpitas, California</td>\n",
       "      <td>18</td>\n",
       "      <td>0.170611</td>\n",
       "      <td>0.56</td>\n",
       "    </tr>\n",
       "    <tr>\n",
       "      <th>84</th>\n",
       "      <td>human resources professional world leader gis ...</td>\n",
       "      <td>Highland, California</td>\n",
       "      <td>50</td>\n",
       "      <td>0.089216</td>\n",
       "      <td>0.56</td>\n",
       "    </tr>\n",
       "    <tr>\n",
       "      <th>89</th>\n",
       "      <td>director human resources ey</td>\n",
       "      <td>Greater Atlanta Area</td>\n",
       "      <td>349</td>\n",
       "      <td>0.571728</td>\n",
       "      <td>0.55</td>\n",
       "    </tr>\n",
       "    <tr>\n",
       "      <th>75</th>\n",
       "      <td>nortia staffing seeking human resources payrol...</td>\n",
       "      <td>San Jose, California</td>\n",
       "      <td>500</td>\n",
       "      <td>0.047626</td>\n",
       "      <td>0.54</td>\n",
       "    </tr>\n",
       "    <tr>\n",
       "      <th>67</th>\n",
       "      <td>human resources staffing recruiting professional</td>\n",
       "      <td>Jackson, Mississippi Area</td>\n",
       "      <td>500</td>\n",
       "      <td>0.179637</td>\n",
       "      <td>0.53</td>\n",
       "    </tr>\n",
       "    <tr>\n",
       "      <th>100</th>\n",
       "      <td>aspiring human resources manager graduating ma...</td>\n",
       "      <td>Cape Girardeau, Missouri</td>\n",
       "      <td>103</td>\n",
       "      <td>0.383343</td>\n",
       "      <td>0.52</td>\n",
       "    </tr>\n",
       "    <tr>\n",
       "      <th>38</th>\n",
       "      <td>human resource senior specialist</td>\n",
       "      <td>San Francisco Bay Area</td>\n",
       "      <td>500</td>\n",
       "      <td>0.097957</td>\n",
       "      <td>0.51</td>\n",
       "    </tr>\n",
       "    <tr>\n",
       "      <th>61</th>\n",
       "      <td>human resource senior specialist</td>\n",
       "      <td>San Francisco Bay Area</td>\n",
       "      <td>500</td>\n",
       "      <td>0.097957</td>\n",
       "      <td>0.51</td>\n",
       "    </tr>\n",
       "    <tr>\n",
       "      <th>6</th>\n",
       "      <td>aspiring human resources specialist</td>\n",
       "      <td>Greater New York City Area</td>\n",
       "      <td>1</td>\n",
       "      <td>0.645122</td>\n",
       "      <td>0.51</td>\n",
       "    </tr>\n",
       "    <tr>\n",
       "      <th>36</th>\n",
       "      <td>aspiring human resources specialist</td>\n",
       "      <td>Greater New York City Area</td>\n",
       "      <td>1</td>\n",
       "      <td>0.645122</td>\n",
       "      <td>0.51</td>\n",
       "    </tr>\n",
       "    <tr>\n",
       "      <th>51</th>\n",
       "      <td>human resource senior specialist</td>\n",
       "      <td>San Francisco Bay Area</td>\n",
       "      <td>500</td>\n",
       "      <td>0.097957</td>\n",
       "      <td>0.51</td>\n",
       "    </tr>\n",
       "    <tr>\n",
       "      <th>60</th>\n",
       "      <td>aspiring human resources specialist</td>\n",
       "      <td>Greater New York City Area</td>\n",
       "      <td>1</td>\n",
       "      <td>0.645122</td>\n",
       "      <td>0.51</td>\n",
       "    </tr>\n",
       "    <tr>\n",
       "      <th>68</th>\n",
       "      <td>human resources specialist luxottica</td>\n",
       "      <td>Greater New York City Area</td>\n",
       "      <td>500</td>\n",
       "      <td>0.150797</td>\n",
       "      <td>0.51</td>\n",
       "    </tr>\n",
       "    <tr>\n",
       "      <th>8</th>\n",
       "      <td>human resource senior specialist</td>\n",
       "      <td>San Francisco Bay Area</td>\n",
       "      <td>500</td>\n",
       "      <td>0.097957</td>\n",
       "      <td>0.51</td>\n",
       "    </tr>\n",
       "    <tr>\n",
       "      <th>26</th>\n",
       "      <td>human resource senior specialist</td>\n",
       "      <td>San Francisco Bay Area</td>\n",
       "      <td>500</td>\n",
       "      <td>0.097957</td>\n",
       "      <td>0.51</td>\n",
       "    </tr>\n",
       "    <tr>\n",
       "      <th>49</th>\n",
       "      <td>aspiring human resources specialist</td>\n",
       "      <td>Greater New York City Area</td>\n",
       "      <td>1</td>\n",
       "      <td>0.645122</td>\n",
       "      <td>0.51</td>\n",
       "    </tr>\n",
       "    <tr>\n",
       "      <th>24</th>\n",
       "      <td>aspiring human resources specialist</td>\n",
       "      <td>Greater New York City Area</td>\n",
       "      <td>1</td>\n",
       "      <td>0.645122</td>\n",
       "      <td>0.51</td>\n",
       "    </tr>\n",
       "    <tr>\n",
       "      <th>64</th>\n",
       "      <td>senior vice president chief human resources of...</td>\n",
       "      <td>Houston, Texas Area</td>\n",
       "      <td>500</td>\n",
       "      <td>0.032235</td>\n",
       "      <td>0.50</td>\n",
       "    </tr>\n",
       "    <tr>\n",
       "      <th>12</th>\n",
       "      <td>senior vice president chief human resources of...</td>\n",
       "      <td>Houston, Texas Area</td>\n",
       "      <td>500</td>\n",
       "      <td>0.032235</td>\n",
       "      <td>0.50</td>\n",
       "    </tr>\n",
       "    <tr>\n",
       "      <th>42</th>\n",
       "      <td>senior vice president chief human resources of...</td>\n",
       "      <td>Houston, Texas Area</td>\n",
       "      <td>500</td>\n",
       "      <td>0.032235</td>\n",
       "      <td>0.50</td>\n",
       "    </tr>\n",
       "    <tr>\n",
       "      <th>55</th>\n",
       "      <td>senior vice president chief human resources of...</td>\n",
       "      <td>Houston, Texas Area</td>\n",
       "      <td>500</td>\n",
       "      <td>0.032235</td>\n",
       "      <td>0.50</td>\n",
       "    </tr>\n",
       "    <tr>\n",
       "      <th>29</th>\n",
       "      <td>aspiring human resources management student se...</td>\n",
       "      <td>Houston, Texas Area</td>\n",
       "      <td>500</td>\n",
       "      <td>0.464157</td>\n",
       "      <td>0.49</td>\n",
       "    </tr>\n",
       "    <tr>\n",
       "      <th>27</th>\n",
       "      <td>aspiring human resources management student se...</td>\n",
       "      <td>Houston, Texas Area</td>\n",
       "      <td>500</td>\n",
       "      <td>0.464157</td>\n",
       "      <td>0.49</td>\n",
       "    </tr>\n",
       "    <tr>\n",
       "      <th>92</th>\n",
       "      <td>seeking employment opportunity within customer...</td>\n",
       "      <td>Torrance, California</td>\n",
       "      <td>64</td>\n",
       "      <td>0.274850</td>\n",
       "      <td>0.49</td>\n",
       "    </tr>\n",
       "    <tr>\n",
       "      <th>81</th>\n",
       "      <td>senior human resources business partner heil e...</td>\n",
       "      <td>Chattanooga, Tennessee Area</td>\n",
       "      <td>455</td>\n",
       "      <td>0.470671</td>\n",
       "      <td>0.49</td>\n",
       "    </tr>\n",
       "    <tr>\n",
       "      <th>57</th>\n",
       "      <td>college business graduate magna cum laude aspi...</td>\n",
       "      <td>Houston, Texas</td>\n",
       "      <td>85</td>\n",
       "      <td>0.027578</td>\n",
       "      <td>0.48</td>\n",
       "    </tr>\n",
       "    <tr>\n",
       "      <th>1</th>\n",
       "      <td>college business graduate magna cum laude aspi...</td>\n",
       "      <td>Houston, Texas</td>\n",
       "      <td>85</td>\n",
       "      <td>0.027578</td>\n",
       "      <td>0.48</td>\n",
       "    </tr>\n",
       "    <tr>\n",
       "      <th>14</th>\n",
       "      <td>college business graduate magna cum laude aspi...</td>\n",
       "      <td>Houston, Texas</td>\n",
       "      <td>85</td>\n",
       "      <td>0.027578</td>\n",
       "      <td>0.48</td>\n",
       "    </tr>\n",
       "    <tr>\n",
       "      <th>15</th>\n",
       "      <td>college business graduate magna cum laude aspi...</td>\n",
       "      <td>Houston, Texas</td>\n",
       "      <td>85</td>\n",
       "      <td>0.027578</td>\n",
       "      <td>0.48</td>\n",
       "    </tr>\n",
       "    <tr>\n",
       "      <th>19</th>\n",
       "      <td>college business graduate magna cum laude aspi...</td>\n",
       "      <td>Houston, Texas</td>\n",
       "      <td>85</td>\n",
       "      <td>0.027578</td>\n",
       "      <td>0.48</td>\n",
       "    </tr>\n",
       "  </tbody>\n",
       "</table>\n",
       "</div>"
      ],
      "text/plain": [
       "                                             job_title  \\\n",
       "id                                                       \n",
       "30               seeking human resources opportunities   \n",
       "28               seeking human resources opportunities   \n",
       "99                    seeking human resources position   \n",
       "53   seeking human resources human resources inform...   \n",
       "40   seeking human resources human resources inform...   \n",
       "62   seeking human resources human resources inform...   \n",
       "10   seeking human resources human resources inform...   \n",
       "74                        human resources professional   \n",
       "94   seeking human resources opportunities open tra...   \n",
       "17               aspiring human resources professional   \n",
       "58               aspiring human resources professional   \n",
       "33               aspiring human resources professional   \n",
       "21               aspiring human resources professional   \n",
       "46               aspiring human resources professional   \n",
       "3                aspiring human resources professional   \n",
       "97               aspiring human resources professional   \n",
       "82   aspiring human resources professional energeti...   \n",
       "73   aspiring human resources manager seeking inter...   \n",
       "77                human conflict policies compensation   \n",
       "101                 human resources generalist loparex   \n",
       "88                    human resources management major   \n",
       "84   human resources professional world leader gis ...   \n",
       "89                         director human resources ey   \n",
       "75   nortia staffing seeking human resources payrol...   \n",
       "67    human resources staffing recruiting professional   \n",
       "100  aspiring human resources manager graduating ma...   \n",
       "38                    human resource senior specialist   \n",
       "61                    human resource senior specialist   \n",
       "6                  aspiring human resources specialist   \n",
       "36                 aspiring human resources specialist   \n",
       "51                    human resource senior specialist   \n",
       "60                 aspiring human resources specialist   \n",
       "68                human resources specialist luxottica   \n",
       "8                     human resource senior specialist   \n",
       "26                    human resource senior specialist   \n",
       "49                 aspiring human resources specialist   \n",
       "24                 aspiring human resources specialist   \n",
       "64   senior vice president chief human resources of...   \n",
       "12   senior vice president chief human resources of...   \n",
       "42   senior vice president chief human resources of...   \n",
       "55   senior vice president chief human resources of...   \n",
       "29   aspiring human resources management student se...   \n",
       "27   aspiring human resources management student se...   \n",
       "92   seeking employment opportunity within customer...   \n",
       "81   senior human resources business partner heil e...   \n",
       "57   college business graduate magna cum laude aspi...   \n",
       "1    college business graduate magna cum laude aspi...   \n",
       "14   college business graduate magna cum laude aspi...   \n",
       "15   college business graduate magna cum laude aspi...   \n",
       "19   college business graduate magna cum laude aspi...   \n",
       "\n",
       "                                location  connection  fit_word2vec  fit_bert  \n",
       "id                                                                            \n",
       "30                     Chicago, Illinois         390      0.839381      0.86  \n",
       "28                     Chicago, Illinois         390      0.839381      0.86  \n",
       "99                Las Vegas, Nevada Area          48      0.886226      0.82  \n",
       "53             Greater Philadelphia Area         500      0.553227      0.69  \n",
       "40             Greater Philadelphia Area         500      0.553227      0.69  \n",
       "62             Greater Philadelphia Area         500      0.553227      0.69  \n",
       "10             Greater Philadelphia Area         500      0.553227      0.69  \n",
       "74                   Greater Boston Area          16      0.133104      0.65  \n",
       "94           Amerika Birleşik Devletleri         415      0.639099      0.62  \n",
       "17   Raleigh-Durham, North Carolina Area          44      0.663209      0.60  \n",
       "58   Raleigh-Durham, North Carolina Area          44      0.663209      0.60  \n",
       "33   Raleigh-Durham, North Carolina Area          44      0.663209      0.60  \n",
       "21   Raleigh-Durham, North Carolina Area          44      0.663209      0.60  \n",
       "46   Raleigh-Durham, North Carolina Area          44      0.663209      0.60  \n",
       "3    Raleigh-Durham, North Carolina Area          44      0.663209      0.60  \n",
       "97                  Kokomo, Indiana Area          71      0.663209      0.60  \n",
       "82                    Austin, Texas Area         174      0.540422      0.58  \n",
       "73                   Houston, Texas Area           7      0.431644      0.57  \n",
       "77                Dallas/Fort Worth Area         409      0.141573      0.57  \n",
       "101  Raleigh-Durham, North Carolina Area         500      0.204287      0.57  \n",
       "88                  Milpitas, California          18      0.170611      0.56  \n",
       "84                  Highland, California          50      0.089216      0.56  \n",
       "89                  Greater Atlanta Area         349      0.571728      0.55  \n",
       "75                  San Jose, California         500      0.047626      0.54  \n",
       "67             Jackson, Mississippi Area         500      0.179637      0.53  \n",
       "100             Cape Girardeau, Missouri         103      0.383343      0.52  \n",
       "38                San Francisco Bay Area         500      0.097957      0.51  \n",
       "61                San Francisco Bay Area         500      0.097957      0.51  \n",
       "6             Greater New York City Area           1      0.645122      0.51  \n",
       "36            Greater New York City Area           1      0.645122      0.51  \n",
       "51                San Francisco Bay Area         500      0.097957      0.51  \n",
       "60            Greater New York City Area           1      0.645122      0.51  \n",
       "68            Greater New York City Area         500      0.150797      0.51  \n",
       "8                 San Francisco Bay Area         500      0.097957      0.51  \n",
       "26                San Francisco Bay Area         500      0.097957      0.51  \n",
       "49            Greater New York City Area           1      0.645122      0.51  \n",
       "24            Greater New York City Area           1      0.645122      0.51  \n",
       "64                   Houston, Texas Area         500      0.032235      0.50  \n",
       "12                   Houston, Texas Area         500      0.032235      0.50  \n",
       "42                   Houston, Texas Area         500      0.032235      0.50  \n",
       "55                   Houston, Texas Area         500      0.032235      0.50  \n",
       "29                   Houston, Texas Area         500      0.464157      0.49  \n",
       "27                   Houston, Texas Area         500      0.464157      0.49  \n",
       "92                  Torrance, California          64      0.274850      0.49  \n",
       "81           Chattanooga, Tennessee Area         455      0.470671      0.49  \n",
       "57                        Houston, Texas          85      0.027578      0.48  \n",
       "1                         Houston, Texas          85      0.027578      0.48  \n",
       "14                        Houston, Texas          85      0.027578      0.48  \n",
       "15                        Houston, Texas          85      0.027578      0.48  \n",
       "19                        Houston, Texas          85      0.027578      0.48  "
      ]
     },
     "execution_count": 221,
     "metadata": {},
     "output_type": "execute_result"
    }
   ],
   "source": [
    "top_candidates(n = 50, by = 'fit_bert', ascending = False, min_con = 0)"
   ]
  },
  {
   "cell_type": "code",
   "execution_count": 222,
   "id": "682880d8-0eed-4994-95cf-415e4f7f3e9b",
   "metadata": {},
   "outputs": [
    {
     "data": {
      "text/html": [
       "<div>\n",
       "<style scoped>\n",
       "    .dataframe tbody tr th:only-of-type {\n",
       "        vertical-align: middle;\n",
       "    }\n",
       "\n",
       "    .dataframe tbody tr th {\n",
       "        vertical-align: top;\n",
       "    }\n",
       "\n",
       "    .dataframe thead th {\n",
       "        text-align: right;\n",
       "    }\n",
       "</style>\n",
       "<table border=\"1\" class=\"dataframe\">\n",
       "  <thead>\n",
       "    <tr style=\"text-align: right;\">\n",
       "      <th></th>\n",
       "      <th>job_title</th>\n",
       "      <th>location</th>\n",
       "      <th>connection</th>\n",
       "      <th>fit_word2vec</th>\n",
       "      <th>fit_bert</th>\n",
       "    </tr>\n",
       "    <tr>\n",
       "      <th>id</th>\n",
       "      <th></th>\n",
       "      <th></th>\n",
       "      <th></th>\n",
       "      <th></th>\n",
       "      <th></th>\n",
       "    </tr>\n",
       "  </thead>\n",
       "  <tbody>\n",
       "    <tr>\n",
       "      <th>87</th>\n",
       "      <td>bachelor science biology victoria university w...</td>\n",
       "      <td>Baltimore, Maryland</td>\n",
       "      <td>40</td>\n",
       "      <td>0.115211</td>\n",
       "      <td>0.08</td>\n",
       "    </tr>\n",
       "    <tr>\n",
       "      <th>85</th>\n",
       "      <td>rrp brand portfolio executive jti japan tobacc...</td>\n",
       "      <td>Greater Philadelphia Area</td>\n",
       "      <td>500</td>\n",
       "      <td>0.040384</td>\n",
       "      <td>0.12</td>\n",
       "    </tr>\n",
       "    <tr>\n",
       "      <th>32</th>\n",
       "      <td>native english teacher epik english program korea</td>\n",
       "      <td>Kanada</td>\n",
       "      <td>500</td>\n",
       "      <td>0.050053</td>\n",
       "      <td>0.13</td>\n",
       "    </tr>\n",
       "    <tr>\n",
       "      <th>16</th>\n",
       "      <td>native english teacher epik english program korea</td>\n",
       "      <td>Kanada</td>\n",
       "      <td>500</td>\n",
       "      <td>0.050053</td>\n",
       "      <td>0.13</td>\n",
       "    </tr>\n",
       "    <tr>\n",
       "      <th>20</th>\n",
       "      <td>native english teacher epik english program korea</td>\n",
       "      <td>Kanada</td>\n",
       "      <td>500</td>\n",
       "      <td>0.050053</td>\n",
       "      <td>0.13</td>\n",
       "    </tr>\n",
       "    <tr>\n",
       "      <th>45</th>\n",
       "      <td>native english teacher epik english program korea</td>\n",
       "      <td>Kanada</td>\n",
       "      <td>500</td>\n",
       "      <td>0.050053</td>\n",
       "      <td>0.13</td>\n",
       "    </tr>\n",
       "    <tr>\n",
       "      <th>2</th>\n",
       "      <td>native english teacher epik english program korea</td>\n",
       "      <td>Kanada</td>\n",
       "      <td>500</td>\n",
       "      <td>0.050053</td>\n",
       "      <td>0.13</td>\n",
       "    </tr>\n",
       "    <tr>\n",
       "      <th>90</th>\n",
       "      <td>undergraduate research assistant styczynski lab</td>\n",
       "      <td>Greater Atlanta Area</td>\n",
       "      <td>155</td>\n",
       "      <td>0.101950</td>\n",
       "      <td>0.14</td>\n",
       "    </tr>\n",
       "    <tr>\n",
       "      <th>48</th>\n",
       "      <td>advisory board member celal bayar university</td>\n",
       "      <td>İzmir, Türkiye</td>\n",
       "      <td>500</td>\n",
       "      <td>0.075786</td>\n",
       "      <td>0.15</td>\n",
       "    </tr>\n",
       "    <tr>\n",
       "      <th>23</th>\n",
       "      <td>advisory board member celal bayar university</td>\n",
       "      <td>İzmir, Türkiye</td>\n",
       "      <td>500</td>\n",
       "      <td>0.075786</td>\n",
       "      <td>0.15</td>\n",
       "    </tr>\n",
       "    <tr>\n",
       "      <th>35</th>\n",
       "      <td>advisory board member celal bayar university</td>\n",
       "      <td>İzmir, Türkiye</td>\n",
       "      <td>500</td>\n",
       "      <td>0.075786</td>\n",
       "      <td>0.15</td>\n",
       "    </tr>\n",
       "    <tr>\n",
       "      <th>5</th>\n",
       "      <td>advisory board member celal bayar university</td>\n",
       "      <td>İzmir, Türkiye</td>\n",
       "      <td>500</td>\n",
       "      <td>0.075786</td>\n",
       "      <td>0.15</td>\n",
       "    </tr>\n",
       "    <tr>\n",
       "      <th>103</th>\n",
       "      <td>always set success</td>\n",
       "      <td>Greater Los Angeles Area</td>\n",
       "      <td>500</td>\n",
       "      <td>0.072144</td>\n",
       "      <td>0.18</td>\n",
       "    </tr>\n",
       "    <tr>\n",
       "      <th>98</th>\n",
       "      <td>student</td>\n",
       "      <td>Houston, Texas Area</td>\n",
       "      <td>4</td>\n",
       "      <td>0.020714</td>\n",
       "      <td>0.19</td>\n",
       "    </tr>\n",
       "    <tr>\n",
       "      <th>96</th>\n",
       "      <td>student indiana university kokomo business man...</td>\n",
       "      <td>Lafayette, Indiana</td>\n",
       "      <td>19</td>\n",
       "      <td>0.040807</td>\n",
       "      <td>0.20</td>\n",
       "    </tr>\n",
       "    <tr>\n",
       "      <th>93</th>\n",
       "      <td>admissions representative community medical ce...</td>\n",
       "      <td>Long Beach, California</td>\n",
       "      <td>9</td>\n",
       "      <td>0.078601</td>\n",
       "      <td>0.20</td>\n",
       "    </tr>\n",
       "    <tr>\n",
       "      <th>91</th>\n",
       "      <td>lead official western illinois university</td>\n",
       "      <td>Greater Chicago Area</td>\n",
       "      <td>39</td>\n",
       "      <td>0.048381</td>\n",
       "      <td>0.20</td>\n",
       "    </tr>\n",
       "    <tr>\n",
       "      <th>95</th>\n",
       "      <td>student westfield state university</td>\n",
       "      <td>Bridgewater, Massachusetts</td>\n",
       "      <td>57</td>\n",
       "      <td>0.072322</td>\n",
       "      <td>0.20</td>\n",
       "    </tr>\n",
       "    <tr>\n",
       "      <th>54</th>\n",
       "      <td>student chapman university</td>\n",
       "      <td>Lake Forest, California</td>\n",
       "      <td>2</td>\n",
       "      <td>0.070109</td>\n",
       "      <td>0.23</td>\n",
       "    </tr>\n",
       "    <tr>\n",
       "      <th>63</th>\n",
       "      <td>student chapman university</td>\n",
       "      <td>Lake Forest, California</td>\n",
       "      <td>2</td>\n",
       "      <td>0.070109</td>\n",
       "      <td>0.23</td>\n",
       "    </tr>\n",
       "    <tr>\n",
       "      <th>41</th>\n",
       "      <td>student chapman university</td>\n",
       "      <td>Lake Forest, California</td>\n",
       "      <td>2</td>\n",
       "      <td>0.070109</td>\n",
       "      <td>0.23</td>\n",
       "    </tr>\n",
       "    <tr>\n",
       "      <th>11</th>\n",
       "      <td>student chapman university</td>\n",
       "      <td>Lake Forest, California</td>\n",
       "      <td>2</td>\n",
       "      <td>0.070109</td>\n",
       "      <td>0.23</td>\n",
       "    </tr>\n",
       "    <tr>\n",
       "      <th>83</th>\n",
       "      <td>human resource manager endemol shine north ame...</td>\n",
       "      <td>Los Angeles, California</td>\n",
       "      <td>268</td>\n",
       "      <td>0.086408</td>\n",
       "      <td>0.28</td>\n",
       "    </tr>\n",
       "    <tr>\n",
       "      <th>13</th>\n",
       "      <td>human resources coordinator intercontinental b...</td>\n",
       "      <td>Atlanta, Georgia</td>\n",
       "      <td>500</td>\n",
       "      <td>0.128777</td>\n",
       "      <td>0.29</td>\n",
       "    </tr>\n",
       "    <tr>\n",
       "      <th>43</th>\n",
       "      <td>human resources coordinator intercontinental b...</td>\n",
       "      <td>Atlanta, Georgia</td>\n",
       "      <td>500</td>\n",
       "      <td>0.128777</td>\n",
       "      <td>0.29</td>\n",
       "    </tr>\n",
       "    <tr>\n",
       "      <th>56</th>\n",
       "      <td>human resources coordinator intercontinental b...</td>\n",
       "      <td>Atlanta, Georgia</td>\n",
       "      <td>500</td>\n",
       "      <td>0.128777</td>\n",
       "      <td>0.29</td>\n",
       "    </tr>\n",
       "    <tr>\n",
       "      <th>65</th>\n",
       "      <td>human resources coordinator intercontinental b...</td>\n",
       "      <td>Atlanta, Georgia</td>\n",
       "      <td>500</td>\n",
       "      <td>0.128777</td>\n",
       "      <td>0.29</td>\n",
       "    </tr>\n",
       "    <tr>\n",
       "      <th>80</th>\n",
       "      <td>junior manufacturing execution system informat...</td>\n",
       "      <td>Myrtle Beach, South Carolina Area</td>\n",
       "      <td>52</td>\n",
       "      <td>0.081239</td>\n",
       "      <td>0.30</td>\n",
       "    </tr>\n",
       "    <tr>\n",
       "      <th>86</th>\n",
       "      <td>information systems specialist programmer love...</td>\n",
       "      <td>Gaithersburg, Maryland</td>\n",
       "      <td>4</td>\n",
       "      <td>0.059279</td>\n",
       "      <td>0.30</td>\n",
       "    </tr>\n",
       "    <tr>\n",
       "      <th>102</th>\n",
       "      <td>business intelligence analytics travelers</td>\n",
       "      <td>Greater New York City Area</td>\n",
       "      <td>49</td>\n",
       "      <td>0.156992</td>\n",
       "      <td>0.34</td>\n",
       "    </tr>\n",
       "    <tr>\n",
       "      <th>79</th>\n",
       "      <td>liberal arts major aspiring human resources an...</td>\n",
       "      <td>Baton Rouge, Louisiana Area</td>\n",
       "      <td>7</td>\n",
       "      <td>0.051828</td>\n",
       "      <td>0.38</td>\n",
       "    </tr>\n",
       "    <tr>\n",
       "      <th>59</th>\n",
       "      <td>people development coordinator ryan</td>\n",
       "      <td>Denton, Texas</td>\n",
       "      <td>500</td>\n",
       "      <td>0.125992</td>\n",
       "      <td>0.39</td>\n",
       "    </tr>\n",
       "    <tr>\n",
       "      <th>34</th>\n",
       "      <td>people development coordinator ryan</td>\n",
       "      <td>Denton, Texas</td>\n",
       "      <td>500</td>\n",
       "      <td>0.125992</td>\n",
       "      <td>0.39</td>\n",
       "    </tr>\n",
       "    <tr>\n",
       "      <th>47</th>\n",
       "      <td>people development coordinator ryan</td>\n",
       "      <td>Denton, Texas</td>\n",
       "      <td>500</td>\n",
       "      <td>0.125992</td>\n",
       "      <td>0.39</td>\n",
       "    </tr>\n",
       "    <tr>\n",
       "      <th>78</th>\n",
       "      <td>human resources generalist schwan</td>\n",
       "      <td>Amerika Birleşik Devletleri</td>\n",
       "      <td>500</td>\n",
       "      <td>0.204287</td>\n",
       "      <td>0.39</td>\n",
       "    </tr>\n",
       "    <tr>\n",
       "      <th>22</th>\n",
       "      <td>people development coordinator ryan</td>\n",
       "      <td>Denton, Texas</td>\n",
       "      <td>500</td>\n",
       "      <td>0.125992</td>\n",
       "      <td>0.39</td>\n",
       "    </tr>\n",
       "    <tr>\n",
       "      <th>18</th>\n",
       "      <td>people development coordinator ryan</td>\n",
       "      <td>Denton, Texas</td>\n",
       "      <td>500</td>\n",
       "      <td>0.125992</td>\n",
       "      <td>0.39</td>\n",
       "    </tr>\n",
       "    <tr>\n",
       "      <th>4</th>\n",
       "      <td>people development coordinator ryan</td>\n",
       "      <td>Denton, Texas</td>\n",
       "      <td>500</td>\n",
       "      <td>0.125992</td>\n",
       "      <td>0.39</td>\n",
       "    </tr>\n",
       "    <tr>\n",
       "      <th>70</th>\n",
       "      <td>retired army national guard recruiter office m...</td>\n",
       "      <td>Virginia Beach, Virginia</td>\n",
       "      <td>82</td>\n",
       "      <td>0.052260</td>\n",
       "      <td>0.39</td>\n",
       "    </tr>\n",
       "    <tr>\n",
       "      <th>37</th>\n",
       "      <td>student humber college aspiring human resource...</td>\n",
       "      <td>Kanada</td>\n",
       "      <td>61</td>\n",
       "      <td>0.022395</td>\n",
       "      <td>0.40</td>\n",
       "    </tr>\n",
       "    <tr>\n",
       "      <th>25</th>\n",
       "      <td>student humber college aspiring human resource...</td>\n",
       "      <td>Kanada</td>\n",
       "      <td>61</td>\n",
       "      <td>0.022395</td>\n",
       "      <td>0.40</td>\n",
       "    </tr>\n",
       "    <tr>\n",
       "      <th>39</th>\n",
       "      <td>student humber college aspiring human resource...</td>\n",
       "      <td>Kanada</td>\n",
       "      <td>61</td>\n",
       "      <td>0.022395</td>\n",
       "      <td>0.40</td>\n",
       "    </tr>\n",
       "    <tr>\n",
       "      <th>9</th>\n",
       "      <td>student humber college aspiring human resource...</td>\n",
       "      <td>Kanada</td>\n",
       "      <td>61</td>\n",
       "      <td>0.022395</td>\n",
       "      <td>0.40</td>\n",
       "    </tr>\n",
       "    <tr>\n",
       "      <th>7</th>\n",
       "      <td>student humber college aspiring human resource...</td>\n",
       "      <td>Kanada</td>\n",
       "      <td>61</td>\n",
       "      <td>0.022395</td>\n",
       "      <td>0.40</td>\n",
       "    </tr>\n",
       "    <tr>\n",
       "      <th>50</th>\n",
       "      <td>student humber college aspiring human resource...</td>\n",
       "      <td>Kanada</td>\n",
       "      <td>61</td>\n",
       "      <td>0.022395</td>\n",
       "      <td>0.40</td>\n",
       "    </tr>\n",
       "    <tr>\n",
       "      <th>52</th>\n",
       "      <td>student humber college aspiring human resource...</td>\n",
       "      <td>Kanada</td>\n",
       "      <td>61</td>\n",
       "      <td>0.022395</td>\n",
       "      <td>0.40</td>\n",
       "    </tr>\n",
       "    <tr>\n",
       "      <th>71</th>\n",
       "      <td>human resources generalist scottmadden inc</td>\n",
       "      <td>Raleigh-Durham, North Carolina Area</td>\n",
       "      <td>500</td>\n",
       "      <td>0.164539</td>\n",
       "      <td>0.42</td>\n",
       "    </tr>\n",
       "    <tr>\n",
       "      <th>104</th>\n",
       "      <td>director administration excellence logging</td>\n",
       "      <td>Katy, Texas</td>\n",
       "      <td>500</td>\n",
       "      <td>0.080577</td>\n",
       "      <td>0.44</td>\n",
       "    </tr>\n",
       "    <tr>\n",
       "      <th>76</th>\n",
       "      <td>aspiring human resources professional passiona...</td>\n",
       "      <td>New York, New York</td>\n",
       "      <td>212</td>\n",
       "      <td>0.406978</td>\n",
       "      <td>0.45</td>\n",
       "    </tr>\n",
       "    <tr>\n",
       "      <th>66</th>\n",
       "      <td>experienced retail manager aspiring human reso...</td>\n",
       "      <td>Austin, Texas Area</td>\n",
       "      <td>57</td>\n",
       "      <td>0.073292</td>\n",
       "      <td>0.45</td>\n",
       "    </tr>\n",
       "  </tbody>\n",
       "</table>\n",
       "</div>"
      ],
      "text/plain": [
       "                                             job_title  \\\n",
       "id                                                       \n",
       "87   bachelor science biology victoria university w...   \n",
       "85   rrp brand portfolio executive jti japan tobacc...   \n",
       "32   native english teacher epik english program korea   \n",
       "16   native english teacher epik english program korea   \n",
       "20   native english teacher epik english program korea   \n",
       "45   native english teacher epik english program korea   \n",
       "2    native english teacher epik english program korea   \n",
       "90     undergraduate research assistant styczynski lab   \n",
       "48        advisory board member celal bayar university   \n",
       "23        advisory board member celal bayar university   \n",
       "35        advisory board member celal bayar university   \n",
       "5         advisory board member celal bayar university   \n",
       "103                                 always set success   \n",
       "98                                             student   \n",
       "96   student indiana university kokomo business man...   \n",
       "93   admissions representative community medical ce...   \n",
       "91           lead official western illinois university   \n",
       "95                  student westfield state university   \n",
       "54                          student chapman university   \n",
       "63                          student chapman university   \n",
       "41                          student chapman university   \n",
       "11                          student chapman university   \n",
       "83   human resource manager endemol shine north ame...   \n",
       "13   human resources coordinator intercontinental b...   \n",
       "43   human resources coordinator intercontinental b...   \n",
       "56   human resources coordinator intercontinental b...   \n",
       "65   human resources coordinator intercontinental b...   \n",
       "80   junior manufacturing execution system informat...   \n",
       "86   information systems specialist programmer love...   \n",
       "102          business intelligence analytics travelers   \n",
       "79   liberal arts major aspiring human resources an...   \n",
       "59                 people development coordinator ryan   \n",
       "34                 people development coordinator ryan   \n",
       "47                 people development coordinator ryan   \n",
       "78                   human resources generalist schwan   \n",
       "22                 people development coordinator ryan   \n",
       "18                 people development coordinator ryan   \n",
       "4                  people development coordinator ryan   \n",
       "70   retired army national guard recruiter office m...   \n",
       "37   student humber college aspiring human resource...   \n",
       "25   student humber college aspiring human resource...   \n",
       "39   student humber college aspiring human resource...   \n",
       "9    student humber college aspiring human resource...   \n",
       "7    student humber college aspiring human resource...   \n",
       "50   student humber college aspiring human resource...   \n",
       "52   student humber college aspiring human resource...   \n",
       "71          human resources generalist scottmadden inc   \n",
       "104         director administration excellence logging   \n",
       "76   aspiring human resources professional passiona...   \n",
       "66   experienced retail manager aspiring human reso...   \n",
       "\n",
       "                                location  connection  fit_word2vec  fit_bert  \n",
       "id                                                                            \n",
       "87                   Baltimore, Maryland          40      0.115211      0.08  \n",
       "85             Greater Philadelphia Area         500      0.040384      0.12  \n",
       "32                                Kanada         500      0.050053      0.13  \n",
       "16                                Kanada         500      0.050053      0.13  \n",
       "20                                Kanada         500      0.050053      0.13  \n",
       "45                                Kanada         500      0.050053      0.13  \n",
       "2                                 Kanada         500      0.050053      0.13  \n",
       "90                  Greater Atlanta Area         155      0.101950      0.14  \n",
       "48                        İzmir, Türkiye         500      0.075786      0.15  \n",
       "23                        İzmir, Türkiye         500      0.075786      0.15  \n",
       "35                        İzmir, Türkiye         500      0.075786      0.15  \n",
       "5                         İzmir, Türkiye         500      0.075786      0.15  \n",
       "103             Greater Los Angeles Area         500      0.072144      0.18  \n",
       "98                   Houston, Texas Area           4      0.020714      0.19  \n",
       "96                    Lafayette, Indiana          19      0.040807      0.20  \n",
       "93                Long Beach, California           9      0.078601      0.20  \n",
       "91                  Greater Chicago Area          39      0.048381      0.20  \n",
       "95            Bridgewater, Massachusetts          57      0.072322      0.20  \n",
       "54               Lake Forest, California           2      0.070109      0.23  \n",
       "63               Lake Forest, California           2      0.070109      0.23  \n",
       "41               Lake Forest, California           2      0.070109      0.23  \n",
       "11               Lake Forest, California           2      0.070109      0.23  \n",
       "83               Los Angeles, California         268      0.086408      0.28  \n",
       "13                      Atlanta, Georgia         500      0.128777      0.29  \n",
       "43                      Atlanta, Georgia         500      0.128777      0.29  \n",
       "56                      Atlanta, Georgia         500      0.128777      0.29  \n",
       "65                      Atlanta, Georgia         500      0.128777      0.29  \n",
       "80     Myrtle Beach, South Carolina Area          52      0.081239      0.30  \n",
       "86                Gaithersburg, Maryland           4      0.059279      0.30  \n",
       "102           Greater New York City Area          49      0.156992      0.34  \n",
       "79           Baton Rouge, Louisiana Area           7      0.051828      0.38  \n",
       "59                         Denton, Texas         500      0.125992      0.39  \n",
       "34                         Denton, Texas         500      0.125992      0.39  \n",
       "47                         Denton, Texas         500      0.125992      0.39  \n",
       "78           Amerika Birleşik Devletleri         500      0.204287      0.39  \n",
       "22                         Denton, Texas         500      0.125992      0.39  \n",
       "18                         Denton, Texas         500      0.125992      0.39  \n",
       "4                          Denton, Texas         500      0.125992      0.39  \n",
       "70              Virginia Beach, Virginia          82      0.052260      0.39  \n",
       "37                                Kanada          61      0.022395      0.40  \n",
       "25                                Kanada          61      0.022395      0.40  \n",
       "39                                Kanada          61      0.022395      0.40  \n",
       "9                                 Kanada          61      0.022395      0.40  \n",
       "7                                 Kanada          61      0.022395      0.40  \n",
       "50                                Kanada          61      0.022395      0.40  \n",
       "52                                Kanada          61      0.022395      0.40  \n",
       "71   Raleigh-Durham, North Carolina Area         500      0.164539      0.42  \n",
       "104                          Katy, Texas         500      0.080577      0.44  \n",
       "76                    New York, New York         212      0.406978      0.45  \n",
       "66                    Austin, Texas Area          57      0.073292      0.45  "
      ]
     },
     "execution_count": 222,
     "metadata": {},
     "output_type": "execute_result"
    }
   ],
   "source": [
    "top_candidates(n = 50, by = 'fit_bert', ascending = True, min_con = 0)"
   ]
  },
  {
   "cell_type": "code",
   "execution_count": 223,
   "id": "7e716389-076e-4d8f-a449-9abac9562ce6",
   "metadata": {},
   "outputs": [
    {
     "data": {
      "application/vnd.plotly.v1+json": {
       "config": {
        "plotlyServerURL": "https://plot.ly"
       },
       "data": [
        {
         "alignmentgroup": "True",
         "bingroup": "x",
         "hovertemplate": "fit_bert=%{x}<br>count=%{y}<extra></extra>",
         "legendgroup": "",
         "marker": {
          "color": "#636efa",
          "pattern": {
           "shape": ""
          }
         },
         "name": "",
         "offsetgroup": "",
         "orientation": "v",
         "showlegend": false,
         "type": "histogram",
         "x": [
          0.48,
          0.13,
          0.6,
          0.39,
          0.15,
          0.51,
          0.4,
          0.51,
          0.4,
          0.69,
          0.23,
          0.5,
          0.29,
          0.48,
          0.48,
          0.13,
          0.6,
          0.39,
          0.48,
          0.13,
          0.6,
          0.39,
          0.15,
          0.51,
          0.4,
          0.51,
          0.49,
          0.86,
          0.49,
          0.86,
          0.48,
          0.13,
          0.6,
          0.39,
          0.15,
          0.51,
          0.4,
          0.51,
          0.4,
          0.69,
          0.23,
          0.5,
          0.29,
          0.48,
          0.13,
          0.6,
          0.39,
          0.15,
          0.51,
          0.4,
          0.51,
          0.4,
          0.69,
          0.23,
          0.5,
          0.29,
          0.48,
          0.6,
          0.39,
          0.51,
          0.51,
          0.69,
          0.23,
          0.5,
          0.29,
          0.45,
          0.53,
          0.51,
          0.46,
          0.39,
          0.42,
          0.47,
          0.57,
          0.65,
          0.54,
          0.45,
          0.57,
          0.39,
          0.38,
          0.3,
          0.49,
          0.58,
          0.28,
          0.56,
          0.12,
          0.3,
          0.08,
          0.56,
          0.55,
          0.14,
          0.2,
          0.49,
          0.2,
          0.62,
          0.2,
          0.2,
          0.6,
          0.19,
          0.82,
          0.52,
          0.57,
          0.34,
          0.18,
          0.44
         ],
         "xaxis": "x",
         "yaxis": "y"
        }
       ],
       "layout": {
        "autosize": true,
        "barmode": "relative",
        "legend": {
         "tracegroupgap": 0
        },
        "margin": {
         "t": 60
        },
        "template": {
         "data": {
          "bar": [
           {
            "error_x": {
             "color": "#2a3f5f"
            },
            "error_y": {
             "color": "#2a3f5f"
            },
            "marker": {
             "line": {
              "color": "#E5ECF6",
              "width": 0.5
             },
             "pattern": {
              "fillmode": "overlay",
              "size": 10,
              "solidity": 0.2
             }
            },
            "type": "bar"
           }
          ],
          "barpolar": [
           {
            "marker": {
             "line": {
              "color": "#E5ECF6",
              "width": 0.5
             },
             "pattern": {
              "fillmode": "overlay",
              "size": 10,
              "solidity": 0.2
             }
            },
            "type": "barpolar"
           }
          ],
          "carpet": [
           {
            "aaxis": {
             "endlinecolor": "#2a3f5f",
             "gridcolor": "white",
             "linecolor": "white",
             "minorgridcolor": "white",
             "startlinecolor": "#2a3f5f"
            },
            "baxis": {
             "endlinecolor": "#2a3f5f",
             "gridcolor": "white",
             "linecolor": "white",
             "minorgridcolor": "white",
             "startlinecolor": "#2a3f5f"
            },
            "type": "carpet"
           }
          ],
          "choropleth": [
           {
            "colorbar": {
             "outlinewidth": 0,
             "ticks": ""
            },
            "type": "choropleth"
           }
          ],
          "contour": [
           {
            "colorbar": {
             "outlinewidth": 0,
             "ticks": ""
            },
            "colorscale": [
             [
              0,
              "#0d0887"
             ],
             [
              0.1111111111111111,
              "#46039f"
             ],
             [
              0.2222222222222222,
              "#7201a8"
             ],
             [
              0.3333333333333333,
              "#9c179e"
             ],
             [
              0.4444444444444444,
              "#bd3786"
             ],
             [
              0.5555555555555556,
              "#d8576b"
             ],
             [
              0.6666666666666666,
              "#ed7953"
             ],
             [
              0.7777777777777778,
              "#fb9f3a"
             ],
             [
              0.8888888888888888,
              "#fdca26"
             ],
             [
              1,
              "#f0f921"
             ]
            ],
            "type": "contour"
           }
          ],
          "contourcarpet": [
           {
            "colorbar": {
             "outlinewidth": 0,
             "ticks": ""
            },
            "type": "contourcarpet"
           }
          ],
          "heatmap": [
           {
            "colorbar": {
             "outlinewidth": 0,
             "ticks": ""
            },
            "colorscale": [
             [
              0,
              "#0d0887"
             ],
             [
              0.1111111111111111,
              "#46039f"
             ],
             [
              0.2222222222222222,
              "#7201a8"
             ],
             [
              0.3333333333333333,
              "#9c179e"
             ],
             [
              0.4444444444444444,
              "#bd3786"
             ],
             [
              0.5555555555555556,
              "#d8576b"
             ],
             [
              0.6666666666666666,
              "#ed7953"
             ],
             [
              0.7777777777777778,
              "#fb9f3a"
             ],
             [
              0.8888888888888888,
              "#fdca26"
             ],
             [
              1,
              "#f0f921"
             ]
            ],
            "type": "heatmap"
           }
          ],
          "heatmapgl": [
           {
            "colorbar": {
             "outlinewidth": 0,
             "ticks": ""
            },
            "colorscale": [
             [
              0,
              "#0d0887"
             ],
             [
              0.1111111111111111,
              "#46039f"
             ],
             [
              0.2222222222222222,
              "#7201a8"
             ],
             [
              0.3333333333333333,
              "#9c179e"
             ],
             [
              0.4444444444444444,
              "#bd3786"
             ],
             [
              0.5555555555555556,
              "#d8576b"
             ],
             [
              0.6666666666666666,
              "#ed7953"
             ],
             [
              0.7777777777777778,
              "#fb9f3a"
             ],
             [
              0.8888888888888888,
              "#fdca26"
             ],
             [
              1,
              "#f0f921"
             ]
            ],
            "type": "heatmapgl"
           }
          ],
          "histogram": [
           {
            "marker": {
             "pattern": {
              "fillmode": "overlay",
              "size": 10,
              "solidity": 0.2
             }
            },
            "type": "histogram"
           }
          ],
          "histogram2d": [
           {
            "colorbar": {
             "outlinewidth": 0,
             "ticks": ""
            },
            "colorscale": [
             [
              0,
              "#0d0887"
             ],
             [
              0.1111111111111111,
              "#46039f"
             ],
             [
              0.2222222222222222,
              "#7201a8"
             ],
             [
              0.3333333333333333,
              "#9c179e"
             ],
             [
              0.4444444444444444,
              "#bd3786"
             ],
             [
              0.5555555555555556,
              "#d8576b"
             ],
             [
              0.6666666666666666,
              "#ed7953"
             ],
             [
              0.7777777777777778,
              "#fb9f3a"
             ],
             [
              0.8888888888888888,
              "#fdca26"
             ],
             [
              1,
              "#f0f921"
             ]
            ],
            "type": "histogram2d"
           }
          ],
          "histogram2dcontour": [
           {
            "colorbar": {
             "outlinewidth": 0,
             "ticks": ""
            },
            "colorscale": [
             [
              0,
              "#0d0887"
             ],
             [
              0.1111111111111111,
              "#46039f"
             ],
             [
              0.2222222222222222,
              "#7201a8"
             ],
             [
              0.3333333333333333,
              "#9c179e"
             ],
             [
              0.4444444444444444,
              "#bd3786"
             ],
             [
              0.5555555555555556,
              "#d8576b"
             ],
             [
              0.6666666666666666,
              "#ed7953"
             ],
             [
              0.7777777777777778,
              "#fb9f3a"
             ],
             [
              0.8888888888888888,
              "#fdca26"
             ],
             [
              1,
              "#f0f921"
             ]
            ],
            "type": "histogram2dcontour"
           }
          ],
          "mesh3d": [
           {
            "colorbar": {
             "outlinewidth": 0,
             "ticks": ""
            },
            "type": "mesh3d"
           }
          ],
          "parcoords": [
           {
            "line": {
             "colorbar": {
              "outlinewidth": 0,
              "ticks": ""
             }
            },
            "type": "parcoords"
           }
          ],
          "pie": [
           {
            "automargin": true,
            "type": "pie"
           }
          ],
          "scatter": [
           {
            "fillpattern": {
             "fillmode": "overlay",
             "size": 10,
             "solidity": 0.2
            },
            "type": "scatter"
           }
          ],
          "scatter3d": [
           {
            "line": {
             "colorbar": {
              "outlinewidth": 0,
              "ticks": ""
             }
            },
            "marker": {
             "colorbar": {
              "outlinewidth": 0,
              "ticks": ""
             }
            },
            "type": "scatter3d"
           }
          ],
          "scattercarpet": [
           {
            "marker": {
             "colorbar": {
              "outlinewidth": 0,
              "ticks": ""
             }
            },
            "type": "scattercarpet"
           }
          ],
          "scattergeo": [
           {
            "marker": {
             "colorbar": {
              "outlinewidth": 0,
              "ticks": ""
             }
            },
            "type": "scattergeo"
           }
          ],
          "scattergl": [
           {
            "marker": {
             "colorbar": {
              "outlinewidth": 0,
              "ticks": ""
             }
            },
            "type": "scattergl"
           }
          ],
          "scattermapbox": [
           {
            "marker": {
             "colorbar": {
              "outlinewidth": 0,
              "ticks": ""
             }
            },
            "type": "scattermapbox"
           }
          ],
          "scatterpolar": [
           {
            "marker": {
             "colorbar": {
              "outlinewidth": 0,
              "ticks": ""
             }
            },
            "type": "scatterpolar"
           }
          ],
          "scatterpolargl": [
           {
            "marker": {
             "colorbar": {
              "outlinewidth": 0,
              "ticks": ""
             }
            },
            "type": "scatterpolargl"
           }
          ],
          "scatterternary": [
           {
            "marker": {
             "colorbar": {
              "outlinewidth": 0,
              "ticks": ""
             }
            },
            "type": "scatterternary"
           }
          ],
          "surface": [
           {
            "colorbar": {
             "outlinewidth": 0,
             "ticks": ""
            },
            "colorscale": [
             [
              0,
              "#0d0887"
             ],
             [
              0.1111111111111111,
              "#46039f"
             ],
             [
              0.2222222222222222,
              "#7201a8"
             ],
             [
              0.3333333333333333,
              "#9c179e"
             ],
             [
              0.4444444444444444,
              "#bd3786"
             ],
             [
              0.5555555555555556,
              "#d8576b"
             ],
             [
              0.6666666666666666,
              "#ed7953"
             ],
             [
              0.7777777777777778,
              "#fb9f3a"
             ],
             [
              0.8888888888888888,
              "#fdca26"
             ],
             [
              1,
              "#f0f921"
             ]
            ],
            "type": "surface"
           }
          ],
          "table": [
           {
            "cells": {
             "fill": {
              "color": "#EBF0F8"
             },
             "line": {
              "color": "white"
             }
            },
            "header": {
             "fill": {
              "color": "#C8D4E3"
             },
             "line": {
              "color": "white"
             }
            },
            "type": "table"
           }
          ]
         },
         "layout": {
          "annotationdefaults": {
           "arrowcolor": "#2a3f5f",
           "arrowhead": 0,
           "arrowwidth": 1
          },
          "autotypenumbers": "strict",
          "coloraxis": {
           "colorbar": {
            "outlinewidth": 0,
            "ticks": ""
           }
          },
          "colorscale": {
           "diverging": [
            [
             0,
             "#8e0152"
            ],
            [
             0.1,
             "#c51b7d"
            ],
            [
             0.2,
             "#de77ae"
            ],
            [
             0.3,
             "#f1b6da"
            ],
            [
             0.4,
             "#fde0ef"
            ],
            [
             0.5,
             "#f7f7f7"
            ],
            [
             0.6,
             "#e6f5d0"
            ],
            [
             0.7,
             "#b8e186"
            ],
            [
             0.8,
             "#7fbc41"
            ],
            [
             0.9,
             "#4d9221"
            ],
            [
             1,
             "#276419"
            ]
           ],
           "sequential": [
            [
             0,
             "#0d0887"
            ],
            [
             0.1111111111111111,
             "#46039f"
            ],
            [
             0.2222222222222222,
             "#7201a8"
            ],
            [
             0.3333333333333333,
             "#9c179e"
            ],
            [
             0.4444444444444444,
             "#bd3786"
            ],
            [
             0.5555555555555556,
             "#d8576b"
            ],
            [
             0.6666666666666666,
             "#ed7953"
            ],
            [
             0.7777777777777778,
             "#fb9f3a"
            ],
            [
             0.8888888888888888,
             "#fdca26"
            ],
            [
             1,
             "#f0f921"
            ]
           ],
           "sequentialminus": [
            [
             0,
             "#0d0887"
            ],
            [
             0.1111111111111111,
             "#46039f"
            ],
            [
             0.2222222222222222,
             "#7201a8"
            ],
            [
             0.3333333333333333,
             "#9c179e"
            ],
            [
             0.4444444444444444,
             "#bd3786"
            ],
            [
             0.5555555555555556,
             "#d8576b"
            ],
            [
             0.6666666666666666,
             "#ed7953"
            ],
            [
             0.7777777777777778,
             "#fb9f3a"
            ],
            [
             0.8888888888888888,
             "#fdca26"
            ],
            [
             1,
             "#f0f921"
            ]
           ]
          },
          "colorway": [
           "#636efa",
           "#EF553B",
           "#00cc96",
           "#ab63fa",
           "#FFA15A",
           "#19d3f3",
           "#FF6692",
           "#B6E880",
           "#FF97FF",
           "#FECB52"
          ],
          "font": {
           "color": "#2a3f5f"
          },
          "geo": {
           "bgcolor": "white",
           "lakecolor": "white",
           "landcolor": "#E5ECF6",
           "showlakes": true,
           "showland": true,
           "subunitcolor": "white"
          },
          "hoverlabel": {
           "align": "left"
          },
          "hovermode": "closest",
          "mapbox": {
           "style": "light"
          },
          "paper_bgcolor": "white",
          "plot_bgcolor": "#E5ECF6",
          "polar": {
           "angularaxis": {
            "gridcolor": "white",
            "linecolor": "white",
            "ticks": ""
           },
           "bgcolor": "#E5ECF6",
           "radialaxis": {
            "gridcolor": "white",
            "linecolor": "white",
            "ticks": ""
           }
          },
          "scene": {
           "xaxis": {
            "backgroundcolor": "#E5ECF6",
            "gridcolor": "white",
            "gridwidth": 2,
            "linecolor": "white",
            "showbackground": true,
            "ticks": "",
            "zerolinecolor": "white"
           },
           "yaxis": {
            "backgroundcolor": "#E5ECF6",
            "gridcolor": "white",
            "gridwidth": 2,
            "linecolor": "white",
            "showbackground": true,
            "ticks": "",
            "zerolinecolor": "white"
           },
           "zaxis": {
            "backgroundcolor": "#E5ECF6",
            "gridcolor": "white",
            "gridwidth": 2,
            "linecolor": "white",
            "showbackground": true,
            "ticks": "",
            "zerolinecolor": "white"
           }
          },
          "shapedefaults": {
           "line": {
            "color": "#2a3f5f"
           }
          },
          "ternary": {
           "aaxis": {
            "gridcolor": "white",
            "linecolor": "white",
            "ticks": ""
           },
           "baxis": {
            "gridcolor": "white",
            "linecolor": "white",
            "ticks": ""
           },
           "bgcolor": "#E5ECF6",
           "caxis": {
            "gridcolor": "white",
            "linecolor": "white",
            "ticks": ""
           }
          },
          "title": {
           "x": 0.05
          },
          "xaxis": {
           "automargin": true,
           "gridcolor": "white",
           "linecolor": "white",
           "ticks": "",
           "title": {
            "standoff": 15
           },
           "zerolinecolor": "white",
           "zerolinewidth": 2
          },
          "yaxis": {
           "automargin": true,
           "gridcolor": "white",
           "linecolor": "white",
           "ticks": "",
           "title": {
            "standoff": 15
           },
           "zerolinecolor": "white",
           "zerolinewidth": 2
          }
         }
        },
        "xaxis": {
         "anchor": "y",
         "autorange": true,
         "domain": [
          0,
          1
         ],
         "range": [
          6.938893903907228e-17,
          0.9
         ],
         "title": {
          "text": "fit_bert"
         },
         "type": "linear"
        },
        "yaxis": {
         "anchor": "x",
         "autorange": true,
         "domain": [
          0,
          1
         ],
         "range": [
          0,
          26.315789473684212
         ],
         "title": {
          "text": "count"
         }
        }
       }
      },
      "image/png": "[encoded data removed]",
      "text/html": [
       "<div>                            <div id=\"f5d439d2-2f1f-4edc-9436-74ac820da27a\" class=\"plotly-graph-div\" style=\"height:525px; width:100%;\"></div>            <script type=\"text/javascript\">                require([\"plotly\"], function(Plotly) {                    window.PLOTLYENV=window.PLOTLYENV || {};                                    if (document.getElementById(\"f5d439d2-2f1f-4edc-9436-74ac820da27a\")) {                    Plotly.newPlot(                        \"f5d439d2-2f1f-4edc-9436-74ac820da27a\",                        [{\"alignmentgroup\":\"True\",\"bingroup\":\"x\",\"hovertemplate\":\"fit_bert=%{x}\\u003cbr\\u003ecount=%{y}\\u003cextra\\u003e\\u003c\\u002fextra\\u003e\",\"legendgroup\":\"\",\"marker\":{\"color\":\"#636efa\",\"pattern\":{\"shape\":\"\"}},\"name\":\"\",\"offsetgroup\":\"\",\"orientation\":\"v\",\"showlegend\":false,\"x\":[0.48,0.13,0.6,0.39,0.15,0.51,0.4,0.51,0.4,0.69,0.23,0.5,0.29,0.48,0.48,0.13,0.6,0.39,0.48,0.13,0.6,0.39,0.15,0.51,0.4,0.51,0.49,0.86,0.49,0.86,0.48,0.13,0.6,0.39,0.15,0.51,0.4,0.51,0.4,0.69,0.23,0.5,0.29,0.48,0.13,0.6,0.39,0.15,0.51,0.4,0.51,0.4,0.69,0.23,0.5,0.29,0.48,0.6,0.39,0.51,0.51,0.69,0.23,0.5,0.29,0.45,0.53,0.51,0.46,0.39,0.42,0.47,0.57,0.65,0.54,0.45,0.57,0.39,0.38,0.3,0.49,0.58,0.28,0.56,0.12,0.3,0.08,0.56,0.55,0.14,0.2,0.49,0.2,0.62,0.2,0.2,0.6,0.19,0.82,0.52,0.57,0.34,0.18,0.44],\"xaxis\":\"x\",\"yaxis\":\"y\",\"type\":\"histogram\"}],                        {\"template\":{\"data\":{\"histogram2dcontour\":[{\"type\":\"histogram2dcontour\",\"colorbar\":{\"outlinewidth\":0,\"ticks\":\"\"},\"colorscale\":[[0.0,\"#0d0887\"],[0.1111111111111111,\"#46039f\"],[0.2222222222222222,\"#7201a8\"],[0.3333333333333333,\"#9c179e\"],[0.4444444444444444,\"#bd3786\"],[0.5555555555555556,\"#d8576b\"],[0.6666666666666666,\"#ed7953\"],[0.7777777777777778,\"#fb9f3a\"],[0.8888888888888888,\"#fdca26\"],[1.0,\"#f0f921\"]]}],\"choropleth\":[{\"type\":\"choropleth\",\"colorbar\":{\"outlinewidth\":0,\"ticks\":\"\"}}],\"histogram2d\":[{\"type\":\"histogram2d\",\"colorbar\":{\"outlinewidth\":0,\"ticks\":\"\"},\"colorscale\":[[0.0,\"#0d0887\"],[0.1111111111111111,\"#46039f\"],[0.2222222222222222,\"#7201a8\"],[0.3333333333333333,\"#9c179e\"],[0.4444444444444444,\"#bd3786\"],[0.5555555555555556,\"#d8576b\"],[0.6666666666666666,\"#ed7953\"],[0.7777777777777778,\"#fb9f3a\"],[0.8888888888888888,\"#fdca26\"],[1.0,\"#f0f921\"]]}],\"heatmap\":[{\"type\":\"heatmap\",\"colorbar\":{\"outlinewidth\":0,\"ticks\":\"\"},\"colorscale\":[[0.0,\"#0d0887\"],[0.1111111111111111,\"#46039f\"],[0.2222222222222222,\"#7201a8\"],[0.3333333333333333,\"#9c179e\"],[0.4444444444444444,\"#bd3786\"],[0.5555555555555556,\"#d8576b\"],[0.6666666666666666,\"#ed7953\"],[0.7777777777777778,\"#fb9f3a\"],[0.8888888888888888,\"#fdca26\"],[1.0,\"#f0f921\"]]}],\"heatmapgl\":[{\"type\":\"heatmapgl\",\"colorbar\":{\"outlinewidth\":0,\"ticks\":\"\"},\"colorscale\":[[0.0,\"#0d0887\"],[0.1111111111111111,\"#46039f\"],[0.2222222222222222,\"#7201a8\"],[0.3333333333333333,\"#9c179e\"],[0.4444444444444444,\"#bd3786\"],[0.5555555555555556,\"#d8576b\"],[0.6666666666666666,\"#ed7953\"],[0.7777777777777778,\"#fb9f3a\"],[0.8888888888888888,\"#fdca26\"],[1.0,\"#f0f921\"]]}],\"contourcarpet\":[{\"type\":\"contourcarpet\",\"colorbar\":{\"outlinewidth\":0,\"ticks\":\"\"}}],\"contour\":[{\"type\":\"contour\",\"colorbar\":{\"outlinewidth\":0,\"ticks\":\"\"},\"colorscale\":[[0.0,\"#0d0887\"],[0.1111111111111111,\"#46039f\"],[0.2222222222222222,\"#7201a8\"],[0.3333333333333333,\"#9c179e\"],[0.4444444444444444,\"#bd3786\"],[0.5555555555555556,\"#d8576b\"],[0.6666666666666666,\"#ed7953\"],[0.7777777777777778,\"#fb9f3a\"],[0.8888888888888888,\"#fdca26\"],[1.0,\"#f0f921\"]]}],\"surface\":[{\"type\":\"surface\",\"colorbar\":{\"outlinewidth\":0,\"ticks\":\"\"},\"colorscale\":[[0.0,\"#0d0887\"],[0.1111111111111111,\"#46039f\"],[0.2222222222222222,\"#7201a8\"],[0.3333333333333333,\"#9c179e\"],[0.4444444444444444,\"#bd3786\"],[0.5555555555555556,\"#d8576b\"],[0.6666666666666666,\"#ed7953\"],[0.7777777777777778,\"#fb9f3a\"],[0.8888888888888888,\"#fdca26\"],[1.0,\"#f0f921\"]]}],\"mesh3d\":[{\"type\":\"mesh3d\",\"colorbar\":{\"outlinewidth\":0,\"ticks\":\"\"}}],\"scatter\":[{\"fillpattern\":{\"fillmode\":\"overlay\",\"size\":10,\"solidity\":0.2},\"type\":\"scatter\"}],\"parcoords\":[{\"type\":\"parcoords\",\"line\":{\"colorbar\":{\"outlinewidth\":0,\"ticks\":\"\"}}}],\"scatterpolargl\":[{\"type\":\"scatterpolargl\",\"marker\":{\"colorbar\":{\"outlinewidth\":0,\"ticks\":\"\"}}}],\"bar\":[{\"error_x\":{\"color\":\"#2a3f5f\"},\"error_y\":{\"color\":\"#2a3f5f\"},\"marker\":{\"line\":{\"color\":\"#E5ECF6\",\"width\":0.5},\"pattern\":{\"fillmode\":\"overlay\",\"size\":10,\"solidity\":0.2}},\"type\":\"bar\"}],\"scattergeo\":[{\"type\":\"scattergeo\",\"marker\":{\"colorbar\":{\"outlinewidth\":0,\"ticks\":\"\"}}}],\"scatterpolar\":[{\"type\":\"scatterpolar\",\"marker\":{\"colorbar\":{\"outlinewidth\":0,\"ticks\":\"\"}}}],\"histogram\":[{\"marker\":{\"pattern\":{\"fillmode\":\"overlay\",\"size\":10,\"solidity\":0.2}},\"type\":\"histogram\"}],\"scattergl\":[{\"type\":\"scattergl\",\"marker\":{\"colorbar\":{\"outlinewidth\":0,\"ticks\":\"\"}}}],\"scatter3d\":[{\"type\":\"scatter3d\",\"line\":{\"colorbar\":{\"outlinewidth\":0,\"ticks\":\"\"}},\"marker\":{\"colorbar\":{\"outlinewidth\":0,\"ticks\":\"\"}}}],\"scattermapbox\":[{\"type\":\"scattermapbox\",\"marker\":{\"colorbar\":{\"outlinewidth\":0,\"ticks\":\"\"}}}],\"scatterternary\":[{\"type\":\"scatterternary\",\"marker\":{\"colorbar\":{\"outlinewidth\":0,\"ticks\":\"\"}}}],\"scattercarpet\":[{\"type\":\"scattercarpet\",\"marker\":{\"colorbar\":{\"outlinewidth\":0,\"ticks\":\"\"}}}],\"carpet\":[{\"aaxis\":{\"endlinecolor\":\"#2a3f5f\",\"gridcolor\":\"white\",\"linecolor\":\"white\",\"minorgridcolor\":\"white\",\"startlinecolor\":\"#2a3f5f\"},\"baxis\":{\"endlinecolor\":\"#2a3f5f\",\"gridcolor\":\"white\",\"linecolor\":\"white\",\"minorgridcolor\":\"white\",\"startlinecolor\":\"#2a3f5f\"},\"type\":\"carpet\"}],\"table\":[{\"cells\":{\"fill\":{\"color\":\"#EBF0F8\"},\"line\":{\"color\":\"white\"}},\"header\":{\"fill\":{\"color\":\"#C8D4E3\"},\"line\":{\"color\":\"white\"}},\"type\":\"table\"}],\"barpolar\":[{\"marker\":{\"line\":{\"color\":\"#E5ECF6\",\"width\":0.5},\"pattern\":{\"fillmode\":\"overlay\",\"size\":10,\"solidity\":0.2}},\"type\":\"barpolar\"}],\"pie\":[{\"automargin\":true,\"type\":\"pie\"}]},\"layout\":{\"autotypenumbers\":\"strict\",\"colorway\":[\"#636efa\",\"#EF553B\",\"#00cc96\",\"#ab63fa\",\"#FFA15A\",\"#19d3f3\",\"#FF6692\",\"#B6E880\",\"#FF97FF\",\"#FECB52\"],\"font\":{\"color\":\"#2a3f5f\"},\"hovermode\":\"closest\",\"hoverlabel\":{\"align\":\"left\"},\"paper_bgcolor\":\"white\",\"plot_bgcolor\":\"#E5ECF6\",\"polar\":{\"bgcolor\":\"#E5ECF6\",\"angularaxis\":{\"gridcolor\":\"white\",\"linecolor\":\"white\",\"ticks\":\"\"},\"radialaxis\":{\"gridcolor\":\"white\",\"linecolor\":\"white\",\"ticks\":\"\"}},\"ternary\":{\"bgcolor\":\"#E5ECF6\",\"aaxis\":{\"gridcolor\":\"white\",\"linecolor\":\"white\",\"ticks\":\"\"},\"baxis\":{\"gridcolor\":\"white\",\"linecolor\":\"white\",\"ticks\":\"\"},\"caxis\":{\"gridcolor\":\"white\",\"linecolor\":\"white\",\"ticks\":\"\"}},\"coloraxis\":{\"colorbar\":{\"outlinewidth\":0,\"ticks\":\"\"}},\"colorscale\":{\"sequential\":[[0.0,\"#0d0887\"],[0.1111111111111111,\"#46039f\"],[0.2222222222222222,\"#7201a8\"],[0.3333333333333333,\"#9c179e\"],[0.4444444444444444,\"#bd3786\"],[0.5555555555555556,\"#d8576b\"],[0.6666666666666666,\"#ed7953\"],[0.7777777777777778,\"#fb9f3a\"],[0.8888888888888888,\"#fdca26\"],[1.0,\"#f0f921\"]],\"sequentialminus\":[[0.0,\"#0d0887\"],[0.1111111111111111,\"#46039f\"],[0.2222222222222222,\"#7201a8\"],[0.3333333333333333,\"#9c179e\"],[0.4444444444444444,\"#bd3786\"],[0.5555555555555556,\"#d8576b\"],[0.6666666666666666,\"#ed7953\"],[0.7777777777777778,\"#fb9f3a\"],[0.8888888888888888,\"#fdca26\"],[1.0,\"#f0f921\"]],\"diverging\":[[0,\"#8e0152\"],[0.1,\"#c51b7d\"],[0.2,\"#de77ae\"],[0.3,\"#f1b6da\"],[0.4,\"#fde0ef\"],[0.5,\"#f7f7f7\"],[0.6,\"#e6f5d0\"],[0.7,\"#b8e186\"],[0.8,\"#7fbc41\"],[0.9,\"#4d9221\"],[1,\"#276419\"]]},\"xaxis\":{\"gridcolor\":\"white\",\"linecolor\":\"white\",\"ticks\":\"\",\"title\":{\"standoff\":15},\"zerolinecolor\":\"white\",\"automargin\":true,\"zerolinewidth\":2},\"yaxis\":{\"gridcolor\":\"white\",\"linecolor\":\"white\",\"ticks\":\"\",\"title\":{\"standoff\":15},\"zerolinecolor\":\"white\",\"automargin\":true,\"zerolinewidth\":2},\"scene\":{\"xaxis\":{\"backgroundcolor\":\"#E5ECF6\",\"gridcolor\":\"white\",\"linecolor\":\"white\",\"showbackground\":true,\"ticks\":\"\",\"zerolinecolor\":\"white\",\"gridwidth\":2},\"yaxis\":{\"backgroundcolor\":\"#E5ECF6\",\"gridcolor\":\"white\",\"linecolor\":\"white\",\"showbackground\":true,\"ticks\":\"\",\"zerolinecolor\":\"white\",\"gridwidth\":2},\"zaxis\":{\"backgroundcolor\":\"#E5ECF6\",\"gridcolor\":\"white\",\"linecolor\":\"white\",\"showbackground\":true,\"ticks\":\"\",\"zerolinecolor\":\"white\",\"gridwidth\":2}},\"shapedefaults\":{\"line\":{\"color\":\"#2a3f5f\"}},\"annotationdefaults\":{\"arrowcolor\":\"#2a3f5f\",\"arrowhead\":0,\"arrowwidth\":1},\"geo\":{\"bgcolor\":\"white\",\"landcolor\":\"#E5ECF6\",\"subunitcolor\":\"white\",\"showland\":true,\"showlakes\":true,\"lakecolor\":\"white\"},\"title\":{\"x\":0.05},\"mapbox\":{\"style\":\"light\"}}},\"xaxis\":{\"anchor\":\"y\",\"domain\":[0.0,1.0],\"title\":{\"text\":\"fit_bert\"}},\"yaxis\":{\"anchor\":\"x\",\"domain\":[0.0,1.0],\"title\":{\"text\":\"count\"}},\"legend\":{\"tracegroupgap\":0},\"margin\":{\"t\":60},\"barmode\":\"relative\"},                        {\"responsive\": true}                    ).then(function(){\n",
       "                            \n",
       "var gd = document.getElementById('f5d439d2-2f1f-4edc-9436-74ac820da27a');\n",
       "var x = new MutationObserver(function (mutations, observer) {{\n",
       "        var display = window.getComputedStyle(gd).display;\n",
       "        if (!display || display === 'none') {{\n",
       "            console.log([gd, 'removed!']);\n",
       "            Plotly.purge(gd);\n",
       "            observer.disconnect();\n",
       "        }}\n",
       "}});\n",
       "\n",
       "// Listen for the removal of the full notebook cells\n",
       "var notebookContainer = gd.closest('#notebook-container');\n",
       "if (notebookContainer) {{\n",
       "    x.observe(notebookContainer, {childList: true});\n",
       "}}\n",
       "\n",
       "// Listen for the clearing of the current output cell\n",
       "var outputEl = gd.closest('.output');\n",
       "if (outputEl) {{\n",
       "    x.observe(outputEl, {childList: true});\n",
       "}}\n",
       "\n",
       "                        })                };                });            </script>        </div>"
      ]
     },
     "metadata": {},
     "output_type": "display_data"
    }
   ],
   "source": [
    "fig = px.histogram(df['fit_bert'], x=\"fit_bert\")\n",
    "fig"
   ]
  },
  {
   "cell_type": "markdown",
   "id": "a926e77a-65ba-4189-af76-3056fd6da76f",
   "metadata": {},
   "source": [
    "The pre-trained BERT seems to be more robust so we choose this model. Assign this as fit function"
   ]
  },
  {
   "cell_type": "code",
   "execution_count": 224,
   "id": "b0c76f4f-bc0f-4dd5-a5b5-536a21ffb984",
   "metadata": {},
   "outputs": [],
   "source": [
    "df = df.rename({'fit_bert': 'fit'}, axis=1)\n",
    "df = df.drop('fit_word2vec', axis=1)"
   ]
  },
  {
   "cell_type": "code",
   "execution_count": 225,
   "id": "2ab4a710-3709-463e-a840-4370466299c4",
   "metadata": {},
   "outputs": [
    {
     "data": {
      "text/html": [
       "<div>\n",
       "<style scoped>\n",
       "    .dataframe tbody tr th:only-of-type {\n",
       "        vertical-align: middle;\n",
       "    }\n",
       "\n",
       "    .dataframe tbody tr th {\n",
       "        vertical-align: top;\n",
       "    }\n",
       "\n",
       "    .dataframe thead th {\n",
       "        text-align: right;\n",
       "    }\n",
       "</style>\n",
       "<table border=\"1\" class=\"dataframe\">\n",
       "  <thead>\n",
       "    <tr style=\"text-align: right;\">\n",
       "      <th></th>\n",
       "      <th>job_title</th>\n",
       "      <th>location</th>\n",
       "      <th>connection</th>\n",
       "      <th>fit</th>\n",
       "    </tr>\n",
       "    <tr>\n",
       "      <th>id</th>\n",
       "      <th></th>\n",
       "      <th></th>\n",
       "      <th></th>\n",
       "      <th></th>\n",
       "    </tr>\n",
       "  </thead>\n",
       "  <tbody>\n",
       "    <tr>\n",
       "      <th>30</th>\n",
       "      <td>seeking human resources opportunities</td>\n",
       "      <td>Chicago, Illinois</td>\n",
       "      <td>390</td>\n",
       "      <td>0.86</td>\n",
       "    </tr>\n",
       "    <tr>\n",
       "      <th>28</th>\n",
       "      <td>seeking human resources opportunities</td>\n",
       "      <td>Chicago, Illinois</td>\n",
       "      <td>390</td>\n",
       "      <td>0.86</td>\n",
       "    </tr>\n",
       "    <tr>\n",
       "      <th>99</th>\n",
       "      <td>seeking human resources position</td>\n",
       "      <td>Las Vegas, Nevada Area</td>\n",
       "      <td>48</td>\n",
       "      <td>0.82</td>\n",
       "    </tr>\n",
       "    <tr>\n",
       "      <th>53</th>\n",
       "      <td>seeking human resources human resources inform...</td>\n",
       "      <td>Greater Philadelphia Area</td>\n",
       "      <td>500</td>\n",
       "      <td>0.69</td>\n",
       "    </tr>\n",
       "    <tr>\n",
       "      <th>40</th>\n",
       "      <td>seeking human resources human resources inform...</td>\n",
       "      <td>Greater Philadelphia Area</td>\n",
       "      <td>500</td>\n",
       "      <td>0.69</td>\n",
       "    </tr>\n",
       "    <tr>\n",
       "      <th>62</th>\n",
       "      <td>seeking human resources human resources inform...</td>\n",
       "      <td>Greater Philadelphia Area</td>\n",
       "      <td>500</td>\n",
       "      <td>0.69</td>\n",
       "    </tr>\n",
       "    <tr>\n",
       "      <th>10</th>\n",
       "      <td>seeking human resources human resources inform...</td>\n",
       "      <td>Greater Philadelphia Area</td>\n",
       "      <td>500</td>\n",
       "      <td>0.69</td>\n",
       "    </tr>\n",
       "    <tr>\n",
       "      <th>74</th>\n",
       "      <td>human resources professional</td>\n",
       "      <td>Greater Boston Area</td>\n",
       "      <td>16</td>\n",
       "      <td>0.65</td>\n",
       "    </tr>\n",
       "    <tr>\n",
       "      <th>94</th>\n",
       "      <td>seeking human resources opportunities open tra...</td>\n",
       "      <td>Amerika Birleşik Devletleri</td>\n",
       "      <td>415</td>\n",
       "      <td>0.62</td>\n",
       "    </tr>\n",
       "    <tr>\n",
       "      <th>17</th>\n",
       "      <td>aspiring human resources professional</td>\n",
       "      <td>Raleigh-Durham, North Carolina Area</td>\n",
       "      <td>44</td>\n",
       "      <td>0.60</td>\n",
       "    </tr>\n",
       "    <tr>\n",
       "      <th>58</th>\n",
       "      <td>aspiring human resources professional</td>\n",
       "      <td>Raleigh-Durham, North Carolina Area</td>\n",
       "      <td>44</td>\n",
       "      <td>0.60</td>\n",
       "    </tr>\n",
       "    <tr>\n",
       "      <th>33</th>\n",
       "      <td>aspiring human resources professional</td>\n",
       "      <td>Raleigh-Durham, North Carolina Area</td>\n",
       "      <td>44</td>\n",
       "      <td>0.60</td>\n",
       "    </tr>\n",
       "    <tr>\n",
       "      <th>21</th>\n",
       "      <td>aspiring human resources professional</td>\n",
       "      <td>Raleigh-Durham, North Carolina Area</td>\n",
       "      <td>44</td>\n",
       "      <td>0.60</td>\n",
       "    </tr>\n",
       "    <tr>\n",
       "      <th>46</th>\n",
       "      <td>aspiring human resources professional</td>\n",
       "      <td>Raleigh-Durham, North Carolina Area</td>\n",
       "      <td>44</td>\n",
       "      <td>0.60</td>\n",
       "    </tr>\n",
       "    <tr>\n",
       "      <th>3</th>\n",
       "      <td>aspiring human resources professional</td>\n",
       "      <td>Raleigh-Durham, North Carolina Area</td>\n",
       "      <td>44</td>\n",
       "      <td>0.60</td>\n",
       "    </tr>\n",
       "    <tr>\n",
       "      <th>97</th>\n",
       "      <td>aspiring human resources professional</td>\n",
       "      <td>Kokomo, Indiana Area</td>\n",
       "      <td>71</td>\n",
       "      <td>0.60</td>\n",
       "    </tr>\n",
       "    <tr>\n",
       "      <th>82</th>\n",
       "      <td>aspiring human resources professional energeti...</td>\n",
       "      <td>Austin, Texas Area</td>\n",
       "      <td>174</td>\n",
       "      <td>0.58</td>\n",
       "    </tr>\n",
       "    <tr>\n",
       "      <th>73</th>\n",
       "      <td>aspiring human resources manager seeking inter...</td>\n",
       "      <td>Houston, Texas Area</td>\n",
       "      <td>7</td>\n",
       "      <td>0.57</td>\n",
       "    </tr>\n",
       "    <tr>\n",
       "      <th>77</th>\n",
       "      <td>human conflict policies compensation</td>\n",
       "      <td>Dallas/Fort Worth Area</td>\n",
       "      <td>409</td>\n",
       "      <td>0.57</td>\n",
       "    </tr>\n",
       "    <tr>\n",
       "      <th>101</th>\n",
       "      <td>human resources generalist loparex</td>\n",
       "      <td>Raleigh-Durham, North Carolina Area</td>\n",
       "      <td>500</td>\n",
       "      <td>0.57</td>\n",
       "    </tr>\n",
       "    <tr>\n",
       "      <th>88</th>\n",
       "      <td>human resources management major</td>\n",
       "      <td>Milpitas, California</td>\n",
       "      <td>18</td>\n",
       "      <td>0.56</td>\n",
       "    </tr>\n",
       "    <tr>\n",
       "      <th>84</th>\n",
       "      <td>human resources professional world leader gis ...</td>\n",
       "      <td>Highland, California</td>\n",
       "      <td>50</td>\n",
       "      <td>0.56</td>\n",
       "    </tr>\n",
       "    <tr>\n",
       "      <th>89</th>\n",
       "      <td>director human resources ey</td>\n",
       "      <td>Greater Atlanta Area</td>\n",
       "      <td>349</td>\n",
       "      <td>0.55</td>\n",
       "    </tr>\n",
       "    <tr>\n",
       "      <th>75</th>\n",
       "      <td>nortia staffing seeking human resources payrol...</td>\n",
       "      <td>San Jose, California</td>\n",
       "      <td>500</td>\n",
       "      <td>0.54</td>\n",
       "    </tr>\n",
       "    <tr>\n",
       "      <th>67</th>\n",
       "      <td>human resources staffing recruiting professional</td>\n",
       "      <td>Jackson, Mississippi Area</td>\n",
       "      <td>500</td>\n",
       "      <td>0.53</td>\n",
       "    </tr>\n",
       "    <tr>\n",
       "      <th>100</th>\n",
       "      <td>aspiring human resources manager graduating ma...</td>\n",
       "      <td>Cape Girardeau, Missouri</td>\n",
       "      <td>103</td>\n",
       "      <td>0.52</td>\n",
       "    </tr>\n",
       "    <tr>\n",
       "      <th>38</th>\n",
       "      <td>human resource senior specialist</td>\n",
       "      <td>San Francisco Bay Area</td>\n",
       "      <td>500</td>\n",
       "      <td>0.51</td>\n",
       "    </tr>\n",
       "    <tr>\n",
       "      <th>61</th>\n",
       "      <td>human resource senior specialist</td>\n",
       "      <td>San Francisco Bay Area</td>\n",
       "      <td>500</td>\n",
       "      <td>0.51</td>\n",
       "    </tr>\n",
       "    <tr>\n",
       "      <th>6</th>\n",
       "      <td>aspiring human resources specialist</td>\n",
       "      <td>Greater New York City Area</td>\n",
       "      <td>1</td>\n",
       "      <td>0.51</td>\n",
       "    </tr>\n",
       "    <tr>\n",
       "      <th>36</th>\n",
       "      <td>aspiring human resources specialist</td>\n",
       "      <td>Greater New York City Area</td>\n",
       "      <td>1</td>\n",
       "      <td>0.51</td>\n",
       "    </tr>\n",
       "    <tr>\n",
       "      <th>51</th>\n",
       "      <td>human resource senior specialist</td>\n",
       "      <td>San Francisco Bay Area</td>\n",
       "      <td>500</td>\n",
       "      <td>0.51</td>\n",
       "    </tr>\n",
       "    <tr>\n",
       "      <th>60</th>\n",
       "      <td>aspiring human resources specialist</td>\n",
       "      <td>Greater New York City Area</td>\n",
       "      <td>1</td>\n",
       "      <td>0.51</td>\n",
       "    </tr>\n",
       "    <tr>\n",
       "      <th>68</th>\n",
       "      <td>human resources specialist luxottica</td>\n",
       "      <td>Greater New York City Area</td>\n",
       "      <td>500</td>\n",
       "      <td>0.51</td>\n",
       "    </tr>\n",
       "    <tr>\n",
       "      <th>8</th>\n",
       "      <td>human resource senior specialist</td>\n",
       "      <td>San Francisco Bay Area</td>\n",
       "      <td>500</td>\n",
       "      <td>0.51</td>\n",
       "    </tr>\n",
       "    <tr>\n",
       "      <th>26</th>\n",
       "      <td>human resource senior specialist</td>\n",
       "      <td>San Francisco Bay Area</td>\n",
       "      <td>500</td>\n",
       "      <td>0.51</td>\n",
       "    </tr>\n",
       "    <tr>\n",
       "      <th>49</th>\n",
       "      <td>aspiring human resources specialist</td>\n",
       "      <td>Greater New York City Area</td>\n",
       "      <td>1</td>\n",
       "      <td>0.51</td>\n",
       "    </tr>\n",
       "    <tr>\n",
       "      <th>24</th>\n",
       "      <td>aspiring human resources specialist</td>\n",
       "      <td>Greater New York City Area</td>\n",
       "      <td>1</td>\n",
       "      <td>0.51</td>\n",
       "    </tr>\n",
       "    <tr>\n",
       "      <th>64</th>\n",
       "      <td>senior vice president chief human resources of...</td>\n",
       "      <td>Houston, Texas Area</td>\n",
       "      <td>500</td>\n",
       "      <td>0.50</td>\n",
       "    </tr>\n",
       "    <tr>\n",
       "      <th>12</th>\n",
       "      <td>senior vice president chief human resources of...</td>\n",
       "      <td>Houston, Texas Area</td>\n",
       "      <td>500</td>\n",
       "      <td>0.50</td>\n",
       "    </tr>\n",
       "    <tr>\n",
       "      <th>42</th>\n",
       "      <td>senior vice president chief human resources of...</td>\n",
       "      <td>Houston, Texas Area</td>\n",
       "      <td>500</td>\n",
       "      <td>0.50</td>\n",
       "    </tr>\n",
       "    <tr>\n",
       "      <th>55</th>\n",
       "      <td>senior vice president chief human resources of...</td>\n",
       "      <td>Houston, Texas Area</td>\n",
       "      <td>500</td>\n",
       "      <td>0.50</td>\n",
       "    </tr>\n",
       "    <tr>\n",
       "      <th>29</th>\n",
       "      <td>aspiring human resources management student se...</td>\n",
       "      <td>Houston, Texas Area</td>\n",
       "      <td>500</td>\n",
       "      <td>0.49</td>\n",
       "    </tr>\n",
       "    <tr>\n",
       "      <th>27</th>\n",
       "      <td>aspiring human resources management student se...</td>\n",
       "      <td>Houston, Texas Area</td>\n",
       "      <td>500</td>\n",
       "      <td>0.49</td>\n",
       "    </tr>\n",
       "    <tr>\n",
       "      <th>92</th>\n",
       "      <td>seeking employment opportunity within customer...</td>\n",
       "      <td>Torrance, California</td>\n",
       "      <td>64</td>\n",
       "      <td>0.49</td>\n",
       "    </tr>\n",
       "    <tr>\n",
       "      <th>81</th>\n",
       "      <td>senior human resources business partner heil e...</td>\n",
       "      <td>Chattanooga, Tennessee Area</td>\n",
       "      <td>455</td>\n",
       "      <td>0.49</td>\n",
       "    </tr>\n",
       "    <tr>\n",
       "      <th>57</th>\n",
       "      <td>college business graduate magna cum laude aspi...</td>\n",
       "      <td>Houston, Texas</td>\n",
       "      <td>85</td>\n",
       "      <td>0.48</td>\n",
       "    </tr>\n",
       "    <tr>\n",
       "      <th>1</th>\n",
       "      <td>college business graduate magna cum laude aspi...</td>\n",
       "      <td>Houston, Texas</td>\n",
       "      <td>85</td>\n",
       "      <td>0.48</td>\n",
       "    </tr>\n",
       "    <tr>\n",
       "      <th>14</th>\n",
       "      <td>college business graduate magna cum laude aspi...</td>\n",
       "      <td>Houston, Texas</td>\n",
       "      <td>85</td>\n",
       "      <td>0.48</td>\n",
       "    </tr>\n",
       "    <tr>\n",
       "      <th>15</th>\n",
       "      <td>college business graduate magna cum laude aspi...</td>\n",
       "      <td>Houston, Texas</td>\n",
       "      <td>85</td>\n",
       "      <td>0.48</td>\n",
       "    </tr>\n",
       "    <tr>\n",
       "      <th>19</th>\n",
       "      <td>college business graduate magna cum laude aspi...</td>\n",
       "      <td>Houston, Texas</td>\n",
       "      <td>85</td>\n",
       "      <td>0.48</td>\n",
       "    </tr>\n",
       "  </tbody>\n",
       "</table>\n",
       "</div>"
      ],
      "text/plain": [
       "                                             job_title  \\\n",
       "id                                                       \n",
       "30               seeking human resources opportunities   \n",
       "28               seeking human resources opportunities   \n",
       "99                    seeking human resources position   \n",
       "53   seeking human resources human resources inform...   \n",
       "40   seeking human resources human resources inform...   \n",
       "62   seeking human resources human resources inform...   \n",
       "10   seeking human resources human resources inform...   \n",
       "74                        human resources professional   \n",
       "94   seeking human resources opportunities open tra...   \n",
       "17               aspiring human resources professional   \n",
       "58               aspiring human resources professional   \n",
       "33               aspiring human resources professional   \n",
       "21               aspiring human resources professional   \n",
       "46               aspiring human resources professional   \n",
       "3                aspiring human resources professional   \n",
       "97               aspiring human resources professional   \n",
       "82   aspiring human resources professional energeti...   \n",
       "73   aspiring human resources manager seeking inter...   \n",
       "77                human conflict policies compensation   \n",
       "101                 human resources generalist loparex   \n",
       "88                    human resources management major   \n",
       "84   human resources professional world leader gis ...   \n",
       "89                         director human resources ey   \n",
       "75   nortia staffing seeking human resources payrol...   \n",
       "67    human resources staffing recruiting professional   \n",
       "100  aspiring human resources manager graduating ma...   \n",
       "38                    human resource senior specialist   \n",
       "61                    human resource senior specialist   \n",
       "6                  aspiring human resources specialist   \n",
       "36                 aspiring human resources specialist   \n",
       "51                    human resource senior specialist   \n",
       "60                 aspiring human resources specialist   \n",
       "68                human resources specialist luxottica   \n",
       "8                     human resource senior specialist   \n",
       "26                    human resource senior specialist   \n",
       "49                 aspiring human resources specialist   \n",
       "24                 aspiring human resources specialist   \n",
       "64   senior vice president chief human resources of...   \n",
       "12   senior vice president chief human resources of...   \n",
       "42   senior vice president chief human resources of...   \n",
       "55   senior vice president chief human resources of...   \n",
       "29   aspiring human resources management student se...   \n",
       "27   aspiring human resources management student se...   \n",
       "92   seeking employment opportunity within customer...   \n",
       "81   senior human resources business partner heil e...   \n",
       "57   college business graduate magna cum laude aspi...   \n",
       "1    college business graduate magna cum laude aspi...   \n",
       "14   college business graduate magna cum laude aspi...   \n",
       "15   college business graduate magna cum laude aspi...   \n",
       "19   college business graduate magna cum laude aspi...   \n",
       "\n",
       "                                location  connection   fit  \n",
       "id                                                          \n",
       "30                     Chicago, Illinois         390  0.86  \n",
       "28                     Chicago, Illinois         390  0.86  \n",
       "99                Las Vegas, Nevada Area          48  0.82  \n",
       "53             Greater Philadelphia Area         500  0.69  \n",
       "40             Greater Philadelphia Area         500  0.69  \n",
       "62             Greater Philadelphia Area         500  0.69  \n",
       "10             Greater Philadelphia Area         500  0.69  \n",
       "74                   Greater Boston Area          16  0.65  \n",
       "94           Amerika Birleşik Devletleri         415  0.62  \n",
       "17   Raleigh-Durham, North Carolina Area          44  0.60  \n",
       "58   Raleigh-Durham, North Carolina Area          44  0.60  \n",
       "33   Raleigh-Durham, North Carolina Area          44  0.60  \n",
       "21   Raleigh-Durham, North Carolina Area          44  0.60  \n",
       "46   Raleigh-Durham, North Carolina Area          44  0.60  \n",
       "3    Raleigh-Durham, North Carolina Area          44  0.60  \n",
       "97                  Kokomo, Indiana Area          71  0.60  \n",
       "82                    Austin, Texas Area         174  0.58  \n",
       "73                   Houston, Texas Area           7  0.57  \n",
       "77                Dallas/Fort Worth Area         409  0.57  \n",
       "101  Raleigh-Durham, North Carolina Area         500  0.57  \n",
       "88                  Milpitas, California          18  0.56  \n",
       "84                  Highland, California          50  0.56  \n",
       "89                  Greater Atlanta Area         349  0.55  \n",
       "75                  San Jose, California         500  0.54  \n",
       "67             Jackson, Mississippi Area         500  0.53  \n",
       "100             Cape Girardeau, Missouri         103  0.52  \n",
       "38                San Francisco Bay Area         500  0.51  \n",
       "61                San Francisco Bay Area         500  0.51  \n",
       "6             Greater New York City Area           1  0.51  \n",
       "36            Greater New York City Area           1  0.51  \n",
       "51                San Francisco Bay Area         500  0.51  \n",
       "60            Greater New York City Area           1  0.51  \n",
       "68            Greater New York City Area         500  0.51  \n",
       "8                 San Francisco Bay Area         500  0.51  \n",
       "26                San Francisco Bay Area         500  0.51  \n",
       "49            Greater New York City Area           1  0.51  \n",
       "24            Greater New York City Area           1  0.51  \n",
       "64                   Houston, Texas Area         500  0.50  \n",
       "12                   Houston, Texas Area         500  0.50  \n",
       "42                   Houston, Texas Area         500  0.50  \n",
       "55                   Houston, Texas Area         500  0.50  \n",
       "29                   Houston, Texas Area         500  0.49  \n",
       "27                   Houston, Texas Area         500  0.49  \n",
       "92                  Torrance, California          64  0.49  \n",
       "81           Chattanooga, Tennessee Area         455  0.49  \n",
       "57                        Houston, Texas          85  0.48  \n",
       "1                         Houston, Texas          85  0.48  \n",
       "14                        Houston, Texas          85  0.48  \n",
       "15                        Houston, Texas          85  0.48  \n",
       "19                        Houston, Texas          85  0.48  "
      ]
     },
     "execution_count": 225,
     "metadata": {},
     "output_type": "execute_result"
    }
   ],
   "source": [
    "top_candidates(n = 50, by = 'fit', ascending = False, min_con = 0)"
   ]
  },
  {
   "cell_type": "code",
   "execution_count": 226,
   "id": "f3f572b7-74de-4e28-a4e7-30fae6f2c538",
   "metadata": {},
   "outputs": [],
   "source": [
    "def compute_fit(query):\n",
    "    for ind, row in df.iterrows():\n",
    "        df.loc[ind,'fit'] = round(predict_similarity([row['job_title'],query]),2)"
   ]
  },
  {
   "cell_type": "markdown",
   "id": "2e863d8c-fd2f-4af6-8564-f964fd21be7e",
   "metadata": {},
   "source": [
    "### Manual starring"
   ]
  },
  {
   "cell_type": "code",
   "execution_count": 227,
   "id": "08a58b83-7710-477f-b450-68d70925d681",
   "metadata": {},
   "outputs": [],
   "source": [
    "query = \"Aspiring human resources\"\n",
    "compute_fit(query)"
   ]
  },
  {
   "cell_type": "code",
   "execution_count": 228,
   "id": "9a212ad8-8393-4deb-8b6c-42d2bbe3f7ce",
   "metadata": {},
   "outputs": [
    {
     "data": {
      "text/html": [
       "<div>\n",
       "<style scoped>\n",
       "    .dataframe tbody tr th:only-of-type {\n",
       "        vertical-align: middle;\n",
       "    }\n",
       "\n",
       "    .dataframe tbody tr th {\n",
       "        vertical-align: top;\n",
       "    }\n",
       "\n",
       "    .dataframe thead th {\n",
       "        text-align: right;\n",
       "    }\n",
       "</style>\n",
       "<table border=\"1\" class=\"dataframe\">\n",
       "  <thead>\n",
       "    <tr style=\"text-align: right;\">\n",
       "      <th></th>\n",
       "      <th>job_title</th>\n",
       "      <th>location</th>\n",
       "      <th>connection</th>\n",
       "      <th>fit</th>\n",
       "    </tr>\n",
       "    <tr>\n",
       "      <th>id</th>\n",
       "      <th></th>\n",
       "      <th></th>\n",
       "      <th></th>\n",
       "      <th></th>\n",
       "    </tr>\n",
       "  </thead>\n",
       "  <tbody>\n",
       "    <tr>\n",
       "      <th>36</th>\n",
       "      <td>aspiring human resources specialist</td>\n",
       "      <td>Greater New York City Area</td>\n",
       "      <td>1</td>\n",
       "      <td>0.84</td>\n",
       "    </tr>\n",
       "    <tr>\n",
       "      <th>24</th>\n",
       "      <td>aspiring human resources specialist</td>\n",
       "      <td>Greater New York City Area</td>\n",
       "      <td>1</td>\n",
       "      <td>0.84</td>\n",
       "    </tr>\n",
       "    <tr>\n",
       "      <th>6</th>\n",
       "      <td>aspiring human resources specialist</td>\n",
       "      <td>Greater New York City Area</td>\n",
       "      <td>1</td>\n",
       "      <td>0.84</td>\n",
       "    </tr>\n",
       "    <tr>\n",
       "      <th>60</th>\n",
       "      <td>aspiring human resources specialist</td>\n",
       "      <td>Greater New York City Area</td>\n",
       "      <td>1</td>\n",
       "      <td>0.84</td>\n",
       "    </tr>\n",
       "    <tr>\n",
       "      <th>49</th>\n",
       "      <td>aspiring human resources specialist</td>\n",
       "      <td>Greater New York City Area</td>\n",
       "      <td>1</td>\n",
       "      <td>0.84</td>\n",
       "    </tr>\n",
       "    <tr>\n",
       "      <th>58</th>\n",
       "      <td>aspiring human resources professional</td>\n",
       "      <td>Raleigh-Durham, North Carolina Area</td>\n",
       "      <td>44</td>\n",
       "      <td>0.80</td>\n",
       "    </tr>\n",
       "    <tr>\n",
       "      <th>17</th>\n",
       "      <td>aspiring human resources professional</td>\n",
       "      <td>Raleigh-Durham, North Carolina Area</td>\n",
       "      <td>44</td>\n",
       "      <td>0.80</td>\n",
       "    </tr>\n",
       "    <tr>\n",
       "      <th>33</th>\n",
       "      <td>aspiring human resources professional</td>\n",
       "      <td>Raleigh-Durham, North Carolina Area</td>\n",
       "      <td>44</td>\n",
       "      <td>0.80</td>\n",
       "    </tr>\n",
       "    <tr>\n",
       "      <th>97</th>\n",
       "      <td>aspiring human resources professional</td>\n",
       "      <td>Kokomo, Indiana Area</td>\n",
       "      <td>71</td>\n",
       "      <td>0.80</td>\n",
       "    </tr>\n",
       "    <tr>\n",
       "      <th>46</th>\n",
       "      <td>aspiring human resources professional</td>\n",
       "      <td>Raleigh-Durham, North Carolina Area</td>\n",
       "      <td>44</td>\n",
       "      <td>0.80</td>\n",
       "    </tr>\n",
       "    <tr>\n",
       "      <th>3</th>\n",
       "      <td>aspiring human resources professional</td>\n",
       "      <td>Raleigh-Durham, North Carolina Area</td>\n",
       "      <td>44</td>\n",
       "      <td>0.80</td>\n",
       "    </tr>\n",
       "    <tr>\n",
       "      <th>21</th>\n",
       "      <td>aspiring human resources professional</td>\n",
       "      <td>Raleigh-Durham, North Carolina Area</td>\n",
       "      <td>44</td>\n",
       "      <td>0.80</td>\n",
       "    </tr>\n",
       "    <tr>\n",
       "      <th>82</th>\n",
       "      <td>aspiring human resources professional energeti...</td>\n",
       "      <td>Austin, Texas Area</td>\n",
       "      <td>174</td>\n",
       "      <td>0.79</td>\n",
       "    </tr>\n",
       "    <tr>\n",
       "      <th>73</th>\n",
       "      <td>aspiring human resources manager seeking inter...</td>\n",
       "      <td>Houston, Texas Area</td>\n",
       "      <td>7</td>\n",
       "      <td>0.71</td>\n",
       "    </tr>\n",
       "    <tr>\n",
       "      <th>100</th>\n",
       "      <td>aspiring human resources manager graduating ma...</td>\n",
       "      <td>Cape Girardeau, Missouri</td>\n",
       "      <td>103</td>\n",
       "      <td>0.70</td>\n",
       "    </tr>\n",
       "    <tr>\n",
       "      <th>72</th>\n",
       "      <td>business management major aspiring human resou...</td>\n",
       "      <td>Monroe, Louisiana Area</td>\n",
       "      <td>5</td>\n",
       "      <td>0.68</td>\n",
       "    </tr>\n",
       "    <tr>\n",
       "      <th>99</th>\n",
       "      <td>seeking human resources position</td>\n",
       "      <td>Las Vegas, Nevada Area</td>\n",
       "      <td>48</td>\n",
       "      <td>0.68</td>\n",
       "    </tr>\n",
       "    <tr>\n",
       "      <th>76</th>\n",
       "      <td>aspiring human resources professional passiona...</td>\n",
       "      <td>New York, New York</td>\n",
       "      <td>212</td>\n",
       "      <td>0.66</td>\n",
       "    </tr>\n",
       "    <tr>\n",
       "      <th>27</th>\n",
       "      <td>aspiring human resources management student se...</td>\n",
       "      <td>Houston, Texas Area</td>\n",
       "      <td>500</td>\n",
       "      <td>0.65</td>\n",
       "    </tr>\n",
       "    <tr>\n",
       "      <th>29</th>\n",
       "      <td>aspiring human resources management student se...</td>\n",
       "      <td>Houston, Texas Area</td>\n",
       "      <td>500</td>\n",
       "      <td>0.65</td>\n",
       "    </tr>\n",
       "    <tr>\n",
       "      <th>30</th>\n",
       "      <td>seeking human resources opportunities</td>\n",
       "      <td>Chicago, Illinois</td>\n",
       "      <td>390</td>\n",
       "      <td>0.64</td>\n",
       "    </tr>\n",
       "    <tr>\n",
       "      <th>28</th>\n",
       "      <td>seeking human resources opportunities</td>\n",
       "      <td>Chicago, Illinois</td>\n",
       "      <td>390</td>\n",
       "      <td>0.64</td>\n",
       "    </tr>\n",
       "    <tr>\n",
       "      <th>61</th>\n",
       "      <td>human resource senior specialist</td>\n",
       "      <td>San Francisco Bay Area</td>\n",
       "      <td>500</td>\n",
       "      <td>0.63</td>\n",
       "    </tr>\n",
       "    <tr>\n",
       "      <th>8</th>\n",
       "      <td>human resource senior specialist</td>\n",
       "      <td>San Francisco Bay Area</td>\n",
       "      <td>500</td>\n",
       "      <td>0.63</td>\n",
       "    </tr>\n",
       "    <tr>\n",
       "      <th>51</th>\n",
       "      <td>human resource senior specialist</td>\n",
       "      <td>San Francisco Bay Area</td>\n",
       "      <td>500</td>\n",
       "      <td>0.63</td>\n",
       "    </tr>\n",
       "    <tr>\n",
       "      <th>38</th>\n",
       "      <td>human resource senior specialist</td>\n",
       "      <td>San Francisco Bay Area</td>\n",
       "      <td>500</td>\n",
       "      <td>0.63</td>\n",
       "    </tr>\n",
       "    <tr>\n",
       "      <th>26</th>\n",
       "      <td>human resource senior specialist</td>\n",
       "      <td>San Francisco Bay Area</td>\n",
       "      <td>500</td>\n",
       "      <td>0.63</td>\n",
       "    </tr>\n",
       "    <tr>\n",
       "      <th>66</th>\n",
       "      <td>experienced retail manager aspiring human reso...</td>\n",
       "      <td>Austin, Texas Area</td>\n",
       "      <td>57</td>\n",
       "      <td>0.62</td>\n",
       "    </tr>\n",
       "    <tr>\n",
       "      <th>25</th>\n",
       "      <td>student humber college aspiring human resource...</td>\n",
       "      <td>Kanada</td>\n",
       "      <td>61</td>\n",
       "      <td>0.61</td>\n",
       "    </tr>\n",
       "    <tr>\n",
       "      <th>52</th>\n",
       "      <td>student humber college aspiring human resource...</td>\n",
       "      <td>Kanada</td>\n",
       "      <td>61</td>\n",
       "      <td>0.61</td>\n",
       "    </tr>\n",
       "    <tr>\n",
       "      <th>7</th>\n",
       "      <td>student humber college aspiring human resource...</td>\n",
       "      <td>Kanada</td>\n",
       "      <td>61</td>\n",
       "      <td>0.61</td>\n",
       "    </tr>\n",
       "    <tr>\n",
       "      <th>50</th>\n",
       "      <td>student humber college aspiring human resource...</td>\n",
       "      <td>Kanada</td>\n",
       "      <td>61</td>\n",
       "      <td>0.61</td>\n",
       "    </tr>\n",
       "    <tr>\n",
       "      <th>79</th>\n",
       "      <td>liberal arts major aspiring human resources an...</td>\n",
       "      <td>Baton Rouge, Louisiana Area</td>\n",
       "      <td>7</td>\n",
       "      <td>0.61</td>\n",
       "    </tr>\n",
       "    <tr>\n",
       "      <th>9</th>\n",
       "      <td>student humber college aspiring human resource...</td>\n",
       "      <td>Kanada</td>\n",
       "      <td>61</td>\n",
       "      <td>0.61</td>\n",
       "    </tr>\n",
       "    <tr>\n",
       "      <th>37</th>\n",
       "      <td>student humber college aspiring human resource...</td>\n",
       "      <td>Kanada</td>\n",
       "      <td>61</td>\n",
       "      <td>0.61</td>\n",
       "    </tr>\n",
       "    <tr>\n",
       "      <th>39</th>\n",
       "      <td>student humber college aspiring human resource...</td>\n",
       "      <td>Kanada</td>\n",
       "      <td>61</td>\n",
       "      <td>0.61</td>\n",
       "    </tr>\n",
       "    <tr>\n",
       "      <th>68</th>\n",
       "      <td>human resources specialist luxottica</td>\n",
       "      <td>Greater New York City Area</td>\n",
       "      <td>500</td>\n",
       "      <td>0.60</td>\n",
       "    </tr>\n",
       "    <tr>\n",
       "      <th>44</th>\n",
       "      <td>college business graduate magna cum laude aspi...</td>\n",
       "      <td>Houston, Texas</td>\n",
       "      <td>85</td>\n",
       "      <td>0.58</td>\n",
       "    </tr>\n",
       "    <tr>\n",
       "      <th>19</th>\n",
       "      <td>college business graduate magna cum laude aspi...</td>\n",
       "      <td>Houston, Texas</td>\n",
       "      <td>85</td>\n",
       "      <td>0.58</td>\n",
       "    </tr>\n",
       "    <tr>\n",
       "      <th>1</th>\n",
       "      <td>college business graduate magna cum laude aspi...</td>\n",
       "      <td>Houston, Texas</td>\n",
       "      <td>85</td>\n",
       "      <td>0.58</td>\n",
       "    </tr>\n",
       "    <tr>\n",
       "      <th>88</th>\n",
       "      <td>human resources management major</td>\n",
       "      <td>Milpitas, California</td>\n",
       "      <td>18</td>\n",
       "      <td>0.58</td>\n",
       "    </tr>\n",
       "    <tr>\n",
       "      <th>84</th>\n",
       "      <td>human resources professional world leader gis ...</td>\n",
       "      <td>Highland, California</td>\n",
       "      <td>50</td>\n",
       "      <td>0.58</td>\n",
       "    </tr>\n",
       "    <tr>\n",
       "      <th>14</th>\n",
       "      <td>college business graduate magna cum laude aspi...</td>\n",
       "      <td>Houston, Texas</td>\n",
       "      <td>85</td>\n",
       "      <td>0.58</td>\n",
       "    </tr>\n",
       "    <tr>\n",
       "      <th>15</th>\n",
       "      <td>college business graduate magna cum laude aspi...</td>\n",
       "      <td>Houston, Texas</td>\n",
       "      <td>85</td>\n",
       "      <td>0.58</td>\n",
       "    </tr>\n",
       "    <tr>\n",
       "      <th>31</th>\n",
       "      <td>college business graduate magna cum laude aspi...</td>\n",
       "      <td>Houston, Texas</td>\n",
       "      <td>85</td>\n",
       "      <td>0.58</td>\n",
       "    </tr>\n",
       "    <tr>\n",
       "      <th>57</th>\n",
       "      <td>college business graduate magna cum laude aspi...</td>\n",
       "      <td>Houston, Texas</td>\n",
       "      <td>85</td>\n",
       "      <td>0.58</td>\n",
       "    </tr>\n",
       "    <tr>\n",
       "      <th>42</th>\n",
       "      <td>senior vice president chief human resources of...</td>\n",
       "      <td>Houston, Texas Area</td>\n",
       "      <td>500</td>\n",
       "      <td>0.57</td>\n",
       "    </tr>\n",
       "    <tr>\n",
       "      <th>67</th>\n",
       "      <td>human resources staffing recruiting professional</td>\n",
       "      <td>Jackson, Mississippi Area</td>\n",
       "      <td>500</td>\n",
       "      <td>0.57</td>\n",
       "    </tr>\n",
       "    <tr>\n",
       "      <th>12</th>\n",
       "      <td>senior vice president chief human resources of...</td>\n",
       "      <td>Houston, Texas Area</td>\n",
       "      <td>500</td>\n",
       "      <td>0.57</td>\n",
       "    </tr>\n",
       "    <tr>\n",
       "      <th>55</th>\n",
       "      <td>senior vice president chief human resources of...</td>\n",
       "      <td>Houston, Texas Area</td>\n",
       "      <td>500</td>\n",
       "      <td>0.57</td>\n",
       "    </tr>\n",
       "  </tbody>\n",
       "</table>\n",
       "</div>"
      ],
      "text/plain": [
       "                                             job_title  \\\n",
       "id                                                       \n",
       "36                 aspiring human resources specialist   \n",
       "24                 aspiring human resources specialist   \n",
       "6                  aspiring human resources specialist   \n",
       "60                 aspiring human resources specialist   \n",
       "49                 aspiring human resources specialist   \n",
       "58               aspiring human resources professional   \n",
       "17               aspiring human resources professional   \n",
       "33               aspiring human resources professional   \n",
       "97               aspiring human resources professional   \n",
       "46               aspiring human resources professional   \n",
       "3                aspiring human resources professional   \n",
       "21               aspiring human resources professional   \n",
       "82   aspiring human resources professional energeti...   \n",
       "73   aspiring human resources manager seeking inter...   \n",
       "100  aspiring human resources manager graduating ma...   \n",
       "72   business management major aspiring human resou...   \n",
       "99                    seeking human resources position   \n",
       "76   aspiring human resources professional passiona...   \n",
       "27   aspiring human resources management student se...   \n",
       "29   aspiring human resources management student se...   \n",
       "30               seeking human resources opportunities   \n",
       "28               seeking human resources opportunities   \n",
       "61                    human resource senior specialist   \n",
       "8                     human resource senior specialist   \n",
       "51                    human resource senior specialist   \n",
       "38                    human resource senior specialist   \n",
       "26                    human resource senior specialist   \n",
       "66   experienced retail manager aspiring human reso...   \n",
       "25   student humber college aspiring human resource...   \n",
       "52   student humber college aspiring human resource...   \n",
       "7    student humber college aspiring human resource...   \n",
       "50   student humber college aspiring human resource...   \n",
       "79   liberal arts major aspiring human resources an...   \n",
       "9    student humber college aspiring human resource...   \n",
       "37   student humber college aspiring human resource...   \n",
       "39   student humber college aspiring human resource...   \n",
       "68                human resources specialist luxottica   \n",
       "44   college business graduate magna cum laude aspi...   \n",
       "19   college business graduate magna cum laude aspi...   \n",
       "1    college business graduate magna cum laude aspi...   \n",
       "88                    human resources management major   \n",
       "84   human resources professional world leader gis ...   \n",
       "14   college business graduate magna cum laude aspi...   \n",
       "15   college business graduate magna cum laude aspi...   \n",
       "31   college business graduate magna cum laude aspi...   \n",
       "57   college business graduate magna cum laude aspi...   \n",
       "42   senior vice president chief human resources of...   \n",
       "67    human resources staffing recruiting professional   \n",
       "12   senior vice president chief human resources of...   \n",
       "55   senior vice president chief human resources of...   \n",
       "\n",
       "                                location  connection   fit  \n",
       "id                                                          \n",
       "36            Greater New York City Area           1  0.84  \n",
       "24            Greater New York City Area           1  0.84  \n",
       "6             Greater New York City Area           1  0.84  \n",
       "60            Greater New York City Area           1  0.84  \n",
       "49            Greater New York City Area           1  0.84  \n",
       "58   Raleigh-Durham, North Carolina Area          44  0.80  \n",
       "17   Raleigh-Durham, North Carolina Area          44  0.80  \n",
       "33   Raleigh-Durham, North Carolina Area          44  0.80  \n",
       "97                  Kokomo, Indiana Area          71  0.80  \n",
       "46   Raleigh-Durham, North Carolina Area          44  0.80  \n",
       "3    Raleigh-Durham, North Carolina Area          44  0.80  \n",
       "21   Raleigh-Durham, North Carolina Area          44  0.80  \n",
       "82                    Austin, Texas Area         174  0.79  \n",
       "73                   Houston, Texas Area           7  0.71  \n",
       "100             Cape Girardeau, Missouri         103  0.70  \n",
       "72                Monroe, Louisiana Area           5  0.68  \n",
       "99                Las Vegas, Nevada Area          48  0.68  \n",
       "76                    New York, New York         212  0.66  \n",
       "27                   Houston, Texas Area         500  0.65  \n",
       "29                   Houston, Texas Area         500  0.65  \n",
       "30                     Chicago, Illinois         390  0.64  \n",
       "28                     Chicago, Illinois         390  0.64  \n",
       "61                San Francisco Bay Area         500  0.63  \n",
       "8                 San Francisco Bay Area         500  0.63  \n",
       "51                San Francisco Bay Area         500  0.63  \n",
       "38                San Francisco Bay Area         500  0.63  \n",
       "26                San Francisco Bay Area         500  0.63  \n",
       "66                    Austin, Texas Area          57  0.62  \n",
       "25                                Kanada          61  0.61  \n",
       "52                                Kanada          61  0.61  \n",
       "7                                 Kanada          61  0.61  \n",
       "50                                Kanada          61  0.61  \n",
       "79           Baton Rouge, Louisiana Area           7  0.61  \n",
       "9                                 Kanada          61  0.61  \n",
       "37                                Kanada          61  0.61  \n",
       "39                                Kanada          61  0.61  \n",
       "68            Greater New York City Area         500  0.60  \n",
       "44                        Houston, Texas          85  0.58  \n",
       "19                        Houston, Texas          85  0.58  \n",
       "1                         Houston, Texas          85  0.58  \n",
       "88                  Milpitas, California          18  0.58  \n",
       "84                  Highland, California          50  0.58  \n",
       "14                        Houston, Texas          85  0.58  \n",
       "15                        Houston, Texas          85  0.58  \n",
       "31                        Houston, Texas          85  0.58  \n",
       "57                        Houston, Texas          85  0.58  \n",
       "42                   Houston, Texas Area         500  0.57  \n",
       "67             Jackson, Mississippi Area         500  0.57  \n",
       "12                   Houston, Texas Area         500  0.57  \n",
       "55                   Houston, Texas Area         500  0.57  "
      ]
     },
     "execution_count": 228,
     "metadata": {},
     "output_type": "execute_result"
    }
   ],
   "source": [
    "top_candidates(n = 50, by = 'fit', ascending = False, min_con = 0)"
   ]
  },
  {
   "cell_type": "markdown",
   "id": "5556488f-1d88-4e43-b22c-450df844b2a6",
   "metadata": {},
   "source": [
    "Let's say we star the 17th called \"seeking human resources position\"\t"
   ]
  },
  {
   "cell_type": "code",
   "execution_count": 229,
   "id": "ba29f70f-3132-487b-b39a-cbc0792b25f8",
   "metadata": {},
   "outputs": [],
   "source": [
    "def starring(query):\n",
    "    compute_fit(query)"
   ]
  },
  {
   "cell_type": "code",
   "execution_count": 230,
   "id": "dced51fb-7f03-4719-a257-44ab232ce42f",
   "metadata": {},
   "outputs": [],
   "source": [
    "starring(\"seeking human resources position\")"
   ]
  },
  {
   "cell_type": "code",
   "execution_count": 231,
   "id": "fe210c0d-ed08-4f0d-9a19-f62e9cc83193",
   "metadata": {},
   "outputs": [
    {
     "data": {
      "text/html": [
       "<div>\n",
       "<style scoped>\n",
       "    .dataframe tbody tr th:only-of-type {\n",
       "        vertical-align: middle;\n",
       "    }\n",
       "\n",
       "    .dataframe tbody tr th {\n",
       "        vertical-align: top;\n",
       "    }\n",
       "\n",
       "    .dataframe thead th {\n",
       "        text-align: right;\n",
       "    }\n",
       "</style>\n",
       "<table border=\"1\" class=\"dataframe\">\n",
       "  <thead>\n",
       "    <tr style=\"text-align: right;\">\n",
       "      <th></th>\n",
       "      <th>job_title</th>\n",
       "      <th>location</th>\n",
       "      <th>connection</th>\n",
       "      <th>fit</th>\n",
       "    </tr>\n",
       "    <tr>\n",
       "      <th>id</th>\n",
       "      <th></th>\n",
       "      <th></th>\n",
       "      <th></th>\n",
       "      <th></th>\n",
       "    </tr>\n",
       "  </thead>\n",
       "  <tbody>\n",
       "    <tr>\n",
       "      <th>99</th>\n",
       "      <td>seeking human resources position</td>\n",
       "      <td>Las Vegas, Nevada Area</td>\n",
       "      <td>48</td>\n",
       "      <td>1.00</td>\n",
       "    </tr>\n",
       "    <tr>\n",
       "      <th>30</th>\n",
       "      <td>seeking human resources opportunities</td>\n",
       "      <td>Chicago, Illinois</td>\n",
       "      <td>390</td>\n",
       "      <td>0.85</td>\n",
       "    </tr>\n",
       "    <tr>\n",
       "      <th>28</th>\n",
       "      <td>seeking human resources opportunities</td>\n",
       "      <td>Chicago, Illinois</td>\n",
       "      <td>390</td>\n",
       "      <td>0.85</td>\n",
       "    </tr>\n",
       "    <tr>\n",
       "      <th>62</th>\n",
       "      <td>seeking human resources human resources inform...</td>\n",
       "      <td>Greater Philadelphia Area</td>\n",
       "      <td>500</td>\n",
       "      <td>0.75</td>\n",
       "    </tr>\n",
       "    <tr>\n",
       "      <th>40</th>\n",
       "      <td>seeking human resources human resources inform...</td>\n",
       "      <td>Greater Philadelphia Area</td>\n",
       "      <td>500</td>\n",
       "      <td>0.75</td>\n",
       "    </tr>\n",
       "    <tr>\n",
       "      <th>10</th>\n",
       "      <td>seeking human resources human resources inform...</td>\n",
       "      <td>Greater Philadelphia Area</td>\n",
       "      <td>500</td>\n",
       "      <td>0.75</td>\n",
       "    </tr>\n",
       "    <tr>\n",
       "      <th>53</th>\n",
       "      <td>seeking human resources human resources inform...</td>\n",
       "      <td>Greater Philadelphia Area</td>\n",
       "      <td>500</td>\n",
       "      <td>0.75</td>\n",
       "    </tr>\n",
       "    <tr>\n",
       "      <th>46</th>\n",
       "      <td>aspiring human resources professional</td>\n",
       "      <td>Raleigh-Durham, North Carolina Area</td>\n",
       "      <td>44</td>\n",
       "      <td>0.71</td>\n",
       "    </tr>\n",
       "    <tr>\n",
       "      <th>17</th>\n",
       "      <td>aspiring human resources professional</td>\n",
       "      <td>Raleigh-Durham, North Carolina Area</td>\n",
       "      <td>44</td>\n",
       "      <td>0.71</td>\n",
       "    </tr>\n",
       "    <tr>\n",
       "      <th>33</th>\n",
       "      <td>aspiring human resources professional</td>\n",
       "      <td>Raleigh-Durham, North Carolina Area</td>\n",
       "      <td>44</td>\n",
       "      <td>0.71</td>\n",
       "    </tr>\n",
       "    <tr>\n",
       "      <th>21</th>\n",
       "      <td>aspiring human resources professional</td>\n",
       "      <td>Raleigh-Durham, North Carolina Area</td>\n",
       "      <td>44</td>\n",
       "      <td>0.71</td>\n",
       "    </tr>\n",
       "    <tr>\n",
       "      <th>97</th>\n",
       "      <td>aspiring human resources professional</td>\n",
       "      <td>Kokomo, Indiana Area</td>\n",
       "      <td>71</td>\n",
       "      <td>0.71</td>\n",
       "    </tr>\n",
       "    <tr>\n",
       "      <th>3</th>\n",
       "      <td>aspiring human resources professional</td>\n",
       "      <td>Raleigh-Durham, North Carolina Area</td>\n",
       "      <td>44</td>\n",
       "      <td>0.71</td>\n",
       "    </tr>\n",
       "    <tr>\n",
       "      <th>58</th>\n",
       "      <td>aspiring human resources professional</td>\n",
       "      <td>Raleigh-Durham, North Carolina Area</td>\n",
       "      <td>44</td>\n",
       "      <td>0.71</td>\n",
       "    </tr>\n",
       "    <tr>\n",
       "      <th>100</th>\n",
       "      <td>aspiring human resources manager graduating ma...</td>\n",
       "      <td>Cape Girardeau, Missouri</td>\n",
       "      <td>103</td>\n",
       "      <td>0.70</td>\n",
       "    </tr>\n",
       "    <tr>\n",
       "      <th>73</th>\n",
       "      <td>aspiring human resources manager seeking inter...</td>\n",
       "      <td>Houston, Texas Area</td>\n",
       "      <td>7</td>\n",
       "      <td>0.70</td>\n",
       "    </tr>\n",
       "    <tr>\n",
       "      <th>82</th>\n",
       "      <td>aspiring human resources professional energeti...</td>\n",
       "      <td>Austin, Texas Area</td>\n",
       "      <td>174</td>\n",
       "      <td>0.70</td>\n",
       "    </tr>\n",
       "    <tr>\n",
       "      <th>60</th>\n",
       "      <td>aspiring human resources specialist</td>\n",
       "      <td>Greater New York City Area</td>\n",
       "      <td>1</td>\n",
       "      <td>0.65</td>\n",
       "    </tr>\n",
       "    <tr>\n",
       "      <th>36</th>\n",
       "      <td>aspiring human resources specialist</td>\n",
       "      <td>Greater New York City Area</td>\n",
       "      <td>1</td>\n",
       "      <td>0.65</td>\n",
       "    </tr>\n",
       "    <tr>\n",
       "      <th>94</th>\n",
       "      <td>seeking human resources opportunities open tra...</td>\n",
       "      <td>Amerika Birleşik Devletleri</td>\n",
       "      <td>415</td>\n",
       "      <td>0.65</td>\n",
       "    </tr>\n",
       "    <tr>\n",
       "      <th>24</th>\n",
       "      <td>aspiring human resources specialist</td>\n",
       "      <td>Greater New York City Area</td>\n",
       "      <td>1</td>\n",
       "      <td>0.65</td>\n",
       "    </tr>\n",
       "    <tr>\n",
       "      <th>49</th>\n",
       "      <td>aspiring human resources specialist</td>\n",
       "      <td>Greater New York City Area</td>\n",
       "      <td>1</td>\n",
       "      <td>0.65</td>\n",
       "    </tr>\n",
       "    <tr>\n",
       "      <th>6</th>\n",
       "      <td>aspiring human resources specialist</td>\n",
       "      <td>Greater New York City Area</td>\n",
       "      <td>1</td>\n",
       "      <td>0.65</td>\n",
       "    </tr>\n",
       "    <tr>\n",
       "      <th>88</th>\n",
       "      <td>human resources management major</td>\n",
       "      <td>Milpitas, California</td>\n",
       "      <td>18</td>\n",
       "      <td>0.63</td>\n",
       "    </tr>\n",
       "    <tr>\n",
       "      <th>67</th>\n",
       "      <td>human resources staffing recruiting professional</td>\n",
       "      <td>Jackson, Mississippi Area</td>\n",
       "      <td>500</td>\n",
       "      <td>0.63</td>\n",
       "    </tr>\n",
       "    <tr>\n",
       "      <th>29</th>\n",
       "      <td>aspiring human resources management student se...</td>\n",
       "      <td>Houston, Texas Area</td>\n",
       "      <td>500</td>\n",
       "      <td>0.61</td>\n",
       "    </tr>\n",
       "    <tr>\n",
       "      <th>75</th>\n",
       "      <td>nortia staffing seeking human resources payrol...</td>\n",
       "      <td>San Jose, California</td>\n",
       "      <td>500</td>\n",
       "      <td>0.61</td>\n",
       "    </tr>\n",
       "    <tr>\n",
       "      <th>27</th>\n",
       "      <td>aspiring human resources management student se...</td>\n",
       "      <td>Houston, Texas Area</td>\n",
       "      <td>500</td>\n",
       "      <td>0.61</td>\n",
       "    </tr>\n",
       "    <tr>\n",
       "      <th>101</th>\n",
       "      <td>human resources generalist loparex</td>\n",
       "      <td>Raleigh-Durham, North Carolina Area</td>\n",
       "      <td>500</td>\n",
       "      <td>0.60</td>\n",
       "    </tr>\n",
       "    <tr>\n",
       "      <th>84</th>\n",
       "      <td>human resources professional world leader gis ...</td>\n",
       "      <td>Highland, California</td>\n",
       "      <td>50</td>\n",
       "      <td>0.59</td>\n",
       "    </tr>\n",
       "    <tr>\n",
       "      <th>74</th>\n",
       "      <td>human resources professional</td>\n",
       "      <td>Greater Boston Area</td>\n",
       "      <td>16</td>\n",
       "      <td>0.58</td>\n",
       "    </tr>\n",
       "    <tr>\n",
       "      <th>89</th>\n",
       "      <td>director human resources ey</td>\n",
       "      <td>Greater Atlanta Area</td>\n",
       "      <td>349</td>\n",
       "      <td>0.57</td>\n",
       "    </tr>\n",
       "    <tr>\n",
       "      <th>38</th>\n",
       "      <td>human resource senior specialist</td>\n",
       "      <td>San Francisco Bay Area</td>\n",
       "      <td>500</td>\n",
       "      <td>0.57</td>\n",
       "    </tr>\n",
       "    <tr>\n",
       "      <th>8</th>\n",
       "      <td>human resource senior specialist</td>\n",
       "      <td>San Francisco Bay Area</td>\n",
       "      <td>500</td>\n",
       "      <td>0.57</td>\n",
       "    </tr>\n",
       "    <tr>\n",
       "      <th>61</th>\n",
       "      <td>human resource senior specialist</td>\n",
       "      <td>San Francisco Bay Area</td>\n",
       "      <td>500</td>\n",
       "      <td>0.57</td>\n",
       "    </tr>\n",
       "    <tr>\n",
       "      <th>26</th>\n",
       "      <td>human resource senior specialist</td>\n",
       "      <td>San Francisco Bay Area</td>\n",
       "      <td>500</td>\n",
       "      <td>0.57</td>\n",
       "    </tr>\n",
       "    <tr>\n",
       "      <th>51</th>\n",
       "      <td>human resource senior specialist</td>\n",
       "      <td>San Francisco Bay Area</td>\n",
       "      <td>500</td>\n",
       "      <td>0.57</td>\n",
       "    </tr>\n",
       "    <tr>\n",
       "      <th>76</th>\n",
       "      <td>aspiring human resources professional passiona...</td>\n",
       "      <td>New York, New York</td>\n",
       "      <td>212</td>\n",
       "      <td>0.56</td>\n",
       "    </tr>\n",
       "    <tr>\n",
       "      <th>68</th>\n",
       "      <td>human resources specialist luxottica</td>\n",
       "      <td>Greater New York City Area</td>\n",
       "      <td>500</td>\n",
       "      <td>0.56</td>\n",
       "    </tr>\n",
       "    <tr>\n",
       "      <th>72</th>\n",
       "      <td>business management major aspiring human resou...</td>\n",
       "      <td>Monroe, Louisiana Area</td>\n",
       "      <td>5</td>\n",
       "      <td>0.56</td>\n",
       "    </tr>\n",
       "    <tr>\n",
       "      <th>64</th>\n",
       "      <td>senior vice president chief human resources of...</td>\n",
       "      <td>Houston, Texas Area</td>\n",
       "      <td>500</td>\n",
       "      <td>0.55</td>\n",
       "    </tr>\n",
       "    <tr>\n",
       "      <th>77</th>\n",
       "      <td>human conflict policies compensation</td>\n",
       "      <td>Dallas/Fort Worth Area</td>\n",
       "      <td>409</td>\n",
       "      <td>0.55</td>\n",
       "    </tr>\n",
       "    <tr>\n",
       "      <th>42</th>\n",
       "      <td>senior vice president chief human resources of...</td>\n",
       "      <td>Houston, Texas Area</td>\n",
       "      <td>500</td>\n",
       "      <td>0.55</td>\n",
       "    </tr>\n",
       "    <tr>\n",
       "      <th>92</th>\n",
       "      <td>seeking employment opportunity within customer...</td>\n",
       "      <td>Torrance, California</td>\n",
       "      <td>64</td>\n",
       "      <td>0.55</td>\n",
       "    </tr>\n",
       "    <tr>\n",
       "      <th>12</th>\n",
       "      <td>senior vice president chief human resources of...</td>\n",
       "      <td>Houston, Texas Area</td>\n",
       "      <td>500</td>\n",
       "      <td>0.55</td>\n",
       "    </tr>\n",
       "    <tr>\n",
       "      <th>55</th>\n",
       "      <td>senior vice president chief human resources of...</td>\n",
       "      <td>Houston, Texas Area</td>\n",
       "      <td>500</td>\n",
       "      <td>0.55</td>\n",
       "    </tr>\n",
       "    <tr>\n",
       "      <th>81</th>\n",
       "      <td>senior human resources business partner heil e...</td>\n",
       "      <td>Chattanooga, Tennessee Area</td>\n",
       "      <td>455</td>\n",
       "      <td>0.54</td>\n",
       "    </tr>\n",
       "    <tr>\n",
       "      <th>57</th>\n",
       "      <td>college business graduate magna cum laude aspi...</td>\n",
       "      <td>Houston, Texas</td>\n",
       "      <td>85</td>\n",
       "      <td>0.52</td>\n",
       "    </tr>\n",
       "    <tr>\n",
       "      <th>1</th>\n",
       "      <td>college business graduate magna cum laude aspi...</td>\n",
       "      <td>Houston, Texas</td>\n",
       "      <td>85</td>\n",
       "      <td>0.52</td>\n",
       "    </tr>\n",
       "    <tr>\n",
       "      <th>14</th>\n",
       "      <td>college business graduate magna cum laude aspi...</td>\n",
       "      <td>Houston, Texas</td>\n",
       "      <td>85</td>\n",
       "      <td>0.52</td>\n",
       "    </tr>\n",
       "  </tbody>\n",
       "</table>\n",
       "</div>"
      ],
      "text/plain": [
       "                                             job_title  \\\n",
       "id                                                       \n",
       "99                    seeking human resources position   \n",
       "30               seeking human resources opportunities   \n",
       "28               seeking human resources opportunities   \n",
       "62   seeking human resources human resources inform...   \n",
       "40   seeking human resources human resources inform...   \n",
       "10   seeking human resources human resources inform...   \n",
       "53   seeking human resources human resources inform...   \n",
       "46               aspiring human resources professional   \n",
       "17               aspiring human resources professional   \n",
       "33               aspiring human resources professional   \n",
       "21               aspiring human resources professional   \n",
       "97               aspiring human resources professional   \n",
       "3                aspiring human resources professional   \n",
       "58               aspiring human resources professional   \n",
       "100  aspiring human resources manager graduating ma...   \n",
       "73   aspiring human resources manager seeking inter...   \n",
       "82   aspiring human resources professional energeti...   \n",
       "60                 aspiring human resources specialist   \n",
       "36                 aspiring human resources specialist   \n",
       "94   seeking human resources opportunities open tra...   \n",
       "24                 aspiring human resources specialist   \n",
       "49                 aspiring human resources specialist   \n",
       "6                  aspiring human resources specialist   \n",
       "88                    human resources management major   \n",
       "67    human resources staffing recruiting professional   \n",
       "29   aspiring human resources management student se...   \n",
       "75   nortia staffing seeking human resources payrol...   \n",
       "27   aspiring human resources management student se...   \n",
       "101                 human resources generalist loparex   \n",
       "84   human resources professional world leader gis ...   \n",
       "74                        human resources professional   \n",
       "89                         director human resources ey   \n",
       "38                    human resource senior specialist   \n",
       "8                     human resource senior specialist   \n",
       "61                    human resource senior specialist   \n",
       "26                    human resource senior specialist   \n",
       "51                    human resource senior specialist   \n",
       "76   aspiring human resources professional passiona...   \n",
       "68                human resources specialist luxottica   \n",
       "72   business management major aspiring human resou...   \n",
       "64   senior vice president chief human resources of...   \n",
       "77                human conflict policies compensation   \n",
       "42   senior vice president chief human resources of...   \n",
       "92   seeking employment opportunity within customer...   \n",
       "12   senior vice president chief human resources of...   \n",
       "55   senior vice president chief human resources of...   \n",
       "81   senior human resources business partner heil e...   \n",
       "57   college business graduate magna cum laude aspi...   \n",
       "1    college business graduate magna cum laude aspi...   \n",
       "14   college business graduate magna cum laude aspi...   \n",
       "\n",
       "                                location  connection   fit  \n",
       "id                                                          \n",
       "99                Las Vegas, Nevada Area          48  1.00  \n",
       "30                     Chicago, Illinois         390  0.85  \n",
       "28                     Chicago, Illinois         390  0.85  \n",
       "62             Greater Philadelphia Area         500  0.75  \n",
       "40             Greater Philadelphia Area         500  0.75  \n",
       "10             Greater Philadelphia Area         500  0.75  \n",
       "53             Greater Philadelphia Area         500  0.75  \n",
       "46   Raleigh-Durham, North Carolina Area          44  0.71  \n",
       "17   Raleigh-Durham, North Carolina Area          44  0.71  \n",
       "33   Raleigh-Durham, North Carolina Area          44  0.71  \n",
       "21   Raleigh-Durham, North Carolina Area          44  0.71  \n",
       "97                  Kokomo, Indiana Area          71  0.71  \n",
       "3    Raleigh-Durham, North Carolina Area          44  0.71  \n",
       "58   Raleigh-Durham, North Carolina Area          44  0.71  \n",
       "100             Cape Girardeau, Missouri         103  0.70  \n",
       "73                   Houston, Texas Area           7  0.70  \n",
       "82                    Austin, Texas Area         174  0.70  \n",
       "60            Greater New York City Area           1  0.65  \n",
       "36            Greater New York City Area           1  0.65  \n",
       "94           Amerika Birleşik Devletleri         415  0.65  \n",
       "24            Greater New York City Area           1  0.65  \n",
       "49            Greater New York City Area           1  0.65  \n",
       "6             Greater New York City Area           1  0.65  \n",
       "88                  Milpitas, California          18  0.63  \n",
       "67             Jackson, Mississippi Area         500  0.63  \n",
       "29                   Houston, Texas Area         500  0.61  \n",
       "75                  San Jose, California         500  0.61  \n",
       "27                   Houston, Texas Area         500  0.61  \n",
       "101  Raleigh-Durham, North Carolina Area         500  0.60  \n",
       "84                  Highland, California          50  0.59  \n",
       "74                   Greater Boston Area          16  0.58  \n",
       "89                  Greater Atlanta Area         349  0.57  \n",
       "38                San Francisco Bay Area         500  0.57  \n",
       "8                 San Francisco Bay Area         500  0.57  \n",
       "61                San Francisco Bay Area         500  0.57  \n",
       "26                San Francisco Bay Area         500  0.57  \n",
       "51                San Francisco Bay Area         500  0.57  \n",
       "76                    New York, New York         212  0.56  \n",
       "68            Greater New York City Area         500  0.56  \n",
       "72                Monroe, Louisiana Area           5  0.56  \n",
       "64                   Houston, Texas Area         500  0.55  \n",
       "77                Dallas/Fort Worth Area         409  0.55  \n",
       "42                   Houston, Texas Area         500  0.55  \n",
       "92                  Torrance, California          64  0.55  \n",
       "12                   Houston, Texas Area         500  0.55  \n",
       "55                   Houston, Texas Area         500  0.55  \n",
       "81           Chattanooga, Tennessee Area         455  0.54  \n",
       "57                        Houston, Texas          85  0.52  \n",
       "1                         Houston, Texas          85  0.52  \n",
       "14                        Houston, Texas          85  0.52  "
      ]
     },
     "execution_count": 231,
     "metadata": {},
     "output_type": "execute_result"
    }
   ],
   "source": [
    "top_candidates(n = 50, by = 'fit', ascending = False, min_con = 0)"
   ]
  },
  {
   "cell_type": "markdown",
   "id": "7fabe739-3478-494e-8087-6b27eea0ff25",
   "metadata": {},
   "source": [
    "The manual re-ranking works as expected"
   ]
  },
  {
   "cell_type": "markdown",
   "id": "4c05b1a0-a534-4319-b157-1f5b47cfcb97",
   "metadata": {},
   "source": [
    "### Bonus questions"
   ]
  },
  {
   "cell_type": "markdown",
   "id": "3ce139cd-6e57-4443-960c-56839d2c3da2",
   "metadata": {},
   "source": [
    "Looking at the scores we can say that candidates with scores<=0.20 are not suitable and should not be there. Entries with scores>=0.70 are good candidates and should be stored for fututure positions. In order to avoid manual re-ranking bias, it should be prohibited to rerank candidates with scores <= 0.50 because they are likely to be not good."
   ]
  },
  {
   "cell_type": "code",
   "execution_count": null,
   "id": "233a2eee-4865-4ccf-b66a-edc3f4e02d5f",
   "metadata": {},
   "outputs": [],
   "source": []
  }
 ],
 "metadata": {
  "kernelspec": {
   "display_name": "Python 3 (ipykernel)",
   "language": "python",
   "name": "python3"
  },
  "language_info": {
   "codemirror_mode": {
    "name": "ipython",
    "version": 3
   },
   "file_extension": ".py",
   "mimetype": "text/x-python",
   "name": "python",
   "nbconvert_exporter": "python",
   "pygments_lexer": "ipython3",
   "version": "3.11.5"
  }
 },
 "nbformat": 4,
 "nbformat_minor": 5
}
