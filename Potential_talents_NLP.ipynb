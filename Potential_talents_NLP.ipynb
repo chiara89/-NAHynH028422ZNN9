{
 "cells": [
  {
   "cell_type": "code",
   "execution_count": 3,
   "id": "4f586638-1327-4538-acb5-9a022b6ded72",
   "metadata": {},
   "outputs": [],
   "source": [
    "import pandas as pd\n",
    "import numpy as np"
   ]
  },
  {
   "cell_type": "markdown",
   "id": "cf3eee09-c9e0-4997-80bd-a31c372b40e6",
   "metadata": {},
   "source": [
    "### Exploratory data analysis"
   ]
  },
  {
   "cell_type": "code",
   "execution_count": 5,
   "id": "ad4ae121-51c0-450a-ba51-a453a19b7248",
   "metadata": {},
   "outputs": [
    {
     "name": "stdout",
     "output_type": "stream",
     "text": [
      "                                             job_title  \\\n",
      "id                                                       \n",
      "1    2019 C.T. Bauer College of Business Graduate (...   \n",
      "2    Native English Teacher at EPIK (English Progra...   \n",
      "3                Aspiring Human Resources Professional   \n",
      "4               People Development Coordinator at Ryan   \n",
      "5      Advisory Board Member at Celal Bayar University   \n",
      "..                                                 ...   \n",
      "100  Aspiring Human Resources Manager | Graduating ...   \n",
      "101              Human Resources Generalist at Loparex   \n",
      "102   Business Intelligence and Analytics at Travelers   \n",
      "103                     Always set them up for Success   \n",
      "104   Director Of Administration at Excellence Logging   \n",
      "\n",
      "                                location connection  fit  \n",
      "id                                                        \n",
      "1                         Houston, Texas         85  NaN  \n",
      "2                                 Kanada      500+   NaN  \n",
      "3    Raleigh-Durham, North Carolina Area         44  NaN  \n",
      "4                          Denton, Texas      500+   NaN  \n",
      "5                         İzmir, Türkiye      500+   NaN  \n",
      "..                                   ...        ...  ...  \n",
      "100             Cape Girardeau, Missouri        103  NaN  \n",
      "101  Raleigh-Durham, North Carolina Area      500+   NaN  \n",
      "102           Greater New York City Area         49  NaN  \n",
      "103             Greater Los Angeles Area      500+   NaN  \n",
      "104                          Katy, Texas      500+   NaN  \n",
      "\n",
      "[104 rows x 4 columns]\n"
     ]
    }
   ],
   "source": [
    "df = pd.read_excel(\"potential-talents.xlsx\").set_index('id')\n",
    "print(df)"
   ]
  },
  {
   "cell_type": "code",
   "execution_count": 6,
   "id": "59168ea1-9164-46ed-a88c-7312aedfa452",
   "metadata": {},
   "outputs": [
    {
     "name": "stdout",
     "output_type": "stream",
     "text": [
      "<class 'pandas.core.frame.DataFrame'>\n",
      "Index: 104 entries, 1 to 104\n",
      "Data columns (total 4 columns):\n",
      " #   Column      Non-Null Count  Dtype  \n",
      "---  ------      --------------  -----  \n",
      " 0   job_title   104 non-null    object \n",
      " 1   location    104 non-null    object \n",
      " 2   connection  104 non-null    object \n",
      " 3   fit         0 non-null      float64\n",
      "dtypes: float64(1), object(3)\n",
      "memory usage: 4.1+ KB\n"
     ]
    }
   ],
   "source": [
    "df.info()"
   ]
  },
  {
   "cell_type": "code",
   "execution_count": 7,
   "id": "aaac1fca-efd4-487b-8bc1-74edc9527951",
   "metadata": {},
   "outputs": [],
   "source": [
    "df.replace('500+ ','500', inplace=True)"
   ]
  },
  {
   "cell_type": "code",
   "execution_count": 8,
   "id": "ca178593-e000-4008-9138-0e561ac0b1f1",
   "metadata": {},
   "outputs": [],
   "source": [
    "df['connection'] = pd.to_numeric(df['connection'])"
   ]
  },
  {
   "cell_type": "code",
   "execution_count": 9,
   "id": "eab6bba6-8b21-4dec-90bb-ce3285499ad0",
   "metadata": {},
   "outputs": [
    {
     "name": "stdout",
     "output_type": "stream",
     "text": [
      "<class 'pandas.core.frame.DataFrame'>\n",
      "Index: 104 entries, 1 to 104\n",
      "Data columns (total 4 columns):\n",
      " #   Column      Non-Null Count  Dtype  \n",
      "---  ------      --------------  -----  \n",
      " 0   job_title   104 non-null    object \n",
      " 1   location    104 non-null    object \n",
      " 2   connection  104 non-null    int64  \n",
      " 3   fit         0 non-null      float64\n",
      "dtypes: float64(1), int64(1), object(2)\n",
      "memory usage: 4.1+ KB\n"
     ]
    }
   ],
   "source": [
    "df.info()"
   ]
  },
  {
   "cell_type": "code",
   "execution_count": 10,
   "id": "2cbd6f14-a948-49a4-9da3-4ddf3d9df247",
   "metadata": {},
   "outputs": [
    {
     "data": {
      "text/plain": [
       "job_title\n",
       "2019 C.T. Bauer College of Business Graduate (Magna Cum Laude) and aspiring Human Resources professional                 7\n",
       "Aspiring Human Resources Professional                                                                                    7\n",
       "Student at Humber College and Aspiring Human Resources Generalist                                                        7\n",
       "People Development Coordinator at Ryan                                                                                   6\n",
       "Native English Teacher at EPIK (English Program in Korea)                                                                5\n",
       "Aspiring Human Resources Specialist                                                                                      5\n",
       "HR Senior Specialist                                                                                                     5\n",
       "Student at Chapman University                                                                                            4\n",
       "SVP, CHRO, Marketing & Communications, CSR Officer | ENGIE | Houston | The Woodlands | Energy | GPHR | SPHR              4\n",
       "Human Resources Coordinator at InterContinental Buckhead Atlanta                                                         4\n",
       "Seeking Human Resources HRIS and Generalist Positions                                                                    4\n",
       "Advisory Board Member at Celal Bayar University                                                                          4\n",
       "Aspiring Human Resources Management student seeking an internship                                                        2\n",
       "Seeking Human Resources Opportunities                                                                                    2\n",
       "Seeking Human  Resources Opportunities. Open to travel and relocation.                                                   1\n",
       "Bachelor of Science in Biology from Victoria University of Wellington                                                    1\n",
       "Human Resources Management Major                                                                                         1\n",
       "Director Human Resources  at EY                                                                                          1\n",
       "Undergraduate Research Assistant at Styczynski Lab                                                                       1\n",
       "Lead Official at Western Illinois University                                                                             1\n",
       "Seeking employment opportunities within Customer Service or Patient Care                                                 1\n",
       "Admissions Representative at Community medical center long beach                                                         1\n",
       "Human Resources Generalist at Loparex                                                                                    1\n",
       "Student at Westfield State University                                                                                    1\n",
       "Student at Indiana University Kokomo - Business Management - \\nRetail Manager at Delphi Hardware and Paint               1\n",
       "Student                                                                                                                  1\n",
       "Seeking Human Resources Position                                                                                         1\n",
       "Aspiring Human Resources Manager | Graduating May 2020 | Seeking an Entry-Level Human Resources Position in St. Louis    1\n",
       "RRP Brand Portfolio Executive at JTI (Japan Tobacco International)                                                       1\n",
       "Business Intelligence and Analytics at Travelers                                                                         1\n",
       "Always set them up for Success                                                                                           1\n",
       "Information Systems Specialist and Programmer with a love for data and organization.                                     1\n",
       "Human Resources Generalist at Schwan's                                                                                   1\n",
       "Human Resources professional for the world leader in GIS software                                                        1\n",
       "Aspiring Human Resources Manager, seeking internship in Human Resources.                                                 1\n",
       "Experienced Retail Manager and aspiring Human Resources Professional                                                     1\n",
       "Human Resources, Staffing and Recruiting Professional                                                                    1\n",
       "Human Resources Specialist at Luxottica                                                                                  1\n",
       "Director of Human Resources North America, Groupe Beneteau                                                               1\n",
       "Retired Army National Guard Recruiter, office manager,  seeking a position in Human Resources.                           1\n",
       "Human Resources Generalist at ScottMadden, Inc.                                                                          1\n",
       "Business Management Major and Aspiring Human Resources Manager                                                           1\n",
       "Human Resources Professional                                                                                             1\n",
       "HR Manager at Endemol Shine North America                                                                                1\n",
       "Nortia Staffing is seeking Human Resources, Payroll & Administrative Professionals!!  (408) 709-2621                     1\n",
       "Aspiring Human Resources Professional | Passionate about helping to create an inclusive and engaging work environment    1\n",
       "Human Resources|\\nConflict Management|\\nPolicies & Procedures|Talent Management|Benefits & Compensation                  1\n",
       "Liberal Arts Major. Aspiring Human Resources Analyst.                                                                    1\n",
       "Junior MES Engineer| Information Systems                                                                                 1\n",
       "Senior Human Resources Business Partner at Heil Environmental                                                            1\n",
       "Aspiring Human Resources Professional | An energetic and Team-Focused Leader                                             1\n",
       "Director Of Administration at Excellence Logging                                                                         1\n",
       "Name: count, dtype: int64"
      ]
     },
     "execution_count": 10,
     "metadata": {},
     "output_type": "execute_result"
    }
   ],
   "source": [
    "df['job_title'].value_counts()"
   ]
  },
  {
   "cell_type": "code",
   "execution_count": 13,
   "id": "24986793-3908-4ee2-9733-9b9048ebce1b",
   "metadata": {},
   "outputs": [],
   "source": [
    "df = df.drop_duplicates()"
   ]
  },
  {
   "cell_type": "code",
   "execution_count": 14,
   "id": "2a04e79f-02b0-4ff8-8c8f-f16c91afc336",
   "metadata": {},
   "outputs": [
    {
     "name": "stdout",
     "output_type": "stream",
     "text": [
      "<class 'pandas.core.frame.DataFrame'>\n",
      "Index: 53 entries, 1 to 104\n",
      "Data columns (total 4 columns):\n",
      " #   Column      Non-Null Count  Dtype  \n",
      "---  ------      --------------  -----  \n",
      " 0   job_title   53 non-null     object \n",
      " 1   location    53 non-null     object \n",
      " 2   connection  53 non-null     int64  \n",
      " 3   fit         0 non-null      float64\n",
      "dtypes: float64(1), int64(1), object(2)\n",
      "memory usage: 2.1+ KB\n"
     ]
    }
   ],
   "source": [
    "df.info()"
   ]
  },
  {
   "cell_type": "code",
   "execution_count": null,
   "id": "d9b3b4e0-7cd2-41f9-8b6c-b60837c8c2fc",
   "metadata": {},
   "outputs": [],
   "source": []
  }
 ],
 "metadata": {
  "kernelspec": {
   "display_name": "Python 3 (ipykernel)",
   "language": "python",
   "name": "python3"
  },
  "language_info": {
   "codemirror_mode": {
    "name": "ipython",
    "version": 3
   },
   "file_extension": ".py",
   "mimetype": "text/x-python",
   "name": "python",
   "nbconvert_exporter": "python",
   "pygments_lexer": "ipython3",
   "version": "3.11.8"
  }
 },
 "nbformat": 4,
 "nbformat_minor": 5
}
